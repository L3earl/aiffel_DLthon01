{
 "cells": [
  {
   "cell_type": "markdown",
   "id": "fd877045",
   "metadata": {},
   "source": [
    "# DLTHON"
   ]
  },
  {
   "cell_type": "markdown",
   "id": "a8d84714",
   "metadata": {},
   "source": [
    "## DKTC (Dataset of Korean Threatening Conversations)\n",
    "\n",
    "- 텍스트 다중분류 프로젝트"
   ]
  },
  {
   "cell_type": "markdown",
   "id": "1c97764b",
   "metadata": {},
   "source": [
    "## 데이터셋 정보"
   ]
  },
  {
   "cell_type": "markdown",
   "id": "d70f668f",
   "metadata": {},
   "source": [
    "train.csv\n",
    "\n",
    "    1. idx = 인덱스\n",
    "    2. class = 0~4\n",
    "        class 0; 협박 대화\n",
    "        class 1; 갈취 대화\n",
    "        class 2; 직장 내 괴롭힘 대화\n",
    "        class 3; 기타 괴롭힘 대화\n",
    "    3. conversation = \\n으로 구분된 멀티턴 텍스트 대화"
   ]
  },
  {
   "cell_type": "markdown",
   "id": "e5e620c5",
   "metadata": {},
   "source": [
    "test.json\n",
    "\n",
    "    1. t_### = 인덱스\n",
    "    2. text = 대화"
   ]
  },
  {
   "cell_type": "markdown",
   "id": "7081e7ec",
   "metadata": {},
   "source": [
    "submission.csv\n",
    "\n",
    "    1. file_name = 인덱스\n",
    "    2. class = 예측값"
   ]
  },
  {
   "cell_type": "markdown",
   "id": "cae7a171",
   "metadata": {},
   "source": [
    "## 평가기준 \n",
    "> - 데이터 EDA와 데이터 전처리가 적절하게 이뤄졌는가?\n",
    "> - Task에 알맞게 적절한 모델을 찾아보고 선정했는가?\n",
    "> - 성능향상을 위해 논리적으로 접근했는가?\n",
    "> - 결과 도출을 위해 여러가지 시도를 진행했는가?\n",
    "> - 도출된 결론에 충분한 설득력이 있는가?\n",
    "> - 적절한 metric을 설정하고 그 사용 근거 및 결과를 분석하였는가?\n",
    "> - 발표가 매끄럽게 진행되었고 발표시간을 준수하였는지? (발표 10분-15분)"
   ]
  },
  {
   "cell_type": "markdown",
   "id": "3c31a0af",
   "metadata": {},
   "source": [
    "## TO-DO-LIST\n",
    "- 일반 대화 데이터셋 만들어야함 (800-1000개정도)\n",
    "- ppt 제작\n",
    "- 평가지표 : f1-score"
   ]
  },
  {
   "cell_type": "markdown",
   "id": "a193aa62",
   "metadata": {},
   "source": [
    "## EDA\n"
   ]
  },
  {
   "cell_type": "code",
   "execution_count": 21,
   "id": "befb1384",
   "metadata": {},
   "outputs": [],
   "source": [
    "import matplotlib.pyplot as plt\n",
    "import seaborn as sns"
   ]
  },
  {
   "cell_type": "code",
   "execution_count": 22,
   "id": "06cb8450",
   "metadata": {
    "scrolled": true
   },
   "outputs": [
    {
     "data": {
      "text/html": [
       "<div>\n",
       "<style scoped>\n",
       "    .dataframe tbody tr th:only-of-type {\n",
       "        vertical-align: middle;\n",
       "    }\n",
       "\n",
       "    .dataframe tbody tr th {\n",
       "        vertical-align: top;\n",
       "    }\n",
       "\n",
       "    .dataframe thead th {\n",
       "        text-align: right;\n",
       "    }\n",
       "</style>\n",
       "<table border=\"1\" class=\"dataframe\">\n",
       "  <thead>\n",
       "    <tr style=\"text-align: right;\">\n",
       "      <th></th>\n",
       "      <th>idx</th>\n",
       "      <th>class</th>\n",
       "      <th>conversation</th>\n",
       "    </tr>\n",
       "  </thead>\n",
       "  <tbody>\n",
       "    <tr>\n",
       "      <th>0</th>\n",
       "      <td>0</td>\n",
       "      <td>협박 대화</td>\n",
       "      <td>지금 너 스스로를 죽여달라고 애원하는 것인가?\\n 아닙니다. 죄송합니다.\\n 죽을 ...</td>\n",
       "    </tr>\n",
       "    <tr>\n",
       "      <th>1</th>\n",
       "      <td>1</td>\n",
       "      <td>협박 대화</td>\n",
       "      <td>길동경찰서입니다.\\n9시 40분 마트에 폭발물을 설치할거다.\\n네?\\n똑바로 들어 ...</td>\n",
       "    </tr>\n",
       "    <tr>\n",
       "      <th>2</th>\n",
       "      <td>2</td>\n",
       "      <td>기타 괴롭힘 대화</td>\n",
       "      <td>너 되게 귀여운거 알지? 나보다 작은 남자는 첨봤어.\\n그만해. 니들 놀리는거 재미...</td>\n",
       "    </tr>\n",
       "    <tr>\n",
       "      <th>3</th>\n",
       "      <td>3</td>\n",
       "      <td>갈취 대화</td>\n",
       "      <td>어이 거기\\n예??\\n너 말이야 너. 이리 오라고\\n무슨 일.\\n너 옷 좋아보인다?...</td>\n",
       "    </tr>\n",
       "    <tr>\n",
       "      <th>4</th>\n",
       "      <td>4</td>\n",
       "      <td>갈취 대화</td>\n",
       "      <td>저기요 혹시 날이 너무 뜨겁잖아요? 저희 회사에서 이 선크림 파는데 한 번 손등에 ...</td>\n",
       "    </tr>\n",
       "  </tbody>\n",
       "</table>\n",
       "</div>"
      ],
      "text/plain": [
       "   idx      class                                       conversation\n",
       "0    0      협박 대화  지금 너 스스로를 죽여달라고 애원하는 것인가?\\n 아닙니다. 죄송합니다.\\n 죽을 ...\n",
       "1    1      협박 대화  길동경찰서입니다.\\n9시 40분 마트에 폭발물을 설치할거다.\\n네?\\n똑바로 들어 ...\n",
       "2    2  기타 괴롭힘 대화  너 되게 귀여운거 알지? 나보다 작은 남자는 첨봤어.\\n그만해. 니들 놀리는거 재미...\n",
       "3    3      갈취 대화  어이 거기\\n예??\\n너 말이야 너. 이리 오라고\\n무슨 일.\\n너 옷 좋아보인다?...\n",
       "4    4      갈취 대화  저기요 혹시 날이 너무 뜨겁잖아요? 저희 회사에서 이 선크림 파는데 한 번 손등에 ..."
      ]
     },
     "execution_count": 22,
     "metadata": {},
     "output_type": "execute_result"
    }
   ],
   "source": [
    "import os\n",
    "import pandas as pd\n",
    "\n",
    "train_data_path =\"./data/train.csv\"\n",
    "train_data = pd.read_csv(train_data_path)\n",
    "train_data.head()"
   ]
  },
  {
   "cell_type": "code",
   "execution_count": 73,
   "id": "44ad19ae",
   "metadata": {},
   "outputs": [],
   "source": [
    "cate = train_data['class'].unique().tolist()"
   ]
  },
  {
   "cell_type": "code",
   "execution_count": 82,
   "id": "6707193a",
   "metadata": {},
   "outputs": [
    {
     "data": {
      "text/plain": [
       "['협박 대화', '기타 괴롭힘 대화', '갈취 대화', '직장 내 괴롭힘 대화']"
      ]
     },
     "execution_count": 82,
     "metadata": {},
     "output_type": "execute_result"
    }
   ],
   "source": [
    "cate"
   ]
  },
  {
   "cell_type": "code",
   "execution_count": 83,
   "id": "66ddcd16",
   "metadata": {},
   "outputs": [],
   "source": [
    "intimidation = train_data[train_data['class'] == '협박 대화']\n",
    "extortion = train_data[train_data['class'] == '갈취 대화']\n",
    "harassment_workplace = train_data[train_data['class'] == '직장 내 괴롭힘 대화']\n",
    "harassment_others = train_data[train_data['class'] == '기타 괴롭힘 대화']"
   ]
  },
  {
   "cell_type": "code",
   "execution_count": 84,
   "id": "8091109b",
   "metadata": {},
   "outputs": [
    {
     "data": {
      "text/html": [
       "<div>\n",
       "<style scoped>\n",
       "    .dataframe tbody tr th:only-of-type {\n",
       "        vertical-align: middle;\n",
       "    }\n",
       "\n",
       "    .dataframe tbody tr th {\n",
       "        vertical-align: top;\n",
       "    }\n",
       "\n",
       "    .dataframe thead th {\n",
       "        text-align: right;\n",
       "    }\n",
       "</style>\n",
       "<table border=\"1\" class=\"dataframe\">\n",
       "  <thead>\n",
       "    <tr style=\"text-align: right;\">\n",
       "      <th></th>\n",
       "      <th>idx</th>\n",
       "      <th>class</th>\n",
       "      <th>conversation</th>\n",
       "    </tr>\n",
       "  </thead>\n",
       "  <tbody>\n",
       "    <tr>\n",
       "      <th>0</th>\n",
       "      <td>0</td>\n",
       "      <td>협박 대화</td>\n",
       "      <td>지금 너 스스로를 죽여달라고 애원하는 것인가?\\n 아닙니다. 죄송합니다.\\n 죽을 ...</td>\n",
       "    </tr>\n",
       "    <tr>\n",
       "      <th>1</th>\n",
       "      <td>1</td>\n",
       "      <td>협박 대화</td>\n",
       "      <td>길동경찰서입니다.\\n9시 40분 마트에 폭발물을 설치할거다.\\n네?\\n똑바로 들어 ...</td>\n",
       "    </tr>\n",
       "    <tr>\n",
       "      <th>12</th>\n",
       "      <td>12</td>\n",
       "      <td>협박 대화</td>\n",
       "      <td>네네 무슨 일 때문에 전화주셨나요?\\n우리 애가 지우개 하나 훔친거 가지고 애들 앞...</td>\n",
       "    </tr>\n",
       "    <tr>\n",
       "      <th>20</th>\n",
       "      <td>20</td>\n",
       "      <td>협박 대화</td>\n",
       "      <td>너가 민수라는 남자 제자니?\\n네 맞는데요 왜 그러시죠? 혹시 저희 선생님께 무슨 ...</td>\n",
       "    </tr>\n",
       "    <tr>\n",
       "      <th>23</th>\n",
       "      <td>23</td>\n",
       "      <td>협박 대화</td>\n",
       "      <td>나좀 제발 그만 따라다녀.부탁이야\\n너 만나려면 널 찾아가야될거아냐\\n우리 헤어졌자...</td>\n",
       "    </tr>\n",
       "    <tr>\n",
       "      <th>...</th>\n",
       "      <td>...</td>\n",
       "      <td>...</td>\n",
       "      <td>...</td>\n",
       "    </tr>\n",
       "    <tr>\n",
       "      <th>3924</th>\n",
       "      <td>3924</td>\n",
       "      <td>협박 대화</td>\n",
       "      <td>때리지 말아줘\\n 아퍼? 아프면 참아봐.\\n나 이미 충분히 병원다니고 있어.\\n병원...</td>\n",
       "    </tr>\n",
       "    <tr>\n",
       "      <th>3925</th>\n",
       "      <td>3925</td>\n",
       "      <td>협박 대화</td>\n",
       "      <td>오랜만이다. 여기 니 인질\\n그래. 형이 무사히 다 빠져나가고 나면 그 다음에 이야...</td>\n",
       "    </tr>\n",
       "    <tr>\n",
       "      <th>3926</th>\n",
       "      <td>3926</td>\n",
       "      <td>협박 대화</td>\n",
       "      <td>아가씨 너희 집 어딘지 이제 아는데.\\n 선생님 제발 우리 집에는 오지 마세요.\\n...</td>\n",
       "    </tr>\n",
       "    <tr>\n",
       "      <th>3929</th>\n",
       "      <td>3929</td>\n",
       "      <td>협박 대화</td>\n",
       "      <td>안녕하세요 중고나라보고 문의드려요\\n네 아이폰 50만원에 팔아요\\n네 입금했습니다\\...</td>\n",
       "    </tr>\n",
       "    <tr>\n",
       "      <th>3938</th>\n",
       "      <td>3938</td>\n",
       "      <td>협박 대화</td>\n",
       "      <td>한국지검검사 윤동철 입니다. 지금 박세미님 계좌가 범죄에 연루되어 있으니 빨리 저한...</td>\n",
       "    </tr>\n",
       "  </tbody>\n",
       "</table>\n",
       "<p>896 rows × 3 columns</p>\n",
       "</div>"
      ],
      "text/plain": [
       "       idx  class                                       conversation\n",
       "0        0  협박 대화  지금 너 스스로를 죽여달라고 애원하는 것인가?\\n 아닙니다. 죄송합니다.\\n 죽을 ...\n",
       "1        1  협박 대화  길동경찰서입니다.\\n9시 40분 마트에 폭발물을 설치할거다.\\n네?\\n똑바로 들어 ...\n",
       "12      12  협박 대화  네네 무슨 일 때문에 전화주셨나요?\\n우리 애가 지우개 하나 훔친거 가지고 애들 앞...\n",
       "20      20  협박 대화  너가 민수라는 남자 제자니?\\n네 맞는데요 왜 그러시죠? 혹시 저희 선생님께 무슨 ...\n",
       "23      23  협박 대화  나좀 제발 그만 따라다녀.부탁이야\\n너 만나려면 널 찾아가야될거아냐\\n우리 헤어졌자...\n",
       "...    ...    ...                                                ...\n",
       "3924  3924  협박 대화  때리지 말아줘\\n 아퍼? 아프면 참아봐.\\n나 이미 충분히 병원다니고 있어.\\n병원...\n",
       "3925  3925  협박 대화  오랜만이다. 여기 니 인질\\n그래. 형이 무사히 다 빠져나가고 나면 그 다음에 이야...\n",
       "3926  3926  협박 대화  아가씨 너희 집 어딘지 이제 아는데.\\n 선생님 제발 우리 집에는 오지 마세요.\\n...\n",
       "3929  3929  협박 대화  안녕하세요 중고나라보고 문의드려요\\n네 아이폰 50만원에 팔아요\\n네 입금했습니다\\...\n",
       "3938  3938  협박 대화  한국지검검사 윤동철 입니다. 지금 박세미님 계좌가 범죄에 연루되어 있으니 빨리 저한...\n",
       "\n",
       "[896 rows x 3 columns]"
      ]
     },
     "execution_count": 84,
     "metadata": {},
     "output_type": "execute_result"
    }
   ],
   "source": [
    "intimidation"
   ]
  },
  {
   "cell_type": "code",
   "execution_count": 85,
   "id": "fa42d915",
   "metadata": {},
   "outputs": [
    {
     "data": {
      "text/html": [
       "<div>\n",
       "<style scoped>\n",
       "    .dataframe tbody tr th:only-of-type {\n",
       "        vertical-align: middle;\n",
       "    }\n",
       "\n",
       "    .dataframe tbody tr th {\n",
       "        vertical-align: top;\n",
       "    }\n",
       "\n",
       "    .dataframe thead th {\n",
       "        text-align: right;\n",
       "    }\n",
       "</style>\n",
       "<table border=\"1\" class=\"dataframe\">\n",
       "  <thead>\n",
       "    <tr style=\"text-align: right;\">\n",
       "      <th></th>\n",
       "      <th>idx</th>\n",
       "      <th>class</th>\n",
       "      <th>conversation</th>\n",
       "    </tr>\n",
       "  </thead>\n",
       "  <tbody>\n",
       "    <tr>\n",
       "      <th>3</th>\n",
       "      <td>3</td>\n",
       "      <td>갈취 대화</td>\n",
       "      <td>어이 거기\\n예??\\n너 말이야 너. 이리 오라고\\n무슨 일.\\n너 옷 좋아보인다?...</td>\n",
       "    </tr>\n",
       "    <tr>\n",
       "      <th>4</th>\n",
       "      <td>4</td>\n",
       "      <td>갈취 대화</td>\n",
       "      <td>저기요 혹시 날이 너무 뜨겁잖아요? 저희 회사에서 이 선크림 파는데 한 번 손등에 ...</td>\n",
       "    </tr>\n",
       "    <tr>\n",
       "      <th>9</th>\n",
       "      <td>9</td>\n",
       "      <td>갈취 대화</td>\n",
       "      <td>자네 세금계산서 보내준 거 메일이랑 수치가 다르던데?\\n그게.\\n얼마나 해먹었어? ...</td>\n",
       "    </tr>\n",
       "    <tr>\n",
       "      <th>10</th>\n",
       "      <td>10</td>\n",
       "      <td>갈취 대화</td>\n",
       "      <td>네 뭐 드릴까요?\\n말보르 레드 하나.\\n네. 여기요!\\n여기 사장은 없어?\\n네 ...</td>\n",
       "    </tr>\n",
       "    <tr>\n",
       "      <th>13</th>\n",
       "      <td>13</td>\n",
       "      <td>갈취 대화</td>\n",
       "      <td>형! 형! 돈좀있어?\\n저 저요.?\\n여기 형말고 누가 있어? 형 얼마 있어?\\n저...</td>\n",
       "    </tr>\n",
       "    <tr>\n",
       "      <th>...</th>\n",
       "      <td>...</td>\n",
       "      <td>...</td>\n",
       "      <td>...</td>\n",
       "    </tr>\n",
       "    <tr>\n",
       "      <th>3941</th>\n",
       "      <td>3941</td>\n",
       "      <td>갈취 대화</td>\n",
       "      <td>동생아 내가 정말 급해서 그러는데 백만원만 빌려줄수있니?\\n또?? 무슨일인데 그래?...</td>\n",
       "    </tr>\n",
       "    <tr>\n",
       "      <th>3942</th>\n",
       "      <td>3942</td>\n",
       "      <td>갈취 대화</td>\n",
       "      <td>영지야 나 토익 학원 다니느라 돈을 다써서 그런데 5만원만 빌려주라\\n응? 안돼. ...</td>\n",
       "    </tr>\n",
       "    <tr>\n",
       "      <th>3943</th>\n",
       "      <td>3943</td>\n",
       "      <td>갈취 대화</td>\n",
       "      <td>인테리어 하는데 예상보다 돈이 1200만원 더 들어서 그 돈 주셔야 해요.\\n120...</td>\n",
       "    </tr>\n",
       "    <tr>\n",
       "      <th>3946</th>\n",
       "      <td>3946</td>\n",
       "      <td>갈취 대화</td>\n",
       "      <td>내가 지금 너 아들 김길준 데리고 있어. 살리고 싶으면 계좌에 1억만 보내\\n예.?...</td>\n",
       "    </tr>\n",
       "    <tr>\n",
       "      <th>3948</th>\n",
       "      <td>3948</td>\n",
       "      <td>갈취 대화</td>\n",
       "      <td>누구맘대로 여기서 장사하래?\\n이게 무슨일입니까?\\n남의 구역에서 장사하려면 자릿세...</td>\n",
       "    </tr>\n",
       "  </tbody>\n",
       "</table>\n",
       "<p>981 rows × 3 columns</p>\n",
       "</div>"
      ],
      "text/plain": [
       "       idx  class                                       conversation\n",
       "3        3  갈취 대화  어이 거기\\n예??\\n너 말이야 너. 이리 오라고\\n무슨 일.\\n너 옷 좋아보인다?...\n",
       "4        4  갈취 대화  저기요 혹시 날이 너무 뜨겁잖아요? 저희 회사에서 이 선크림 파는데 한 번 손등에 ...\n",
       "9        9  갈취 대화  자네 세금계산서 보내준 거 메일이랑 수치가 다르던데?\\n그게.\\n얼마나 해먹었어? ...\n",
       "10      10  갈취 대화  네 뭐 드릴까요?\\n말보르 레드 하나.\\n네. 여기요!\\n여기 사장은 없어?\\n네 ...\n",
       "13      13  갈취 대화  형! 형! 돈좀있어?\\n저 저요.?\\n여기 형말고 누가 있어? 형 얼마 있어?\\n저...\n",
       "...    ...    ...                                                ...\n",
       "3941  3941  갈취 대화  동생아 내가 정말 급해서 그러는데 백만원만 빌려줄수있니?\\n또?? 무슨일인데 그래?...\n",
       "3942  3942  갈취 대화  영지야 나 토익 학원 다니느라 돈을 다써서 그런데 5만원만 빌려주라\\n응? 안돼. ...\n",
       "3943  3943  갈취 대화  인테리어 하는데 예상보다 돈이 1200만원 더 들어서 그 돈 주셔야 해요.\\n120...\n",
       "3946  3946  갈취 대화  내가 지금 너 아들 김길준 데리고 있어. 살리고 싶으면 계좌에 1억만 보내\\n예.?...\n",
       "3948  3948  갈취 대화  누구맘대로 여기서 장사하래?\\n이게 무슨일입니까?\\n남의 구역에서 장사하려면 자릿세...\n",
       "\n",
       "[981 rows x 3 columns]"
      ]
     },
     "execution_count": 85,
     "metadata": {},
     "output_type": "execute_result"
    }
   ],
   "source": [
    "extortion"
   ]
  },
  {
   "cell_type": "code",
   "execution_count": 86,
   "id": "2183a2af",
   "metadata": {},
   "outputs": [
    {
     "data": {
      "text/html": [
       "<div>\n",
       "<style scoped>\n",
       "    .dataframe tbody tr th:only-of-type {\n",
       "        vertical-align: middle;\n",
       "    }\n",
       "\n",
       "    .dataframe tbody tr th {\n",
       "        vertical-align: top;\n",
       "    }\n",
       "\n",
       "    .dataframe thead th {\n",
       "        text-align: right;\n",
       "    }\n",
       "</style>\n",
       "<table border=\"1\" class=\"dataframe\">\n",
       "  <thead>\n",
       "    <tr style=\"text-align: right;\">\n",
       "      <th></th>\n",
       "      <th>idx</th>\n",
       "      <th>class</th>\n",
       "      <th>conversation</th>\n",
       "    </tr>\n",
       "  </thead>\n",
       "  <tbody>\n",
       "    <tr>\n",
       "      <th>5</th>\n",
       "      <td>5</td>\n",
       "      <td>직장 내 괴롭힘 대화</td>\n",
       "      <td>나 이틀뒤에 가나다 음식점 예약좀 해줘. 저녁7시로.\\n가나다 음식점이요.?\\n응....</td>\n",
       "    </tr>\n",
       "    <tr>\n",
       "      <th>11</th>\n",
       "      <td>11</td>\n",
       "      <td>직장 내 괴롭힘 대화</td>\n",
       "      <td>이대리 오늘 도대체 뭘한거야?\\n창고정리도 하고 바닥도 청소했습니다\\n이게 한거니?...</td>\n",
       "    </tr>\n",
       "    <tr>\n",
       "      <th>14</th>\n",
       "      <td>14</td>\n",
       "      <td>직장 내 괴롭힘 대화</td>\n",
       "      <td>김사원\\n대리님 왜 그러세요?\\n이거 오늘까지 제출해야 하는데 좀 해줄래?\\n네? ...</td>\n",
       "    </tr>\n",
       "    <tr>\n",
       "      <th>19</th>\n",
       "      <td>19</td>\n",
       "      <td>직장 내 괴롭힘 대화</td>\n",
       "      <td>나씨 정수기 물탱크 좀 갈아주시겠어요?\\n싫습니다. 물 저만 마시는 것도 아닌데 매...</td>\n",
       "    </tr>\n",
       "    <tr>\n",
       "      <th>36</th>\n",
       "      <td>36</td>\n",
       "      <td>직장 내 괴롭힘 대화</td>\n",
       "      <td>나이가 몇인데 내가 이런 것까지 일러줘야돼?\\n죄송합니다\\n기본적인 것도 탑재가 안...</td>\n",
       "    </tr>\n",
       "    <tr>\n",
       "      <th>...</th>\n",
       "      <td>...</td>\n",
       "      <td>...</td>\n",
       "      <td>...</td>\n",
       "    </tr>\n",
       "    <tr>\n",
       "      <th>3903</th>\n",
       "      <td>3903</td>\n",
       "      <td>직장 내 괴롭힘 대화</td>\n",
       "      <td>박대리\\n부장님 부르셨습니까?\\n박대리는 일한지가 얼마됐는데 아직도 기안서가 이모양...</td>\n",
       "    </tr>\n",
       "    <tr>\n",
       "      <th>3918</th>\n",
       "      <td>3918</td>\n",
       "      <td>직장 내 괴롭힘 대화</td>\n",
       "      <td>안녕하십니까 부장님!\\n이 번에 승진했지? 앉게나.\\n네! 감사합니다.\\n다름이 아...</td>\n",
       "    </tr>\n",
       "    <tr>\n",
       "      <th>3932</th>\n",
       "      <td>3932</td>\n",
       "      <td>직장 내 괴롭힘 대화</td>\n",
       "      <td>자네 지금 이걸 최종본이라고 올린건가? 능력이 이거밖에 안돼?\\n 죄송합니다. 수정...</td>\n",
       "    </tr>\n",
       "    <tr>\n",
       "      <th>3947</th>\n",
       "      <td>3947</td>\n",
       "      <td>직장 내 괴롭힘 대화</td>\n",
       "      <td>나는 씨 같은 사람 보면 참 신기하더라. 어떻게 저렇게 살지.\\n왜 그래. 들리겠어...</td>\n",
       "    </tr>\n",
       "    <tr>\n",
       "      <th>3949</th>\n",
       "      <td>3949</td>\n",
       "      <td>직장 내 괴롭힘 대화</td>\n",
       "      <td>희정씨\\n네?\\n주말에 시간이 넘쳐나나봐\\n갑자기 왜그러세요?\\n손이 빤짝빤짝 네일...</td>\n",
       "    </tr>\n",
       "  </tbody>\n",
       "</table>\n",
       "<p>979 rows × 3 columns</p>\n",
       "</div>"
      ],
      "text/plain": [
       "       idx        class                                       conversation\n",
       "5        5  직장 내 괴롭힘 대화  나 이틀뒤에 가나다 음식점 예약좀 해줘. 저녁7시로.\\n가나다 음식점이요.?\\n응....\n",
       "11      11  직장 내 괴롭힘 대화  이대리 오늘 도대체 뭘한거야?\\n창고정리도 하고 바닥도 청소했습니다\\n이게 한거니?...\n",
       "14      14  직장 내 괴롭힘 대화  김사원\\n대리님 왜 그러세요?\\n이거 오늘까지 제출해야 하는데 좀 해줄래?\\n네? ...\n",
       "19      19  직장 내 괴롭힘 대화  나씨 정수기 물탱크 좀 갈아주시겠어요?\\n싫습니다. 물 저만 마시는 것도 아닌데 매...\n",
       "36      36  직장 내 괴롭힘 대화  나이가 몇인데 내가 이런 것까지 일러줘야돼?\\n죄송합니다\\n기본적인 것도 탑재가 안...\n",
       "...    ...          ...                                                ...\n",
       "3903  3903  직장 내 괴롭힘 대화  박대리\\n부장님 부르셨습니까?\\n박대리는 일한지가 얼마됐는데 아직도 기안서가 이모양...\n",
       "3918  3918  직장 내 괴롭힘 대화  안녕하십니까 부장님!\\n이 번에 승진했지? 앉게나.\\n네! 감사합니다.\\n다름이 아...\n",
       "3932  3932  직장 내 괴롭힘 대화  자네 지금 이걸 최종본이라고 올린건가? 능력이 이거밖에 안돼?\\n 죄송합니다. 수정...\n",
       "3947  3947  직장 내 괴롭힘 대화  나는 씨 같은 사람 보면 참 신기하더라. 어떻게 저렇게 살지.\\n왜 그래. 들리겠어...\n",
       "3949  3949  직장 내 괴롭힘 대화  희정씨\\n네?\\n주말에 시간이 넘쳐나나봐\\n갑자기 왜그러세요?\\n손이 빤짝빤짝 네일...\n",
       "\n",
       "[979 rows x 3 columns]"
      ]
     },
     "execution_count": 86,
     "metadata": {},
     "output_type": "execute_result"
    }
   ],
   "source": [
    "harassment_workplace"
   ]
  },
  {
   "cell_type": "code",
   "execution_count": 87,
   "id": "0974bf97",
   "metadata": {},
   "outputs": [
    {
     "data": {
      "text/html": [
       "<div>\n",
       "<style scoped>\n",
       "    .dataframe tbody tr th:only-of-type {\n",
       "        vertical-align: middle;\n",
       "    }\n",
       "\n",
       "    .dataframe tbody tr th {\n",
       "        vertical-align: top;\n",
       "    }\n",
       "\n",
       "    .dataframe thead th {\n",
       "        text-align: right;\n",
       "    }\n",
       "</style>\n",
       "<table border=\"1\" class=\"dataframe\">\n",
       "  <thead>\n",
       "    <tr style=\"text-align: right;\">\n",
       "      <th></th>\n",
       "      <th>idx</th>\n",
       "      <th>class</th>\n",
       "      <th>conversation</th>\n",
       "    </tr>\n",
       "  </thead>\n",
       "  <tbody>\n",
       "    <tr>\n",
       "      <th>2</th>\n",
       "      <td>2</td>\n",
       "      <td>기타 괴롭힘 대화</td>\n",
       "      <td>너 되게 귀여운거 알지? 나보다 작은 남자는 첨봤어.\\n그만해. 니들 놀리는거 재미...</td>\n",
       "    </tr>\n",
       "    <tr>\n",
       "      <th>6</th>\n",
       "      <td>6</td>\n",
       "      <td>기타 괴롭힘 대화</td>\n",
       "      <td>35번 손님 아이스커피 두잔나왔습니다\\n아이스커피? \\n네 맛있게드세요\\n저기요 아...</td>\n",
       "    </tr>\n",
       "    <tr>\n",
       "      <th>7</th>\n",
       "      <td>7</td>\n",
       "      <td>기타 괴롭힘 대화</td>\n",
       "      <td>경비아저씨 내차에 경고장 붙였어요?\\n내가 여기 몇년째 사는데 아직도 내차인줄 모르...</td>\n",
       "    </tr>\n",
       "    <tr>\n",
       "      <th>8</th>\n",
       "      <td>8</td>\n",
       "      <td>기타 괴롭힘 대화</td>\n",
       "      <td>이거 할인 된다면서요\\n 확인해보겠습니다\\n 아까 저 시람은 할인 해주던데\\n 네 ...</td>\n",
       "    </tr>\n",
       "    <tr>\n",
       "      <th>18</th>\n",
       "      <td>18</td>\n",
       "      <td>기타 괴롭힘 대화</td>\n",
       "      <td>야 너이마빡에 빛이난다\\n어?\\n야 한대만 때려보자 퍽\\n아 흑 왜그래 \\n아팠어?...</td>\n",
       "    </tr>\n",
       "    <tr>\n",
       "      <th>...</th>\n",
       "      <td>...</td>\n",
       "      <td>...</td>\n",
       "      <td>...</td>\n",
       "    </tr>\n",
       "    <tr>\n",
       "      <th>3935</th>\n",
       "      <td>3935</td>\n",
       "      <td>기타 괴롭힘 대화</td>\n",
       "      <td>너는 이걸 그림이라고 그렸니?\\n이리 줘!\\n진짜 손재주라고는 전혀 없다.\\n응 점...</td>\n",
       "    </tr>\n",
       "    <tr>\n",
       "      <th>3936</th>\n",
       "      <td>3936</td>\n",
       "      <td>기타 괴롭힘 대화</td>\n",
       "      <td>엄마 제가 물건 놔뒀는데 치웠어요\\n아니 안 치웠는데\\n제가 물건 여기 놔뒀는데 없...</td>\n",
       "    </tr>\n",
       "    <tr>\n",
       "      <th>3940</th>\n",
       "      <td>3940</td>\n",
       "      <td>기타 괴롭힘 대화</td>\n",
       "      <td>애들아 공연 연습하자.\\n이번주에 최종 평가 있어. 빨리 하자.\\n야 김정미 너는 ...</td>\n",
       "    </tr>\n",
       "    <tr>\n",
       "      <th>3944</th>\n",
       "      <td>3944</td>\n",
       "      <td>기타 괴롭힘 대화</td>\n",
       "      <td>나를 왜 자꾸 때려\\n때리고 싶으니깐.\\n내가 뭐 잘못했어?\\n아니 잘못없지\\n근데...</td>\n",
       "    </tr>\n",
       "    <tr>\n",
       "      <th>3945</th>\n",
       "      <td>3945</td>\n",
       "      <td>기타 괴롭힘 대화</td>\n",
       "      <td>준하야 넌 대가리가 왜이렇게 크냐?\\n내 머리가 뭐.\\n밥먹으면 대가리만 크냐 너는...</td>\n",
       "    </tr>\n",
       "  </tbody>\n",
       "</table>\n",
       "<p>1094 rows × 3 columns</p>\n",
       "</div>"
      ],
      "text/plain": [
       "       idx      class                                       conversation\n",
       "2        2  기타 괴롭힘 대화  너 되게 귀여운거 알지? 나보다 작은 남자는 첨봤어.\\n그만해. 니들 놀리는거 재미...\n",
       "6        6  기타 괴롭힘 대화  35번 손님 아이스커피 두잔나왔습니다\\n아이스커피? \\n네 맛있게드세요\\n저기요 아...\n",
       "7        7  기타 괴롭힘 대화  경비아저씨 내차에 경고장 붙였어요?\\n내가 여기 몇년째 사는데 아직도 내차인줄 모르...\n",
       "8        8  기타 괴롭힘 대화  이거 할인 된다면서요\\n 확인해보겠습니다\\n 아까 저 시람은 할인 해주던데\\n 네 ...\n",
       "18      18  기타 괴롭힘 대화  야 너이마빡에 빛이난다\\n어?\\n야 한대만 때려보자 퍽\\n아 흑 왜그래 \\n아팠어?...\n",
       "...    ...        ...                                                ...\n",
       "3935  3935  기타 괴롭힘 대화  너는 이걸 그림이라고 그렸니?\\n이리 줘!\\n진짜 손재주라고는 전혀 없다.\\n응 점...\n",
       "3936  3936  기타 괴롭힘 대화  엄마 제가 물건 놔뒀는데 치웠어요\\n아니 안 치웠는데\\n제가 물건 여기 놔뒀는데 없...\n",
       "3940  3940  기타 괴롭힘 대화  애들아 공연 연습하자.\\n이번주에 최종 평가 있어. 빨리 하자.\\n야 김정미 너는 ...\n",
       "3944  3944  기타 괴롭힘 대화  나를 왜 자꾸 때려\\n때리고 싶으니깐.\\n내가 뭐 잘못했어?\\n아니 잘못없지\\n근데...\n",
       "3945  3945  기타 괴롭힘 대화  준하야 넌 대가리가 왜이렇게 크냐?\\n내 머리가 뭐.\\n밥먹으면 대가리만 크냐 너는...\n",
       "\n",
       "[1094 rows x 3 columns]"
      ]
     },
     "execution_count": 87,
     "metadata": {},
     "output_type": "execute_result"
    }
   ],
   "source": [
    "harassment_others"
   ]
  },
  {
   "cell_type": "markdown",
   "id": "c66ea242",
   "metadata": {},
   "source": [
    "### 데이터 길이, 클래스 분포 확인"
   ]
  },
  {
   "cell_type": "code",
   "execution_count": 27,
   "id": "788f060d",
   "metadata": {},
   "outputs": [],
   "source": [
    "import matplotlib\n",
    "import matplotlib.font_manager as fm\n",
    "import matplotlib.pyplot as plt\n",
    "%matplotlib inline\n",
    "\n",
    "fm.get_fontconfig_fonts()\n",
    "font_location = '/usr/share/fonts/truetype/nanum/NanumGothic.ttf'\n",
    "font_name = fm.FontProperties(fname=font_location).get_name()\n",
    "matplotlib.rc('font', family=font_name)"
   ]
  },
  {
   "cell_type": "code",
   "execution_count": 28,
   "id": "0045492d",
   "metadata": {},
   "outputs": [
    {
     "name": "stdout",
     "output_type": "stream",
     "text": [
      "데이터 정보\n",
      "--------------------------------------------------\n",
      "x_train : (3950,)\n",
      "y_train : (3950,)\n",
      "label 종류: {'기타 괴롭힘 대화', '협박 대화', '직장 내 괴롭힘 대화', '갈취 대화'}\n",
      "--------------------------------------------------\n",
      "클래스의 수 : 4\n",
      "--------------------------------------------------\n",
      "훈련용 뉴스의 최대 길이 :874\n",
      "훈련용 뉴스의 평균 길이 :226.57088607594937\n"
     ]
    },
    {
     "data": {
      "image/png": "[encoded data removed]",
      "text/plain": [
       "<Figure size 1080x360 with 2 Axes>"
      ]
     },
     "metadata": {
      "needs_background": "light"
     },
     "output_type": "display_data"
    }
   ],
   "source": [
    "x_train = train_data['conversation']\n",
    "y_train = train_data['class']\n",
    "\n",
    "print('데이터 정보')\n",
    "print('-'*50)\n",
    "print('x_train :',x_train.shape)\n",
    "print('y_train :',y_train.shape)\n",
    "print('label 종류:', set(y_train))\n",
    "print('-'*50)\n",
    "num_classes = 4\n",
    "print('클래스의 수 : {}'.format(num_classes))\n",
    "print('-'*50)\n",
    "print('훈련용 뉴스의 최대 길이 :{}'.format(max(len(l) for l in x_train)))\n",
    "print('훈련용 뉴스의 평균 길이 :{}'.format(sum(map(len, x_train))/len(x_train)))\n",
    "\n",
    "# Create a figure with two subplots\n",
    "fig, axes = plt.subplots(nrows=1, ncols=2, figsize=(15, 5))\n",
    "\n",
    "# Plot the histogram of sample lengths\n",
    "axes[0].hist([len(s) for s in x_train], bins=50)\n",
    "axes[0].set_xlabel('length of samples')\n",
    "axes[0].set_ylabel('number of samples')\n",
    "axes[0].set_title('Sample Length Distribution')\n",
    "\n",
    "# Plot the count of each class\n",
    "sns.countplot(x=y_train, ax=axes[1])\n",
    "axes[1].set_title('Class Distribution')\n",
    "\n",
    "# Adjust layout\n",
    "plt.tight_layout()\n",
    "\n",
    "# Show the plots\n",
    "plt.show()"
   ]
  },
  {
   "cell_type": "markdown",
   "id": "20d50c50",
   "metadata": {},
   "source": [
    "### 데이터 클래스별 길이 분포 확인"
   ]
  },
  {
   "cell_type": "code",
   "execution_count": 30,
   "id": "39050dbf",
   "metadata": {
    "scrolled": true
   },
   "outputs": [
    {
     "data": {
      "image/png": "[encoded data removed]",
      "text/plain": [
       "<Figure size 1080x360 with 4 Axes>"
      ]
     },
     "metadata": {
      "needs_background": "light"
     },
     "output_type": "display_data"
    }
   ],
   "source": [
    "fig, axes = plt.subplots(nrows=2, ncols=2, figsize=(15, 5))\n",
    "\n",
    "# Plot the histogram of sample lengths\n",
    "axes[0][0].hist([len(s) for s in train_data['conversation'][train_data['class']=='협박 대화']], bins=50)\n",
    "axes[0][0].set_xlabel('length of samples')\n",
    "axes[0][0].set_ylabel('number of samples')\n",
    "axes[0][0].set_title('협박 대화')\n",
    "\n",
    "axes[0][1].hist([len(s) for s in train_data['conversation'][train_data['class']=='갈취 대화']], bins=50)\n",
    "axes[0][1].set_xlabel('length of samples')\n",
    "axes[0][1].set_ylabel('number of samples')\n",
    "axes[0][1].set_title('갈취 대화')\n",
    "\n",
    "axes[1][0].hist([len(s) for s in train_data['conversation'][train_data['class']=='직장 내 괴롭힘 대화']], bins=50)\n",
    "axes[1][0].set_xlabel('length of samples')\n",
    "axes[1][0].set_ylabel('number of samples')\n",
    "axes[1][0].set_title('직장 내 괴롭힘 대화')\n",
    "\n",
    "axes[1][1].hist([len(s) for s in train_data['conversation'][train_data['class']=='기타 괴롭힘 대화']\n",
    "], bins=50)\n",
    "axes[1][1].set_xlabel('length of samples')\n",
    "axes[1][1].set_ylabel('number of samples')\n",
    "axes[1][1].set_title('기타 괴롭힘 대화')\n",
    "\n",
    "plt.subplots_adjust(wspace=0.3, hspace=0.5)\n",
    "plt.show()"
   ]
  },
  {
   "cell_type": "markdown",
   "id": "ffb9a745",
   "metadata": {},
   "source": [
    "## Preprocessing"
   ]
  },
  {
   "cell_type": "markdown",
   "id": "51812dd6",
   "metadata": {},
   "source": [
    "일반대화 예시\n",
    "\n",
    "```json\n",
    "{\n",
    "\t\"id\": {\n",
    "\t\t\"text\": \"이거 들어봐 와 이 노래 진짜 좋다 그치 요즘 이 것만 들어 진짜 너무 좋다 내가 요즘 듣는 것도 들어봐 음 난 좀 별론데 좋을 줄 알았는데 아쉽네 내 취향은 아닌 듯 배고프다 밥이나 먹으러 가자 그래\"\n",
    "\t}\n",
    "}\n",
    "```"
   ]
  },
  {
   "cell_type": "code",
   "execution_count": 19,
   "id": "2cc9a7aa",
   "metadata": {},
   "outputs": [],
   "source": [
    "import json\n",
    "with open('./data/test.json') as f:\n",
    "    test_data = json.load(f)\n",
    "\n",
    "test_data = pd.DataFrame(test_data).T\n",
    "test_data.reset_index(drop=True)"
   ]
  },
  {
   "cell_type": "code",
   "execution_count": 40,
   "id": "c3d2f706",
   "metadata": {},
   "outputs": [],
   "source": [
    "test_data = pd.DataFrame.from_dict(data=test_data).T.reset_index(drop=True)"
   ]
  },
  {
   "cell_type": "code",
   "execution_count": 41,
   "id": "0371297d",
   "metadata": {},
   "outputs": [
    {
     "data": {
      "text/html": [
       "<div>\n",
       "<style scoped>\n",
       "    .dataframe tbody tr th:only-of-type {\n",
       "        vertical-align: middle;\n",
       "    }\n",
       "\n",
       "    .dataframe tbody tr th {\n",
       "        vertical-align: top;\n",
       "    }\n",
       "\n",
       "    .dataframe thead th {\n",
       "        text-align: right;\n",
       "    }\n",
       "</style>\n",
       "<table border=\"1\" class=\"dataframe\">\n",
       "  <thead>\n",
       "    <tr style=\"text-align: right;\">\n",
       "      <th></th>\n",
       "      <th>text</th>\n",
       "    </tr>\n",
       "  </thead>\n",
       "  <tbody>\n",
       "    <tr>\n",
       "      <th>0</th>\n",
       "      <td>아가씨 담배한갑주소 네 4500원입니다 어 네 지갑어디갔지 에이 버스에서 잃어버렸나...</td>\n",
       "    </tr>\n",
       "    <tr>\n",
       "      <th>1</th>\n",
       "      <td>우리팀에서 다른팀으로 갈 사람 없나? 그럼 영지씨가 가는건 어때?  네? 제가요? ...</td>\n",
       "    </tr>\n",
       "    <tr>\n",
       "      <th>2</th>\n",
       "      <td>너 오늘 그게 뭐야 네 제가 뭘 잘못했나요.? 제대로 좀 하지 네 똑바로 좀 하지 ...</td>\n",
       "    </tr>\n",
       "    <tr>\n",
       "      <th>3</th>\n",
       "      <td>이거 들어바 와 이 노래 진짜 좋다 그치 요즘 이 것만 들어 진짜 너무 좋다 내가 ...</td>\n",
       "    </tr>\n",
       "    <tr>\n",
       "      <th>4</th>\n",
       "      <td>아무튼 앞으로 니가 내 와이파이야. .응 와이파이 온. 켰어. 반말? 주인님이라고도...</td>\n",
       "    </tr>\n",
       "    <tr>\n",
       "      <th>...</th>\n",
       "      <td>...</td>\n",
       "    </tr>\n",
       "    <tr>\n",
       "      <th>495</th>\n",
       "      <td>미나씨 휴가 결제 올리기 전에 저랑 상의하라고 말한거 기억해요? 네 합니다. 보고서...</td>\n",
       "    </tr>\n",
       "    <tr>\n",
       "      <th>496</th>\n",
       "      <td>교수님 제 논문에 제 이름이 없나요?  아 무슨 논문말이야?  지난 번 냈던 논문이...</td>\n",
       "    </tr>\n",
       "    <tr>\n",
       "      <th>497</th>\n",
       "      <td>야 너  네 저요? 그래 너 왜요 돈좀 줘봐  돈 없어요 돈이 왜 없어 지갑은 폼이...</td>\n",
       "    </tr>\n",
       "    <tr>\n",
       "      <th>498</th>\n",
       "      <td>야 너 빨리 안 뛰어와? 너 이 환자 제대로 봤어 안 봤어 어제 저녁부터 계속 보다...</td>\n",
       "    </tr>\n",
       "    <tr>\n",
       "      <th>499</th>\n",
       "      <td>엄마 저 그 돈 안해주시면 정말 큰일나요.  이유도 말하지 않고. 몇번째니 경민아....</td>\n",
       "    </tr>\n",
       "  </tbody>\n",
       "</table>\n",
       "<p>500 rows × 1 columns</p>\n",
       "</div>"
      ],
      "text/plain": [
       "                                                  text\n",
       "0    아가씨 담배한갑주소 네 4500원입니다 어 네 지갑어디갔지 에이 버스에서 잃어버렸나...\n",
       "1    우리팀에서 다른팀으로 갈 사람 없나? 그럼 영지씨가 가는건 어때?  네? 제가요? ...\n",
       "2    너 오늘 그게 뭐야 네 제가 뭘 잘못했나요.? 제대로 좀 하지 네 똑바로 좀 하지 ...\n",
       "3    이거 들어바 와 이 노래 진짜 좋다 그치 요즘 이 것만 들어 진짜 너무 좋다 내가 ...\n",
       "4    아무튼 앞으로 니가 내 와이파이야. .응 와이파이 온. 켰어. 반말? 주인님이라고도...\n",
       "..                                                 ...\n",
       "495  미나씨 휴가 결제 올리기 전에 저랑 상의하라고 말한거 기억해요? 네 합니다. 보고서...\n",
       "496  교수님 제 논문에 제 이름이 없나요?  아 무슨 논문말이야?  지난 번 냈던 논문이...\n",
       "497  야 너  네 저요? 그래 너 왜요 돈좀 줘봐  돈 없어요 돈이 왜 없어 지갑은 폼이...\n",
       "498  야 너 빨리 안 뛰어와? 너 이 환자 제대로 봤어 안 봤어 어제 저녁부터 계속 보다...\n",
       "499  엄마 저 그 돈 안해주시면 정말 큰일나요.  이유도 말하지 않고. 몇번째니 경민아....\n",
       "\n",
       "[500 rows x 1 columns]"
      ]
     },
     "execution_count": 41,
     "metadata": {},
     "output_type": "execute_result"
    }
   ],
   "source": [
    "test_data"
   ]
  },
  {
   "cell_type": "markdown",
   "id": "27cf7417",
   "metadata": {},
   "source": [
    "## Modeling"
   ]
  },
  {
   "cell_type": "code",
   "execution_count": null,
   "id": "e174819b",
   "metadata": {},
   "outputs": [],
   "source": []
  },
  {
   "cell_type": "markdown",
   "id": "d7c13f5f",
   "metadata": {},
   "source": [
    "## Tuning"
   ]
  },
  {
   "cell_type": "code",
   "execution_count": null,
   "id": "154b6e6b",
   "metadata": {},
   "outputs": [],
   "source": []
  },
  {
   "cell_type": "code",
   "execution_count": null,
   "id": "9a2a8fce",
   "metadata": {},
   "outputs": [],
   "source": []
  },
  {
   "cell_type": "code",
   "execution_count": null,
   "id": "86c2029b",
   "metadata": {},
   "outputs": [],
   "source": []
  },
  {
   "cell_type": "code",
   "execution_count": null,
   "id": "a90b0b8b",
   "metadata": {},
   "outputs": [],
   "source": []
  }
 ],
 "metadata": {
  "kernelspec": {
   "display_name": "Python 3 (ipykernel)",
   "language": "python",
   "name": "python3"
  },
  "language_info": {
   "codemirror_mode": {
    "name": "ipython",
    "version": 3
   },
   "file_extension": ".py",
   "mimetype": "text/x-python",
   "name": "python",
   "nbconvert_exporter": "python",
   "pygments_lexer": "ipython3",
   "version": "3.9.7"
  }
 },
 "nbformat": 4,
 "nbformat_minor": 5
}
