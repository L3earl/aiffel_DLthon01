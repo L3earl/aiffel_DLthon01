{
 "cells": [
  {
   "cell_type": "markdown",
   "id": "2b300fef",
   "metadata": {
    "id": "2b300fef"
   },
   "source": [
    "# DLTHON"
   ]
  },
  {
   "cell_type": "markdown",
   "id": "bf965457",
   "metadata": {
    "id": "bf965457"
   },
   "source": [
    "## DKTC (Dataset of Korean Threatening Conversations)\n",
    "\n",
    "- 텍스트 다중분류 프로젝트"
   ]
  },
  {
   "cell_type": "markdown",
   "id": "7059ce9e",
   "metadata": {
    "id": "7059ce9e"
   },
   "source": [
    "## 데이터셋 정보"
   ]
  },
  {
   "cell_type": "markdown",
   "id": "56ff0924",
   "metadata": {
    "id": "56ff0924"
   },
   "source": [
    "train.csv\n",
    "\n",
    "    1. idx = 인덱스\n",
    "    2. class = 0~4\n",
    "        class 0; 협박 대화\n",
    "        class 1; 갈취 대화\n",
    "        class 2; 직장 내 괴롭힘 대화\n",
    "        class 3; 기타 괴롭힘 대화\n",
    "    3. conversation = \\n으로 구분된 멀티턴 텍스트 대화"
   ]
  },
  {
   "cell_type": "markdown",
   "id": "9e842176",
   "metadata": {
    "id": "9e842176"
   },
   "source": [
    "test.json\n",
    "\n",
    "    1. t_### = 인덱스\n",
    "    2. text = 대화"
   ]
  },
  {
   "cell_type": "markdown",
   "id": "ac322063",
   "metadata": {
    "id": "ac322063"
   },
   "source": [
    "submission.csv\n",
    "\n",
    "    1. file_name = 인덱스\n",
    "    2. class = 예측값"
   ]
  },
  {
   "cell_type": "markdown",
   "id": "d2d810b4",
   "metadata": {
    "id": "d2d810b4"
   },
   "source": [
    "## 평가기준\n",
    "> - 데이터 EDA와 데이터 전처리가 적절하게 이뤄졌는가?\n",
    "> - Task에 알맞게 적절한 모델을 찾아보고 선정했는가?\n",
    "> - 성능향상을 위해 논리적으로 접근했는가?\n",
    "> - 결과 도출을 위해 여러가지 시도를 진행했는가?\n",
    "> - 도출된 결론에 충분한 설득력이 있는가?\n",
    "> - 적절한 metric을 설정하고 그 사용 근거 및 결과를 분석하였는가?\n",
    "> - 발표가 매끄럽게 진행되었고 발표시간을 준수하였는지? (발표 10분-15분)"
   ]
  },
  {
   "cell_type": "markdown",
   "id": "8c0d8b04",
   "metadata": {
    "id": "8c0d8b04"
   },
   "source": [
    "## TO-DO-LIST\n",
    "- 일반 대화 데이터셋 만들어야함 (800-1000개정도)\n",
    "- ppt 제작\n",
    "- 평가지표 : f1-score"
   ]
  },
  {
   "cell_type": "markdown",
   "id": "8555a580",
   "metadata": {
    "id": "8555a580"
   },
   "source": [
    "## EDA\n"
   ]
  },
  {
   "cell_type": "code",
   "id": "e85d085e",
   "metadata": {
    "id": "e85d085e",
    "ExecuteTime": {
     "end_time": "2024-06-24T16:23:17.424982Z",
     "start_time": "2024-06-24T16:23:17.416429Z"
    }
   },
   "source": [
    "import matplotlib.pyplot as plt\n",
    "import seaborn as sns"
   ],
   "outputs": [],
   "execution_count": 1
  },
  {
   "cell_type": "code",
   "id": "c8304434",
   "metadata": {
    "scrolled": false,
    "colab": {
     "base_uri": "https://localhost:8080/",
     "height": 206
    },
    "id": "c8304434",
    "outputId": "77e0abcc-38de-44ec-80fa-3b3dc15de69b",
    "ExecuteTime": {
     "end_time": "2024-06-24T16:28:49.191344Z",
     "start_time": "2024-06-24T16:28:49.151293Z"
    }
   },
   "source": [
    "import os\n",
    "import pandas as pd\n",
    "\n",
    "train_data_path =\"./data/train.csv\"\n",
    "train_data = pd.read_csv(train_data_path)\n",
    "train_data.head()"
   ],
   "outputs": [
    {
     "data": {
      "text/plain": [
       "   idx      class                                       conversation\n",
       "0    0      협박 대화  지금 너 스스로를 죽여달라고 애원하는 것인가?\\n 아닙니다. 죄송합니다.\\n 죽을 ...\n",
       "1    1      협박 대화  길동경찰서입니다.\\n9시 40분 마트에 폭발물을 설치할거다.\\n네?\\n똑바로 들어 ...\n",
       "2    2  기타 괴롭힘 대화  너 되게 귀여운거 알지? 나보다 작은 남자는 첨봤어.\\n그만해. 니들 놀리는거 재미...\n",
       "3    3      갈취 대화  어이 거기\\n예??\\n너 말이야 너. 이리 오라고\\n무슨 일.\\n너 옷 좋아보인다?...\n",
       "4    4      갈취 대화  저기요 혹시 날이 너무 뜨겁잖아요? 저희 회사에서 이 선크림 파는데 한 번 손등에 ..."
      ],
      "text/html": [
       "<div>\n",
       "<style scoped>\n",
       "    .dataframe tbody tr th:only-of-type {\n",
       "        vertical-align: middle;\n",
       "    }\n",
       "\n",
       "    .dataframe tbody tr th {\n",
       "        vertical-align: top;\n",
       "    }\n",
       "\n",
       "    .dataframe thead th {\n",
       "        text-align: right;\n",
       "    }\n",
       "</style>\n",
       "<table border=\"1\" class=\"dataframe\">\n",
       "  <thead>\n",
       "    <tr style=\"text-align: right;\">\n",
       "      <th></th>\n",
       "      <th>idx</th>\n",
       "      <th>class</th>\n",
       "      <th>conversation</th>\n",
       "    </tr>\n",
       "  </thead>\n",
       "  <tbody>\n",
       "    <tr>\n",
       "      <th>0</th>\n",
       "      <td>0</td>\n",
       "      <td>협박 대화</td>\n",
       "      <td>지금 너 스스로를 죽여달라고 애원하는 것인가?\\n 아닙니다. 죄송합니다.\\n 죽을 ...</td>\n",
       "    </tr>\n",
       "    <tr>\n",
       "      <th>1</th>\n",
       "      <td>1</td>\n",
       "      <td>협박 대화</td>\n",
       "      <td>길동경찰서입니다.\\n9시 40분 마트에 폭발물을 설치할거다.\\n네?\\n똑바로 들어 ...</td>\n",
       "    </tr>\n",
       "    <tr>\n",
       "      <th>2</th>\n",
       "      <td>2</td>\n",
       "      <td>기타 괴롭힘 대화</td>\n",
       "      <td>너 되게 귀여운거 알지? 나보다 작은 남자는 첨봤어.\\n그만해. 니들 놀리는거 재미...</td>\n",
       "    </tr>\n",
       "    <tr>\n",
       "      <th>3</th>\n",
       "      <td>3</td>\n",
       "      <td>갈취 대화</td>\n",
       "      <td>어이 거기\\n예??\\n너 말이야 너. 이리 오라고\\n무슨 일.\\n너 옷 좋아보인다?...</td>\n",
       "    </tr>\n",
       "    <tr>\n",
       "      <th>4</th>\n",
       "      <td>4</td>\n",
       "      <td>갈취 대화</td>\n",
       "      <td>저기요 혹시 날이 너무 뜨겁잖아요? 저희 회사에서 이 선크림 파는데 한 번 손등에 ...</td>\n",
       "    </tr>\n",
       "  </tbody>\n",
       "</table>\n",
       "</div>"
      ]
     },
     "execution_count": 21,
     "metadata": {},
     "output_type": "execute_result"
    }
   ],
   "execution_count": 21
  },
  {
   "cell_type": "code",
   "id": "8a7c1586",
   "metadata": {
    "colab": {
     "base_uri": "https://localhost:8080/"
    },
    "id": "8a7c1586",
    "outputId": "aad069b3-f94d-479b-85c2-3c41b44f6eee",
    "ExecuteTime": {
     "end_time": "2024-06-24T16:28:49.511569Z",
     "start_time": "2024-06-24T16:28:49.508599Z"
    }
   },
   "source": [
    "train_data.shape"
   ],
   "outputs": [
    {
     "data": {
      "text/plain": [
       "(3950, 3)"
      ]
     },
     "execution_count": 22,
     "metadata": {},
     "output_type": "execute_result"
    }
   ],
   "execution_count": 22
  },
  {
   "metadata": {
    "ExecuteTime": {
     "end_time": "2024-06-24T16:28:50.162902Z",
     "start_time": "2024-06-24T16:28:49.895360Z"
    }
   },
   "cell_type": "code",
   "source": [
    "add_data = pd.read_csv('normal_df.csv')\n",
    "add_data.head()"
   ],
   "id": "1a211482157ad61e",
   "outputs": [
    {
     "data": {
      "text/plain": [
       "                                        conversation  class\n",
       "0   요즘 동물들을 유기 하는 애들도 참 문제야 ㅠㅠ\\n  동물들을 유기 하는 사람이 ...  일반 대화\n",
       "1   강릉에  어떤 호텔에서 오징어 게임 한데\\n  오징어게임? 설마 죽는 거 아이제 ...  일반 대화\n",
       "2   이렇게 너와 내가 국제 관계를 트는구나\\n  그래 해외에 친구가 있는 것도 나쁘지...  일반 대화\n",
       "3   너는 전철 자주 타고 다니는 편이야?\\n  예전엔 많이 타고 다녔는데 요즘 통 안...  일반 대화\n",
       "4   귀멸의 칼날 봤니?\\n  응 당연 봤지\\n  안 볼 수가 없지\\n 명작\\n  키키...  일반 대화"
      ],
      "text/html": [
       "<div>\n",
       "<style scoped>\n",
       "    .dataframe tbody tr th:only-of-type {\n",
       "        vertical-align: middle;\n",
       "    }\n",
       "\n",
       "    .dataframe tbody tr th {\n",
       "        vertical-align: top;\n",
       "    }\n",
       "\n",
       "    .dataframe thead th {\n",
       "        text-align: right;\n",
       "    }\n",
       "</style>\n",
       "<table border=\"1\" class=\"dataframe\">\n",
       "  <thead>\n",
       "    <tr style=\"text-align: right;\">\n",
       "      <th></th>\n",
       "      <th>conversation</th>\n",
       "      <th>class</th>\n",
       "    </tr>\n",
       "  </thead>\n",
       "  <tbody>\n",
       "    <tr>\n",
       "      <th>0</th>\n",
       "      <td>요즘 동물들을 유기 하는 애들도 참 문제야 ㅠㅠ\\n  동물들을 유기 하는 사람이 ...</td>\n",
       "      <td>일반 대화</td>\n",
       "    </tr>\n",
       "    <tr>\n",
       "      <th>1</th>\n",
       "      <td>강릉에  어떤 호텔에서 오징어 게임 한데\\n  오징어게임? 설마 죽는 거 아이제 ...</td>\n",
       "      <td>일반 대화</td>\n",
       "    </tr>\n",
       "    <tr>\n",
       "      <th>2</th>\n",
       "      <td>이렇게 너와 내가 국제 관계를 트는구나\\n  그래 해외에 친구가 있는 것도 나쁘지...</td>\n",
       "      <td>일반 대화</td>\n",
       "    </tr>\n",
       "    <tr>\n",
       "      <th>3</th>\n",
       "      <td>너는 전철 자주 타고 다니는 편이야?\\n  예전엔 많이 타고 다녔는데 요즘 통 안...</td>\n",
       "      <td>일반 대화</td>\n",
       "    </tr>\n",
       "    <tr>\n",
       "      <th>4</th>\n",
       "      <td>귀멸의 칼날 봤니?\\n  응 당연 봤지\\n  안 볼 수가 없지\\n 명작\\n  키키...</td>\n",
       "      <td>일반 대화</td>\n",
       "    </tr>\n",
       "  </tbody>\n",
       "</table>\n",
       "</div>"
      ]
     },
     "execution_count": 23,
     "metadata": {},
     "output_type": "execute_result"
    }
   ],
   "execution_count": 23
  },
  {
   "metadata": {
    "ExecuteTime": {
     "end_time": "2024-06-24T16:28:50.193767Z",
     "start_time": "2024-06-24T16:28:50.191117Z"
    }
   },
   "cell_type": "code",
   "source": "add_data.shape",
   "id": "72db4ea4974556b4",
   "outputs": [
    {
     "data": {
      "text/plain": [
       "(18000, 2)"
      ]
     },
     "execution_count": 24,
     "metadata": {},
     "output_type": "execute_result"
    }
   ],
   "execution_count": 24
  },
  {
   "metadata": {
    "ExecuteTime": {
     "end_time": "2024-06-24T16:28:50.952496Z",
     "start_time": "2024-06-24T16:28:50.949590Z"
    }
   },
   "cell_type": "code",
   "source": "train_data.drop('idx', axis=1, inplace=True)",
   "id": "5e71739726005486",
   "outputs": [],
   "execution_count": 25
  },
  {
   "metadata": {
    "ExecuteTime": {
     "end_time": "2024-06-24T16:28:51.521910Z",
     "start_time": "2024-06-24T16:28:51.516649Z"
    }
   },
   "cell_type": "code",
   "source": "train_data.head()",
   "id": "6e494853257eaafe",
   "outputs": [
    {
     "data": {
      "text/plain": [
       "       class                                       conversation\n",
       "0      협박 대화  지금 너 스스로를 죽여달라고 애원하는 것인가?\\n 아닙니다. 죄송합니다.\\n 죽을 ...\n",
       "1      협박 대화  길동경찰서입니다.\\n9시 40분 마트에 폭발물을 설치할거다.\\n네?\\n똑바로 들어 ...\n",
       "2  기타 괴롭힘 대화  너 되게 귀여운거 알지? 나보다 작은 남자는 첨봤어.\\n그만해. 니들 놀리는거 재미...\n",
       "3      갈취 대화  어이 거기\\n예??\\n너 말이야 너. 이리 오라고\\n무슨 일.\\n너 옷 좋아보인다?...\n",
       "4      갈취 대화  저기요 혹시 날이 너무 뜨겁잖아요? 저희 회사에서 이 선크림 파는데 한 번 손등에 ..."
      ],
      "text/html": [
       "<div>\n",
       "<style scoped>\n",
       "    .dataframe tbody tr th:only-of-type {\n",
       "        vertical-align: middle;\n",
       "    }\n",
       "\n",
       "    .dataframe tbody tr th {\n",
       "        vertical-align: top;\n",
       "    }\n",
       "\n",
       "    .dataframe thead th {\n",
       "        text-align: right;\n",
       "    }\n",
       "</style>\n",
       "<table border=\"1\" class=\"dataframe\">\n",
       "  <thead>\n",
       "    <tr style=\"text-align: right;\">\n",
       "      <th></th>\n",
       "      <th>class</th>\n",
       "      <th>conversation</th>\n",
       "    </tr>\n",
       "  </thead>\n",
       "  <tbody>\n",
       "    <tr>\n",
       "      <th>0</th>\n",
       "      <td>협박 대화</td>\n",
       "      <td>지금 너 스스로를 죽여달라고 애원하는 것인가?\\n 아닙니다. 죄송합니다.\\n 죽을 ...</td>\n",
       "    </tr>\n",
       "    <tr>\n",
       "      <th>1</th>\n",
       "      <td>협박 대화</td>\n",
       "      <td>길동경찰서입니다.\\n9시 40분 마트에 폭발물을 설치할거다.\\n네?\\n똑바로 들어 ...</td>\n",
       "    </tr>\n",
       "    <tr>\n",
       "      <th>2</th>\n",
       "      <td>기타 괴롭힘 대화</td>\n",
       "      <td>너 되게 귀여운거 알지? 나보다 작은 남자는 첨봤어.\\n그만해. 니들 놀리는거 재미...</td>\n",
       "    </tr>\n",
       "    <tr>\n",
       "      <th>3</th>\n",
       "      <td>갈취 대화</td>\n",
       "      <td>어이 거기\\n예??\\n너 말이야 너. 이리 오라고\\n무슨 일.\\n너 옷 좋아보인다?...</td>\n",
       "    </tr>\n",
       "    <tr>\n",
       "      <th>4</th>\n",
       "      <td>갈취 대화</td>\n",
       "      <td>저기요 혹시 날이 너무 뜨겁잖아요? 저희 회사에서 이 선크림 파는데 한 번 손등에 ...</td>\n",
       "    </tr>\n",
       "  </tbody>\n",
       "</table>\n",
       "</div>"
      ]
     },
     "execution_count": 26,
     "metadata": {},
     "output_type": "execute_result"
    }
   ],
   "execution_count": 26
  },
  {
   "metadata": {
    "ExecuteTime": {
     "end_time": "2024-06-24T16:28:52.023754Z",
     "start_time": "2024-06-24T16:28:52.021040Z"
    }
   },
   "cell_type": "code",
   "source": "add_1000 = add_data.sample(1000)",
   "id": "57e32b31997f34d",
   "outputs": [],
   "execution_count": 27
  },
  {
   "metadata": {
    "ExecuteTime": {
     "end_time": "2024-06-24T16:28:53.092159Z",
     "start_time": "2024-06-24T16:28:53.089213Z"
    }
   },
   "cell_type": "code",
   "source": "train_data = pd.concat([train_data, add_1000])",
   "id": "f008193570cddae0",
   "outputs": [],
   "execution_count": 28
  },
  {
   "metadata": {
    "ExecuteTime": {
     "end_time": "2024-06-24T16:28:53.524146Z",
     "start_time": "2024-06-24T16:28:53.520666Z"
    }
   },
   "cell_type": "code",
   "source": "train_data['class'].value_counts()",
   "id": "3b51847e6217f81f",
   "outputs": [
    {
     "data": {
      "text/plain": [
       "기타 괴롭힘 대화      1094\n",
       "일반 대화          1000\n",
       "갈취 대화           981\n",
       "직장 내 괴롭힘 대화     979\n",
       "협박 대화           896\n",
       "Name: class, dtype: int64"
      ]
     },
     "execution_count": 29,
     "metadata": {},
     "output_type": "execute_result"
    }
   ],
   "execution_count": 29
  },
  {
   "cell_type": "markdown",
   "id": "72a7bdc5",
   "metadata": {
    "id": "72a7bdc5"
   },
   "source": "## 데이터 전처리"
  },
  {
   "cell_type": "code",
   "id": "7f7b7e11",
   "metadata": {
    "colab": {
     "base_uri": "https://localhost:8080/"
    },
    "id": "7f7b7e11",
    "outputId": "033c9c87-86e2-4758-b24e-5edef306a20e",
    "ExecuteTime": {
     "end_time": "2024-06-24T16:28:58.883745Z",
     "start_time": "2024-06-24T16:28:57.123246Z"
    }
   },
   "source": [
    "!pip install soynlp"
   ],
   "outputs": [
    {
     "name": "stdout",
     "output_type": "stream",
     "text": [
      "Requirement already satisfied: soynlp in /opt/homebrew/Caskroom/miniforge/base/envs/DL-tf/lib/python3.8/site-packages (0.0.493)\r\n",
      "Requirement already satisfied: numpy>=1.12.1 in /opt/homebrew/Caskroom/miniforge/base/envs/DL-tf/lib/python3.8/site-packages (from soynlp) (1.22.4)\r\n",
      "Requirement already satisfied: psutil>=5.0.1 in /opt/homebrew/Caskroom/miniforge/base/envs/DL-tf/lib/python3.8/site-packages (from soynlp) (5.9.8)\r\n",
      "Requirement already satisfied: scipy>=1.1.0 in /opt/homebrew/Caskroom/miniforge/base/envs/DL-tf/lib/python3.8/site-packages (from soynlp) (1.10.1)\r\n",
      "Requirement already satisfied: scikit-learn>=0.20.0 in /opt/homebrew/Caskroom/miniforge/base/envs/DL-tf/lib/python3.8/site-packages (from soynlp) (1.3.1)\r\n",
      "Requirement already satisfied: joblib>=1.1.1 in /opt/homebrew/Caskroom/miniforge/base/envs/DL-tf/lib/python3.8/site-packages (from scikit-learn>=0.20.0->soynlp) (1.4.0)\r\n",
      "Requirement already satisfied: threadpoolctl>=2.0.0 in /opt/homebrew/Caskroom/miniforge/base/envs/DL-tf/lib/python3.8/site-packages (from scikit-learn>=0.20.0->soynlp) (3.5.0)\r\n"
     ]
    }
   ],
   "execution_count": 30
  },
  {
   "cell_type": "code",
   "id": "e6d6d67f",
   "metadata": {
    "id": "e6d6d67f",
    "ExecuteTime": {
     "end_time": "2024-06-24T16:28:59.021991Z",
     "start_time": "2024-06-24T16:28:58.885276Z"
    }
   },
   "source": [
    "import re\n",
    "# import emoji\n",
    "from soynlp.normalizer import repeat_normalize"
   ],
   "outputs": [],
   "execution_count": 31
  },
  {
   "cell_type": "code",
   "id": "33482434",
   "metadata": {
    "id": "33482434",
    "ExecuteTime": {
     "end_time": "2024-06-24T16:28:59.024868Z",
     "start_time": "2024-06-24T16:28:59.022685Z"
    }
   },
   "source": [
    "def clean(x):\n",
    "    # emojis = ''.join(emoji.UNICODE_EMOJI.keys())\n",
    "    pattern = re.compile(f'[^ .,?!/@$%~％·∼()\\x00-\\x7Fㄱ-힣]+')\n",
    "    url_pattern = re.compile(\n",
    "        r'https?:\\/\\/(www\\.)?[-a-zA-Z0-9@:%._\\+~#=]{1,256}\\.[a-zA-Z0-9()]{1,6}\\b([-a-zA-Z0-9()@:%_\\+.~#?&//=]*)')\n",
    "    x = pattern.sub(' ', x)\n",
    "    x = url_pattern.sub('', x)\n",
    "    x = x.strip()\n",
    "    x = repeat_normalize(x, num_repeats=2)\n",
    "    return x"
   ],
   "outputs": [],
   "execution_count": 32
  },
  {
   "cell_type": "code",
   "id": "fc0fd269",
   "metadata": {
    "id": "fc0fd269",
    "ExecuteTime": {
     "end_time": "2024-06-24T16:28:59.788763Z",
     "start_time": "2024-06-24T16:28:59.642940Z"
    }
   },
   "source": [
    "train_data['cleaned'] = train_data.conversation.apply(lambda x: clean(x))"
   ],
   "outputs": [],
   "execution_count": 33
  },
  {
   "cell_type": "code",
   "id": "5bcfa21f",
   "metadata": {
    "colab": {
     "base_uri": "https://localhost:8080/"
    },
    "id": "5bcfa21f",
    "outputId": "04706655-e4b1-49a0-acd6-be368950dd73",
    "ExecuteTime": {
     "end_time": "2024-06-24T16:29:07.293062Z",
     "start_time": "2024-06-24T16:29:07.287854Z"
    }
   },
   "source": "train_data['cleaned'].tail()",
   "outputs": [
    {
     "data": {
      "text/plain": [
       "14916    나 아쿠아필 기계 괜히 샀나봐 ㅠㅠ 헐 왜 너 그거 엄청 기대하고 샀잖아 어 ㅠㅠ ...\n",
       "7667     우리 여행지 많으네. 휴가 여행지 일 순위 **네 이순위 **네 **네는? 거기가 ...\n",
       "15656    니는 캠핑 가는 거 좋아하나? 키키 좋죠 저는 좋아해요 키키 차가 없을 뿐 코로나 ...\n",
       "3494     오늘 술 안주 뭐로 먹었냐 하하 술안주는 고기지... 고기 최고 사실 먹는 거면 되...\n",
       "9428     요즘 중국어 공부 하낭 키키 아니 키키 요즘 불어 유튜브 보고 있음 불어...? 왜...\n",
       "Name: cleaned, dtype: object"
      ]
     },
     "execution_count": 35,
     "metadata": {},
     "output_type": "execute_result"
    }
   ],
   "execution_count": 35
  },
  {
   "cell_type": "markdown",
   "id": "58693e4c",
   "metadata": {
    "id": "58693e4c"
   },
   "source": [
    "### 한국어 문장 분리기"
   ]
  },
  {
   "cell_type": "code",
   "id": "ca398dc6",
   "metadata": {
    "scrolled": true,
    "id": "ca398dc6",
    "ExecuteTime": {
     "end_time": "2024-06-24T16:29:28.240482Z",
     "start_time": "2024-06-24T16:29:20.397967Z"
    }
   },
   "source": "!pip install kss",
   "outputs": [
    {
     "name": "stdout",
     "output_type": "stream",
     "text": [
      "Collecting kss\r\n",
      "  Using cached kss-6.0.4.tar.gz (1.1 MB)\r\n",
      "  Preparing metadata (setup.py) ... \u001B[?25ldone\r\n",
      "\u001B[?25hCollecting emoji==1.2.0 (from kss)\r\n",
      "  Using cached emoji-1.2.0-py3-none-any.whl (131 kB)\r\n",
      "Collecting pecab (from kss)\r\n",
      "  Using cached pecab-1.0.8.tar.gz (26.4 MB)\r\n",
      "  Preparing metadata (setup.py) ... \u001B[?25ldone\r\n",
      "\u001B[?25hRequirement already satisfied: networkx in /opt/homebrew/Caskroom/miniforge/base/envs/DL-tf/lib/python3.8/site-packages (from kss) (3.1)\r\n",
      "Collecting jamo (from kss)\r\n",
      "  Using cached jamo-0.4.1-py3-none-any.whl (9.5 kB)\r\n",
      "Collecting hangul-jamo (from kss)\r\n",
      "  Using cached hangul_jamo-1.0.1-py3-none-any.whl (4.4 kB)\r\n",
      "Collecting tossi (from kss)\r\n",
      "  Using cached tossi-0.3.1.tar.gz (11 kB)\r\n",
      "  Preparing metadata (setup.py) ... \u001B[?25ldone\r\n",
      "\u001B[?25hCollecting distance (from kss)\r\n",
      "  Using cached Distance-0.1.3.tar.gz (180 kB)\r\n",
      "  Preparing metadata (setup.py) ... \u001B[?25ldone\r\n",
      "\u001B[?25hCollecting pyyaml==6.0 (from kss)\r\n",
      "  Using cached PyYAML-6.0.tar.gz (124 kB)\r\n",
      "  Installing build dependencies ... \u001B[?25ldone\r\n",
      "\u001B[?25h  Getting requirements to build wheel ... \u001B[?25lerror\r\n",
      "  \u001B[1;31merror\u001B[0m: \u001B[1msubprocess-exited-with-error\u001B[0m\r\n",
      "  \r\n",
      "  \u001B[31m×\u001B[0m \u001B[32mGetting requirements to build wheel\u001B[0m did not run successfully.\r\n",
      "  \u001B[31m│\u001B[0m exit code: \u001B[1;36m1\u001B[0m\r\n",
      "  \u001B[31m╰─>\u001B[0m \u001B[31m[48 lines of output]\u001B[0m\r\n",
      "  \u001B[31m   \u001B[0m running egg_info\r\n",
      "  \u001B[31m   \u001B[0m writing lib/PyYAML.egg-info/PKG-INFO\r\n",
      "  \u001B[31m   \u001B[0m writing dependency_links to lib/PyYAML.egg-info/dependency_links.txt\r\n",
      "  \u001B[31m   \u001B[0m writing top-level names to lib/PyYAML.egg-info/top_level.txt\r\n",
      "  \u001B[31m   \u001B[0m Traceback (most recent call last):\r\n",
      "  \u001B[31m   \u001B[0m   File \"/opt/homebrew/Caskroom/miniforge/base/envs/DL-tf/lib/python3.8/site-packages/pip/_vendor/pyproject_hooks/_in_process/_in_process.py\", line 353, in <module>\r\n",
      "  \u001B[31m   \u001B[0m     main()\r\n",
      "  \u001B[31m   \u001B[0m   File \"/opt/homebrew/Caskroom/miniforge/base/envs/DL-tf/lib/python3.8/site-packages/pip/_vendor/pyproject_hooks/_in_process/_in_process.py\", line 335, in main\r\n",
      "  \u001B[31m   \u001B[0m     json_out['return_val'] = hook(**hook_input['kwargs'])\r\n",
      "  \u001B[31m   \u001B[0m   File \"/opt/homebrew/Caskroom/miniforge/base/envs/DL-tf/lib/python3.8/site-packages/pip/_vendor/pyproject_hooks/_in_process/_in_process.py\", line 118, in get_requires_for_build_wheel\r\n",
      "  \u001B[31m   \u001B[0m     return hook(config_settings)\r\n",
      "  \u001B[31m   \u001B[0m   File \"/private/var/folders/1b/dx8_94fs0q740wx3lfknk6y40000gn/T/pip-build-env-9ko3iu9g/overlay/lib/python3.8/site-packages/setuptools/build_meta.py\", line 327, in get_requires_for_build_wheel\r\n",
      "  \u001B[31m   \u001B[0m     return self._get_build_requires(config_settings, requirements=[])\r\n",
      "  \u001B[31m   \u001B[0m   File \"/private/var/folders/1b/dx8_94fs0q740wx3lfknk6y40000gn/T/pip-build-env-9ko3iu9g/overlay/lib/python3.8/site-packages/setuptools/build_meta.py\", line 297, in _get_build_requires\r\n",
      "  \u001B[31m   \u001B[0m     self.run_setup()\r\n",
      "  \u001B[31m   \u001B[0m   File \"/private/var/folders/1b/dx8_94fs0q740wx3lfknk6y40000gn/T/pip-build-env-9ko3iu9g/overlay/lib/python3.8/site-packages/setuptools/build_meta.py\", line 313, in run_setup\r\n",
      "  \u001B[31m   \u001B[0m     exec(code, locals())\r\n",
      "  \u001B[31m   \u001B[0m   File \"<string>\", line 288, in <module>\r\n",
      "  \u001B[31m   \u001B[0m   File \"/private/var/folders/1b/dx8_94fs0q740wx3lfknk6y40000gn/T/pip-build-env-9ko3iu9g/overlay/lib/python3.8/site-packages/setuptools/__init__.py\", line 103, in setup\r\n",
      "  \u001B[31m   \u001B[0m     return distutils.core.setup(**attrs)\r\n",
      "  \u001B[31m   \u001B[0m   File \"/private/var/folders/1b/dx8_94fs0q740wx3lfknk6y40000gn/T/pip-build-env-9ko3iu9g/overlay/lib/python3.8/site-packages/setuptools/_distutils/core.py\", line 184, in setup\r\n",
      "  \u001B[31m   \u001B[0m     return run_commands(dist)\r\n",
      "  \u001B[31m   \u001B[0m   File \"/private/var/folders/1b/dx8_94fs0q740wx3lfknk6y40000gn/T/pip-build-env-9ko3iu9g/overlay/lib/python3.8/site-packages/setuptools/_distutils/core.py\", line 200, in run_commands\r\n",
      "  \u001B[31m   \u001B[0m     dist.run_commands()\r\n",
      "  \u001B[31m   \u001B[0m   File \"/private/var/folders/1b/dx8_94fs0q740wx3lfknk6y40000gn/T/pip-build-env-9ko3iu9g/overlay/lib/python3.8/site-packages/setuptools/_distutils/dist.py\", line 969, in run_commands\r\n",
      "  \u001B[31m   \u001B[0m     self.run_command(cmd)\r\n",
      "  \u001B[31m   \u001B[0m   File \"/private/var/folders/1b/dx8_94fs0q740wx3lfknk6y40000gn/T/pip-build-env-9ko3iu9g/overlay/lib/python3.8/site-packages/setuptools/dist.py\", line 976, in run_command\r\n",
      "  \u001B[31m   \u001B[0m     super().run_command(command)\r\n",
      "  \u001B[31m   \u001B[0m   File \"/private/var/folders/1b/dx8_94fs0q740wx3lfknk6y40000gn/T/pip-build-env-9ko3iu9g/overlay/lib/python3.8/site-packages/setuptools/_distutils/dist.py\", line 988, in run_command\r\n",
      "  \u001B[31m   \u001B[0m     cmd_obj.run()\r\n",
      "  \u001B[31m   \u001B[0m   File \"/private/var/folders/1b/dx8_94fs0q740wx3lfknk6y40000gn/T/pip-build-env-9ko3iu9g/overlay/lib/python3.8/site-packages/setuptools/command/egg_info.py\", line 321, in run\r\n",
      "  \u001B[31m   \u001B[0m     self.find_sources()\r\n",
      "  \u001B[31m   \u001B[0m   File \"/private/var/folders/1b/dx8_94fs0q740wx3lfknk6y40000gn/T/pip-build-env-9ko3iu9g/overlay/lib/python3.8/site-packages/setuptools/command/egg_info.py\", line 329, in find_sources\r\n",
      "  \u001B[31m   \u001B[0m     mm.run()\r\n",
      "  \u001B[31m   \u001B[0m   File \"/private/var/folders/1b/dx8_94fs0q740wx3lfknk6y40000gn/T/pip-build-env-9ko3iu9g/overlay/lib/python3.8/site-packages/setuptools/command/egg_info.py\", line 550, in run\r\n",
      "  \u001B[31m   \u001B[0m     self.add_defaults()\r\n",
      "  \u001B[31m   \u001B[0m   File \"/private/var/folders/1b/dx8_94fs0q740wx3lfknk6y40000gn/T/pip-build-env-9ko3iu9g/overlay/lib/python3.8/site-packages/setuptools/command/egg_info.py\", line 588, in add_defaults\r\n",
      "  \u001B[31m   \u001B[0m     sdist.add_defaults(self)\r\n",
      "  \u001B[31m   \u001B[0m   File \"/private/var/folders/1b/dx8_94fs0q740wx3lfknk6y40000gn/T/pip-build-env-9ko3iu9g/overlay/lib/python3.8/site-packages/setuptools/command/sdist.py\", line 102, in add_defaults\r\n",
      "  \u001B[31m   \u001B[0m     super().add_defaults()\r\n",
      "  \u001B[31m   \u001B[0m   File \"/private/var/folders/1b/dx8_94fs0q740wx3lfknk6y40000gn/T/pip-build-env-9ko3iu9g/overlay/lib/python3.8/site-packages/setuptools/_distutils/command/sdist.py\", line 250, in add_defaults\r\n",
      "  \u001B[31m   \u001B[0m     self._add_defaults_ext()\r\n",
      "  \u001B[31m   \u001B[0m   File \"/private/var/folders/1b/dx8_94fs0q740wx3lfknk6y40000gn/T/pip-build-env-9ko3iu9g/overlay/lib/python3.8/site-packages/setuptools/_distutils/command/sdist.py\", line 335, in _add_defaults_ext\r\n",
      "  \u001B[31m   \u001B[0m     self.filelist.extend(build_ext.get_source_files())\r\n",
      "  \u001B[31m   \u001B[0m   File \"<string>\", line 204, in get_source_files\r\n",
      "  \u001B[31m   \u001B[0m   File \"/private/var/folders/1b/dx8_94fs0q740wx3lfknk6y40000gn/T/pip-build-env-9ko3iu9g/overlay/lib/python3.8/site-packages/setuptools/_distutils/cmd.py\", line 107, in __getattr__\r\n",
      "  \u001B[31m   \u001B[0m     raise AttributeError(attr)\r\n",
      "  \u001B[31m   \u001B[0m AttributeError: cython_sources\r\n",
      "  \u001B[31m   \u001B[0m \u001B[31m[end of output]\u001B[0m\r\n",
      "  \r\n",
      "  \u001B[1;35mnote\u001B[0m: This error originates from a subprocess, and is likely not a problem with pip.\r\n",
      "\u001B[1;31merror\u001B[0m: \u001B[1msubprocess-exited-with-error\u001B[0m\r\n",
      "\r\n",
      "\u001B[31m×\u001B[0m \u001B[32mGetting requirements to build wheel\u001B[0m did not run successfully.\r\n",
      "\u001B[31m│\u001B[0m exit code: \u001B[1;36m1\u001B[0m\r\n",
      "\u001B[31m╰─>\u001B[0m See above for output.\r\n",
      "\r\n",
      "\u001B[1;35mnote\u001B[0m: This error originates from a subprocess, and is likely not a problem with pip.\r\n",
      "\u001B[?25h"
     ]
    }
   ],
   "execution_count": 36
  },
  {
   "cell_type": "code",
   "id": "f39d5a63",
   "metadata": {
    "id": "f39d5a63",
    "ExecuteTime": {
     "end_time": "2024-06-24T16:29:28.253540Z",
     "start_time": "2024-06-24T16:29:28.242457Z"
    }
   },
   "source": [
    "samples = train_data.sample(5)"
   ],
   "outputs": [],
   "execution_count": 37
  },
  {
   "cell_type": "code",
   "id": "b65abc00",
   "metadata": {
    "colab": {
     "base_uri": "https://localhost:8080/",
     "height": 206
    },
    "id": "b65abc00",
    "outputId": "f05143f9-32d7-42bf-d9c7-2e65010e033c",
    "ExecuteTime": {
     "end_time": "2024-06-24T16:29:28.259005Z",
     "start_time": "2024-06-24T16:29:28.254329Z"
    }
   },
   "source": [
    "samples"
   ],
   "outputs": [
    {
     "data": {
      "text/plain": [
       "            class                                       conversation  \\\n",
       "5358        일반 대화   오빠 영화 완벽한 타인 보셨어요?\\n  응 봤지 키키 뭔가 불편하더라 영화 보는내...   \n",
       "2326  직장 내 괴롭힘 대화  지금 이걸 보고서라고 가져 온 거야?\\n뭐가 문제인지 알려주시면 시정하겠습니다.\\n...   \n",
       "3462        갈취 대화  가 어이 거기 잘 어울리네\\n나 시비 걸지 마세요\\n가 이쁜 커플 내가 너무 외로워...   \n",
       "3478        갈취 대화  야야 돈좀 있냐\\n아니 내가 돈이 어디있어\\n이게 하루이틀 사나 돈 항상 준비하라고...   \n",
       "2188        협박 대화  마지막 기회라고 했지.\\n 죄송합니다. 다시는 말 새어나가지 않게 할게요.\\n 더이...   \n",
       "\n",
       "                                                cleaned  \n",
       "5358  오빠 영화 완벽한 타인 보셨어요? 응 봤지 키키 뭔가 불편하더라 영화 보는내도록 그...  \n",
       "2326  지금 이걸 보고서라고 가져 온 거야? 뭐가 문제인지 알려주시면 시정하겠습니다. 뭐가...  \n",
       "3462  가 어이 거기 잘 어울리네 나 시비 걸지 마세요 가 이쁜 커플 내가 너무 외로워서 ...  \n",
       "3478  야야 돈좀 있냐 아니 내가 돈이 어디있어 이게 하루이틀 사나 돈 항상 준비하라고 했...  \n",
       "2188  마지막 기회라고 했지. 죄송합니다. 다시는 말 새어나가지 않게 할게요. 더이상 기회...  "
      ],
      "text/html": [
       "<div>\n",
       "<style scoped>\n",
       "    .dataframe tbody tr th:only-of-type {\n",
       "        vertical-align: middle;\n",
       "    }\n",
       "\n",
       "    .dataframe tbody tr th {\n",
       "        vertical-align: top;\n",
       "    }\n",
       "\n",
       "    .dataframe thead th {\n",
       "        text-align: right;\n",
       "    }\n",
       "</style>\n",
       "<table border=\"1\" class=\"dataframe\">\n",
       "  <thead>\n",
       "    <tr style=\"text-align: right;\">\n",
       "      <th></th>\n",
       "      <th>class</th>\n",
       "      <th>conversation</th>\n",
       "      <th>cleaned</th>\n",
       "    </tr>\n",
       "  </thead>\n",
       "  <tbody>\n",
       "    <tr>\n",
       "      <th>5358</th>\n",
       "      <td>일반 대화</td>\n",
       "      <td>오빠 영화 완벽한 타인 보셨어요?\\n  응 봤지 키키 뭔가 불편하더라 영화 보는내...</td>\n",
       "      <td>오빠 영화 완벽한 타인 보셨어요? 응 봤지 키키 뭔가 불편하더라 영화 보는내도록 그...</td>\n",
       "    </tr>\n",
       "    <tr>\n",
       "      <th>2326</th>\n",
       "      <td>직장 내 괴롭힘 대화</td>\n",
       "      <td>지금 이걸 보고서라고 가져 온 거야?\\n뭐가 문제인지 알려주시면 시정하겠습니다.\\n...</td>\n",
       "      <td>지금 이걸 보고서라고 가져 온 거야? 뭐가 문제인지 알려주시면 시정하겠습니다. 뭐가...</td>\n",
       "    </tr>\n",
       "    <tr>\n",
       "      <th>3462</th>\n",
       "      <td>갈취 대화</td>\n",
       "      <td>가 어이 거기 잘 어울리네\\n나 시비 걸지 마세요\\n가 이쁜 커플 내가 너무 외로워...</td>\n",
       "      <td>가 어이 거기 잘 어울리네 나 시비 걸지 마세요 가 이쁜 커플 내가 너무 외로워서 ...</td>\n",
       "    </tr>\n",
       "    <tr>\n",
       "      <th>3478</th>\n",
       "      <td>갈취 대화</td>\n",
       "      <td>야야 돈좀 있냐\\n아니 내가 돈이 어디있어\\n이게 하루이틀 사나 돈 항상 준비하라고...</td>\n",
       "      <td>야야 돈좀 있냐 아니 내가 돈이 어디있어 이게 하루이틀 사나 돈 항상 준비하라고 했...</td>\n",
       "    </tr>\n",
       "    <tr>\n",
       "      <th>2188</th>\n",
       "      <td>협박 대화</td>\n",
       "      <td>마지막 기회라고 했지.\\n 죄송합니다. 다시는 말 새어나가지 않게 할게요.\\n 더이...</td>\n",
       "      <td>마지막 기회라고 했지. 죄송합니다. 다시는 말 새어나가지 않게 할게요. 더이상 기회...</td>\n",
       "    </tr>\n",
       "  </tbody>\n",
       "</table>\n",
       "</div>"
      ]
     },
     "execution_count": 38,
     "metadata": {},
     "output_type": "execute_result"
    }
   ],
   "execution_count": 38
  },
  {
   "cell_type": "code",
   "id": "399f0f88",
   "metadata": {
    "scrolled": false,
    "colab": {
     "base_uri": "https://localhost:8080/",
     "height": 53
    },
    "id": "399f0f88",
    "outputId": "6c879853-9d7e-49fb-af07-c65f99afa6ea",
    "ExecuteTime": {
     "end_time": "2024-06-24T16:29:28.262417Z",
     "start_time": "2024-06-24T16:29:28.260136Z"
    }
   },
   "source": [
    "samples.cleaned.iloc[0]"
   ],
   "outputs": [
    {
     "data": {
      "text/plain": [
       "'오빠 영화 완벽한 타인 보셨어요? 응 봤지 키키 뭔가 불편하더라 영화 보는내도록 그쵸... 키키 너무 현실적이고... 진짜 있을 거 같기도 하고 배우들도 연기 잘하고 내만 그런 게 아니라 친구들 몇 명 그러던데 키키 불편하다고 키키 네... 아휴 ㅜㅜ 어떤 점이 제일 불편하셨어요? 맞아 영화 제작 비용도 엄청 적었다고 하더라고 키키 비용들게 없긴 해 그러게요 키키 집 하나만 빌리면 끝이었을 거 같은데 키키 그냥 서로 사생활 이런 거 없이 폰 꺼내 놓고 게임 한다는게 키키 뭔가 불편하더라 아 그쵸... 이게 또 분위기가 그렇게 되면 안 하는 사람 이상해지고 원래 이상해질게 아닌데 키키 맞아 배우들한테 들어간 돈 말고는 들게 없더라 키키 저는 뭐 찔릴 것도 없는데 그런 상황이 오면 안하고 싶을 거 같아요 키키 맞아 근데 어느 하나 비밀이 없는 사람이 없다는 게 더 충격이였고 키키 네 저도 이래놓고 실제로는 뭔가 찔리는 게 나올지도 키키 키키 맞아 나도 그런 상황이 오면 안 할 거 같애 키키 그리고 배우들이 너무 현실처럼 연기를 잘해서... 키키 키키 배우들이 연기를 잘해서 더 몰입해서 본 거 같애 None None None None None None None None None None None None None None None None None None None None None None None None None None None None None None None None None None None None None None None None None None None None'"
      ]
     },
     "execution_count": 39,
     "metadata": {},
     "output_type": "execute_result"
    }
   ],
   "execution_count": 39
  },
  {
   "cell_type": "code",
   "id": "c6611b67",
   "metadata": {
    "id": "c6611b67",
    "ExecuteTime": {
     "end_time": "2024-06-24T16:29:28.264338Z",
     "start_time": "2024-06-24T16:29:28.262994Z"
    }
   },
   "source": [
    "# from kss import split_sentences\n",
    "\n",
    "# split_sentences(samples.cleaned.iloc[0])"
   ],
   "outputs": [],
   "execution_count": 40
  },
  {
   "cell_type": "code",
   "id": "e17962d6",
   "metadata": {
    "id": "e17962d6",
    "ExecuteTime": {
     "end_time": "2024-06-24T16:29:28.266351Z",
     "start_time": "2024-06-24T16:29:28.264906Z"
    }
   },
   "source": [
    "# split_sentences(samples.cleaned.iloc[2])"
   ],
   "outputs": [],
   "execution_count": 41
  },
  {
   "cell_type": "code",
   "id": "a752041a",
   "metadata": {
    "id": "a752041a",
    "ExecuteTime": {
     "end_time": "2024-06-24T16:29:28.268448Z",
     "start_time": "2024-06-24T16:29:28.266880Z"
    }
   },
   "source": [
    "# split_sentences(samples.cleaned.iloc[-1])"
   ],
   "outputs": [],
   "execution_count": 42
  },
  {
   "cell_type": "markdown",
   "id": "c1de6ee3",
   "metadata": {
    "id": "c1de6ee3"
   },
   "source": [
    "## BERT"
   ]
  },
  {
   "metadata": {
    "colab": {
     "base_uri": "https://localhost:8080/"
    },
    "id": "cb382f2d39f7fc0a",
    "outputId": "8093ae62-f2fc-4a85-b76d-886451452a1f",
    "ExecuteTime": {
     "end_time": "2024-06-24T16:29:28.270625Z",
     "start_time": "2024-06-24T16:29:28.268989Z"
    }
   },
   "cell_type": "code",
   "source": "# !pip install -U transformers",
   "id": "cb382f2d39f7fc0a",
   "outputs": [],
   "execution_count": 43
  },
  {
   "cell_type": "code",
   "id": "5a0ae645",
   "metadata": {
    "id": "5a0ae645",
    "ExecuteTime": {
     "end_time": "2024-06-24T16:29:28.272667Z",
     "start_time": "2024-06-24T16:29:28.271263Z"
    }
   },
   "source": [
    "#from transformers import TFElectraModel, ElectraTokenizer\n",
    "\n",
    "# model = TFElectraModel.from_pretrained(\"monologg/koelectra-base-v3-discriminator\", from_pt=True)\n",
    "#tokenizer = ElectraTokenizer.from_pretrained(\"monologg/koelectra-base-v3-discriminator\")"
   ],
   "outputs": [],
   "execution_count": 44
  },
  {
   "cell_type": "code",
   "id": "a282e858",
   "metadata": {
    "id": "a282e858",
    "ExecuteTime": {
     "end_time": "2024-06-24T16:29:28.277769Z",
     "start_time": "2024-06-24T16:29:28.274202Z"
    }
   },
   "source": [
    "from sklearn.preprocessing import LabelEncoder\n",
    "\n",
    "# LabelEncoder를 객체로 생성\n",
    "encoder = LabelEncoder()\n",
    "\n",
    "# fit, transform 메소드를 통한 레이블 인코딩\n",
    "encoder.fit(train_data['class'])\n",
    "\n",
    "train_data[\"label\"] = encoder.transform(train_data['class'])"
   ],
   "outputs": [],
   "execution_count": 45
  },
  {
   "cell_type": "code",
   "id": "01b5f214",
   "metadata": {
    "id": "01b5f214",
    "ExecuteTime": {
     "end_time": "2024-06-24T16:29:28.281231Z",
     "start_time": "2024-06-24T16:29:28.278356Z"
    }
   },
   "source": [
    "dataset = train_data[['cleaned', 'label']]"
   ],
   "outputs": [],
   "execution_count": 46
  },
  {
   "cell_type": "code",
   "id": "dbc68d99",
   "metadata": {
    "colab": {
     "base_uri": "https://localhost:8080/",
     "height": 363
    },
    "id": "dbc68d99",
    "outputId": "24606769-391c-4612-f265-2c6f3b6bc4fb",
    "ExecuteTime": {
     "end_time": "2024-06-24T16:29:29.190578Z",
     "start_time": "2024-06-24T16:29:29.182117Z"
    }
   },
   "source": [
    "dataset.sample(n=10)"
   ],
   "outputs": [
    {
     "data": {
      "text/plain": [
       "                                                 cleaned  label\n",
       "2011   김 선생님 옷이 예쁘네요. 새로 사셨나봐요? 아 감사합니다. 오늘은 수업시간에 조는...      3\n",
       "1367   여기 하나여행사죠? 당장 환불해주세요! 무슨일이신가요? 제가 이번에 동남아 여행을 ...      1\n",
       "3253   야 고구마? 내가 왜 고구마야? 고구마니까 고구마지. 그만해. 내 이름은 고군만이야...      1\n",
       "1932   돈 좀 있냐? 없는데. 너 어제 용돈 받았다며? 나 사고 싶은 거 있어. 그게 나랑...      0\n",
       "1467   수연아. 너꺼 화장품 좋아보인다. 새로 샀어? 응 이번에 나 생일이라고 아빠가 사줬...      0\n",
       "2709   좋은 말로 할 때 나랑 사귀는걸로 해 싫어 이런 협박이 통할 것 같아? 못하겠으면 ...      4\n",
       "3488   야 내가 김치찌개 사줄께 가자 오 왠일? 가자 여기 김찌찌개 두 그릇 주세요. 배고...      1\n",
       "3686   어 아 오늘 월급날이지? 계좌로 50만 보내라 오빠 나 이제 월급받은 지 3개월밖에...      0\n",
       "17226  파운데이션 유목민이 좋은 파데를 찾습니다 너 피부타입이 뭔데? 나는 건성이라스......      2\n",
       "2230   와 이거 뭐야? 엄마가 싸주셨어 소풍 간다고 대단하시네 나는 엄마가 바쁘다고 사먹으...      0"
      ],
      "text/html": [
       "<div>\n",
       "<style scoped>\n",
       "    .dataframe tbody tr th:only-of-type {\n",
       "        vertical-align: middle;\n",
       "    }\n",
       "\n",
       "    .dataframe tbody tr th {\n",
       "        vertical-align: top;\n",
       "    }\n",
       "\n",
       "    .dataframe thead th {\n",
       "        text-align: right;\n",
       "    }\n",
       "</style>\n",
       "<table border=\"1\" class=\"dataframe\">\n",
       "  <thead>\n",
       "    <tr style=\"text-align: right;\">\n",
       "      <th></th>\n",
       "      <th>cleaned</th>\n",
       "      <th>label</th>\n",
       "    </tr>\n",
       "  </thead>\n",
       "  <tbody>\n",
       "    <tr>\n",
       "      <th>2011</th>\n",
       "      <td>김 선생님 옷이 예쁘네요. 새로 사셨나봐요? 아 감사합니다. 오늘은 수업시간에 조는...</td>\n",
       "      <td>3</td>\n",
       "    </tr>\n",
       "    <tr>\n",
       "      <th>1367</th>\n",
       "      <td>여기 하나여행사죠? 당장 환불해주세요! 무슨일이신가요? 제가 이번에 동남아 여행을 ...</td>\n",
       "      <td>1</td>\n",
       "    </tr>\n",
       "    <tr>\n",
       "      <th>3253</th>\n",
       "      <td>야 고구마? 내가 왜 고구마야? 고구마니까 고구마지. 그만해. 내 이름은 고군만이야...</td>\n",
       "      <td>1</td>\n",
       "    </tr>\n",
       "    <tr>\n",
       "      <th>1932</th>\n",
       "      <td>돈 좀 있냐? 없는데. 너 어제 용돈 받았다며? 나 사고 싶은 거 있어. 그게 나랑...</td>\n",
       "      <td>0</td>\n",
       "    </tr>\n",
       "    <tr>\n",
       "      <th>1467</th>\n",
       "      <td>수연아. 너꺼 화장품 좋아보인다. 새로 샀어? 응 이번에 나 생일이라고 아빠가 사줬...</td>\n",
       "      <td>0</td>\n",
       "    </tr>\n",
       "    <tr>\n",
       "      <th>2709</th>\n",
       "      <td>좋은 말로 할 때 나랑 사귀는걸로 해 싫어 이런 협박이 통할 것 같아? 못하겠으면 ...</td>\n",
       "      <td>4</td>\n",
       "    </tr>\n",
       "    <tr>\n",
       "      <th>3488</th>\n",
       "      <td>야 내가 김치찌개 사줄께 가자 오 왠일? 가자 여기 김찌찌개 두 그릇 주세요. 배고...</td>\n",
       "      <td>1</td>\n",
       "    </tr>\n",
       "    <tr>\n",
       "      <th>3686</th>\n",
       "      <td>어 아 오늘 월급날이지? 계좌로 50만 보내라 오빠 나 이제 월급받은 지 3개월밖에...</td>\n",
       "      <td>0</td>\n",
       "    </tr>\n",
       "    <tr>\n",
       "      <th>17226</th>\n",
       "      <td>파운데이션 유목민이 좋은 파데를 찾습니다 너 피부타입이 뭔데? 나는 건성이라스......</td>\n",
       "      <td>2</td>\n",
       "    </tr>\n",
       "    <tr>\n",
       "      <th>2230</th>\n",
       "      <td>와 이거 뭐야? 엄마가 싸주셨어 소풍 간다고 대단하시네 나는 엄마가 바쁘다고 사먹으...</td>\n",
       "      <td>0</td>\n",
       "    </tr>\n",
       "  </tbody>\n",
       "</table>\n",
       "</div>"
      ]
     },
     "execution_count": 47,
     "metadata": {},
     "output_type": "execute_result"
    }
   ],
   "execution_count": 47
  },
  {
   "cell_type": "code",
   "id": "fe53bd56",
   "metadata": {
    "colab": {
     "base_uri": "https://localhost:8080/"
    },
    "id": "fe53bd56",
    "outputId": "2602e29b-41fc-443b-afca-b2888111c949",
    "ExecuteTime": {
     "end_time": "2024-06-24T16:29:29.808136Z",
     "start_time": "2024-06-24T16:29:29.801978Z"
    }
   },
   "source": [
    "max_seq_len = 0\n",
    "len_64_128 = 0\n",
    "len_128_256 = 0\n",
    "\n",
    "mylist = [0 for i in range(10000)]\n",
    "for index, value in dataset['cleaned'].items():\n",
    "    mylist[len(value)] += 1\n",
    "    max_seq_len = max(max_seq_len, len(value))\n",
    "\n",
    "    if len(value) >= 64 and len(value) < 128:\n",
    "        len_64_128 += 1\n",
    "    elif len(value) >= 128 and len(value) < 256:\n",
    "        len_128_256 += 1\n",
    "\n",
    "print(f'가장 긴 문장 길이: {max_seq_len}')\n",
    "print(f'64과 128 사이 길이 문장 개수: {len_64_128}')\n",
    "print(f'128과 256 사이 길이 문장 개수: {len_128_256}')"
   ],
   "outputs": [
    {
     "name": "stdout",
     "output_type": "stream",
     "text": [
      "가장 긴 문장 길이: 1690\n",
      "64과 128 사이 길이 문장 개수: 462\n",
      "128과 256 사이 길이 문장 개수: 2344\n"
     ]
    }
   ],
   "execution_count": 48
  },
  {
   "cell_type": "code",
   "id": "14244e61",
   "metadata": {
    "id": "14244e61",
    "ExecuteTime": {
     "end_time": "2024-06-24T16:29:30.664425Z",
     "start_time": "2024-06-24T16:29:30.662064Z"
    }
   },
   "source": [
    "max_seq_len = 800"
   ],
   "outputs": [],
   "execution_count": 49
  },
  {
   "cell_type": "code",
   "source": "dataset",
   "metadata": {
    "colab": {
     "base_uri": "https://localhost:8080/",
     "height": 424
    },
    "id": "SZQysxATXuTx",
    "outputId": "30b1e92b-fd87-4eb0-bb9d-ea2625252955",
    "ExecuteTime": {
     "end_time": "2024-06-24T16:29:31.071860Z",
     "start_time": "2024-06-24T16:29:31.067332Z"
    }
   },
   "id": "SZQysxATXuTx",
   "outputs": [
    {
     "data": {
      "text/plain": [
       "                                                 cleaned  label\n",
       "0      지금 너 스스로를 죽여달라고 애원하는 것인가? 아닙니다. 죄송합니다. 죽을 거면 혼...      4\n",
       "1      길동경찰서입니다. 9시 40분 마트에 폭발물을 설치할거다. 네? 똑바로 들어 한번만...      4\n",
       "2      너 되게 귀여운거 알지? 나보다 작은 남자는 첨봤어. 그만해. 니들 놀리는거 재미없...      1\n",
       "3      어이 거기 예?? 너 말이야 너. 이리 오라고 무슨 일. 너 옷 좋아보인다? 얘 돈...      0\n",
       "4      저기요 혹시 날이 너무 뜨겁잖아요? 저희 회사에서 이 선크림 파는데 한 번 손등에 ...      0\n",
       "...                                                  ...    ...\n",
       "14916  나 아쿠아필 기계 괜히 샀나봐 ㅠㅠ 헐 왜 너 그거 엄청 기대하고 샀잖아 어 ㅠㅠ ...      2\n",
       "7667   우리 여행지 많으네. 휴가 여행지 일 순위 **네 이순위 **네 **네는? 거기가 ...      2\n",
       "15656  니는 캠핑 가는 거 좋아하나? 키키 좋죠 저는 좋아해요 키키 차가 없을 뿐 코로나 ...      2\n",
       "3494   오늘 술 안주 뭐로 먹었냐 하하 술안주는 고기지... 고기 최고 사실 먹는 거면 되...      2\n",
       "9428   요즘 중국어 공부 하낭 키키 아니 키키 요즘 불어 유튜브 보고 있음 불어...? 왜...      2\n",
       "\n",
       "[4950 rows x 2 columns]"
      ],
      "text/html": [
       "<div>\n",
       "<style scoped>\n",
       "    .dataframe tbody tr th:only-of-type {\n",
       "        vertical-align: middle;\n",
       "    }\n",
       "\n",
       "    .dataframe tbody tr th {\n",
       "        vertical-align: top;\n",
       "    }\n",
       "\n",
       "    .dataframe thead th {\n",
       "        text-align: right;\n",
       "    }\n",
       "</style>\n",
       "<table border=\"1\" class=\"dataframe\">\n",
       "  <thead>\n",
       "    <tr style=\"text-align: right;\">\n",
       "      <th></th>\n",
       "      <th>cleaned</th>\n",
       "      <th>label</th>\n",
       "    </tr>\n",
       "  </thead>\n",
       "  <tbody>\n",
       "    <tr>\n",
       "      <th>0</th>\n",
       "      <td>지금 너 스스로를 죽여달라고 애원하는 것인가? 아닙니다. 죄송합니다. 죽을 거면 혼...</td>\n",
       "      <td>4</td>\n",
       "    </tr>\n",
       "    <tr>\n",
       "      <th>1</th>\n",
       "      <td>길동경찰서입니다. 9시 40분 마트에 폭발물을 설치할거다. 네? 똑바로 들어 한번만...</td>\n",
       "      <td>4</td>\n",
       "    </tr>\n",
       "    <tr>\n",
       "      <th>2</th>\n",
       "      <td>너 되게 귀여운거 알지? 나보다 작은 남자는 첨봤어. 그만해. 니들 놀리는거 재미없...</td>\n",
       "      <td>1</td>\n",
       "    </tr>\n",
       "    <tr>\n",
       "      <th>3</th>\n",
       "      <td>어이 거기 예?? 너 말이야 너. 이리 오라고 무슨 일. 너 옷 좋아보인다? 얘 돈...</td>\n",
       "      <td>0</td>\n",
       "    </tr>\n",
       "    <tr>\n",
       "      <th>4</th>\n",
       "      <td>저기요 혹시 날이 너무 뜨겁잖아요? 저희 회사에서 이 선크림 파는데 한 번 손등에 ...</td>\n",
       "      <td>0</td>\n",
       "    </tr>\n",
       "    <tr>\n",
       "      <th>...</th>\n",
       "      <td>...</td>\n",
       "      <td>...</td>\n",
       "    </tr>\n",
       "    <tr>\n",
       "      <th>14916</th>\n",
       "      <td>나 아쿠아필 기계 괜히 샀나봐 ㅠㅠ 헐 왜 너 그거 엄청 기대하고 샀잖아 어 ㅠㅠ ...</td>\n",
       "      <td>2</td>\n",
       "    </tr>\n",
       "    <tr>\n",
       "      <th>7667</th>\n",
       "      <td>우리 여행지 많으네. 휴가 여행지 일 순위 **네 이순위 **네 **네는? 거기가 ...</td>\n",
       "      <td>2</td>\n",
       "    </tr>\n",
       "    <tr>\n",
       "      <th>15656</th>\n",
       "      <td>니는 캠핑 가는 거 좋아하나? 키키 좋죠 저는 좋아해요 키키 차가 없을 뿐 코로나 ...</td>\n",
       "      <td>2</td>\n",
       "    </tr>\n",
       "    <tr>\n",
       "      <th>3494</th>\n",
       "      <td>오늘 술 안주 뭐로 먹었냐 하하 술안주는 고기지... 고기 최고 사실 먹는 거면 되...</td>\n",
       "      <td>2</td>\n",
       "    </tr>\n",
       "    <tr>\n",
       "      <th>9428</th>\n",
       "      <td>요즘 중국어 공부 하낭 키키 아니 키키 요즘 불어 유튜브 보고 있음 불어...? 왜...</td>\n",
       "      <td>2</td>\n",
       "    </tr>\n",
       "  </tbody>\n",
       "</table>\n",
       "<p>4950 rows × 2 columns</p>\n",
       "</div>"
      ]
     },
     "execution_count": 50,
     "metadata": {},
     "output_type": "execute_result"
    }
   ],
   "execution_count": 50
  },
  {
   "metadata": {
    "id": "86651c9f66d9194b",
    "ExecuteTime": {
     "end_time": "2024-06-24T16:29:42.306574Z",
     "start_time": "2024-06-24T16:29:31.578849Z"
    }
   },
   "cell_type": "code",
   "source": [
    "import pandas as pd\n",
    "import numpy as np\n",
    "import torch\n",
    "from torch.utils.data import Dataset, DataLoader\n",
    "from transformers import ElectraTokenizer, ElectraModel, ElectraConfig, AdamW\n",
    "import torch.nn as nn\n",
    "import wandb\n",
    "from sklearn.metrics import f1_score\n",
    "\n",
    "# wandb.login(key ='41f703d2a27233965949ceec062860a34d822ed9')\n",
    "# W&B 초기화\n",
    "wandb.init(project=\"koelectra-multi-label-classification2\", entity=\"seongyeonkim\")\n",
    "\n",
    "# 데이터 로드\n",
    "df = train_data[['cleaned', 'label']]\n",
    "\n",
    "# KoElectra tokenizer 로드\n",
    "tokenizer = ElectraTokenizer.from_pretrained(\"monologg/koelectra-base-v3-discriminator\")\n",
    "\n",
    "# 토큰화 및 레이블 변환 함수 정의\n",
    "label_map = {\n",
    "    0: [1, 0, 0, 0, 0],\n",
    "    1: [0, 1, 0, 0, 0],\n",
    "    2: [0, 0, 1, 0, 0],\n",
    "    3: [0, 0, 0, 1, 0],\n",
    "    4: [0, 0, 0, 0, 1],\n",
    "    \n",
    "}"
   ],
   "id": "86651c9f66d9194b",
   "outputs": [
    {
     "name": "stderr",
     "output_type": "stream",
     "text": [
      "\u001B[34m\u001B[1mwandb\u001B[0m: Currently logged in as: \u001B[33mseongyeonkim\u001B[0m. Use \u001B[1m`wandb login --relogin`\u001B[0m to force relogin\n"
     ]
    },
    {
     "data": {
      "text/plain": [
       "<IPython.core.display.HTML object>"
      ],
      "text/html": [
       "wandb version 0.17.2 is available!  To upgrade, please run:\n",
       " $ pip install wandb --upgrade"
      ]
     },
     "metadata": {},
     "output_type": "display_data"
    },
    {
     "data": {
      "text/plain": [
       "<IPython.core.display.HTML object>"
      ],
      "text/html": [
       "Tracking run with wandb version 0.17.1"
      ]
     },
     "metadata": {},
     "output_type": "display_data"
    },
    {
     "data": {
      "text/plain": [
       "<IPython.core.display.HTML object>"
      ],
      "text/html": [
       "Run data is saved locally in <code>/Users/seongyeon/Desktop/AI/AIFFEL_STUDY/DLTHON/wandb/run-20240625_012935-qyl8x2aj</code>"
      ]
     },
     "metadata": {},
     "output_type": "display_data"
    },
    {
     "data": {
      "text/plain": [
       "<IPython.core.display.HTML object>"
      ],
      "text/html": [
       "Syncing run <strong><a href='https://wandb.ai/seongyeonkim/koelectra-multi-label-classification2/runs/qyl8x2aj' target=\"_blank\">different-night-1</a></strong> to <a href='https://wandb.ai/seongyeonkim/koelectra-multi-label-classification2' target=\"_blank\">Weights & Biases</a> (<a href='https://wandb.me/run' target=\"_blank\">docs</a>)<br/>"
      ]
     },
     "metadata": {},
     "output_type": "display_data"
    },
    {
     "data": {
      "text/plain": [
       "<IPython.core.display.HTML object>"
      ],
      "text/html": [
       " View project at <a href='https://wandb.ai/seongyeonkim/koelectra-multi-label-classification2' target=\"_blank\">https://wandb.ai/seongyeonkim/koelectra-multi-label-classification2</a>"
      ]
     },
     "metadata": {},
     "output_type": "display_data"
    },
    {
     "data": {
      "text/plain": [
       "<IPython.core.display.HTML object>"
      ],
      "text/html": [
       " View run at <a href='https://wandb.ai/seongyeonkim/koelectra-multi-label-classification2/runs/qyl8x2aj' target=\"_blank\">https://wandb.ai/seongyeonkim/koelectra-multi-label-classification2/runs/qyl8x2aj</a>"
      ]
     },
     "metadata": {},
     "output_type": "display_data"
    }
   ],
   "execution_count": 51
  },
  {
   "metadata": {
    "ExecuteTime": {
     "end_time": "2024-06-24T18:06:00.386519Z",
     "start_time": "2024-06-24T16:29:42.307883Z"
    }
   },
   "cell_type": "code",
   "source": [
    "class ViolenceDataset(Dataset):\n",
    "    def __init__(self, dataframe, tokenizer, max_length):\n",
    "        self.dataframe = dataframe\n",
    "        self.tokenizer = tokenizer\n",
    "        self.max_length = max_length\n",
    "\n",
    "    def __len__(self):\n",
    "        return len(self.dataframe)\n",
    "\n",
    "    def __getitem__(self, idx):\n",
    "        text = self.dataframe.iloc[idx, 0]\n",
    "        labels = self.dataframe.iloc[idx, 1]\n",
    "        labels = label_map[labels]\n",
    "        encoding = self.tokenizer.encode_plus(\n",
    "            text,\n",
    "            add_special_tokens=True,\n",
    "            max_length=self.max_length,\n",
    "            padding='max_length',\n",
    "            truncation=True,\n",
    "            return_tensors='pt'\n",
    "        )\n",
    "        input_ids = encoding['input_ids'].flatten()\n",
    "        attention_mask = encoding['attention_mask'].flatten()\n",
    "        \n",
    "        return {\n",
    "            'input_ids': input_ids,\n",
    "            'attention_mask': attention_mask,\n",
    "            'labels': torch.tensor(labels, dtype=torch.float)\n",
    "        }\n",
    "\n",
    "# 데이터셋 준비\n",
    "max_length = 128\n",
    "dataset = ViolenceDataset(df, tokenizer, max_length)\n",
    "dataloader = DataLoader(dataset, batch_size=16, shuffle=True)\n",
    "\n",
    "# 모델 정의\n",
    "class ElectraForMultiLabelClassification(nn.Module):\n",
    "    def __init__(self, model_name, num_labels):\n",
    "        super(ElectraForMultiLabelClassification, self).__init__()\n",
    "        self.electra = ElectraModel.from_pretrained(model_name)\n",
    "        self.classifier = nn.Linear(self.electra.config.hidden_size, num_labels)\n",
    "\n",
    "    def forward(self, input_ids, attention_mask):\n",
    "        outputs = self.electra(input_ids=input_ids, attention_mask=attention_mask)\n",
    "        sequence_output = outputs.last_hidden_state\n",
    "        pooled_output = sequence_output[:, 0, :]  # cls token\n",
    "        logits = self.classifier(pooled_output)\n",
    "        return logits\n",
    "\n",
    "model = ElectraForMultiLabelClassification(\"monologg/koelectra-base-v3-discriminator\", num_labels=4)\n",
    "criterion = nn.BCEWithLogitsLoss()\n",
    "optimizer = AdamW(model.parameters(), lr=1e-5)\n",
    "\n",
    "# W&B에 모델을 로깅할 수 있도록 W&B에 등록\n",
    "wandb.watch(model, log=\"all\")\n",
    "\n",
    "# 학습 루프\n",
    "model.train()\n",
    "for epoch in range(3):\n",
    "    all_preds = []\n",
    "    all_labels = []\n",
    "    for batch in dataloader:\n",
    "        input_ids = batch['input_ids']\n",
    "        attention_mask = batch['attention_mask']\n",
    "        labels = batch['labels']\n",
    "        \n",
    "        optimizer.zero_grad()\n",
    "        outputs = model(input_ids, attention_mask)\n",
    "        loss = criterion(outputs, labels)\n",
    "        loss.backward()\n",
    "        optimizer.step()\n",
    "        \n",
    "        preds = torch.sigmoid(outputs).detach().cpu().numpy()\n",
    "        labels = labels.detach().cpu().numpy()\n",
    "        \n",
    "        all_preds.append(preds)\n",
    "        all_labels.append(labels)\n",
    "        \n",
    "        wandb.log({\"epoch\": epoch + 1, \"loss\": loss.item()})\n",
    "        print(f\"Epoch {epoch+1}, Loss: {loss.item()}\")\n",
    "    \n",
    "    # 에포크당 F1 스코어 계산\n",
    "    all_preds = np.concatenate(all_preds, axis=0)\n",
    "    all_labels = np.concatenate(all_labels, axis=0)\n",
    "    f1 = f1_score(all_labels, (all_preds > 0.5).astype(int), average='micro')\n",
    "    \n",
    "    wandb.log({\"epoch\": epoch + 1, \"f1_score\": f1})\n",
    "    print(f\"Epoch {epoch+1}, F1 Score: {f1}\")"
   ],
   "id": "119da6e5e79789aa",
   "outputs": [
    {
     "name": "stderr",
     "output_type": "stream",
     "text": [
      "/opt/homebrew/Caskroom/miniforge/base/envs/DL-tf/lib/python3.8/site-packages/transformers/optimization.py:588: FutureWarning: This implementation of AdamW is deprecated and will be removed in a future version. Use the PyTorch implementation torch.optim.AdamW instead, or set `no_deprecation_warning=True` to disable this warning\n",
      "  warnings.warn(\n"
     ]
    },
    {
     "name": "stdout",
     "output_type": "stream",
     "text": [
      "Epoch 1, Loss: 0.7092340588569641\n",
      "Epoch 1, Loss: 0.674412727355957\n",
      "Epoch 1, Loss: 0.6787539124488831\n",
      "Epoch 1, Loss: 0.664097249507904\n",
      "Epoch 1, Loss: 0.6537759304046631\n",
      "Epoch 1, Loss: 0.6482159495353699\n",
      "Epoch 1, Loss: 0.6348261833190918\n",
      "Epoch 1, Loss: 0.6214024424552917\n",
      "Epoch 1, Loss: 0.6234560012817383\n",
      "Epoch 1, Loss: 0.6153024435043335\n",
      "Epoch 1, Loss: 0.6092960834503174\n",
      "Epoch 1, Loss: 0.590510368347168\n",
      "Epoch 1, Loss: 0.5863171815872192\n",
      "Epoch 1, Loss: 0.5901041030883789\n",
      "Epoch 1, Loss: 0.5662440061569214\n",
      "Epoch 1, Loss: 0.5758600234985352\n",
      "Epoch 1, Loss: 0.5777646899223328\n",
      "Epoch 1, Loss: 0.5810882449150085\n",
      "Epoch 1, Loss: 0.5637801885604858\n",
      "Epoch 1, Loss: 0.5592822432518005\n",
      "Epoch 1, Loss: 0.5383147597312927\n",
      "Epoch 1, Loss: 0.5299156904220581\n",
      "Epoch 1, Loss: 0.5404799580574036\n",
      "Epoch 1, Loss: 0.5335632562637329\n",
      "Epoch 1, Loss: 0.5130589008331299\n",
      "Epoch 1, Loss: 0.5311955809593201\n",
      "Epoch 1, Loss: 0.5127480030059814\n",
      "Epoch 1, Loss: 0.49044889211654663\n",
      "Epoch 1, Loss: 0.4889723062515259\n",
      "Epoch 1, Loss: 0.5358131527900696\n",
      "Epoch 1, Loss: 0.5275622606277466\n",
      "Epoch 1, Loss: 0.4564807713031769\n",
      "Epoch 1, Loss: 0.5187885761260986\n",
      "Epoch 1, Loss: 0.4870683252811432\n",
      "Epoch 1, Loss: 0.4921727776527405\n",
      "Epoch 1, Loss: 0.5311570167541504\n",
      "Epoch 1, Loss: 0.5206408500671387\n",
      "Epoch 1, Loss: 0.49789637327194214\n",
      "Epoch 1, Loss: 0.4765503406524658\n",
      "Epoch 1, Loss: 0.458189457654953\n",
      "Epoch 1, Loss: 0.49706268310546875\n",
      "Epoch 1, Loss: 0.4580593407154083\n",
      "Epoch 1, Loss: 0.47475457191467285\n",
      "Epoch 1, Loss: 0.4992687404155731\n",
      "Epoch 1, Loss: 0.48014897108078003\n",
      "Epoch 1, Loss: 0.5176670551300049\n",
      "Epoch 1, Loss: 0.5277613401412964\n",
      "Epoch 1, Loss: 0.4821523129940033\n",
      "Epoch 1, Loss: 0.4773310124874115\n",
      "Epoch 1, Loss: 0.4864289164543152\n",
      "Epoch 1, Loss: 0.4695678651332855\n",
      "Epoch 1, Loss: 0.4942958354949951\n",
      "Epoch 1, Loss: 0.5128502249717712\n",
      "Epoch 1, Loss: 0.49537891149520874\n",
      "Epoch 1, Loss: 0.4735659956932068\n",
      "Epoch 1, Loss: 0.5344351530075073\n",
      "Epoch 1, Loss: 0.49616947770118713\n",
      "Epoch 1, Loss: 0.5300043821334839\n",
      "Epoch 1, Loss: 0.45423072576522827\n",
      "Epoch 1, Loss: 0.5362244844436646\n",
      "Epoch 1, Loss: 0.4727535545825958\n",
      "Epoch 1, Loss: 0.4647109806537628\n",
      "Epoch 1, Loss: 0.460568904876709\n",
      "Epoch 1, Loss: 0.46040189266204834\n",
      "Epoch 1, Loss: 0.4901711344718933\n",
      "Epoch 1, Loss: 0.5217128992080688\n",
      "Epoch 1, Loss: 0.46704530715942383\n",
      "Epoch 1, Loss: 0.48977261781692505\n",
      "Epoch 1, Loss: 0.4696548581123352\n",
      "Epoch 1, Loss: 0.48265478014945984\n",
      "Epoch 1, Loss: 0.48494237661361694\n",
      "Epoch 1, Loss: 0.47070765495300293\n",
      "Epoch 1, Loss: 0.4507289528846741\n",
      "Epoch 1, Loss: 0.4842110872268677\n",
      "Epoch 1, Loss: 0.4315473735332489\n",
      "Epoch 1, Loss: 0.4809632897377014\n",
      "Epoch 1, Loss: 0.46163079142570496\n",
      "Epoch 1, Loss: 0.427545428276062\n",
      "Epoch 1, Loss: 0.44452396035194397\n",
      "Epoch 1, Loss: 0.4273354113101959\n",
      "Epoch 1, Loss: 0.43170732259750366\n",
      "Epoch 1, Loss: 0.4502182602882385\n",
      "Epoch 1, Loss: 0.40978819131851196\n",
      "Epoch 1, Loss: 0.4327544569969177\n",
      "Epoch 1, Loss: 0.43580782413482666\n",
      "Epoch 1, Loss: 0.40606433153152466\n",
      "Epoch 1, Loss: 0.42835792899131775\n",
      "Epoch 1, Loss: 0.40742263197898865\n",
      "Epoch 1, Loss: 0.43764179944992065\n",
      "Epoch 1, Loss: 0.39452260732650757\n",
      "Epoch 1, Loss: 0.3890264332294464\n",
      "Epoch 1, Loss: 0.43686962127685547\n",
      "Epoch 1, Loss: 0.455100417137146\n",
      "Epoch 1, Loss: 0.4313381314277649\n",
      "Epoch 1, Loss: 0.4136863052845001\n",
      "Epoch 1, Loss: 0.4512483477592468\n",
      "Epoch 1, Loss: 0.37879520654678345\n",
      "Epoch 1, Loss: 0.40612733364105225\n",
      "Epoch 1, Loss: 0.397569864988327\n",
      "Epoch 1, Loss: 0.385122686624527\n",
      "Epoch 1, Loss: 0.37932878732681274\n",
      "Epoch 1, Loss: 0.3621941804885864\n",
      "Epoch 1, Loss: 0.3834878206253052\n",
      "Epoch 1, Loss: 0.3390766978263855\n",
      "Epoch 1, Loss: 0.354672908782959\n",
      "Epoch 1, Loss: 0.31608831882476807\n",
      "Epoch 1, Loss: 0.46167221665382385\n",
      "Epoch 1, Loss: 0.3801826536655426\n",
      "Epoch 1, Loss: 0.37391242384910583\n",
      "Epoch 1, Loss: 0.35160374641418457\n",
      "Epoch 1, Loss: 0.3997860848903656\n",
      "Epoch 1, Loss: 0.36131128668785095\n",
      "Epoch 1, Loss: 0.31519633531570435\n",
      "Epoch 1, Loss: 0.44278275966644287\n",
      "Epoch 1, Loss: 0.3102714419364929\n",
      "Epoch 1, Loss: 0.395007461309433\n",
      "Epoch 1, Loss: 0.38764187693595886\n",
      "Epoch 1, Loss: 0.3449693024158478\n",
      "Epoch 1, Loss: 0.3901863694190979\n",
      "Epoch 1, Loss: 0.3361477255821228\n",
      "Epoch 1, Loss: 0.29317575693130493\n",
      "Epoch 1, Loss: 0.29492151737213135\n",
      "Epoch 1, Loss: 0.38011977076530457\n",
      "Epoch 1, Loss: 0.3545455038547516\n",
      "Epoch 1, Loss: 0.3639525771141052\n",
      "Epoch 1, Loss: 0.35326898097991943\n",
      "Epoch 1, Loss: 0.41526147723197937\n",
      "Epoch 1, Loss: 0.3111436665058136\n",
      "Epoch 1, Loss: 0.3056736886501312\n",
      "Epoch 1, Loss: 0.3297341763973236\n",
      "Epoch 1, Loss: 0.3285331726074219\n",
      "Epoch 1, Loss: 0.436186283826828\n",
      "Epoch 1, Loss: 0.33838674426078796\n",
      "Epoch 1, Loss: 0.37734588980674744\n",
      "Epoch 1, Loss: 0.30388113856315613\n",
      "Epoch 1, Loss: 0.3478512167930603\n",
      "Epoch 1, Loss: 0.3500267565250397\n",
      "Epoch 1, Loss: 0.36544662714004517\n",
      "Epoch 1, Loss: 0.32535719871520996\n",
      "Epoch 1, Loss: 0.3748617470264435\n",
      "Epoch 1, Loss: 0.27492138743400574\n",
      "Epoch 1, Loss: 0.34358301758766174\n",
      "Epoch 1, Loss: 0.32586634159088135\n",
      "Epoch 1, Loss: 0.3058353662490845\n",
      "Epoch 1, Loss: 0.29269570112228394\n",
      "Epoch 1, Loss: 0.28899818658828735\n",
      "Epoch 1, Loss: 0.31503716111183167\n",
      "Epoch 1, Loss: 0.28546959161758423\n",
      "Epoch 1, Loss: 0.38777101039886475\n",
      "Epoch 1, Loss: 0.3501577079296112\n",
      "Epoch 1, Loss: 0.31452253460884094\n",
      "Epoch 1, Loss: 0.2919614017009735\n",
      "Epoch 1, Loss: 0.33670681715011597\n",
      "Epoch 1, Loss: 0.31002846360206604\n",
      "Epoch 1, Loss: 0.3127939701080322\n",
      "Epoch 1, Loss: 0.2703254818916321\n",
      "Epoch 1, Loss: 0.29954662919044495\n",
      "Epoch 1, Loss: 0.3167533874511719\n",
      "Epoch 1, Loss: 0.29327619075775146\n",
      "Epoch 1, Loss: 0.27997082471847534\n",
      "Epoch 1, Loss: 0.3037146329879761\n",
      "Epoch 1, Loss: 0.3015724718570709\n",
      "Epoch 1, Loss: 0.2105318307876587\n",
      "Epoch 1, Loss: 0.2722894847393036\n",
      "Epoch 1, Loss: 0.29092109203338623\n",
      "Epoch 1, Loss: 0.31826499104499817\n",
      "Epoch 1, Loss: 0.3189004957675934\n",
      "Epoch 1, Loss: 0.27319493889808655\n",
      "Epoch 1, Loss: 0.27881625294685364\n",
      "Epoch 1, Loss: 0.24804288148880005\n",
      "Epoch 1, Loss: 0.2705681324005127\n",
      "Epoch 1, Loss: 0.2222568243741989\n",
      "Epoch 1, Loss: 0.2837453782558441\n",
      "Epoch 1, Loss: 0.3309072256088257\n",
      "Epoch 1, Loss: 0.2597311735153198\n",
      "Epoch 1, Loss: 0.29139092564582825\n",
      "Epoch 1, Loss: 0.2600223124027252\n",
      "Epoch 1, Loss: 0.28488239645957947\n",
      "Epoch 1, Loss: 0.21420305967330933\n",
      "Epoch 1, Loss: 0.1807354837656021\n",
      "Epoch 1, Loss: 0.3081628382205963\n",
      "Epoch 1, Loss: 0.24547016620635986\n",
      "Epoch 1, Loss: 0.31232017278671265\n",
      "Epoch 1, Loss: 0.25610533356666565\n",
      "Epoch 1, Loss: 0.26773470640182495\n",
      "Epoch 1, Loss: 0.23283076286315918\n",
      "Epoch 1, Loss: 0.2311238944530487\n",
      "Epoch 1, Loss: 0.17903003096580505\n",
      "Epoch 1, Loss: 0.25826796889305115\n",
      "Epoch 1, Loss: 0.25206708908081055\n",
      "Epoch 1, Loss: 0.18181267380714417\n",
      "Epoch 1, Loss: 0.21483784914016724\n",
      "Epoch 1, Loss: 0.26479876041412354\n",
      "Epoch 1, Loss: 0.23390328884124756\n",
      "Epoch 1, Loss: 0.28475987911224365\n",
      "Epoch 1, Loss: 0.2982300817966461\n",
      "Epoch 1, Loss: 0.21568962931632996\n",
      "Epoch 1, Loss: 0.21897822618484497\n",
      "Epoch 1, Loss: 0.2071595937013626\n",
      "Epoch 1, Loss: 0.25477275252342224\n",
      "Epoch 1, Loss: 0.2785508930683136\n",
      "Epoch 1, Loss: 0.23040977120399475\n",
      "Epoch 1, Loss: 0.3260560631752014\n",
      "Epoch 1, Loss: 0.21186362206935883\n",
      "Epoch 1, Loss: 0.17456838488578796\n",
      "Epoch 1, Loss: 0.2611495852470398\n",
      "Epoch 1, Loss: 0.3116530776023865\n",
      "Epoch 1, Loss: 0.3058184087276459\n",
      "Epoch 1, Loss: 0.18330511450767517\n",
      "Epoch 1, Loss: 0.22158488631248474\n",
      "Epoch 1, Loss: 0.35004788637161255\n",
      "Epoch 1, Loss: 0.3513690233230591\n",
      "Epoch 1, Loss: 0.19680771231651306\n",
      "Epoch 1, Loss: 0.29086270928382874\n",
      "Epoch 1, Loss: 0.24676668643951416\n",
      "Epoch 1, Loss: 0.2771136462688446\n",
      "Epoch 1, Loss: 0.21934378147125244\n",
      "Epoch 1, Loss: 0.18167731165885925\n",
      "Epoch 1, Loss: 0.21225303411483765\n",
      "Epoch 1, Loss: 0.20480741560459137\n",
      "Epoch 1, Loss: 0.27629026770591736\n",
      "Epoch 1, Loss: 0.2708912789821625\n",
      "Epoch 1, Loss: 0.21216443181037903\n",
      "Epoch 1, Loss: 0.2559005916118622\n",
      "Epoch 1, Loss: 0.167504221200943\n",
      "Epoch 1, Loss: 0.20810237526893616\n",
      "Epoch 1, Loss: 0.15026269853115082\n",
      "Epoch 1, Loss: 0.2216869294643402\n",
      "Epoch 1, Loss: 0.1657494753599167\n",
      "Epoch 1, Loss: 0.2888501286506653\n",
      "Epoch 1, Loss: 0.21999530494213104\n",
      "Epoch 1, Loss: 0.22816911339759827\n",
      "Epoch 1, Loss: 0.22448325157165527\n",
      "Epoch 1, Loss: 0.16088566184043884\n",
      "Epoch 1, Loss: 0.14324015378952026\n",
      "Epoch 1, Loss: 0.20587345957756042\n",
      "Epoch 1, Loss: 0.23165664076805115\n",
      "Epoch 1, Loss: 0.16988049447536469\n",
      "Epoch 1, Loss: 0.2138720005750656\n",
      "Epoch 1, Loss: 0.2329067587852478\n",
      "Epoch 1, Loss: 0.22685661911964417\n",
      "Epoch 1, Loss: 0.20631667971611023\n",
      "Epoch 1, Loss: 0.23054465651512146\n",
      "Epoch 1, Loss: 0.18245023488998413\n",
      "Epoch 1, Loss: 0.2015657126903534\n",
      "Epoch 1, Loss: 0.20048436522483826\n",
      "Epoch 1, Loss: 0.23659852147102356\n",
      "Epoch 1, Loss: 0.18906943500041962\n",
      "Epoch 1, Loss: 0.22455772757530212\n",
      "Epoch 1, Loss: 0.1690497100353241\n",
      "Epoch 1, Loss: 0.19429689645767212\n",
      "Epoch 1, Loss: 0.16609960794448853\n",
      "Epoch 1, Loss: 0.2464817762374878\n",
      "Epoch 1, Loss: 0.36906859278678894\n",
      "Epoch 1, Loss: 0.2377796471118927\n",
      "Epoch 1, Loss: 0.31866663694381714\n",
      "Epoch 1, Loss: 0.18975085020065308\n",
      "Epoch 1, Loss: 0.14328862726688385\n",
      "Epoch 1, Loss: 0.24510155618190765\n",
      "Epoch 1, Loss: 0.15499718487262726\n",
      "Epoch 1, Loss: 0.21415705978870392\n",
      "Epoch 1, Loss: 0.2072402685880661\n",
      "Epoch 1, Loss: 0.19285890460014343\n",
      "Epoch 1, Loss: 0.2321295440196991\n",
      "Epoch 1, Loss: 0.20174521207809448\n",
      "Epoch 1, Loss: 0.1731889694929123\n",
      "Epoch 1, Loss: 0.18170170485973358\n",
      "Epoch 1, Loss: 0.20075589418411255\n",
      "Epoch 1, Loss: 0.18155936896800995\n",
      "Epoch 1, Loss: 0.16935127973556519\n",
      "Epoch 1, Loss: 0.20549069344997406\n",
      "Epoch 1, Loss: 0.2117544412612915\n",
      "Epoch 1, Loss: 0.21564927697181702\n",
      "Epoch 1, Loss: 0.25007665157318115\n",
      "Epoch 1, Loss: 0.1636485904455185\n",
      "Epoch 1, Loss: 0.22528792917728424\n",
      "Epoch 1, Loss: 0.19874125719070435\n",
      "Epoch 1, Loss: 0.20173771679401398\n",
      "Epoch 1, Loss: 0.1649867296218872\n",
      "Epoch 1, Loss: 0.18513980507850647\n",
      "Epoch 1, Loss: 0.22337332367897034\n",
      "Epoch 1, Loss: 0.1349501758813858\n",
      "Epoch 1, Loss: 0.14350834488868713\n",
      "Epoch 1, Loss: 0.2863551080226898\n",
      "Epoch 1, Loss: 0.1572144478559494\n",
      "Epoch 1, Loss: 0.23916859924793243\n",
      "Epoch 1, Loss: 0.19922038912773132\n",
      "Epoch 1, Loss: 0.16426736116409302\n",
      "Epoch 1, Loss: 0.2456131875514984\n",
      "Epoch 1, Loss: 0.1917770355939865\n",
      "Epoch 1, Loss: 0.13896462321281433\n",
      "Epoch 1, Loss: 0.16704727709293365\n",
      "Epoch 1, Loss: 0.15065234899520874\n",
      "Epoch 1, Loss: 0.2735082507133484\n",
      "Epoch 1, Loss: 0.21158869564533234\n",
      "Epoch 1, Loss: 0.1497415155172348\n",
      "Epoch 1, Loss: 0.1705319583415985\n",
      "Epoch 1, Loss: 0.13126082718372345\n",
      "Epoch 1, Loss: 0.1970750093460083\n",
      "Epoch 1, Loss: 0.15042155981063843\n",
      "Epoch 1, Loss: 0.1805761754512787\n",
      "Epoch 1, Loss: 0.1206609457731247\n",
      "Epoch 1, Loss: 0.18685568869113922\n",
      "Epoch 1, Loss: 0.18825994431972504\n",
      "Epoch 1, Loss: 0.12614430487155914\n",
      "Epoch 1, Loss: 0.16992449760437012\n",
      "Epoch 1, Loss: 0.2879297137260437\n",
      "Epoch 1, Loss: 0.1451193392276764\n",
      "Epoch 1, Loss: 0.1667952537536621\n",
      "Epoch 1, Loss: 0.12280813604593277\n",
      "Epoch 1, F1 Score: 0.592317624273725\n",
      "Epoch 2, Loss: 0.15330322086811066\n",
      "Epoch 2, Loss: 0.13080660998821259\n",
      "Epoch 2, Loss: 0.19018429517745972\n",
      "Epoch 2, Loss: 0.12216167151927948\n",
      "Epoch 2, Loss: 0.1672637015581131\n",
      "Epoch 2, Loss: 0.24008552730083466\n",
      "Epoch 2, Loss: 0.2710617780685425\n",
      "Epoch 2, Loss: 0.1735978126525879\n",
      "Epoch 2, Loss: 0.2175033986568451\n",
      "Epoch 2, Loss: 0.20380721986293793\n",
      "Epoch 2, Loss: 0.10070577263832092\n",
      "Epoch 2, Loss: 0.1393435150384903\n",
      "Epoch 2, Loss: 0.1194014772772789\n",
      "Epoch 2, Loss: 0.13888655602931976\n",
      "Epoch 2, Loss: 0.2518061101436615\n",
      "Epoch 2, Loss: 0.22013334929943085\n",
      "Epoch 2, Loss: 0.1775580197572708\n",
      "Epoch 2, Loss: 0.15737959742546082\n",
      "Epoch 2, Loss: 0.16517598927021027\n",
      "Epoch 2, Loss: 0.14832086861133575\n",
      "Epoch 2, Loss: 0.16161514818668365\n",
      "Epoch 2, Loss: 0.18942278623580933\n",
      "Epoch 2, Loss: 0.13559657335281372\n",
      "Epoch 2, Loss: 0.13444961607456207\n",
      "Epoch 2, Loss: 0.13477425277233124\n",
      "Epoch 2, Loss: 0.16262173652648926\n",
      "Epoch 2, Loss: 0.12152230739593506\n",
      "Epoch 2, Loss: 0.120993971824646\n",
      "Epoch 2, Loss: 0.13271790742874146\n",
      "Epoch 2, Loss: 0.17473794519901276\n",
      "Epoch 2, Loss: 0.1384500414133072\n",
      "Epoch 2, Loss: 0.12455680221319199\n",
      "Epoch 2, Loss: 0.35615116357803345\n",
      "Epoch 2, Loss: 0.14949466288089752\n",
      "Epoch 2, Loss: 0.2220536470413208\n",
      "Epoch 2, Loss: 0.11683470010757446\n",
      "Epoch 2, Loss: 0.1319044828414917\n",
      "Epoch 2, Loss: 0.1627534031867981\n",
      "Epoch 2, Loss: 0.2511714696884155\n",
      "Epoch 2, Loss: 0.15558311343193054\n",
      "Epoch 2, Loss: 0.15092317759990692\n",
      "Epoch 2, Loss: 0.16542528569698334\n",
      "Epoch 2, Loss: 0.11782324314117432\n",
      "Epoch 2, Loss: 0.11034026741981506\n",
      "Epoch 2, Loss: 0.11926551163196564\n",
      "Epoch 2, Loss: 0.15224714577198029\n",
      "Epoch 2, Loss: 0.1628093719482422\n",
      "Epoch 2, Loss: 0.19781623780727386\n",
      "Epoch 2, Loss: 0.21710307896137238\n",
      "Epoch 2, Loss: 0.12453173100948334\n",
      "Epoch 2, Loss: 0.11468745023012161\n",
      "Epoch 2, Loss: 0.13590046763420105\n",
      "Epoch 2, Loss: 0.12241100519895554\n",
      "Epoch 2, Loss: 0.13489656150341034\n",
      "Epoch 2, Loss: 0.09363524615764618\n",
      "Epoch 2, Loss: 0.09322679042816162\n",
      "Epoch 2, Loss: 0.10388628393411636\n",
      "Epoch 2, Loss: 0.17616884410381317\n",
      "Epoch 2, Loss: 0.15293315052986145\n",
      "Epoch 2, Loss: 0.1427849531173706\n",
      "Epoch 2, Loss: 0.14865687489509583\n",
      "Epoch 2, Loss: 0.16049498319625854\n",
      "Epoch 2, Loss: 0.1541936993598938\n",
      "Epoch 2, Loss: 0.21350061893463135\n",
      "Epoch 2, Loss: 0.21750904619693756\n",
      "Epoch 2, Loss: 0.1982157975435257\n",
      "Epoch 2, Loss: 0.13157449662685394\n",
      "Epoch 2, Loss: 0.09763827919960022\n",
      "Epoch 2, Loss: 0.17753873765468597\n",
      "Epoch 2, Loss: 0.13076791167259216\n",
      "Epoch 2, Loss: 0.18936511874198914\n",
      "Epoch 2, Loss: 0.12486956268548965\n",
      "Epoch 2, Loss: 0.15284189581871033\n",
      "Epoch 2, Loss: 0.12584412097930908\n",
      "Epoch 2, Loss: 0.1484398990869522\n",
      "Epoch 2, Loss: 0.20879346132278442\n",
      "Epoch 2, Loss: 0.09622034430503845\n",
      "Epoch 2, Loss: 0.12048496305942535\n",
      "Epoch 2, Loss: 0.13970597088336945\n",
      "Epoch 2, Loss: 0.15001413226127625\n",
      "Epoch 2, Loss: 0.15669956803321838\n",
      "Epoch 2, Loss: 0.1671174317598343\n",
      "Epoch 2, Loss: 0.16093093156814575\n",
      "Epoch 2, Loss: 0.16391350328922272\n",
      "Epoch 2, Loss: 0.3036903440952301\n",
      "Epoch 2, Loss: 0.0906839668750763\n",
      "Epoch 2, Loss: 0.1302390694618225\n",
      "Epoch 2, Loss: 0.12992990016937256\n",
      "Epoch 2, Loss: 0.11416582763195038\n",
      "Epoch 2, Loss: 0.232670396566391\n",
      "Epoch 2, Loss: 0.10976163297891617\n",
      "Epoch 2, Loss: 0.14103522896766663\n",
      "Epoch 2, Loss: 0.11774131655693054\n",
      "Epoch 2, Loss: 0.09476855397224426\n",
      "Epoch 2, Loss: 0.12266048789024353\n",
      "Epoch 2, Loss: 0.11197696626186371\n",
      "Epoch 2, Loss: 0.1326408088207245\n",
      "Epoch 2, Loss: 0.1581316441297531\n",
      "Epoch 2, Loss: 0.16475588083267212\n",
      "Epoch 2, Loss: 0.2284075915813446\n",
      "Epoch 2, Loss: 0.15298712253570557\n",
      "Epoch 2, Loss: 0.15653517842292786\n",
      "Epoch 2, Loss: 0.08282417058944702\n",
      "Epoch 2, Loss: 0.14736488461494446\n",
      "Epoch 2, Loss: 0.17452652752399445\n",
      "Epoch 2, Loss: 0.08809182047843933\n",
      "Epoch 2, Loss: 0.13585887849330902\n",
      "Epoch 2, Loss: 0.16611367464065552\n",
      "Epoch 2, Loss: 0.12693753838539124\n",
      "Epoch 2, Loss: 0.11160612106323242\n",
      "Epoch 2, Loss: 0.14676259458065033\n",
      "Epoch 2, Loss: 0.1193430945277214\n",
      "Epoch 2, Loss: 0.13916432857513428\n",
      "Epoch 2, Loss: 0.10395951569080353\n",
      "Epoch 2, Loss: 0.15725354850292206\n",
      "Epoch 2, Loss: 0.19455420970916748\n",
      "Epoch 2, Loss: 0.13705506920814514\n",
      "Epoch 2, Loss: 0.18492266535758972\n",
      "Epoch 2, Loss: 0.11823825538158417\n",
      "Epoch 2, Loss: 0.13005414605140686\n",
      "Epoch 2, Loss: 0.10196922719478607\n",
      "Epoch 2, Loss: 0.3046492636203766\n",
      "Epoch 2, Loss: 0.21473078429698944\n",
      "Epoch 2, Loss: 0.11306948214769363\n",
      "Epoch 2, Loss: 0.15632352232933044\n",
      "Epoch 2, Loss: 0.08734094351530075\n",
      "Epoch 2, Loss: 0.23096857964992523\n",
      "Epoch 2, Loss: 0.11009543389081955\n",
      "Epoch 2, Loss: 0.07923255860805511\n",
      "Epoch 2, Loss: 0.1741531491279602\n",
      "Epoch 2, Loss: 0.1690790057182312\n",
      "Epoch 2, Loss: 0.10714301466941833\n",
      "Epoch 2, Loss: 0.2922405004501343\n",
      "Epoch 2, Loss: 0.24946486949920654\n",
      "Epoch 2, Loss: 0.1379985809326172\n",
      "Epoch 2, Loss: 0.09361625462770462\n",
      "Epoch 2, Loss: 0.1253223568201065\n",
      "Epoch 2, Loss: 0.0920378789305687\n",
      "Epoch 2, Loss: 0.15255112946033478\n",
      "Epoch 2, Loss: 0.10829976201057434\n",
      "Epoch 2, Loss: 0.10082599520683289\n",
      "Epoch 2, Loss: 0.15334758162498474\n",
      "Epoch 2, Loss: 0.15707120299339294\n",
      "Epoch 2, Loss: 0.12938596308231354\n",
      "Epoch 2, Loss: 0.09548577666282654\n",
      "Epoch 2, Loss: 0.13194063305854797\n",
      "Epoch 2, Loss: 0.16409525275230408\n",
      "Epoch 2, Loss: 0.15273258090019226\n",
      "Epoch 2, Loss: 0.08043742924928665\n",
      "Epoch 2, Loss: 0.13466329872608185\n",
      "Epoch 2, Loss: 0.13992811739444733\n",
      "Epoch 2, Loss: 0.08930318057537079\n",
      "Epoch 2, Loss: 0.1564093381166458\n",
      "Epoch 2, Loss: 0.16672678291797638\n",
      "Epoch 2, Loss: 0.0978410467505455\n",
      "Epoch 2, Loss: 0.11480232328176498\n",
      "Epoch 2, Loss: 0.12736782431602478\n",
      "Epoch 2, Loss: 0.11761890351772308\n",
      "Epoch 2, Loss: 0.17676296830177307\n",
      "Epoch 2, Loss: 0.10110019147396088\n",
      "Epoch 2, Loss: 0.16929638385772705\n",
      "Epoch 2, Loss: 0.1082368791103363\n",
      "Epoch 2, Loss: 0.1068124994635582\n",
      "Epoch 2, Loss: 0.17549915611743927\n",
      "Epoch 2, Loss: 0.101128488779068\n",
      "Epoch 2, Loss: 0.12889517843723297\n",
      "Epoch 2, Loss: 0.12478838860988617\n",
      "Epoch 2, Loss: 0.18331564962863922\n",
      "Epoch 2, Loss: 0.10634135454893112\n",
      "Epoch 2, Loss: 0.10630665719509125\n",
      "Epoch 2, Loss: 0.1729395091533661\n",
      "Epoch 2, Loss: 0.09219468384981155\n",
      "Epoch 2, Loss: 0.12377844750881195\n",
      "Epoch 2, Loss: 0.2643444240093231\n",
      "Epoch 2, Loss: 0.09377818554639816\n",
      "Epoch 2, Loss: 0.1117042675614357\n",
      "Epoch 2, Loss: 0.17545248568058014\n",
      "Epoch 2, Loss: 0.12951676547527313\n",
      "Epoch 2, Loss: 0.12975303828716278\n",
      "Epoch 2, Loss: 0.08951245993375778\n",
      "Epoch 2, Loss: 0.10100193321704865\n",
      "Epoch 2, Loss: 0.09791895747184753\n",
      "Epoch 2, Loss: 0.09824179112911224\n",
      "Epoch 2, Loss: 0.09910494834184647\n",
      "Epoch 2, Loss: 0.08816614001989365\n",
      "Epoch 2, Loss: 0.08364667743444443\n",
      "Epoch 2, Loss: 0.09129199385643005\n",
      "Epoch 2, Loss: 0.19911035895347595\n",
      "Epoch 2, Loss: 0.20425353944301605\n",
      "Epoch 2, Loss: 0.09719473868608475\n",
      "Epoch 2, Loss: 0.14907129108905792\n",
      "Epoch 2, Loss: 0.08971055597066879\n",
      "Epoch 2, Loss: 0.1525464504957199\n",
      "Epoch 2, Loss: 0.07201449573040009\n",
      "Epoch 2, Loss: 0.10355988889932632\n",
      "Epoch 2, Loss: 0.18233941495418549\n",
      "Epoch 2, Loss: 0.14150188863277435\n",
      "Epoch 2, Loss: 0.1656864732503891\n",
      "Epoch 2, Loss: 0.15230727195739746\n",
      "Epoch 2, Loss: 0.10190851241350174\n",
      "Epoch 2, Loss: 0.13402099907398224\n",
      "Epoch 2, Loss: 0.13174878060817719\n",
      "Epoch 2, Loss: 0.09387296438217163\n",
      "Epoch 2, Loss: 0.13172373175621033\n",
      "Epoch 2, Loss: 0.13287247717380524\n",
      "Epoch 2, Loss: 0.08852675557136536\n",
      "Epoch 2, Loss: 0.0749502182006836\n",
      "Epoch 2, Loss: 0.12128841876983643\n",
      "Epoch 2, Loss: 0.13765797019004822\n",
      "Epoch 2, Loss: 0.10408473014831543\n",
      "Epoch 2, Loss: 0.08812559396028519\n",
      "Epoch 2, Loss: 0.14167098701000214\n",
      "Epoch 2, Loss: 0.1626524031162262\n",
      "Epoch 2, Loss: 0.07354500889778137\n",
      "Epoch 2, Loss: 0.08483351022005081\n",
      "Epoch 2, Loss: 0.1042061373591423\n",
      "Epoch 2, Loss: 0.13517752289772034\n",
      "Epoch 2, Loss: 0.0752478688955307\n",
      "Epoch 2, Loss: 0.11882242560386658\n",
      "Epoch 2, Loss: 0.1963951587677002\n",
      "Epoch 2, Loss: 0.18630266189575195\n",
      "Epoch 2, Loss: 0.15166163444519043\n",
      "Epoch 2, Loss: 0.13502298295497894\n",
      "Epoch 2, Loss: 0.0929601788520813\n",
      "Epoch 2, Loss: 0.12226232886314392\n",
      "Epoch 2, Loss: 0.09811246395111084\n",
      "Epoch 2, Loss: 0.08996891230344772\n",
      "Epoch 2, Loss: 0.07356778532266617\n",
      "Epoch 2, Loss: 0.14800818264484406\n",
      "Epoch 2, Loss: 0.11856783181428909\n",
      "Epoch 2, Loss: 0.14565864205360413\n",
      "Epoch 2, Loss: 0.2758141756057739\n",
      "Epoch 2, Loss: 0.18054555356502533\n",
      "Epoch 2, Loss: 0.08537007123231888\n",
      "Epoch 2, Loss: 0.11280114948749542\n",
      "Epoch 2, Loss: 0.16050100326538086\n",
      "Epoch 2, Loss: 0.07543681561946869\n",
      "Epoch 2, Loss: 0.1209220141172409\n",
      "Epoch 2, Loss: 0.11989057064056396\n",
      "Epoch 2, Loss: 0.1864190548658371\n",
      "Epoch 2, Loss: 0.09737449884414673\n",
      "Epoch 2, Loss: 0.2682173252105713\n",
      "Epoch 2, Loss: 0.16632598638534546\n",
      "Epoch 2, Loss: 0.12307783216238022\n",
      "Epoch 2, Loss: 0.0816882848739624\n",
      "Epoch 2, Loss: 0.22014935314655304\n",
      "Epoch 2, Loss: 0.09903714805841446\n",
      "Epoch 2, Loss: 0.16376551985740662\n",
      "Epoch 2, Loss: 0.10083325207233429\n",
      "Epoch 2, Loss: 0.12956801056861877\n",
      "Epoch 2, Loss: 0.09831108152866364\n",
      "Epoch 2, Loss: 0.1381513625383377\n",
      "Epoch 2, Loss: 0.11649752408266068\n",
      "Epoch 2, Loss: 0.12074457108974457\n",
      "Epoch 2, Loss: 0.12058227509260178\n",
      "Epoch 2, Loss: 0.0804952010512352\n",
      "Epoch 2, Loss: 0.09675420820713043\n",
      "Epoch 2, Loss: 0.17879992723464966\n",
      "Epoch 2, Loss: 0.22629483044147491\n",
      "Epoch 2, Loss: 0.08687753230333328\n",
      "Epoch 2, Loss: 0.16642531752586365\n",
      "Epoch 2, Loss: 0.09529189765453339\n",
      "Epoch 2, Loss: 0.1488630473613739\n",
      "Epoch 2, Loss: 0.14480775594711304\n",
      "Epoch 2, Loss: 0.15155357122421265\n",
      "Epoch 2, Loss: 0.21860505640506744\n",
      "Epoch 2, Loss: 0.09262824058532715\n",
      "Epoch 2, Loss: 0.24384599924087524\n",
      "Epoch 2, Loss: 0.1727937012910843\n",
      "Epoch 2, Loss: 0.07937552034854889\n",
      "Epoch 2, Loss: 0.16528058052062988\n",
      "Epoch 2, Loss: 0.1820974051952362\n",
      "Epoch 2, Loss: 0.10353270918130875\n",
      "Epoch 2, Loss: 0.21600517630577087\n",
      "Epoch 2, Loss: 0.12523990869522095\n",
      "Epoch 2, Loss: 0.1271492838859558\n",
      "Epoch 2, Loss: 0.09979873150587082\n",
      "Epoch 2, Loss: 0.10508998483419418\n",
      "Epoch 2, Loss: 0.21281462907791138\n",
      "Epoch 2, Loss: 0.13434278964996338\n",
      "Epoch 2, Loss: 0.06432792544364929\n",
      "Epoch 2, Loss: 0.2958546578884125\n",
      "Epoch 2, Loss: 0.15351583063602448\n",
      "Epoch 2, Loss: 0.18844936788082123\n",
      "Epoch 2, Loss: 0.2664511203765869\n",
      "Epoch 2, Loss: 0.1570005565881729\n",
      "Epoch 2, Loss: 0.09970080107450485\n",
      "Epoch 2, Loss: 0.08928589522838593\n",
      "Epoch 2, Loss: 0.07351705431938171\n",
      "Epoch 2, Loss: 0.07360538095235825\n",
      "Epoch 2, Loss: 0.2105216383934021\n",
      "Epoch 2, Loss: 0.1338476836681366\n",
      "Epoch 2, Loss: 0.11014651507139206\n",
      "Epoch 2, Loss: 0.1433764547109604\n",
      "Epoch 2, Loss: 0.11813221871852875\n",
      "Epoch 2, Loss: 0.09277047216892242\n",
      "Epoch 2, Loss: 0.17382332682609558\n",
      "Epoch 2, Loss: 0.1469661295413971\n",
      "Epoch 2, Loss: 0.13019916415214539\n",
      "Epoch 2, Loss: 0.17816369235515594\n",
      "Epoch 2, Loss: 0.08464299887418747\n",
      "Epoch 2, Loss: 0.17356964945793152\n",
      "Epoch 2, Loss: 0.17602628469467163\n",
      "Epoch 2, Loss: 0.06759655475616455\n",
      "Epoch 2, Loss: 0.07534146308898926\n",
      "Epoch 2, Loss: 0.26049819588661194\n",
      "Epoch 2, Loss: 0.08216559141874313\n",
      "Epoch 2, Loss: 0.20145997405052185\n",
      "Epoch 2, Loss: 0.08197975903749466\n",
      "Epoch 2, Loss: 0.06741020828485489\n",
      "Epoch 2, F1 Score: 0.9055992018954981\n",
      "Epoch 3, Loss: 0.11845503002405167\n",
      "Epoch 3, Loss: 0.16904400289058685\n",
      "Epoch 3, Loss: 0.12878605723381042\n",
      "Epoch 3, Loss: 0.06400200724601746\n",
      "Epoch 3, Loss: 0.08274897933006287\n",
      "Epoch 3, Loss: 0.14053091406822205\n",
      "Epoch 3, Loss: 0.0626593753695488\n",
      "Epoch 3, Loss: 0.07447567582130432\n",
      "Epoch 3, Loss: 0.1280890554189682\n",
      "Epoch 3, Loss: 0.06972356885671616\n",
      "Epoch 3, Loss: 0.12657710909843445\n",
      "Epoch 3, Loss: 0.11902976781129837\n",
      "Epoch 3, Loss: 0.10453610122203827\n",
      "Epoch 3, Loss: 0.07388108968734741\n",
      "Epoch 3, Loss: 0.08753626048564911\n",
      "Epoch 3, Loss: 0.09311041235923767\n",
      "Epoch 3, Loss: 0.07585985958576202\n",
      "Epoch 3, Loss: 0.07584250718355179\n",
      "Epoch 3, Loss: 0.06966309249401093\n",
      "Epoch 3, Loss: 0.08134987950325012\n",
      "Epoch 3, Loss: 0.15117546916007996\n",
      "Epoch 3, Loss: 0.13279223442077637\n",
      "Epoch 3, Loss: 0.1346283257007599\n",
      "Epoch 3, Loss: 0.08560411632061005\n",
      "Epoch 3, Loss: 0.10488805174827576\n",
      "Epoch 3, Loss: 0.12947236001491547\n",
      "Epoch 3, Loss: 0.06498456746339798\n",
      "Epoch 3, Loss: 0.06374134123325348\n",
      "Epoch 3, Loss: 0.08243124186992645\n",
      "Epoch 3, Loss: 0.10316244512796402\n",
      "Epoch 3, Loss: 0.09235028922557831\n",
      "Epoch 3, Loss: 0.08433409035205841\n",
      "Epoch 3, Loss: 0.0907321646809578\n",
      "Epoch 3, Loss: 0.12434950470924377\n",
      "Epoch 3, Loss: 0.18174412846565247\n",
      "Epoch 3, Loss: 0.06462780386209488\n",
      "Epoch 3, Loss: 0.1193297952413559\n",
      "Epoch 3, Loss: 0.1946861892938614\n",
      "Epoch 3, Loss: 0.17869603633880615\n",
      "Epoch 3, Loss: 0.05663228780031204\n",
      "Epoch 3, Loss: 0.06050758436322212\n",
      "Epoch 3, Loss: 0.08193954080343246\n",
      "Epoch 3, Loss: 0.16846290230751038\n",
      "Epoch 3, Loss: 0.07488454878330231\n",
      "Epoch 3, Loss: 0.06215682625770569\n",
      "Epoch 3, Loss: 0.12923671305179596\n",
      "Epoch 3, Loss: 0.08811978250741959\n",
      "Epoch 3, Loss: 0.1420922875404358\n",
      "Epoch 3, Loss: 0.06514592468738556\n",
      "Epoch 3, Loss: 0.07633406668901443\n",
      "Epoch 3, Loss: 0.13759246468544006\n",
      "Epoch 3, Loss: 0.10860267281532288\n",
      "Epoch 3, Loss: 0.09325642883777618\n",
      "Epoch 3, Loss: 0.17755812406539917\n",
      "Epoch 3, Loss: 0.13074268400669098\n",
      "Epoch 3, Loss: 0.14647971093654633\n",
      "Epoch 3, Loss: 0.08829156309366226\n",
      "Epoch 3, Loss: 0.1132269948720932\n",
      "Epoch 3, Loss: 0.08714848011732101\n",
      "Epoch 3, Loss: 0.06437936425209045\n",
      "Epoch 3, Loss: 0.0571783110499382\n",
      "Epoch 3, Loss: 0.07772018015384674\n",
      "Epoch 3, Loss: 0.0777488648891449\n",
      "Epoch 3, Loss: 0.11037734895944595\n",
      "Epoch 3, Loss: 0.08288867026567459\n",
      "Epoch 3, Loss: 0.0789223238825798\n",
      "Epoch 3, Loss: 0.07973532378673553\n",
      "Epoch 3, Loss: 0.08791612088680267\n",
      "Epoch 3, Loss: 0.11804337054491043\n",
      "Epoch 3, Loss: 0.0587758906185627\n",
      "Epoch 3, Loss: 0.10862709581851959\n",
      "Epoch 3, Loss: 0.07732847332954407\n",
      "Epoch 3, Loss: 0.23855358362197876\n",
      "Epoch 3, Loss: 0.08492107689380646\n",
      "Epoch 3, Loss: 0.06178760901093483\n",
      "Epoch 3, Loss: 0.058570414781570435\n",
      "Epoch 3, Loss: 0.09597473591566086\n",
      "Epoch 3, Loss: 0.10212208330631256\n",
      "Epoch 3, Loss: 0.1551567018032074\n",
      "Epoch 3, Loss: 0.11852546036243439\n",
      "Epoch 3, Loss: 0.09314017742872238\n",
      "Epoch 3, Loss: 0.05897457152605057\n",
      "Epoch 3, Loss: 0.1523202657699585\n",
      "Epoch 3, Loss: 0.10989636927843094\n",
      "Epoch 3, Loss: 0.16591130197048187\n",
      "Epoch 3, Loss: 0.11910867691040039\n",
      "Epoch 3, Loss: 0.10000653564929962\n",
      "Epoch 3, Loss: 0.057577524334192276\n",
      "Epoch 3, Loss: 0.16579852998256683\n",
      "Epoch 3, Loss: 0.06837810575962067\n",
      "Epoch 3, Loss: 0.053116779774427414\n",
      "Epoch 3, Loss: 0.1656143069267273\n",
      "Epoch 3, Loss: 0.10094662010669708\n",
      "Epoch 3, Loss: 0.0754891112446785\n",
      "Epoch 3, Loss: 0.058980826288461685\n",
      "Epoch 3, Loss: 0.07742523401975632\n",
      "Epoch 3, Loss: 0.09282498806715012\n",
      "Epoch 3, Loss: 0.054349515587091446\n",
      "Epoch 3, Loss: 0.11119384318590164\n",
      "Epoch 3, Loss: 0.18303796648979187\n",
      "Epoch 3, Loss: 0.06377674639225006\n",
      "Epoch 3, Loss: 0.08461252599954605\n",
      "Epoch 3, Loss: 0.06532883644104004\n",
      "Epoch 3, Loss: 0.053893815726041794\n",
      "Epoch 3, Loss: 0.05372001603245735\n",
      "Epoch 3, Loss: 0.17205862700939178\n",
      "Epoch 3, Loss: 0.14986510574817657\n",
      "Epoch 3, Loss: 0.09413152188062668\n",
      "Epoch 3, Loss: 0.07672123610973358\n",
      "Epoch 3, Loss: 0.12001489847898483\n",
      "Epoch 3, Loss: 0.05826445296406746\n",
      "Epoch 3, Loss: 0.13309574127197266\n",
      "Epoch 3, Loss: 0.06821152567863464\n",
      "Epoch 3, Loss: 0.07044748961925507\n",
      "Epoch 3, Loss: 0.08690044283866882\n",
      "Epoch 3, Loss: 0.059390053153038025\n",
      "Epoch 3, Loss: 0.0546921044588089\n",
      "Epoch 3, Loss: 0.12776575982570648\n",
      "Epoch 3, Loss: 0.1393492966890335\n",
      "Epoch 3, Loss: 0.14036431908607483\n",
      "Epoch 3, Loss: 0.18574108183383942\n",
      "Epoch 3, Loss: 0.1789994090795517\n",
      "Epoch 3, Loss: 0.08541321754455566\n",
      "Epoch 3, Loss: 0.08529946208000183\n",
      "Epoch 3, Loss: 0.11379173398017883\n",
      "Epoch 3, Loss: 0.0856374204158783\n",
      "Epoch 3, Loss: 0.060110822319984436\n",
      "Epoch 3, Loss: 0.054061323404312134\n",
      "Epoch 3, Loss: 0.10902740806341171\n",
      "Epoch 3, Loss: 0.08531448990106583\n",
      "Epoch 3, Loss: 0.1363709419965744\n",
      "Epoch 3, Loss: 0.07669973373413086\n",
      "Epoch 3, Loss: 0.11045454442501068\n",
      "Epoch 3, Loss: 0.09583740681409836\n",
      "Epoch 3, Loss: 0.13572850823402405\n",
      "Epoch 3, Loss: 0.17219138145446777\n",
      "Epoch 3, Loss: 0.1653236299753189\n",
      "Epoch 3, Loss: 0.06972970068454742\n",
      "Epoch 3, Loss: 0.1381581574678421\n",
      "Epoch 3, Loss: 0.07700205594301224\n",
      "Epoch 3, Loss: 0.13709409534931183\n",
      "Epoch 3, Loss: 0.05688601732254028\n",
      "Epoch 3, Loss: 0.12656043469905853\n",
      "Epoch 3, Loss: 0.09260855615139008\n",
      "Epoch 3, Loss: 0.055943164974451065\n",
      "Epoch 3, Loss: 0.07625558227300644\n",
      "Epoch 3, Loss: 0.09494976699352264\n",
      "Epoch 3, Loss: 0.07364024221897125\n",
      "Epoch 3, Loss: 0.0700020119547844\n",
      "Epoch 3, Loss: 0.24576900899410248\n",
      "Epoch 3, Loss: 0.0500936433672905\n",
      "Epoch 3, Loss: 0.10402510315179825\n",
      "Epoch 3, Loss: 0.05637534335255623\n",
      "Epoch 3, Loss: 0.1257474273443222\n",
      "Epoch 3, Loss: 0.10378309339284897\n",
      "Epoch 3, Loss: 0.09119774401187897\n",
      "Epoch 3, Loss: 0.15514394640922546\n",
      "Epoch 3, Loss: 0.05096554011106491\n",
      "Epoch 3, Loss: 0.06284365803003311\n",
      "Epoch 3, Loss: 0.13290424644947052\n",
      "Epoch 3, Loss: 0.08050094544887543\n",
      "Epoch 3, Loss: 0.09852338582277298\n",
      "Epoch 3, Loss: 0.06562662124633789\n",
      "Epoch 3, Loss: 0.0613684207201004\n",
      "Epoch 3, Loss: 0.0621829628944397\n",
      "Epoch 3, Loss: 0.11152703315019608\n",
      "Epoch 3, Loss: 0.05778660625219345\n",
      "Epoch 3, Loss: 0.06115026772022247\n",
      "Epoch 3, Loss: 0.05626918002963066\n",
      "Epoch 3, Loss: 0.1616072803735733\n",
      "Epoch 3, Loss: 0.09949218481779099\n",
      "Epoch 3, Loss: 0.09618266671895981\n",
      "Epoch 3, Loss: 0.097555972635746\n",
      "Epoch 3, Loss: 0.13499575853347778\n",
      "Epoch 3, Loss: 0.18655404448509216\n",
      "Epoch 3, Loss: 0.0686541274189949\n",
      "Epoch 3, Loss: 0.10234986245632172\n",
      "Epoch 3, Loss: 0.05304604396224022\n",
      "Epoch 3, Loss: 0.061073046177625656\n",
      "Epoch 3, Loss: 0.05684545263648033\n",
      "Epoch 3, Loss: 0.13840581476688385\n",
      "Epoch 3, Loss: 0.129948690533638\n",
      "Epoch 3, Loss: 0.07893981784582138\n",
      "Epoch 3, Loss: 0.11798075586557388\n",
      "Epoch 3, Loss: 0.06697025150060654\n",
      "Epoch 3, Loss: 0.05902717635035515\n",
      "Epoch 3, Loss: 0.1009620875120163\n",
      "Epoch 3, Loss: 0.07729345560073853\n",
      "Epoch 3, Loss: 0.26609498262405396\n",
      "Epoch 3, Loss: 0.10542036592960358\n",
      "Epoch 3, Loss: 0.08013623207807541\n",
      "Epoch 3, Loss: 0.2205519676208496\n",
      "Epoch 3, Loss: 0.09233386814594269\n",
      "Epoch 3, Loss: 0.06283794343471527\n",
      "Epoch 3, Loss: 0.14887580275535583\n",
      "Epoch 3, Loss: 0.10884270071983337\n",
      "Epoch 3, Loss: 0.08283598721027374\n",
      "Epoch 3, Loss: 0.08491183817386627\n",
      "Epoch 3, Loss: 0.1012202650308609\n",
      "Epoch 3, Loss: 0.11977001279592514\n",
      "Epoch 3, Loss: 0.1223067194223404\n",
      "Epoch 3, Loss: 0.1511445939540863\n",
      "Epoch 3, Loss: 0.10072825849056244\n",
      "Epoch 3, Loss: 0.08574603497982025\n",
      "Epoch 3, Loss: 0.06351083517074585\n",
      "Epoch 3, Loss: 0.19718559086322784\n",
      "Epoch 3, Loss: 0.09998243302106857\n",
      "Epoch 3, Loss: 0.1499733328819275\n",
      "Epoch 3, Loss: 0.047045573592185974\n",
      "Epoch 3, Loss: 0.060492146760225296\n",
      "Epoch 3, Loss: 0.150203138589859\n",
      "Epoch 3, Loss: 0.049735840409994125\n",
      "Epoch 3, Loss: 0.07284431904554367\n",
      "Epoch 3, Loss: 0.08538112789392471\n",
      "Epoch 3, Loss: 0.09494566917419434\n",
      "Epoch 3, Loss: 0.05096612498164177\n",
      "Epoch 3, Loss: 0.1451859027147293\n",
      "Epoch 3, Loss: 0.06725089997053146\n",
      "Epoch 3, Loss: 0.10935841500759125\n",
      "Epoch 3, Loss: 0.06660780310630798\n",
      "Epoch 3, Loss: 0.13822554051876068\n",
      "Epoch 3, Loss: 0.08928225934505463\n",
      "Epoch 3, Loss: 0.12848514318466187\n",
      "Epoch 3, Loss: 0.07298921793699265\n",
      "Epoch 3, Loss: 0.08703687787055969\n",
      "Epoch 3, Loss: 0.04436207562685013\n",
      "Epoch 3, Loss: 0.08718721568584442\n",
      "Epoch 3, Loss: 0.20695339143276215\n",
      "Epoch 3, Loss: 0.046929981559515\n",
      "Epoch 3, Loss: 0.1176278293132782\n",
      "Epoch 3, Loss: 0.050341345369815826\n",
      "Epoch 3, Loss: 0.06326115131378174\n",
      "Epoch 3, Loss: 0.08293632417917252\n",
      "Epoch 3, Loss: 0.19233113527297974\n",
      "Epoch 3, Loss: 0.23950384557247162\n",
      "Epoch 3, Loss: 0.10315455496311188\n",
      "Epoch 3, Loss: 0.12430521845817566\n",
      "Epoch 3, Loss: 0.15526415407657623\n",
      "Epoch 3, Loss: 0.1657867282629013\n",
      "Epoch 3, Loss: 0.11063893884420395\n",
      "Epoch 3, Loss: 0.09142319858074188\n",
      "Epoch 3, Loss: 0.16035142540931702\n",
      "Epoch 3, Loss: 0.05425984039902687\n",
      "Epoch 3, Loss: 0.09446706622838974\n",
      "Epoch 3, Loss: 0.054688502103090286\n",
      "Epoch 3, Loss: 0.11421745270490646\n",
      "Epoch 3, Loss: 0.04708380252122879\n",
      "Epoch 3, Loss: 0.06505536288022995\n",
      "Epoch 3, Loss: 0.05649982765316963\n",
      "Epoch 3, Loss: 0.06685219705104828\n",
      "Epoch 3, Loss: 0.0703614205121994\n",
      "Epoch 3, Loss: 0.06926114857196808\n",
      "Epoch 3, Loss: 0.09431400895118713\n",
      "Epoch 3, Loss: 0.1398836225271225\n",
      "Epoch 3, Loss: 0.11877678334712982\n",
      "Epoch 3, Loss: 0.06259603053331375\n",
      "Epoch 3, Loss: 0.13448719680309296\n",
      "Epoch 3, Loss: 0.1355958729982376\n",
      "Epoch 3, Loss: 0.06666156649589539\n",
      "Epoch 3, Loss: 0.044324882328510284\n",
      "Epoch 3, Loss: 0.12098360061645508\n",
      "Epoch 3, Loss: 0.15122924745082855\n",
      "Epoch 3, Loss: 0.05840212479233742\n",
      "Epoch 3, Loss: 0.05396367982029915\n",
      "Epoch 3, Loss: 0.09721872210502625\n",
      "Epoch 3, Loss: 0.17449884116649628\n",
      "Epoch 3, Loss: 0.14275529980659485\n",
      "Epoch 3, Loss: 0.162578746676445\n",
      "Epoch 3, Loss: 0.08635914325714111\n",
      "Epoch 3, Loss: 0.07543426007032394\n",
      "Epoch 3, Loss: 0.07016494125127792\n",
      "Epoch 3, Loss: 0.06815920025110245\n",
      "Epoch 3, Loss: 0.054755862802267075\n",
      "Epoch 3, Loss: 0.06952868402004242\n",
      "Epoch 3, Loss: 0.08984160423278809\n",
      "Epoch 3, Loss: 0.06338930875062943\n",
      "Epoch 3, Loss: 0.06892041862010956\n",
      "Epoch 3, Loss: 0.06625961512327194\n",
      "Epoch 3, Loss: 0.05745849758386612\n",
      "Epoch 3, Loss: 0.0988074541091919\n",
      "Epoch 3, Loss: 0.10531964898109436\n",
      "Epoch 3, Loss: 0.08160334080457687\n",
      "Epoch 3, Loss: 0.05306015908718109\n",
      "Epoch 3, Loss: 0.08676961064338684\n",
      "Epoch 3, Loss: 0.09018883109092712\n",
      "Epoch 3, Loss: 0.1293567270040512\n",
      "Epoch 3, Loss: 0.08463382720947266\n",
      "Epoch 3, Loss: 0.058640070259571075\n",
      "Epoch 3, Loss: 0.04799778014421463\n",
      "Epoch 3, Loss: 0.18670086562633514\n",
      "Epoch 3, Loss: 0.1056060865521431\n",
      "Epoch 3, Loss: 0.08019557595252991\n",
      "Epoch 3, Loss: 0.04382369667291641\n",
      "Epoch 3, Loss: 0.09017909318208694\n",
      "Epoch 3, Loss: 0.1395707130432129\n",
      "Epoch 3, Loss: 0.0477399080991745\n",
      "Epoch 3, Loss: 0.09914913773536682\n",
      "Epoch 3, Loss: 0.08352193236351013\n",
      "Epoch 3, Loss: 0.1484910547733307\n",
      "Epoch 3, Loss: 0.11397266387939453\n",
      "Epoch 3, Loss: 0.06551898270845413\n",
      "Epoch 3, Loss: 0.06261304020881653\n",
      "Epoch 3, Loss: 0.1347552239894867\n",
      "Epoch 3, Loss: 0.04628939554095268\n",
      "Epoch 3, Loss: 0.07440997660160065\n",
      "Epoch 3, Loss: 0.04853268712759018\n",
      "Epoch 3, Loss: 0.10604211688041687\n",
      "Epoch 3, Loss: 0.07061733305454254\n",
      "Epoch 3, Loss: 0.043154001235961914\n",
      "Epoch 3, Loss: 0.1333211064338684\n",
      "Epoch 3, F1 Score: 0.9401730531520397\n"
     ]
    }
   ],
   "execution_count": 52
  },
  {
   "metadata": {
    "ExecuteTime": {
     "end_time": "2024-06-24T18:06:33.402587Z",
     "start_time": "2024-06-24T18:06:00.389679Z"
    }
   },
   "cell_type": "code",
   "source": [
    "# 모델 저장\n",
    "model_save_path = './koelectra_multilabel'\n",
    "torch.save(model.state_dict(), model_save_path + '/pytorch_model.bin')\n",
    "tokenizer.save_pretrained(model_save_path)\n",
    "\n",
    "# W&B에 모델 아티팩트로 업로드\n",
    "artifact = wandb.Artifact('koelectra-multi-label-classification', type='model')\n",
    "artifact.add_dir(model_save_path)\n",
    "wandb.log_artifact(artifact)\n",
    "\n",
    "# W&B 실행 종료\n",
    "wandb.finish()"
   ],
   "id": "d562d49b41a6602",
   "outputs": [
    {
     "name": "stderr",
     "output_type": "stream",
     "text": [
      "\u001B[34m\u001B[1mwandb\u001B[0m: Adding directory to artifact (./koelectra_multilabel)... Done. 1.1s\n"
     ]
    },
    {
     "data": {
      "text/plain": [
       "VBox(children=(Label(value='428.850 MB of 428.850 MB uploaded\\r'), FloatProgress(value=1.0, max=1.0)))"
      ],
      "application/vnd.jupyter.widget-view+json": {
       "version_major": 2,
       "version_minor": 0,
       "model_id": "40e78248aaf240f6a1245839358ab932"
      }
     },
     "metadata": {},
     "output_type": "display_data"
    },
    {
     "data": {
      "text/plain": [
       "<IPython.core.display.HTML object>"
      ],
      "text/html": [
       "<style>\n",
       "    table.wandb td:nth-child(1) { padding: 0 10px; text-align: left ; width: auto;} td:nth-child(2) {text-align: left ; width: 100%}\n",
       "    .wandb-row { display: flex; flex-direction: row; flex-wrap: wrap; justify-content: flex-start; width: 100% }\n",
       "    .wandb-col { display: flex; flex-direction: column; flex-basis: 100%; flex: 1; padding: 10px; }\n",
       "    </style>\n",
       "<div class=\"wandb-row\"><div class=\"wandb-col\"><h3>Run history:</h3><br/><table class=\"wandb\"><tr><td>epoch</td><td>▁▁▁▁▁▁▁▁▁▁▁▁▁▅▅▅▅▅▅▅▅▅▅▅▅▅▅█████████████</td></tr><tr><td>f1_score</td><td>▁▇█</td></tr><tr><td>loss</td><td>█▇▆▆▆▅▄▄▃▄▃▃▂▂▂▂▂▂▄▂▂▁▂▁▃▄▄▁▁▂▂▁▁▁▁▁▂▁▂▁</td></tr></table><br/></div><div class=\"wandb-col\"><h3>Run summary:</h3><br/><table class=\"wandb\"><tr><td>epoch</td><td>3</td></tr><tr><td>f1_score</td><td>0.94017</td></tr><tr><td>loss</td><td>0.13332</td></tr></table><br/></div></div>"
      ]
     },
     "metadata": {},
     "output_type": "display_data"
    },
    {
     "data": {
      "text/plain": [
       "<IPython.core.display.HTML object>"
      ],
      "text/html": [
       " View run <strong style=\"color:#cdcd00\">different-night-1</strong> at: <a href='https://wandb.ai/seongyeonkim/koelectra-multi-label-classification2/runs/qyl8x2aj' target=\"_blank\">https://wandb.ai/seongyeonkim/koelectra-multi-label-classification2/runs/qyl8x2aj</a><br/> View project at: <a href='https://wandb.ai/seongyeonkim/koelectra-multi-label-classification2' target=\"_blank\">https://wandb.ai/seongyeonkim/koelectra-multi-label-classification2</a><br/>Synced 6 W&B file(s), 0 media file(s), 4 artifact file(s) and 0 other file(s)"
      ]
     },
     "metadata": {},
     "output_type": "display_data"
    },
    {
     "data": {
      "text/plain": [
       "<IPython.core.display.HTML object>"
      ],
      "text/html": [
       "Find logs at: <code>./wandb/run-20240625_012935-qyl8x2aj/logs</code>"
      ]
     },
     "metadata": {},
     "output_type": "display_data"
    }
   ],
   "execution_count": 53
  },
  {
   "cell_type": "markdown",
   "id": "e8686a29",
   "metadata": {
    "id": "e8686a29"
   },
   "source": [
    "## Fine-tuning Model"
   ]
  },
  {
   "metadata": {},
   "cell_type": "code",
   "outputs": [],
   "execution_count": null,
   "source": "",
   "id": "67faca63274bf1a4"
  },
  {
   "cell_type": "markdown",
   "id": "e6143331",
   "metadata": {
    "id": "e6143331"
   },
   "source": "## Predict"
  },
  {
   "cell_type": "markdown",
   "id": "00279d77",
   "metadata": {
    "id": "00279d77"
   },
   "source": [
    "일반대화 예시\n",
    "\n",
    "```json\n",
    "{\n",
    "\t\"id\": {\n",
    "\t\t\"text\": \"이거 들어봐 와 이 노래 진짜 좋다 그치 요즘 이 것만 들어 진짜 너무 좋다 내가 요즘 듣는 것도 들어봐 음 난 좀 별론데 좋을 줄 알았는데 아쉽네 내 취향은 아닌 듯 배고프다 밥이나 먹으러 가자 그래\"\n",
    "\t}\n",
    "}\n",
    "```"
   ]
  },
  {
   "cell_type": "code",
   "id": "d3bed8f7",
   "metadata": {
    "id": "d3bed8f7",
    "ExecuteTime": {
     "end_time": "2024-06-24T18:06:33.434036Z",
     "start_time": "2024-06-24T18:06:33.406316Z"
    }
   },
   "source": [
    "import json\n",
    "with open('./data/test.json') as f:\n",
    "    test_data = json.load(f)\n",
    "\n",
    "test_data = pd.DataFrame(test_data).T\n",
    "test_data.reset_index(drop=True, inplace=True)"
   ],
   "outputs": [],
   "execution_count": 54
  },
  {
   "cell_type": "code",
   "id": "cb2a4075",
   "metadata": {
    "scrolled": false,
    "id": "cb2a4075",
    "ExecuteTime": {
     "end_time": "2024-06-24T18:06:33.444525Z",
     "start_time": "2024-06-24T18:06:33.434892Z"
    }
   },
   "source": [
    "test_data"
   ],
   "outputs": [
    {
     "data": {
      "text/plain": [
       "                                                  text\n",
       "0    아가씨 담배한갑주소 네 4500원입니다 어 네 지갑어디갔지 에이 버스에서 잃어버렸나...\n",
       "1    우리팀에서 다른팀으로 갈 사람 없나? 그럼 영지씨가 가는건 어때?  네? 제가요? ...\n",
       "2    너 오늘 그게 뭐야 네 제가 뭘 잘못했나요.? 제대로 좀 하지 네 똑바로 좀 하지 ...\n",
       "3    이거 들어바 와 이 노래 진짜 좋다 그치 요즘 이 것만 들어 진짜 너무 좋다 내가 ...\n",
       "4    아무튼 앞으로 니가 내 와이파이야. .응 와이파이 온. 켰어. 반말? 주인님이라고도...\n",
       "..                                                 ...\n",
       "495  미나씨 휴가 결제 올리기 전에 저랑 상의하라고 말한거 기억해요? 네 합니다. 보고서...\n",
       "496  교수님 제 논문에 제 이름이 없나요?  아 무슨 논문말이야?  지난 번 냈던 논문이...\n",
       "497  야 너  네 저요? 그래 너 왜요 돈좀 줘봐  돈 없어요 돈이 왜 없어 지갑은 폼이...\n",
       "498  야 너 빨리 안 뛰어와? 너 이 환자 제대로 봤어 안 봤어 어제 저녁부터 계속 보다...\n",
       "499  엄마 저 그 돈 안해주시면 정말 큰일나요.  이유도 말하지 않고. 몇번째니 경민아....\n",
       "\n",
       "[500 rows x 1 columns]"
      ],
      "text/html": [
       "<div>\n",
       "<style scoped>\n",
       "    .dataframe tbody tr th:only-of-type {\n",
       "        vertical-align: middle;\n",
       "    }\n",
       "\n",
       "    .dataframe tbody tr th {\n",
       "        vertical-align: top;\n",
       "    }\n",
       "\n",
       "    .dataframe thead th {\n",
       "        text-align: right;\n",
       "    }\n",
       "</style>\n",
       "<table border=\"1\" class=\"dataframe\">\n",
       "  <thead>\n",
       "    <tr style=\"text-align: right;\">\n",
       "      <th></th>\n",
       "      <th>text</th>\n",
       "    </tr>\n",
       "  </thead>\n",
       "  <tbody>\n",
       "    <tr>\n",
       "      <th>0</th>\n",
       "      <td>아가씨 담배한갑주소 네 4500원입니다 어 네 지갑어디갔지 에이 버스에서 잃어버렸나...</td>\n",
       "    </tr>\n",
       "    <tr>\n",
       "      <th>1</th>\n",
       "      <td>우리팀에서 다른팀으로 갈 사람 없나? 그럼 영지씨가 가는건 어때?  네? 제가요? ...</td>\n",
       "    </tr>\n",
       "    <tr>\n",
       "      <th>2</th>\n",
       "      <td>너 오늘 그게 뭐야 네 제가 뭘 잘못했나요.? 제대로 좀 하지 네 똑바로 좀 하지 ...</td>\n",
       "    </tr>\n",
       "    <tr>\n",
       "      <th>3</th>\n",
       "      <td>이거 들어바 와 이 노래 진짜 좋다 그치 요즘 이 것만 들어 진짜 너무 좋다 내가 ...</td>\n",
       "    </tr>\n",
       "    <tr>\n",
       "      <th>4</th>\n",
       "      <td>아무튼 앞으로 니가 내 와이파이야. .응 와이파이 온. 켰어. 반말? 주인님이라고도...</td>\n",
       "    </tr>\n",
       "    <tr>\n",
       "      <th>...</th>\n",
       "      <td>...</td>\n",
       "    </tr>\n",
       "    <tr>\n",
       "      <th>495</th>\n",
       "      <td>미나씨 휴가 결제 올리기 전에 저랑 상의하라고 말한거 기억해요? 네 합니다. 보고서...</td>\n",
       "    </tr>\n",
       "    <tr>\n",
       "      <th>496</th>\n",
       "      <td>교수님 제 논문에 제 이름이 없나요?  아 무슨 논문말이야?  지난 번 냈던 논문이...</td>\n",
       "    </tr>\n",
       "    <tr>\n",
       "      <th>497</th>\n",
       "      <td>야 너  네 저요? 그래 너 왜요 돈좀 줘봐  돈 없어요 돈이 왜 없어 지갑은 폼이...</td>\n",
       "    </tr>\n",
       "    <tr>\n",
       "      <th>498</th>\n",
       "      <td>야 너 빨리 안 뛰어와? 너 이 환자 제대로 봤어 안 봤어 어제 저녁부터 계속 보다...</td>\n",
       "    </tr>\n",
       "    <tr>\n",
       "      <th>499</th>\n",
       "      <td>엄마 저 그 돈 안해주시면 정말 큰일나요.  이유도 말하지 않고. 몇번째니 경민아....</td>\n",
       "    </tr>\n",
       "  </tbody>\n",
       "</table>\n",
       "<p>500 rows × 1 columns</p>\n",
       "</div>"
      ]
     },
     "execution_count": 55,
     "metadata": {},
     "output_type": "execute_result"
    }
   ],
   "execution_count": 55
  },
  {
   "metadata": {
    "ExecuteTime": {
     "end_time": "2024-06-24T18:06:33.448338Z",
     "start_time": "2024-06-24T18:06:33.445326Z"
    }
   },
   "cell_type": "code",
   "source": [
    "# 예측 함수\n",
    "def predict(text):\n",
    "    try:\n",
    "        model.eval()\n",
    "        with torch.no_grad():\n",
    "            encoding = tokenizer.encode_plus(\n",
    "                text,\n",
    "                add_special_tokens=True,\n",
    "                max_length=128,\n",
    "                padding='max_length',\n",
    "                truncation=True,\n",
    "                return_tensors='pt'\n",
    "            )\n",
    "            input_ids = encoding['input_ids']\n",
    "            attention_mask = encoding['attention_mask']\n",
    "            outputs = model(input_ids=input_ids, attention_mask=attention_mask)\n",
    "            probs = torch.sigmoid(outputs)\n",
    "        return probs\n",
    "    except:\n",
    "        print(text)\n",
    "        return torch.zeros([1, 4])"
   ],
   "id": "beb69d4694728157",
   "outputs": [],
   "execution_count": 56
  },
  {
   "metadata": {
    "ExecuteTime": {
     "end_time": "2024-06-24T18:06:33.451279Z",
     "start_time": "2024-06-24T18:06:33.449074Z"
    }
   },
   "cell_type": "code",
   "source": "print(encoder.classes_)",
   "id": "ad58f93707e7f01c",
   "outputs": [
    {
     "name": "stdout",
     "output_type": "stream",
     "text": [
      "['갈취 대화' '기타 괴롭힘 대화' '일반 대화' '직장 내 괴롭힘 대화' '협박 대화']\n"
     ]
    }
   ],
   "execution_count": 57
  },
  {
   "metadata": {
    "ExecuteTime": {
     "end_time": "2024-06-24T18:06:33.603810Z",
     "start_time": "2024-06-24T18:06:33.452055Z"
    }
   },
   "cell_type": "code",
   "source": [
    "text = test_data.text.iloc[2]\n",
    "print(text)\n",
    "predict(text)"
   ],
   "id": "fed26eacf80728cb",
   "outputs": [
    {
     "name": "stdout",
     "output_type": "stream",
     "text": [
      "너 오늘 그게 뭐야 네 제가 뭘 잘못했나요.? 제대로 좀 하지 네 똑바로 좀 하지 행실이 맘에 안들어 네 실천할께요 옆에 동기들 좀 본받으란 말야 어? 네 알겠습니다 그래 똑바로해 노럭할께요\n"
     ]
    },
    {
     "data": {
      "text/plain": [
       "tensor([[0.0214, 0.2369, 0.0066, 0.7187]])"
      ]
     },
     "execution_count": 58,
     "metadata": {},
     "output_type": "execute_result"
    }
   ],
   "execution_count": 58
  },
  {
   "metadata": {
    "ExecuteTime": {
     "end_time": "2024-06-24T18:06:33.608054Z",
     "start_time": "2024-06-24T18:06:33.605667Z"
    }
   },
   "cell_type": "code",
   "source": [
    "from tqdm import tqdm, trange\n",
    "\n",
    "tqdm.pandas()"
   ],
   "id": "e76116e146b6cfac",
   "outputs": [],
   "execution_count": 59
  },
  {
   "metadata": {
    "ExecuteTime": {
     "end_time": "2024-06-24T18:07:00.071388Z",
     "start_time": "2024-06-24T18:06:33.608584Z"
    }
   },
   "cell_type": "code",
   "source": "test_data['pred'] = test_data['text'].progress_apply(lambda x: predict(x))",
   "id": "32d38889149189cb",
   "outputs": [
    {
     "name": "stderr",
     "output_type": "stream",
     "text": [
      " 15%|█▍        | 73/500 [00:03<00:29, 14.67it/s]"
     ]
    },
    {
     "name": "stdout",
     "output_type": "stream",
     "text": [
      "옥상에서 사람이 떨어졌어요. 사람이 떨어졌다고요? 위치가 어디세요? 경기도 광주시 오포읍 문형리 행복 아파트인데요, 사람이 떨어졌어요. 몇층에서 떨어졌는지는 보셨나요? 아니요 어디서 떨어졌는지는 못봤어요. 알겠습니다. 잠시만 기다려 주세요.\n"
     ]
    },
    {
     "name": "stderr",
     "output_type": "stream",
     "text": [
      "100%|██████████| 500/500 [00:26<00:00, 18.90it/s]\n"
     ]
    }
   ],
   "execution_count": 60
  },
  {
   "cell_type": "code",
   "id": "bb43e396",
   "metadata": {
    "id": "bb43e396",
    "ExecuteTime": {
     "end_time": "2024-06-24T18:07:00.074296Z",
     "start_time": "2024-06-24T18:07:00.072182Z"
    }
   },
   "source": "pred_dict = test_data.pred.to_dict()",
   "outputs": [],
   "execution_count": 61
  },
  {
   "metadata": {
    "ExecuteTime": {
     "end_time": "2024-06-24T18:07:00.109903Z",
     "start_time": "2024-06-24T18:07:00.074891Z"
    }
   },
   "cell_type": "code",
   "source": "pred_dict ",
   "id": "c946db22f11b2b3d",
   "outputs": [
    {
     "data": {
      "text/plain": [
       "{0: tensor([[0.9610, 0.0322, 0.0250, 0.0312]]),\n",
       " 1: tensor([[0.0385, 0.0360, 0.0204, 0.9669]]),\n",
       " 2: tensor([[0.0214, 0.2369, 0.0066, 0.7187]]),\n",
       " 3: tensor([[0.0385, 0.3076, 0.5303, 0.0107]]),\n",
       " 4: tensor([[0.0955, 0.8789, 0.0072, 0.1131]]),\n",
       " 5: tensor([[0.1483, 0.0477, 0.0136, 0.0109]]),\n",
       " 6: tensor([[0.2573, 0.0344, 0.0076, 0.0162]]),\n",
       " 7: tensor([[0.7586, 0.4390, 0.0168, 0.0107]]),\n",
       " 8: tensor([[0.0272, 0.0672, 0.8835, 0.0181]]),\n",
       " 9: tensor([[0.9651, 0.0318, 0.0297, 0.0367]]),\n",
       " 10: tensor([[0.0405, 0.0492, 0.0198, 0.0125]]),\n",
       " 11: tensor([[0.0315, 0.0743, 0.9474, 0.0172]]),\n",
       " 12: tensor([[0.0468, 0.0511, 0.0102, 0.9337]]),\n",
       " 13: tensor([[0.0299, 0.0288, 0.0308, 0.9634]]),\n",
       " 14: tensor([[0.0380, 0.0372, 0.0248, 0.9707]]),\n",
       " 15: tensor([[0.4447, 0.0609, 0.0076, 0.0128]]),\n",
       " 16: tensor([[0.0216, 0.0298, 0.8950, 0.0124]]),\n",
       " 17: tensor([[0.0522, 0.8843, 0.0147, 0.1519]]),\n",
       " 18: tensor([[0.1397, 0.0330, 0.0110, 0.0116]]),\n",
       " 19: tensor([[0.0624, 0.9595, 0.0269, 0.0275]]),\n",
       " 20: tensor([[0.0392, 0.0239, 0.0229, 0.0168]]),\n",
       " 21: tensor([[0.0446, 0.9667, 0.0302, 0.0345]]),\n",
       " 22: tensor([[0.0352, 0.9292, 0.0220, 0.0244]]),\n",
       " 23: tensor([[0.9621, 0.0322, 0.0262, 0.0306]]),\n",
       " 24: tensor([[0.9664, 0.0343, 0.0302, 0.0321]]),\n",
       " 25: tensor([[0.0334, 0.0375, 0.0264, 0.9701]]),\n",
       " 26: tensor([[0.0688, 0.9132, 0.0142, 0.0250]]),\n",
       " 27: tensor([[0.0476, 0.4555, 0.3764, 0.0151]]),\n",
       " 28: tensor([[0.0364, 0.0391, 0.0229, 0.9680]]),\n",
       " 29: tensor([[0.5457, 0.1320, 0.0332, 0.0168]]),\n",
       " 30: tensor([[0.9650, 0.0317, 0.0288, 0.0335]]),\n",
       " 31: tensor([[0.2398, 0.0396, 0.0138, 0.0092]]),\n",
       " 32: tensor([[0.0775, 0.9481, 0.0242, 0.0685]]),\n",
       " 33: tensor([[0.8323, 0.1100, 0.0082, 0.0281]]),\n",
       " 34: tensor([[0.0353, 0.8732, 0.0134, 0.0269]]),\n",
       " 35: tensor([[0.9425, 0.0906, 0.0190, 0.0177]]),\n",
       " 36: tensor([[0.2525, 0.8630, 0.0194, 0.0137]]),\n",
       " 37: tensor([[0.7131, 0.0258, 0.0114, 0.0155]]),\n",
       " 38: tensor([[0.0261, 0.0889, 0.0046, 0.1429]]),\n",
       " 39: tensor([[0.9607, 0.0323, 0.0250, 0.0313]]),\n",
       " 40: tensor([[0.0363, 0.0895, 0.0116, 0.0151]]),\n",
       " 41: tensor([[0.9629, 0.0426, 0.0252, 0.0307]]),\n",
       " 42: tensor([[0.9171, 0.0287, 0.0142, 0.0727]]),\n",
       " 43: tensor([[0.9254, 0.0327, 0.0182, 0.0198]]),\n",
       " 44: tensor([[0.0322, 0.5148, 0.4645, 0.0112]]),\n",
       " 45: tensor([[0.0334, 0.0358, 0.0269, 0.9707]]),\n",
       " 46: tensor([[0.0348, 0.2598, 0.0079, 0.0177]]),\n",
       " 47: tensor([[0.0687, 0.9324, 0.0162, 0.0232]]),\n",
       " 48: tensor([[0.0346, 0.0498, 0.9633, 0.0169]]),\n",
       " 49: tensor([[0.0368, 0.1007, 0.0093, 0.0199]]),\n",
       " 50: tensor([[0.9635, 0.0330, 0.0259, 0.0374]]),\n",
       " 51: tensor([[0.0547, 0.9694, 0.0342, 0.0293]]),\n",
       " 52: tensor([[0.9641, 0.0334, 0.0276, 0.0314]]),\n",
       " 53: tensor([[0.0358, 0.0381, 0.0211, 0.9658]]),\n",
       " 54: tensor([[0.0365, 0.0369, 0.0234, 0.9711]]),\n",
       " 55: tensor([[0.1099, 0.9252, 0.0150, 0.0250]]),\n",
       " 56: tensor([[0.0597, 0.9700, 0.0281, 0.0412]]),\n",
       " 57: tensor([[0.0316, 0.0398, 0.9652, 0.0184]]),\n",
       " 58: tensor([[0.0379, 0.9681, 0.0409, 0.0350]]),\n",
       " 59: tensor([[0.0532, 0.9624, 0.0216, 0.0379]]),\n",
       " 60: tensor([[0.9585, 0.0405, 0.0220, 0.0284]]),\n",
       " 61: tensor([[0.0589, 0.6470, 0.0082, 0.0174]]),\n",
       " 62: tensor([[0.0786, 0.0395, 0.0057, 0.1084]]),\n",
       " 63: tensor([[0.0475, 0.9675, 0.0291, 0.0414]]),\n",
       " 64: tensor([[0.0370, 0.0438, 0.0225, 0.9689]]),\n",
       " 65: tensor([[0.0528, 0.0496, 0.0087, 0.0228]]),\n",
       " 66: tensor([[0.0407, 0.8480, 0.0202, 0.0194]]),\n",
       " 67: tensor([[0.0584, 0.9197, 0.0125, 0.0364]]),\n",
       " 68: tensor([[0., 0., 0., 0.]]),\n",
       " 69: tensor([[0.8130, 0.0293, 0.0130, 0.0144]]),\n",
       " 70: tensor([[0.0475, 0.8577, 0.0132, 0.0216]]),\n",
       " 71: tensor([[0.0346, 0.0365, 0.0261, 0.9710]]),\n",
       " 72: tensor([[0.0566, 0.9734, 0.0380, 0.0346]]),\n",
       " 73: tensor([[0.0307, 0.0391, 0.0269, 0.9705]]),\n",
       " 74: tensor([[0.0456, 0.1810, 0.0089, 0.0129]]),\n",
       " 75: tensor([[0.0283, 0.0838, 0.0272, 0.9652]]),\n",
       " 76: tensor([[0.0277, 0.0524, 0.0205, 0.9635]]),\n",
       " 77: tensor([[0.4569, 0.2986, 0.0060, 0.0273]]),\n",
       " 78: tensor([[0.0360, 0.0582, 0.0223, 0.9716]]),\n",
       " 79: tensor([[0.0130, 0.2623, 0.1836, 0.0212]]),\n",
       " 80: tensor([[0.8026, 0.3197, 0.0124, 0.0136]]),\n",
       " 81: tensor([[0.0697, 0.0452, 0.0129, 0.0132]]),\n",
       " 82: tensor([[0.1761, 0.0777, 0.0144, 0.0320]]),\n",
       " 83: tensor([[0.2764, 0.0316, 0.0097, 0.0122]]),\n",
       " 84: tensor([[0.0422, 0.9589, 0.0315, 0.0389]]),\n",
       " 85: tensor([[0.1700, 0.0797, 0.0044, 0.5104]]),\n",
       " 86: tensor([[0.8932, 0.0295, 0.0148, 0.0188]]),\n",
       " 87: tensor([[0.0286, 0.0657, 0.9122, 0.0126]]),\n",
       " 88: tensor([[0.9520, 0.0637, 0.0193, 0.0255]]),\n",
       " 89: tensor([[0.0443, 0.0898, 0.0246, 0.9459]]),\n",
       " 90: tensor([[0.0348, 0.0384, 0.0277, 0.0427]]),\n",
       " 91: tensor([[0.0365, 0.0380, 0.0218, 0.9675]]),\n",
       " 92: tensor([[0.0351, 0.0301, 0.0210, 0.0167]]),\n",
       " 93: tensor([[0.0977, 0.9445, 0.0284, 0.0277]]),\n",
       " 94: tensor([[0.0417, 0.9574, 0.0284, 0.0350]]),\n",
       " 95: tensor([[0.0330, 0.0367, 0.0248, 0.9689]]),\n",
       " 96: tensor([[0.4574, 0.4810, 0.0127, 0.0334]]),\n",
       " 97: tensor([[0.0637, 0.0380, 0.0116, 0.9355]]),\n",
       " 98: tensor([[0.9006, 0.0296, 0.0162, 0.0193]]),\n",
       " 99: tensor([[0.0550, 0.0237, 0.0081, 0.2405]]),\n",
       " 100: tensor([[0.8923, 0.1344, 0.0136, 0.0163]]),\n",
       " 101: tensor([[0.9608, 0.0323, 0.0266, 0.0284]]),\n",
       " 102: tensor([[0.0188, 0.0579, 0.8653, 0.0177]]),\n",
       " 103: tensor([[0.1218, 0.0402, 0.0069, 0.0223]]),\n",
       " 104: tensor([[0.0273, 0.0772, 0.0066, 0.7972]]),\n",
       " 105: tensor([[0.0368, 0.0404, 0.0259, 0.9724]]),\n",
       " 106: tensor([[0.0351, 0.0434, 0.0193, 0.9646]]),\n",
       " 107: tensor([[0.0538, 0.9432, 0.0193, 0.0263]]),\n",
       " 108: tensor([[0.0514, 0.9010, 0.0455, 0.0355]]),\n",
       " 109: tensor([[0.1569, 0.0270, 0.0092, 0.0164]]),\n",
       " 110: tensor([[0.3968, 0.3748, 0.0129, 0.0188]]),\n",
       " 111: tensor([[0.0277, 0.1111, 0.0153, 0.0124]]),\n",
       " 112: tensor([[0.8588, 0.0294, 0.0109, 0.0269]]),\n",
       " 113: tensor([[0.0336, 0.0465, 0.0229, 0.9719]]),\n",
       " 114: tensor([[0.9540, 0.0564, 0.0200, 0.0288]]),\n",
       " 115: tensor([[0.9619, 0.0318, 0.0266, 0.0305]]),\n",
       " 116: tensor([[0.0979, 0.1099, 0.6959, 0.0199]]),\n",
       " 117: tensor([[0.0394, 0.0395, 0.0189, 0.9594]]),\n",
       " 118: tensor([[0.0418, 0.0547, 0.0220, 0.9705]]),\n",
       " 119: tensor([[0.9585, 0.0341, 0.0267, 0.0279]]),\n",
       " 120: tensor([[0.0917, 0.0349, 0.0092, 0.9094]]),\n",
       " 121: tensor([[0.1219, 0.9109, 0.0104, 0.0414]]),\n",
       " 122: tensor([[0.4452, 0.6234, 0.0108, 0.0121]]),\n",
       " 123: tensor([[0.9573, 0.0398, 0.0216, 0.0261]]),\n",
       " 124: tensor([[0.9540, 0.0293, 0.0261, 0.0286]]),\n",
       " 125: tensor([[0.9573, 0.0389, 0.0237, 0.0273]]),\n",
       " 126: tensor([[0.2014, 0.0249, 0.0086, 0.8533]]),\n",
       " 127: tensor([[0.0705, 0.0275, 0.0094, 0.1931]]),\n",
       " 128: tensor([[0.9615, 0.0337, 0.0270, 0.0301]]),\n",
       " 129: tensor([[0.0218, 0.7613, 0.1094, 0.0137]]),\n",
       " 130: tensor([[0.0420, 0.9553, 0.0312, 0.0246]]),\n",
       " 131: tensor([[0.0443, 0.9700, 0.0351, 0.0344]]),\n",
       " 132: tensor([[0.0374, 0.5866, 0.0092, 0.7578]]),\n",
       " 133: tensor([[0.0569, 0.9676, 0.0345, 0.0300]]),\n",
       " 134: tensor([[0.8728, 0.0435, 0.0160, 0.0126]]),\n",
       " 135: tensor([[0.0285, 0.0481, 0.0180, 0.0168]]),\n",
       " 136: tensor([[0.0356, 0.9062, 0.0154, 0.0353]]),\n",
       " 137: tensor([[0.0595, 0.0434, 0.0133, 0.0139]]),\n",
       " 138: tensor([[0.0484, 0.9636, 0.0269, 0.0360]]),\n",
       " 139: tensor([[0.0306, 0.8115, 0.0164, 0.1419]]),\n",
       " 140: tensor([[0.0337, 0.8582, 0.0144, 0.0207]]),\n",
       " 141: tensor([[0.0398, 0.9600, 0.0373, 0.0649]]),\n",
       " 142: tensor([[0.9644, 0.0304, 0.0275, 0.0358]]),\n",
       " 143: tensor([[0.0483, 0.9703, 0.0328, 0.0343]]),\n",
       " 144: tensor([[0.0368, 0.0307, 0.0104, 0.8834]]),\n",
       " 145: tensor([[0.0269, 0.0359, 0.0199, 0.0184]]),\n",
       " 146: tensor([[0.0407, 0.0330, 0.0165, 0.0174]]),\n",
       " 147: tensor([[0.2700, 0.1023, 0.0095, 0.0084]]),\n",
       " 148: tensor([[0.0346, 0.8101, 0.0168, 0.0177]]),\n",
       " 149: tensor([[0.9640, 0.0323, 0.0283, 0.0342]]),\n",
       " 150: tensor([[0.0718, 0.0307, 0.0081, 0.0353]]),\n",
       " 151: tensor([[0.0400, 0.9309, 0.0225, 0.0235]]),\n",
       " 152: tensor([[0.7583, 0.0691, 0.0103, 0.0236]]),\n",
       " 153: tensor([[0.9544, 0.0458, 0.0237, 0.0262]]),\n",
       " 154: tensor([[0.0278, 0.7553, 0.0105, 0.3695]]),\n",
       " 155: tensor([[0.0595, 0.9524, 0.0295, 0.0416]]),\n",
       " 156: tensor([[0.2052, 0.0359, 0.0087, 0.0136]]),\n",
       " 157: tensor([[0.0358, 0.0350, 0.0239, 0.9699]]),\n",
       " 158: tensor([[0.0425, 0.9694, 0.0434, 0.0439]]),\n",
       " 159: tensor([[0.0435, 0.9528, 0.0241, 0.0278]]),\n",
       " 160: tensor([[0.0384, 0.0337, 0.0117, 0.0293]]),\n",
       " 161: tensor([[0.0559, 0.9681, 0.0334, 0.0293]]),\n",
       " 162: tensor([[0.0348, 0.0260, 0.0167, 0.7770]]),\n",
       " 163: tensor([[0.0330, 0.0340, 0.0191, 0.0188]]),\n",
       " 164: tensor([[0.0313, 0.8419, 0.0079, 0.1976]]),\n",
       " 165: tensor([[0.0422, 0.9684, 0.0357, 0.0327]]),\n",
       " 166: tensor([[0.0353, 0.0368, 0.0262, 0.9695]]),\n",
       " 167: tensor([[0.0334, 0.0484, 0.9625, 0.0182]]),\n",
       " 168: tensor([[0.0397, 0.9629, 0.0292, 0.0349]]),\n",
       " 169: tensor([[0.8737, 0.2577, 0.0173, 0.0121]]),\n",
       " 170: tensor([[0.0890, 0.1602, 0.0060, 0.0169]]),\n",
       " 171: tensor([[0.0348, 0.0390, 0.0251, 0.9735]]),\n",
       " 172: tensor([[0.0388, 0.0375, 0.0187, 0.9624]]),\n",
       " 173: tensor([[0.0985, 0.9313, 0.0158, 0.0284]]),\n",
       " 174: tensor([[0.0927, 0.7087, 0.0046, 0.1905]]),\n",
       " 175: tensor([[0.0538, 0.9703, 0.0345, 0.0325]]),\n",
       " 176: tensor([[0.1580, 0.1012, 0.0052, 0.0197]]),\n",
       " 177: tensor([[0.0351, 0.0365, 0.0261, 0.9726]]),\n",
       " 178: tensor([[0.1847, 0.8743, 0.0155, 0.0157]]),\n",
       " 179: tensor([[0.0571, 0.9450, 0.0168, 0.0357]]),\n",
       " 180: tensor([[0.0509, 0.0376, 0.0130, 0.9483]]),\n",
       " 181: tensor([[0.0300, 0.8338, 0.0120, 0.0269]]),\n",
       " 182: tensor([[0.1681, 0.0391, 0.0103, 0.8896]]),\n",
       " 183: tensor([[0.0291, 0.1189, 0.0125, 0.9514]]),\n",
       " 184: tensor([[0.0377, 0.8786, 0.0112, 0.0304]]),\n",
       " 185: tensor([[0.1041, 0.9266, 0.0160, 0.0639]]),\n",
       " 186: tensor([[0.0390, 0.7947, 0.0627, 0.0661]]),\n",
       " 187: tensor([[0.0702, 0.0380, 0.0116, 0.0154]]),\n",
       " 188: tensor([[0.9187, 0.0284, 0.0170, 0.0210]]),\n",
       " 189: tensor([[0.0371, 0.8585, 0.0129, 0.0217]]),\n",
       " 190: tensor([[0.0260, 0.0464, 0.0252, 0.0132]]),\n",
       " 191: tensor([[0.0453, 0.9437, 0.0216, 0.0423]]),\n",
       " 192: tensor([[0.9628, 0.0366, 0.0269, 0.0295]]),\n",
       " 193: tensor([[0.0419, 0.9608, 0.0226, 0.0404]]),\n",
       " 194: tensor([[0.9653, 0.0316, 0.0286, 0.0389]]),\n",
       " 195: tensor([[0.0651, 0.7575, 0.0078, 0.0219]]),\n",
       " 196: tensor([[0.0392, 0.8142, 0.0176, 0.0131]]),\n",
       " 197: tensor([[0.0707, 0.0706, 0.7351, 0.0177]]),\n",
       " 198: tensor([[0.0562, 0.9293, 0.0208, 0.0186]]),\n",
       " 199: tensor([[0.0511, 0.9606, 0.0249, 0.0309]]),\n",
       " 200: tensor([[0.0416, 0.0361, 0.0193, 0.9650]]),\n",
       " 201: tensor([[0.0364, 0.3685, 0.0104, 0.0126]]),\n",
       " 202: tensor([[0.0430, 0.9073, 0.0143, 0.0354]]),\n",
       " 203: tensor([[0.6089, 0.4030, 0.0057, 0.0290]]),\n",
       " 204: tensor([[0.0312, 0.0630, 0.0136, 0.0177]]),\n",
       " 205: tensor([[0.0480, 0.9716, 0.0386, 0.0360]]),\n",
       " 206: tensor([[0.0355, 0.0396, 0.0242, 0.9712]]),\n",
       " 207: tensor([[0.0547, 0.0958, 0.0028, 0.2491]]),\n",
       " 208: tensor([[0.0323, 0.0781, 0.0173, 0.9650]]),\n",
       " 209: tensor([[0.0325, 0.0474, 0.0181, 0.9651]]),\n",
       " 210: tensor([[0.0211, 0.1006, 0.0182, 0.0229]]),\n",
       " 211: tensor([[0.4816, 0.7071, 0.0158, 0.0124]]),\n",
       " 212: tensor([[0.0746, 0.9363, 0.0205, 0.0226]]),\n",
       " 213: tensor([[0.1004, 0.0323, 0.0094, 0.9102]]),\n",
       " 214: tensor([[0.8002, 0.0420, 0.0118, 0.0136]]),\n",
       " 215: tensor([[0.0598, 0.9255, 0.0628, 0.0356]]),\n",
       " 216: tensor([[0.0295, 0.1517, 0.7050, 0.0090]]),\n",
       " 217: tensor([[0.0272, 0.0360, 0.9610, 0.0182]]),\n",
       " 218: tensor([[0.0991, 0.1569, 0.0086, 0.0097]]),\n",
       " 219: tensor([[0.0726, 0.0431, 0.0064, 0.0280]]),\n",
       " 220: tensor([[0.9629, 0.0382, 0.0285, 0.0277]]),\n",
       " 221: tensor([[0.0403, 0.0456, 0.0419, 0.8245]]),\n",
       " 222: tensor([[0.1075, 0.4832, 0.0066, 0.0132]]),\n",
       " 223: tensor([[0.0155, 0.0256, 0.2500, 0.0147]]),\n",
       " 224: tensor([[0.9074, 0.0306, 0.0173, 0.0215]]),\n",
       " 225: tensor([[0.0921, 0.0686, 0.8610, 0.0112]]),\n",
       " 226: tensor([[0.9494, 0.0449, 0.0207, 0.0389]]),\n",
       " 227: tensor([[0.0622, 0.0311, 0.0106, 0.0214]]),\n",
       " 228: tensor([[0.9579, 0.0412, 0.0253, 0.0235]]),\n",
       " 229: tensor([[0.1084, 0.1352, 0.0065, 0.0130]]),\n",
       " 230: tensor([[0.0341, 0.0350, 0.0255, 0.9698]]),\n",
       " 231: tensor([[0.0590, 0.0549, 0.0115, 0.0123]]),\n",
       " 232: tensor([[0.0472, 0.9663, 0.0270, 0.0347]]),\n",
       " 233: tensor([[0.1010, 0.8014, 0.0092, 0.0166]]),\n",
       " 234: tensor([[0.6939, 0.1974, 0.0093, 0.0092]]),\n",
       " 235: tensor([[0.0557, 0.9703, 0.0353, 0.0304]]),\n",
       " 236: tensor([[0.0409, 0.9665, 0.0281, 0.0416]]),\n",
       " 237: tensor([[0.9612, 0.0323, 0.0256, 0.0311]]),\n",
       " 238: tensor([[0.1220, 0.6539, 0.0094, 0.0100]]),\n",
       " 239: tensor([[0.0380, 0.9605, 0.0311, 0.0328]]),\n",
       " 240: tensor([[0.0454, 0.9708, 0.0375, 0.0351]]),\n",
       " 241: tensor([[0.0469, 0.9663, 0.0325, 0.0342]]),\n",
       " 242: tensor([[0.0523, 0.9675, 0.0299, 0.0354]]),\n",
       " 243: tensor([[0.0315, 0.0407, 0.0260, 0.9725]]),\n",
       " 244: tensor([[0.0351, 0.0982, 0.9297, 0.0200]]),\n",
       " 245: tensor([[0.9673, 0.0318, 0.0294, 0.0409]]),\n",
       " 246: tensor([[0.0517, 0.0359, 0.0158, 0.9590]]),\n",
       " 247: tensor([[0.7673, 0.4133, 0.0136, 0.0117]]),\n",
       " 248: tensor([[0.0398, 0.0355, 0.0202, 0.9665]]),\n",
       " 249: tensor([[0.8414, 0.0475, 0.0135, 0.0176]]),\n",
       " 250: tensor([[0.7450, 0.0260, 0.0094, 0.0191]]),\n",
       " 251: tensor([[0.0612, 0.1174, 0.0101, 0.9424]]),\n",
       " 252: tensor([[0.0386, 0.0466, 0.0159, 0.0150]]),\n",
       " 253: tensor([[0.0304, 0.0402, 0.0289, 0.9691]]),\n",
       " 254: tensor([[0.0380, 0.0345, 0.0192, 0.9636]]),\n",
       " 255: tensor([[0.9529, 0.0643, 0.0211, 0.0207]]),\n",
       " 256: tensor([[0.0326, 0.7500, 0.0078, 0.1014]]),\n",
       " 257: tensor([[0.1216, 0.0433, 0.0137, 0.9348]]),\n",
       " 258: tensor([[0.9623, 0.0367, 0.0262, 0.0386]]),\n",
       " 259: tensor([[0.0339, 0.0360, 0.0271, 0.9726]]),\n",
       " 260: tensor([[0.7611, 0.3035, 0.0086, 0.0307]]),\n",
       " 261: tensor([[0.0459, 0.9556, 0.0163, 0.0591]]),\n",
       " 262: tensor([[0.4464, 0.0408, 0.0053, 0.0348]]),\n",
       " 263: tensor([[0.0592, 0.9612, 0.0251, 0.0307]]),\n",
       " 264: tensor([[0.0313, 0.0361, 0.0238, 0.9537]]),\n",
       " 265: tensor([[0.0974, 0.9503, 0.0233, 0.0343]]),\n",
       " 266: tensor([[0.0503, 0.9654, 0.0300, 0.0302]]),\n",
       " 267: tensor([[0.0251, 0.0550, 0.6986, 0.0157]]),\n",
       " 268: tensor([[0.0525, 0.8666, 0.0090, 0.1203]]),\n",
       " 269: tensor([[0.2056, 0.8704, 0.0207, 0.0140]]),\n",
       " 270: tensor([[0.8861, 0.0326, 0.0148, 0.0185]]),\n",
       " 271: tensor([[0.0262, 0.5889, 0.0547, 0.0106]]),\n",
       " 272: tensor([[0.0209, 0.0888, 0.0202, 0.0133]]),\n",
       " 273: tensor([[0.0360, 0.0384, 0.0211, 0.9650]]),\n",
       " 274: tensor([[0.7981, 0.0690, 0.0559, 0.0118]]),\n",
       " 275: tensor([[0.0356, 0.0377, 0.0250, 0.9699]]),\n",
       " 276: tensor([[0.0447, 0.0303, 0.0158, 0.9523]]),\n",
       " 277: tensor([[0.0406, 0.9667, 0.0351, 0.0401]]),\n",
       " 278: tensor([[0.0345, 0.0437, 0.0243, 0.9701]]),\n",
       " 279: tensor([[0.0392, 0.0360, 0.0213, 0.9677]]),\n",
       " 280: tensor([[0.9674, 0.0363, 0.0281, 0.0374]]),\n",
       " 281: tensor([[0.0335, 0.0945, 0.0115, 0.0140]]),\n",
       " 282: tensor([[0.0483, 0.8837, 0.0189, 0.0149]]),\n",
       " 283: tensor([[0.0315, 0.0360, 0.0258, 0.9691]]),\n",
       " 284: tensor([[0.0428, 0.1629, 0.0644, 0.4748]]),\n",
       " 285: tensor([[0.0325, 0.0388, 0.0259, 0.9716]]),\n",
       " 286: tensor([[0.8969, 0.0542, 0.0198, 0.0127]]),\n",
       " 287: tensor([[0.0334, 0.0344, 0.0249, 0.9695]]),\n",
       " 288: tensor([[0.9288, 0.0301, 0.0167, 0.0221]]),\n",
       " 289: tensor([[0.0436, 0.9616, 0.0228, 0.0372]]),\n",
       " 290: tensor([[0.9476, 0.0536, 0.0198, 0.0247]]),\n",
       " 291: tensor([[0.9644, 0.0319, 0.0278, 0.0351]]),\n",
       " 292: tensor([[0.0467, 0.9687, 0.0342, 0.0350]]),\n",
       " 293: tensor([[0.0448, 0.9715, 0.0368, 0.0346]]),\n",
       " 294: tensor([[0.0347, 0.0394, 0.0236, 0.9708]]),\n",
       " 295: tensor([[0.0758, 0.9430, 0.0188, 0.0227]]),\n",
       " 296: tensor([[0.0383, 0.7554, 0.1045, 0.0156]]),\n",
       " 297: tensor([[0.0297, 0.9052, 0.0469, 0.0350]]),\n",
       " 298: tensor([[0.9608, 0.0345, 0.0235, 0.0315]]),\n",
       " 299: tensor([[0.0274, 0.1122, 0.0176, 0.0115]]),\n",
       " 300: tensor([[0.0564, 0.0220, 0.0123, 0.3308]]),\n",
       " 301: tensor([[0.0447, 0.9642, 0.0298, 0.0305]]),\n",
       " 302: tensor([[0.0438, 0.0398, 0.0146, 0.0155]]),\n",
       " 303: tensor([[0.0326, 0.0347, 0.0295, 0.9626]]),\n",
       " 304: tensor([[0.9647, 0.0332, 0.0266, 0.0335]]),\n",
       " 305: tensor([[0.9666, 0.0323, 0.0293, 0.0376]]),\n",
       " 306: tensor([[0.0300, 0.8338, 0.0120, 0.0269]]),\n",
       " 307: tensor([[0.0254, 0.0869, 0.0120, 0.9381]]),\n",
       " 308: tensor([[0.9445, 0.0650, 0.0191, 0.0178]]),\n",
       " 309: tensor([[0.0306, 0.0367, 0.0255, 0.9684]]),\n",
       " 310: tensor([[0.0986, 0.0602, 0.0037, 0.0769]]),\n",
       " 311: tensor([[0.9674, 0.0329, 0.0296, 0.0364]]),\n",
       " 312: tensor([[0.0233, 0.1828, 0.6770, 0.0106]]),\n",
       " 313: tensor([[0.0419, 0.9371, 0.0323, 0.0392]]),\n",
       " 314: tensor([[0.0350, 0.0384, 0.0253, 0.9713]]),\n",
       " 315: tensor([[0.3230, 0.8025, 0.0130, 0.0189]]),\n",
       " 316: tensor([[0.9118, 0.0392, 0.0163, 0.0160]]),\n",
       " 317: tensor([[0.0493, 0.9728, 0.0403, 0.0335]]),\n",
       " 318: tensor([[0.0491, 0.9633, 0.0299, 0.0293]]),\n",
       " 319: tensor([[0.6643, 0.0286, 0.0088, 0.0165]]),\n",
       " 320: tensor([[0.0439, 0.0356, 0.0194, 0.9663]]),\n",
       " 321: tensor([[0.1010, 0.0330, 0.0119, 0.0125]]),\n",
       " 322: tensor([[0.0843, 0.6334, 0.0067, 0.0153]]),\n",
       " 323: tensor([[0.9226, 0.1384, 0.0183, 0.0147]]),\n",
       " 324: tensor([[0.9630, 0.0317, 0.0261, 0.0334]]),\n",
       " 325: tensor([[0.9659, 0.0338, 0.0283, 0.0391]]),\n",
       " 326: tensor([[0.9103, 0.1670, 0.0162, 0.0202]]),\n",
       " 327: tensor([[0.3856, 0.0510, 0.0987, 0.0095]]),\n",
       " 328: tensor([[0.0334, 0.0384, 0.0272, 0.9724]]),\n",
       " 329: tensor([[0.0470, 0.9457, 0.0194, 0.0444]]),\n",
       " 330: tensor([[0.5280, 0.3522, 0.0090, 0.0079]]),\n",
       " 331: tensor([[0.0773, 0.0324, 0.0116, 0.0163]]),\n",
       " 332: tensor([[0.2554, 0.0309, 0.0104, 0.0131]]),\n",
       " 333: tensor([[0.1477, 0.9267, 0.0242, 0.0173]]),\n",
       " 334: tensor([[0.9657, 0.0413, 0.0281, 0.0303]]),\n",
       " 335: tensor([[0.3309, 0.1849, 0.0701, 0.0213]]),\n",
       " 336: tensor([[0.1205, 0.9435, 0.0260, 0.0194]]),\n",
       " 337: tensor([[0.9649, 0.0310, 0.0287, 0.0359]]),\n",
       " 338: tensor([[0.0328, 0.0468, 0.9500, 0.0161]]),\n",
       " 339: tensor([[0.0734, 0.9611, 0.0307, 0.0363]]),\n",
       " 340: tensor([[0.0732, 0.0321, 0.0099, 0.0205]]),\n",
       " 341: tensor([[0.0342, 0.0391, 0.0280, 0.9730]]),\n",
       " 342: tensor([[0.0313, 0.1467, 0.0150, 0.0102]]),\n",
       " 343: tensor([[0.0347, 0.0376, 0.0191, 0.0150]]),\n",
       " 344: tensor([[0.9607, 0.0387, 0.0224, 0.0331]]),\n",
       " 345: tensor([[0.0371, 0.0384, 0.0208, 0.9666]]),\n",
       " 346: tensor([[0.0278, 0.9123, 0.0471, 0.0341]]),\n",
       " 347: tensor([[0.9632, 0.0471, 0.0256, 0.0273]]),\n",
       " 348: tensor([[0.2302, 0.0281, 0.0102, 0.0128]]),\n",
       " 349: tensor([[0.0422, 0.1798, 0.0082, 0.0152]]),\n",
       " 350: tensor([[0.1127, 0.0389, 0.0078, 0.0182]]),\n",
       " 351: tensor([[0.1277, 0.6245, 0.0078, 0.3834]]),\n",
       " 352: tensor([[0.9649, 0.0329, 0.0287, 0.0351]]),\n",
       " 353: tensor([[0.9260, 0.1245, 0.0290, 0.0158]]),\n",
       " 354: tensor([[0.9668, 0.0316, 0.0288, 0.0403]]),\n",
       " 355: tensor([[0.0186, 0.5081, 0.0122, 0.8202]]),\n",
       " 356: tensor([[0.0499, 0.9721, 0.0351, 0.0364]]),\n",
       " 357: tensor([[0.0487, 0.9722, 0.0370, 0.0350]]),\n",
       " 358: tensor([[0.4198, 0.0791, 0.0054, 0.0177]]),\n",
       " 359: tensor([[0.9274, 0.0654, 0.0392, 0.0186]]),\n",
       " 360: tensor([[0.0546, 0.9653, 0.0295, 0.0277]]),\n",
       " 361: tensor([[0.1070, 0.4354, 0.0583, 0.0105]]),\n",
       " 362: tensor([[0.9666, 0.0332, 0.0285, 0.0458]]),\n",
       " 363: tensor([[0.9520, 0.0383, 0.0208, 0.0235]]),\n",
       " 364: tensor([[0.0342, 0.0400, 0.0251, 0.9718]]),\n",
       " 365: tensor([[0.0307, 0.7725, 0.0147, 0.1452]]),\n",
       " 366: tensor([[0.0844, 0.9476, 0.0244, 0.0205]]),\n",
       " 367: tensor([[0.0942, 0.0322, 0.0101, 0.9261]]),\n",
       " 368: tensor([[0.0813, 0.8274, 0.0082, 0.0452]]),\n",
       " 369: tensor([[0.9515, 0.0524, 0.0202, 0.0224]]),\n",
       " 370: tensor([[0.4214, 0.0287, 0.0047, 0.2712]]),\n",
       " 371: tensor([[0.0254, 0.1118, 0.0139, 0.9495]]),\n",
       " 372: tensor([[0.0888, 0.0579, 0.0101, 0.0109]]),\n",
       " 373: tensor([[0.0367, 0.0391, 0.0258, 0.9717]]),\n",
       " 374: tensor([[0.0717, 0.0302, 0.0095, 0.9048]]),\n",
       " 375: tensor([[0.4068, 0.7539, 0.0133, 0.0169]]),\n",
       " 376: tensor([[0.9553, 0.0413, 0.0220, 0.0259]]),\n",
       " 377: tensor([[0.0657, 0.9405, 0.0200, 0.0203]]),\n",
       " 378: tensor([[0.9664, 0.0333, 0.0283, 0.0382]]),\n",
       " 379: tensor([[0.8017, 0.0329, 0.0109, 0.0175]]),\n",
       " 380: tensor([[0.0408, 0.0381, 0.0195, 0.9661]]),\n",
       " 381: tensor([[0.0517, 0.0612, 0.0114, 0.0132]]),\n",
       " 382: tensor([[0.0968, 0.0349, 0.0088, 0.9123]]),\n",
       " 383: tensor([[0.0407, 0.0342, 0.0191, 0.9603]]),\n",
       " 384: tensor([[0.0582, 0.9656, 0.0323, 0.0251]]),\n",
       " 385: tensor([[0.9474, 0.0577, 0.0176, 0.0242]]),\n",
       " 386: tensor([[0.0587, 0.9349, 0.0218, 0.0341]]),\n",
       " 387: tensor([[0.1313, 0.0299, 0.0123, 0.0124]]),\n",
       " 388: tensor([[0.1998, 0.0269, 0.0141, 0.0133]]),\n",
       " 389: tensor([[0.0560, 0.9665, 0.0286, 0.0328]]),\n",
       " 390: tensor([[0.9630, 0.0373, 0.0248, 0.0321]]),\n",
       " 391: tensor([[0.0206, 0.1045, 0.0169, 0.0147]]),\n",
       " 392: tensor([[0.9322, 0.1027, 0.0150, 0.0257]]),\n",
       " 393: tensor([[0.0394, 0.0411, 0.0232, 0.9676]]),\n",
       " 394: tensor([[0.9675, 0.0328, 0.0292, 0.0417]]),\n",
       " 395: tensor([[0.0445, 0.9555, 0.0162, 0.0579]]),\n",
       " 396: tensor([[0.0576, 0.5306, 0.0086, 0.0114]]),\n",
       " 397: tensor([[0.0248, 0.0281, 0.9015, 0.0155]]),\n",
       " 398: tensor([[0.9526, 0.0385, 0.0222, 0.0232]]),\n",
       " 399: tensor([[0.0396, 0.5795, 0.0149, 0.0120]]),\n",
       " 400: tensor([[0.0514, 0.9700, 0.0326, 0.0308]]),\n",
       " 401: tensor([[0.1092, 0.9502, 0.0224, 0.0219]]),\n",
       " 402: tensor([[0.0351, 0.0351, 0.0235, 0.9684]]),\n",
       " 403: tensor([[0.0317, 0.0617, 0.0147, 0.9547]]),\n",
       " 404: tensor([[0.0449, 0.9700, 0.0343, 0.0395]]),\n",
       " 405: tensor([[0.0594, 0.5361, 0.0109, 0.0101]]),\n",
       " 406: tensor([[0.0884, 0.1787, 0.0042, 0.6808]]),\n",
       " 407: tensor([[0.7980, 0.2187, 0.0197, 0.0194]]),\n",
       " 408: tensor([[0.0411, 0.0386, 0.0231, 0.9715]]),\n",
       " 409: tensor([[0.6155, 0.1091, 0.0099, 0.0082]]),\n",
       " 410: tensor([[0.0380, 0.4597, 0.0050, 0.0395]]),\n",
       " 411: tensor([[0.0819, 0.9367, 0.0204, 0.0335]]),\n",
       " 412: tensor([[0.1043, 0.6068, 0.0112, 0.0122]]),\n",
       " 413: tensor([[0.0397, 0.0402, 0.0199, 0.9699]]),\n",
       " 414: tensor([[0.0778, 0.1936, 0.1071, 0.3109]]),\n",
       " 415: tensor([[0.0312, 0.1320, 0.0063, 0.3095]]),\n",
       " 416: tensor([[0.0344, 0.2306, 0.0074, 0.0330]]),\n",
       " 417: tensor([[0.8129, 0.2226, 0.0452, 0.0157]]),\n",
       " 418: tensor([[0.9503, 0.0314, 0.0228, 0.0257]]),\n",
       " 419: tensor([[0.0321, 0.6843, 0.0094, 0.0255]]),\n",
       " 420: tensor([[0.9412, 0.0418, 0.0182, 0.0207]]),\n",
       " 421: tensor([[0.3206, 0.0443, 0.0098, 0.0102]]),\n",
       " 422: tensor([[0.0516, 0.9080, 0.0145, 0.0242]]),\n",
       " 423: tensor([[0.0500, 0.9723, 0.0381, 0.0325]]),\n",
       " 424: tensor([[0.0482, 0.9696, 0.0338, 0.0318]]),\n",
       " 425: tensor([[0.9581, 0.0429, 0.0231, 0.0242]]),\n",
       " 426: tensor([[0.8055, 0.0583, 0.0130, 0.0117]]),\n",
       " 427: tensor([[0.0308, 0.0395, 0.0291, 0.9698]]),\n",
       " 428: tensor([[0.0533, 0.0250, 0.0141, 0.9392]]),\n",
       " 429: tensor([[0.0419, 0.3331, 0.0081, 0.0149]]),\n",
       " 430: tensor([[0.0497, 0.9509, 0.0255, 0.0224]]),\n",
       " 431: tensor([[0.0946, 0.9016, 0.0304, 0.0261]]),\n",
       " 432: tensor([[0.8979, 0.0316, 0.0172, 0.0167]]),\n",
       " 433: tensor([[0.4084, 0.0312, 0.0077, 0.0167]]),\n",
       " 434: tensor([[0.3874, 0.7925, 0.0272, 0.0230]]),\n",
       " 435: tensor([[0.0505, 0.9690, 0.0344, 0.0394]]),\n",
       " 436: tensor([[0.4999, 0.0340, 0.0108, 0.0108]]),\n",
       " 437: tensor([[0.0445, 0.3208, 0.2895, 0.0353]]),\n",
       " 438: tensor([[0.2434, 0.8208, 0.0175, 0.0285]]),\n",
       " 439: tensor([[0.0389, 0.0328, 0.0234, 0.9692]]),\n",
       " 440: tensor([[0.0528, 0.9626, 0.0279, 0.0274]]),\n",
       " 441: tensor([[0.0682, 0.0351, 0.0118, 0.0173]]),\n",
       " 442: tensor([[0.0402, 0.0354, 0.0208, 0.9671]]),\n",
       " 443: tensor([[0.0520, 0.9609, 0.0293, 0.0268]]),\n",
       " 444: tensor([[0.7457, 0.1351, 0.0728, 0.0154]]),\n",
       " 445: tensor([[0.0248, 0.0512, 0.0235, 0.9615]]),\n",
       " 446: tensor([[0.0406, 0.0473, 0.0136, 0.0170]]),\n",
       " 447: tensor([[0.0389, 0.0328, 0.0194, 0.9615]]),\n",
       " 448: tensor([[0.0363, 0.0347, 0.0231, 0.9677]]),\n",
       " 449: tensor([[0.0781, 0.2106, 0.4991, 0.0197]]),\n",
       " 450: tensor([[0.4213, 0.1536, 0.0822, 0.0150]]),\n",
       " 451: tensor([[0.0806, 0.2888, 0.0088, 0.0095]]),\n",
       " 452: tensor([[0.0691, 0.0314, 0.0146, 0.9516]]),\n",
       " 453: tensor([[0.0593, 0.8484, 0.0137, 0.0183]]),\n",
       " 454: tensor([[0.0076, 0.1100, 0.0746, 0.2099]]),\n",
       " 455: tensor([[0.9542, 0.0508, 0.0192, 0.0299]]),\n",
       " 456: tensor([[0.0344, 0.0399, 0.0260, 0.9735]]),\n",
       " 457: tensor([[0.0314, 0.3056, 0.0049, 0.7029]]),\n",
       " 458: tensor([[0.9604, 0.0357, 0.0252, 0.0290]]),\n",
       " 459: tensor([[0.8894, 0.0309, 0.0148, 0.0191]]),\n",
       " 460: tensor([[0.0122, 0.0260, 0.5377, 0.0201]]),\n",
       " 461: tensor([[0.9488, 0.0291, 0.0212, 0.0271]]),\n",
       " 462: tensor([[0.7345, 0.0234, 0.0088, 0.0846]]),\n",
       " 463: tensor([[0.0320, 0.1261, 0.0184, 0.8985]]),\n",
       " 464: tensor([[0.0311, 0.0379, 0.0253, 0.9696]]),\n",
       " 465: tensor([[0.1787, 0.9095, 0.0233, 0.0184]]),\n",
       " 466: tensor([[0.2956, 0.5826, 0.0083, 0.1567]]),\n",
       " 467: tensor([[0.0320, 0.0448, 0.0275, 0.9732]]),\n",
       " 468: tensor([[0.0129, 0.0226, 0.1545, 0.0295]]),\n",
       " 469: tensor([[0.0318, 0.0391, 0.0202, 0.0153]]),\n",
       " 470: tensor([[0.0429, 0.0366, 0.0203, 0.9658]]),\n",
       " 471: tensor([[0.9635, 0.0514, 0.0239, 0.0332]]),\n",
       " 472: tensor([[0.0499, 0.0391, 0.0095, 0.0239]]),\n",
       " 473: tensor([[0.0296, 0.2548, 0.6424, 0.0127]]),\n",
       " 474: tensor([[0.0947, 0.1550, 0.0065, 0.0154]]),\n",
       " 475: tensor([[0.0442, 0.0341, 0.0194, 0.9638]]),\n",
       " 476: tensor([[0.9643, 0.0345, 0.0276, 0.0332]]),\n",
       " 477: tensor([[0.4110, 0.6149, 0.0193, 0.0141]]),\n",
       " 478: tensor([[0.2484, 0.1479, 0.0096, 0.2294]]),\n",
       " 479: tensor([[0.0556, 0.0369, 0.0142, 0.9548]]),\n",
       " 480: tensor([[0.5608, 0.1405, 0.0076, 0.0237]]),\n",
       " 481: tensor([[0.0544, 0.9703, 0.0345, 0.0295]]),\n",
       " 482: tensor([[0.9670, 0.0334, 0.0286, 0.0379]]),\n",
       " 483: tensor([[0.0868, 0.2145, 0.0060, 0.0143]]),\n",
       " 484: tensor([[0.8599, 0.0570, 0.0222, 0.0123]]),\n",
       " 485: tensor([[0.0491, 0.9705, 0.0338, 0.0342]]),\n",
       " 486: tensor([[0.0533, 0.9687, 0.0315, 0.0402]]),\n",
       " 487: tensor([[0.0566, 0.1035, 0.6472, 0.0165]]),\n",
       " 488: tensor([[0.0599, 0.0775, 0.0504, 0.0115]]),\n",
       " 489: tensor([[0.0893, 0.3024, 0.0061, 0.0139]]),\n",
       " 490: tensor([[0.0290, 0.9328, 0.0202, 0.0335]]),\n",
       " 491: tensor([[0.5753, 0.1675, 0.0063, 0.0404]]),\n",
       " 492: tensor([[0.2562, 0.0336, 0.0097, 0.0117]]),\n",
       " 493: tensor([[0.9636, 0.0539, 0.0285, 0.0275]]),\n",
       " 494: tensor([[0.9518, 0.0314, 0.0230, 0.0266]]),\n",
       " 495: tensor([[0.0449, 0.0386, 0.0186, 0.9672]]),\n",
       " 496: tensor([[0.4668, 0.2409, 0.0045, 0.1480]]),\n",
       " 497: tensor([[0.9662, 0.0339, 0.0279, 0.0392]]),\n",
       " 498: tensor([[0.0520, 0.0345, 0.0107, 0.9124]]),\n",
       " 499: tensor([[0.1609, 0.0442, 0.0108, 0.0110]])}"
      ]
     },
     "execution_count": 62,
     "metadata": {},
     "output_type": "execute_result"
    }
   ],
   "execution_count": 62
  },
  {
   "metadata": {
    "ExecuteTime": {
     "end_time": "2024-06-24T23:07:58.057653Z",
     "start_time": "2024-06-24T23:07:58.014740Z"
    }
   },
   "cell_type": "code",
   "source": [
    "# 데이터프레임으로 변환\n",
    "pred_df = pd.DataFrame({k: v.numpy().flatten() for k, v in pred_dict.items()}).T"
   ],
   "id": "1543505d06484b25",
   "outputs": [],
   "execution_count": 64
  },
  {
   "metadata": {
    "ExecuteTime": {
     "end_time": "2024-06-24T23:13:31.853921Z",
     "start_time": "2024-06-24T23:13:31.842389Z"
    }
   },
   "cell_type": "code",
   "source": "pred_df[4] = 1 - pred_df.sum(axis=1)",
   "id": "7ec131b235375956",
   "outputs": [],
   "execution_count": 68
  },
  {
   "metadata": {
    "ExecuteTime": {
     "end_time": "2024-06-24T23:13:37.512737Z",
     "start_time": "2024-06-24T23:13:37.510287Z"
    }
   },
   "cell_type": "code",
   "source": [
    "# 열 이름 지정\n",
    "pred_df.columns = encoder.classes_"
   ],
   "id": "dd2da0b4fcd222ba",
   "outputs": [],
   "execution_count": 69
  },
  {
   "metadata": {
    "ExecuteTime": {
     "end_time": "2024-06-24T23:13:39.070916Z",
     "start_time": "2024-06-24T23:13:39.063339Z"
    }
   },
   "cell_type": "code",
   "source": "pred_df",
   "id": "26339b61acfda807",
   "outputs": [
    {
     "data": {
      "text/plain": [
       "        갈취 대화  기타 괴롭힘 대화     일반 대화  직장 내 괴롭힘 대화     협박 대화\n",
       "0    0.961002   0.032163  0.025022     0.031153 -0.049339\n",
       "1    0.038520   0.036031  0.020352     0.966909 -0.061812\n",
       "2    0.021363   0.236903  0.006570     0.718662  0.016503\n",
       "3    0.038465   0.307642  0.530322     0.010669  0.112903\n",
       "4    0.095473   0.878916  0.007197     0.113132 -0.094717\n",
       "..        ...        ...       ...          ...       ...\n",
       "495  0.044865   0.038630  0.018587     0.967196 -0.069278\n",
       "496  0.466797   0.240948  0.004532     0.148015  0.139708\n",
       "497  0.966228   0.033899  0.027889     0.039161 -0.067178\n",
       "498  0.051973   0.034525  0.010715     0.912366 -0.009579\n",
       "499  0.160857   0.044238  0.010813     0.010972  0.773120\n",
       "\n",
       "[500 rows x 5 columns]"
      ],
      "text/html": [
       "<div>\n",
       "<style scoped>\n",
       "    .dataframe tbody tr th:only-of-type {\n",
       "        vertical-align: middle;\n",
       "    }\n",
       "\n",
       "    .dataframe tbody tr th {\n",
       "        vertical-align: top;\n",
       "    }\n",
       "\n",
       "    .dataframe thead th {\n",
       "        text-align: right;\n",
       "    }\n",
       "</style>\n",
       "<table border=\"1\" class=\"dataframe\">\n",
       "  <thead>\n",
       "    <tr style=\"text-align: right;\">\n",
       "      <th></th>\n",
       "      <th>갈취 대화</th>\n",
       "      <th>기타 괴롭힘 대화</th>\n",
       "      <th>일반 대화</th>\n",
       "      <th>직장 내 괴롭힘 대화</th>\n",
       "      <th>협박 대화</th>\n",
       "    </tr>\n",
       "  </thead>\n",
       "  <tbody>\n",
       "    <tr>\n",
       "      <th>0</th>\n",
       "      <td>0.961002</td>\n",
       "      <td>0.032163</td>\n",
       "      <td>0.025022</td>\n",
       "      <td>0.031153</td>\n",
       "      <td>-0.049339</td>\n",
       "    </tr>\n",
       "    <tr>\n",
       "      <th>1</th>\n",
       "      <td>0.038520</td>\n",
       "      <td>0.036031</td>\n",
       "      <td>0.020352</td>\n",
       "      <td>0.966909</td>\n",
       "      <td>-0.061812</td>\n",
       "    </tr>\n",
       "    <tr>\n",
       "      <th>2</th>\n",
       "      <td>0.021363</td>\n",
       "      <td>0.236903</td>\n",
       "      <td>0.006570</td>\n",
       "      <td>0.718662</td>\n",
       "      <td>0.016503</td>\n",
       "    </tr>\n",
       "    <tr>\n",
       "      <th>3</th>\n",
       "      <td>0.038465</td>\n",
       "      <td>0.307642</td>\n",
       "      <td>0.530322</td>\n",
       "      <td>0.010669</td>\n",
       "      <td>0.112903</td>\n",
       "    </tr>\n",
       "    <tr>\n",
       "      <th>4</th>\n",
       "      <td>0.095473</td>\n",
       "      <td>0.878916</td>\n",
       "      <td>0.007197</td>\n",
       "      <td>0.113132</td>\n",
       "      <td>-0.094717</td>\n",
       "    </tr>\n",
       "    <tr>\n",
       "      <th>...</th>\n",
       "      <td>...</td>\n",
       "      <td>...</td>\n",
       "      <td>...</td>\n",
       "      <td>...</td>\n",
       "      <td>...</td>\n",
       "    </tr>\n",
       "    <tr>\n",
       "      <th>495</th>\n",
       "      <td>0.044865</td>\n",
       "      <td>0.038630</td>\n",
       "      <td>0.018587</td>\n",
       "      <td>0.967196</td>\n",
       "      <td>-0.069278</td>\n",
       "    </tr>\n",
       "    <tr>\n",
       "      <th>496</th>\n",
       "      <td>0.466797</td>\n",
       "      <td>0.240948</td>\n",
       "      <td>0.004532</td>\n",
       "      <td>0.148015</td>\n",
       "      <td>0.139708</td>\n",
       "    </tr>\n",
       "    <tr>\n",
       "      <th>497</th>\n",
       "      <td>0.966228</td>\n",
       "      <td>0.033899</td>\n",
       "      <td>0.027889</td>\n",
       "      <td>0.039161</td>\n",
       "      <td>-0.067178</td>\n",
       "    </tr>\n",
       "    <tr>\n",
       "      <th>498</th>\n",
       "      <td>0.051973</td>\n",
       "      <td>0.034525</td>\n",
       "      <td>0.010715</td>\n",
       "      <td>0.912366</td>\n",
       "      <td>-0.009579</td>\n",
       "    </tr>\n",
       "    <tr>\n",
       "      <th>499</th>\n",
       "      <td>0.160857</td>\n",
       "      <td>0.044238</td>\n",
       "      <td>0.010813</td>\n",
       "      <td>0.010972</td>\n",
       "      <td>0.773120</td>\n",
       "    </tr>\n",
       "  </tbody>\n",
       "</table>\n",
       "<p>500 rows × 5 columns</p>\n",
       "</div>"
      ]
     },
     "execution_count": 70,
     "metadata": {},
     "output_type": "execute_result"
    }
   ],
   "execution_count": 70
  },
  {
   "metadata": {
    "ExecuteTime": {
     "end_time": "2024-06-24T23:14:15.736457Z",
     "start_time": "2024-06-24T23:14:15.733287Z"
    }
   },
   "cell_type": "code",
   "source": "",
   "id": "d58511ccb199fd7f",
   "outputs": [],
   "execution_count": 71
  },
  {
   "metadata": {
    "ExecuteTime": {
     "end_time": "2024-06-24T23:14:16.508441Z",
     "start_time": "2024-06-24T23:14:16.505346Z"
    }
   },
   "cell_type": "code",
   "source": "pred_df = pred_df.astype('float')",
   "id": "ab1c25f7c7eb373b",
   "outputs": [],
   "execution_count": 72
  },
  {
   "metadata": {
    "ExecuteTime": {
     "end_time": "2024-06-24T23:14:17.447700Z",
     "start_time": "2024-06-24T23:14:17.443993Z"
    }
   },
   "cell_type": "code",
   "source": "pred_df['max_val'] = pred_df.max(axis=1)",
   "id": "e056b3b3a10b9e07",
   "outputs": [],
   "execution_count": 73
  },
  {
   "metadata": {
    "ExecuteTime": {
     "end_time": "2024-06-24T23:14:18.201037Z",
     "start_time": "2024-06-24T23:14:18.198725Z"
    }
   },
   "cell_type": "code",
   "source": "import numpy as np",
   "id": "d93af7c3f96c223a",
   "outputs": [],
   "execution_count": 74
  },
  {
   "metadata": {
    "ExecuteTime": {
     "end_time": "2024-06-24T23:14:18.832594Z",
     "start_time": "2024-06-24T23:14:18.826328Z"
    }
   },
   "cell_type": "code",
   "source": "pred_df",
   "id": "4d916ecc940deff4",
   "outputs": [
    {
     "data": {
      "text/plain": [
       "        갈취 대화  기타 괴롭힘 대화     일반 대화  직장 내 괴롭힘 대화     협박 대화   max_val\n",
       "0    0.961002   0.032163  0.025022     0.031153 -0.049339  0.961002\n",
       "1    0.038520   0.036031  0.020352     0.966909 -0.061812  0.966909\n",
       "2    0.021363   0.236903  0.006570     0.718662  0.016503  0.718662\n",
       "3    0.038465   0.307642  0.530322     0.010669  0.112903  0.530322\n",
       "4    0.095473   0.878916  0.007197     0.113132 -0.094717  0.878916\n",
       "..        ...        ...       ...          ...       ...       ...\n",
       "495  0.044865   0.038630  0.018587     0.967196 -0.069278  0.967196\n",
       "496  0.466797   0.240948  0.004532     0.148015  0.139708  0.466797\n",
       "497  0.966228   0.033899  0.027889     0.039161 -0.067178  0.966228\n",
       "498  0.051973   0.034525  0.010715     0.912366 -0.009579  0.912366\n",
       "499  0.160857   0.044238  0.010813     0.010972  0.773120  0.773120\n",
       "\n",
       "[500 rows x 6 columns]"
      ],
      "text/html": [
       "<div>\n",
       "<style scoped>\n",
       "    .dataframe tbody tr th:only-of-type {\n",
       "        vertical-align: middle;\n",
       "    }\n",
       "\n",
       "    .dataframe tbody tr th {\n",
       "        vertical-align: top;\n",
       "    }\n",
       "\n",
       "    .dataframe thead th {\n",
       "        text-align: right;\n",
       "    }\n",
       "</style>\n",
       "<table border=\"1\" class=\"dataframe\">\n",
       "  <thead>\n",
       "    <tr style=\"text-align: right;\">\n",
       "      <th></th>\n",
       "      <th>갈취 대화</th>\n",
       "      <th>기타 괴롭힘 대화</th>\n",
       "      <th>일반 대화</th>\n",
       "      <th>직장 내 괴롭힘 대화</th>\n",
       "      <th>협박 대화</th>\n",
       "      <th>max_val</th>\n",
       "    </tr>\n",
       "  </thead>\n",
       "  <tbody>\n",
       "    <tr>\n",
       "      <th>0</th>\n",
       "      <td>0.961002</td>\n",
       "      <td>0.032163</td>\n",
       "      <td>0.025022</td>\n",
       "      <td>0.031153</td>\n",
       "      <td>-0.049339</td>\n",
       "      <td>0.961002</td>\n",
       "    </tr>\n",
       "    <tr>\n",
       "      <th>1</th>\n",
       "      <td>0.038520</td>\n",
       "      <td>0.036031</td>\n",
       "      <td>0.020352</td>\n",
       "      <td>0.966909</td>\n",
       "      <td>-0.061812</td>\n",
       "      <td>0.966909</td>\n",
       "    </tr>\n",
       "    <tr>\n",
       "      <th>2</th>\n",
       "      <td>0.021363</td>\n",
       "      <td>0.236903</td>\n",
       "      <td>0.006570</td>\n",
       "      <td>0.718662</td>\n",
       "      <td>0.016503</td>\n",
       "      <td>0.718662</td>\n",
       "    </tr>\n",
       "    <tr>\n",
       "      <th>3</th>\n",
       "      <td>0.038465</td>\n",
       "      <td>0.307642</td>\n",
       "      <td>0.530322</td>\n",
       "      <td>0.010669</td>\n",
       "      <td>0.112903</td>\n",
       "      <td>0.530322</td>\n",
       "    </tr>\n",
       "    <tr>\n",
       "      <th>4</th>\n",
       "      <td>0.095473</td>\n",
       "      <td>0.878916</td>\n",
       "      <td>0.007197</td>\n",
       "      <td>0.113132</td>\n",
       "      <td>-0.094717</td>\n",
       "      <td>0.878916</td>\n",
       "    </tr>\n",
       "    <tr>\n",
       "      <th>...</th>\n",
       "      <td>...</td>\n",
       "      <td>...</td>\n",
       "      <td>...</td>\n",
       "      <td>...</td>\n",
       "      <td>...</td>\n",
       "      <td>...</td>\n",
       "    </tr>\n",
       "    <tr>\n",
       "      <th>495</th>\n",
       "      <td>0.044865</td>\n",
       "      <td>0.038630</td>\n",
       "      <td>0.018587</td>\n",
       "      <td>0.967196</td>\n",
       "      <td>-0.069278</td>\n",
       "      <td>0.967196</td>\n",
       "    </tr>\n",
       "    <tr>\n",
       "      <th>496</th>\n",
       "      <td>0.466797</td>\n",
       "      <td>0.240948</td>\n",
       "      <td>0.004532</td>\n",
       "      <td>0.148015</td>\n",
       "      <td>0.139708</td>\n",
       "      <td>0.466797</td>\n",
       "    </tr>\n",
       "    <tr>\n",
       "      <th>497</th>\n",
       "      <td>0.966228</td>\n",
       "      <td>0.033899</td>\n",
       "      <td>0.027889</td>\n",
       "      <td>0.039161</td>\n",
       "      <td>-0.067178</td>\n",
       "      <td>0.966228</td>\n",
       "    </tr>\n",
       "    <tr>\n",
       "      <th>498</th>\n",
       "      <td>0.051973</td>\n",
       "      <td>0.034525</td>\n",
       "      <td>0.010715</td>\n",
       "      <td>0.912366</td>\n",
       "      <td>-0.009579</td>\n",
       "      <td>0.912366</td>\n",
       "    </tr>\n",
       "    <tr>\n",
       "      <th>499</th>\n",
       "      <td>0.160857</td>\n",
       "      <td>0.044238</td>\n",
       "      <td>0.010813</td>\n",
       "      <td>0.010972</td>\n",
       "      <td>0.773120</td>\n",
       "      <td>0.773120</td>\n",
       "    </tr>\n",
       "  </tbody>\n",
       "</table>\n",
       "<p>500 rows × 6 columns</p>\n",
       "</div>"
      ]
     },
     "execution_count": 75,
     "metadata": {},
     "output_type": "execute_result"
    }
   ],
   "execution_count": 75
  },
  {
   "metadata": {
    "ExecuteTime": {
     "end_time": "2024-06-24T23:14:21.364860Z",
     "start_time": "2024-06-24T23:14:21.339214Z"
    }
   },
   "cell_type": "code",
   "source": "pred_df['label'] = pred_df.iloc[:,:4].progress_apply(lambda x : pred_df.columns[np.argmax(x)], axis=1 )",
   "id": "c356cdb5ad04e5d8",
   "outputs": [
    {
     "name": "stderr",
     "output_type": "stream",
     "text": [
      "100%|██████████| 500/500 [00:00<00:00, 28540.06it/s]\n"
     ]
    }
   ],
   "execution_count": 76
  },
  {
   "metadata": {
    "ExecuteTime": {
     "end_time": "2024-06-24T23:14:24.015773Z",
     "start_time": "2024-06-24T23:14:24.008735Z"
    }
   },
   "cell_type": "code",
   "source": "pred_df",
   "id": "dc8ce608ab46e28f",
   "outputs": [
    {
     "data": {
      "text/plain": [
       "        갈취 대화  기타 괴롭힘 대화     일반 대화  직장 내 괴롭힘 대화     협박 대화   max_val  \\\n",
       "0    0.961002   0.032163  0.025022     0.031153 -0.049339  0.961002   \n",
       "1    0.038520   0.036031  0.020352     0.966909 -0.061812  0.966909   \n",
       "2    0.021363   0.236903  0.006570     0.718662  0.016503  0.718662   \n",
       "3    0.038465   0.307642  0.530322     0.010669  0.112903  0.530322   \n",
       "4    0.095473   0.878916  0.007197     0.113132 -0.094717  0.878916   \n",
       "..        ...        ...       ...          ...       ...       ...   \n",
       "495  0.044865   0.038630  0.018587     0.967196 -0.069278  0.967196   \n",
       "496  0.466797   0.240948  0.004532     0.148015  0.139708  0.466797   \n",
       "497  0.966228   0.033899  0.027889     0.039161 -0.067178  0.966228   \n",
       "498  0.051973   0.034525  0.010715     0.912366 -0.009579  0.912366   \n",
       "499  0.160857   0.044238  0.010813     0.010972  0.773120  0.773120   \n",
       "\n",
       "           label  \n",
       "0          갈취 대화  \n",
       "1    직장 내 괴롭힘 대화  \n",
       "2    직장 내 괴롭힘 대화  \n",
       "3          일반 대화  \n",
       "4      기타 괴롭힘 대화  \n",
       "..           ...  \n",
       "495  직장 내 괴롭힘 대화  \n",
       "496        갈취 대화  \n",
       "497        갈취 대화  \n",
       "498  직장 내 괴롭힘 대화  \n",
       "499        갈취 대화  \n",
       "\n",
       "[500 rows x 7 columns]"
      ],
      "text/html": [
       "<div>\n",
       "<style scoped>\n",
       "    .dataframe tbody tr th:only-of-type {\n",
       "        vertical-align: middle;\n",
       "    }\n",
       "\n",
       "    .dataframe tbody tr th {\n",
       "        vertical-align: top;\n",
       "    }\n",
       "\n",
       "    .dataframe thead th {\n",
       "        text-align: right;\n",
       "    }\n",
       "</style>\n",
       "<table border=\"1\" class=\"dataframe\">\n",
       "  <thead>\n",
       "    <tr style=\"text-align: right;\">\n",
       "      <th></th>\n",
       "      <th>갈취 대화</th>\n",
       "      <th>기타 괴롭힘 대화</th>\n",
       "      <th>일반 대화</th>\n",
       "      <th>직장 내 괴롭힘 대화</th>\n",
       "      <th>협박 대화</th>\n",
       "      <th>max_val</th>\n",
       "      <th>label</th>\n",
       "    </tr>\n",
       "  </thead>\n",
       "  <tbody>\n",
       "    <tr>\n",
       "      <th>0</th>\n",
       "      <td>0.961002</td>\n",
       "      <td>0.032163</td>\n",
       "      <td>0.025022</td>\n",
       "      <td>0.031153</td>\n",
       "      <td>-0.049339</td>\n",
       "      <td>0.961002</td>\n",
       "      <td>갈취 대화</td>\n",
       "    </tr>\n",
       "    <tr>\n",
       "      <th>1</th>\n",
       "      <td>0.038520</td>\n",
       "      <td>0.036031</td>\n",
       "      <td>0.020352</td>\n",
       "      <td>0.966909</td>\n",
       "      <td>-0.061812</td>\n",
       "      <td>0.966909</td>\n",
       "      <td>직장 내 괴롭힘 대화</td>\n",
       "    </tr>\n",
       "    <tr>\n",
       "      <th>2</th>\n",
       "      <td>0.021363</td>\n",
       "      <td>0.236903</td>\n",
       "      <td>0.006570</td>\n",
       "      <td>0.718662</td>\n",
       "      <td>0.016503</td>\n",
       "      <td>0.718662</td>\n",
       "      <td>직장 내 괴롭힘 대화</td>\n",
       "    </tr>\n",
       "    <tr>\n",
       "      <th>3</th>\n",
       "      <td>0.038465</td>\n",
       "      <td>0.307642</td>\n",
       "      <td>0.530322</td>\n",
       "      <td>0.010669</td>\n",
       "      <td>0.112903</td>\n",
       "      <td>0.530322</td>\n",
       "      <td>일반 대화</td>\n",
       "    </tr>\n",
       "    <tr>\n",
       "      <th>4</th>\n",
       "      <td>0.095473</td>\n",
       "      <td>0.878916</td>\n",
       "      <td>0.007197</td>\n",
       "      <td>0.113132</td>\n",
       "      <td>-0.094717</td>\n",
       "      <td>0.878916</td>\n",
       "      <td>기타 괴롭힘 대화</td>\n",
       "    </tr>\n",
       "    <tr>\n",
       "      <th>...</th>\n",
       "      <td>...</td>\n",
       "      <td>...</td>\n",
       "      <td>...</td>\n",
       "      <td>...</td>\n",
       "      <td>...</td>\n",
       "      <td>...</td>\n",
       "      <td>...</td>\n",
       "    </tr>\n",
       "    <tr>\n",
       "      <th>495</th>\n",
       "      <td>0.044865</td>\n",
       "      <td>0.038630</td>\n",
       "      <td>0.018587</td>\n",
       "      <td>0.967196</td>\n",
       "      <td>-0.069278</td>\n",
       "      <td>0.967196</td>\n",
       "      <td>직장 내 괴롭힘 대화</td>\n",
       "    </tr>\n",
       "    <tr>\n",
       "      <th>496</th>\n",
       "      <td>0.466797</td>\n",
       "      <td>0.240948</td>\n",
       "      <td>0.004532</td>\n",
       "      <td>0.148015</td>\n",
       "      <td>0.139708</td>\n",
       "      <td>0.466797</td>\n",
       "      <td>갈취 대화</td>\n",
       "    </tr>\n",
       "    <tr>\n",
       "      <th>497</th>\n",
       "      <td>0.966228</td>\n",
       "      <td>0.033899</td>\n",
       "      <td>0.027889</td>\n",
       "      <td>0.039161</td>\n",
       "      <td>-0.067178</td>\n",
       "      <td>0.966228</td>\n",
       "      <td>갈취 대화</td>\n",
       "    </tr>\n",
       "    <tr>\n",
       "      <th>498</th>\n",
       "      <td>0.051973</td>\n",
       "      <td>0.034525</td>\n",
       "      <td>0.010715</td>\n",
       "      <td>0.912366</td>\n",
       "      <td>-0.009579</td>\n",
       "      <td>0.912366</td>\n",
       "      <td>직장 내 괴롭힘 대화</td>\n",
       "    </tr>\n",
       "    <tr>\n",
       "      <th>499</th>\n",
       "      <td>0.160857</td>\n",
       "      <td>0.044238</td>\n",
       "      <td>0.010813</td>\n",
       "      <td>0.010972</td>\n",
       "      <td>0.773120</td>\n",
       "      <td>0.773120</td>\n",
       "      <td>갈취 대화</td>\n",
       "    </tr>\n",
       "  </tbody>\n",
       "</table>\n",
       "<p>500 rows × 7 columns</p>\n",
       "</div>"
      ]
     },
     "execution_count": 77,
     "metadata": {},
     "output_type": "execute_result"
    }
   ],
   "execution_count": 77
  },
  {
   "metadata": {
    "ExecuteTime": {
     "end_time": "2024-06-24T23:14:31.239217Z",
     "start_time": "2024-06-24T23:14:31.067153Z"
    }
   },
   "cell_type": "code",
   "source": "pred_df.max_val.hist()",
   "id": "5d207fec8fc6f69b",
   "outputs": [
    {
     "data": {
      "text/plain": [
       "<AxesSubplot: >"
      ]
     },
     "execution_count": 78,
     "metadata": {},
     "output_type": "execute_result"
    },
    {
     "data": {
      "text/plain": [
       "<Figure size 640x480 with 1 Axes>"
      ],
      "image/png": "[encoded data removed]"
     },
     "metadata": {},
     "output_type": "display_data"
    }
   ],
   "execution_count": 78
  },
  {
   "metadata": {
    "ExecuteTime": {
     "end_time": "2024-06-24T23:14:33.343983Z",
     "start_time": "2024-06-24T23:14:33.338406Z"
    }
   },
   "cell_type": "code",
   "source": "pred_df[pred_df.max_val < 0.4]",
   "id": "6ff70473c48fe73a",
   "outputs": [
    {
     "data": {
      "text/plain": [
       "        갈취 대화  기타 괴롭힘 대화     일반 대화  직장 내 괴롭힘 대화     협박 대화   max_val  \\\n",
       "110  0.396821   0.374814  0.012938     0.018834  0.196594  0.396821   \n",
       "335  0.330875   0.184859  0.070092     0.021322  0.392853  0.392853   \n",
       "414  0.077757   0.193596  0.107111     0.310877  0.310659  0.310877   \n",
       "437  0.044478   0.320778  0.289502     0.035284  0.309958  0.320778   \n",
       "478  0.248420   0.147870  0.009604     0.229386  0.364721  0.364721   \n",
       "\n",
       "           label  \n",
       "110        갈취 대화  \n",
       "335        갈취 대화  \n",
       "414  직장 내 괴롭힘 대화  \n",
       "437    기타 괴롭힘 대화  \n",
       "478        갈취 대화  "
      ],
      "text/html": [
       "<div>\n",
       "<style scoped>\n",
       "    .dataframe tbody tr th:only-of-type {\n",
       "        vertical-align: middle;\n",
       "    }\n",
       "\n",
       "    .dataframe tbody tr th {\n",
       "        vertical-align: top;\n",
       "    }\n",
       "\n",
       "    .dataframe thead th {\n",
       "        text-align: right;\n",
       "    }\n",
       "</style>\n",
       "<table border=\"1\" class=\"dataframe\">\n",
       "  <thead>\n",
       "    <tr style=\"text-align: right;\">\n",
       "      <th></th>\n",
       "      <th>갈취 대화</th>\n",
       "      <th>기타 괴롭힘 대화</th>\n",
       "      <th>일반 대화</th>\n",
       "      <th>직장 내 괴롭힘 대화</th>\n",
       "      <th>협박 대화</th>\n",
       "      <th>max_val</th>\n",
       "      <th>label</th>\n",
       "    </tr>\n",
       "  </thead>\n",
       "  <tbody>\n",
       "    <tr>\n",
       "      <th>110</th>\n",
       "      <td>0.396821</td>\n",
       "      <td>0.374814</td>\n",
       "      <td>0.012938</td>\n",
       "      <td>0.018834</td>\n",
       "      <td>0.196594</td>\n",
       "      <td>0.396821</td>\n",
       "      <td>갈취 대화</td>\n",
       "    </tr>\n",
       "    <tr>\n",
       "      <th>335</th>\n",
       "      <td>0.330875</td>\n",
       "      <td>0.184859</td>\n",
       "      <td>0.070092</td>\n",
       "      <td>0.021322</td>\n",
       "      <td>0.392853</td>\n",
       "      <td>0.392853</td>\n",
       "      <td>갈취 대화</td>\n",
       "    </tr>\n",
       "    <tr>\n",
       "      <th>414</th>\n",
       "      <td>0.077757</td>\n",
       "      <td>0.193596</td>\n",
       "      <td>0.107111</td>\n",
       "      <td>0.310877</td>\n",
       "      <td>0.310659</td>\n",
       "      <td>0.310877</td>\n",
       "      <td>직장 내 괴롭힘 대화</td>\n",
       "    </tr>\n",
       "    <tr>\n",
       "      <th>437</th>\n",
       "      <td>0.044478</td>\n",
       "      <td>0.320778</td>\n",
       "      <td>0.289502</td>\n",
       "      <td>0.035284</td>\n",
       "      <td>0.309958</td>\n",
       "      <td>0.320778</td>\n",
       "      <td>기타 괴롭힘 대화</td>\n",
       "    </tr>\n",
       "    <tr>\n",
       "      <th>478</th>\n",
       "      <td>0.248420</td>\n",
       "      <td>0.147870</td>\n",
       "      <td>0.009604</td>\n",
       "      <td>0.229386</td>\n",
       "      <td>0.364721</td>\n",
       "      <td>0.364721</td>\n",
       "      <td>갈취 대화</td>\n",
       "    </tr>\n",
       "  </tbody>\n",
       "</table>\n",
       "</div>"
      ]
     },
     "execution_count": 79,
     "metadata": {},
     "output_type": "execute_result"
    }
   ],
   "execution_count": 79
  },
  {
   "metadata": {},
   "cell_type": "markdown",
   "source": "### 확신하지 못하는 데이터 -> 일반 데이터가 아닐까?",
   "id": "3ed4ec24de71e1f1"
  },
  {
   "metadata": {
    "ExecuteTime": {
     "end_time": "2024-06-24T23:14:51.371853Z",
     "start_time": "2024-06-24T23:14:51.368980Z"
    }
   },
   "cell_type": "code",
   "source": "test_data.iloc[110].text",
   "id": "396da83469f27369",
   "outputs": [
    {
     "data": {
      "text/plain": [
       "'내려놓고있기뭐해서 올린거야 응 어머니 캐리어 필요하시다며 문앞에둘테니까 가져가 배낭메고갈거래 짐다쌌어 알겠어 엄마 금토일 가는거였어 너일에 오전에가 새벽에가 그래 롤안해 응안해 아까 내 어떤 말에 기분이 나빴던거야  그거 모르는것도 기분이나빠 말해주면되잖아 내가 하는말 다 기분나빠겠지 아까말했어 근데 너가 그런식으로나온거지 진짜오늘일은 무조건 너잘못이야 나도 내가 일부러 안받는게아닌데 계속 그걸로 우리가 안좋게 이야기가 나오니까 기분이 안 좋아졌어 물론내가 너한테 말 안하고 빌려준게 잘못인건 알아 그래도 계속 그 얘기가 나오는게 싫어 너가 말안해도 생각나면 짜증나는데\\n'"
      ]
     },
     "execution_count": 82,
     "metadata": {},
     "output_type": "execute_result"
    }
   ],
   "execution_count": 82
  },
  {
   "metadata": {
    "ExecuteTime": {
     "end_time": "2024-06-24T23:15:37.132538Z",
     "start_time": "2024-06-24T23:15:37.128044Z"
    }
   },
   "cell_type": "code",
   "source": "pred_df.iloc[82]",
   "id": "26f564df41fd1034",
   "outputs": [
    {
     "data": {
      "text/plain": [
       "갈취 대화          0.176094\n",
       "기타 괴롭힘 대화      0.077714\n",
       "일반 대화          0.014419\n",
       "직장 내 괴롭힘 대화    0.031981\n",
       "협박 대화          0.699792\n",
       "max_val        0.699792\n",
       "label             갈취 대화\n",
       "Name: 82, dtype: object"
      ]
     },
     "execution_count": 85,
     "metadata": {},
     "output_type": "execute_result"
    }
   ],
   "execution_count": 85
  },
  {
   "metadata": {
    "ExecuteTime": {
     "end_time": "2024-06-24T23:15:45.667941Z",
     "start_time": "2024-06-24T23:15:45.662419Z"
    }
   },
   "cell_type": "code",
   "source": "test_data.iloc[82]",
   "id": "d198e51a636af30c",
   "outputs": [
    {
     "data": {
      "text/plain": [
       "text    천안 두정동 제이빌라 인데요, 지금 화재가 발생했어요. 빌라 어디에 불이 났나요? ...\n",
       "pred    [[tensor(0.1761), tensor(0.0777), tensor(0.014...\n",
       "Name: 82, dtype: object"
      ]
     },
     "execution_count": 86,
     "metadata": {},
     "output_type": "execute_result"
    }
   ],
   "execution_count": 86
  },
  {
   "metadata": {
    "ExecuteTime": {
     "end_time": "2024-06-24T23:16:44.305473Z",
     "start_time": "2024-06-24T23:16:44.286770Z"
    }
   },
   "cell_type": "code",
   "source": "pred_df.label.value_counts()",
   "id": "fcb8dfd1f5f67a14",
   "outputs": [
    {
     "data": {
      "text/plain": [
       "기타 괴롭힘 대화      188\n",
       "갈취 대화          170\n",
       "직장 내 괴롭힘 대화    117\n",
       "일반 대화           25\n",
       "Name: label, dtype: int64"
      ]
     },
     "execution_count": 88,
     "metadata": {},
     "output_type": "execute_result"
    }
   ],
   "execution_count": 88
  },
  {
   "cell_type": "code",
   "id": "d0f881f4",
   "metadata": {
    "id": "d0f881f4",
    "ExecuteTime": {
     "end_time": "2024-06-24T23:16:53.406912Z",
     "start_time": "2024-06-24T23:16:53.396521Z"
    }
   },
   "source": "pred_df.to_csv('pred_koelectra_add_data.csv', index=False)",
   "outputs": [],
   "execution_count": 89
  },
  {
   "metadata": {},
   "cell_type": "code",
   "outputs": [],
   "execution_count": null,
   "source": "",
   "id": "19e4e93adc3fba41"
  }
 ],
 "metadata": {
  "kernelspec": {
   "display_name": "Python 3 (ipykernel)",
   "name": "python3",
   "language": "python"
  },
  "language_info": {
   "codemirror_mode": {
    "name": "ipython",
    "version": 3
   },
   "file_extension": ".py",
   "mimetype": "text/x-python",
   "name": "python",
   "nbconvert_exporter": "python",
   "pygments_lexer": "ipython3",
   "version": "3.9.7"
  },
  "colab": {
   "provenance": [],
   "gpuType": "T4"
  },
  "accelerator": "GPU"
 },
 "nbformat": 4,
 "nbformat_minor": 5
}
