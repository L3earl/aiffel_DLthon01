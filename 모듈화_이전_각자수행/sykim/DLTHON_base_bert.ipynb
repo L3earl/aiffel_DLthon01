{
 "cells": [
  {
   "cell_type": "markdown",
   "id": "2b300fef",
   "metadata": {
    "id": "2b300fef"
   },
   "source": [
    "# DLTHON"
   ]
  },
  {
   "cell_type": "markdown",
   "id": "bf965457",
   "metadata": {
    "id": "bf965457"
   },
   "source": [
    "## DKTC (Dataset of Korean Threatening Conversations)\n",
    "\n",
    "- 텍스트 다중분류 프로젝트"
   ]
  },
  {
   "cell_type": "markdown",
   "id": "7059ce9e",
   "metadata": {
    "id": "7059ce9e"
   },
   "source": [
    "## 데이터셋 정보"
   ]
  },
  {
   "cell_type": "markdown",
   "id": "56ff0924",
   "metadata": {
    "id": "56ff0924"
   },
   "source": [
    "train.csv\n",
    "\n",
    "    1. idx = 인덱스\n",
    "    2. class = 0~4\n",
    "        class 0; 협박 대화\n",
    "        class 1; 갈취 대화\n",
    "        class 2; 직장 내 괴롭힘 대화\n",
    "        class 3; 기타 괴롭힘 대화\n",
    "    3. conversation = \\n으로 구분된 멀티턴 텍스트 대화"
   ]
  },
  {
   "cell_type": "markdown",
   "id": "9e842176",
   "metadata": {
    "id": "9e842176"
   },
   "source": [
    "test.json\n",
    "\n",
    "    1. t_### = 인덱스\n",
    "    2. text = 대화"
   ]
  },
  {
   "cell_type": "markdown",
   "id": "ac322063",
   "metadata": {
    "id": "ac322063"
   },
   "source": [
    "submission.csv\n",
    "\n",
    "    1. file_name = 인덱스\n",
    "    2. class = 예측값"
   ]
  },
  {
   "cell_type": "markdown",
   "id": "d2d810b4",
   "metadata": {
    "id": "d2d810b4"
   },
   "source": [
    "## 평가기준\n",
    "> - 데이터 EDA와 데이터 전처리가 적절하게 이뤄졌는가?\n",
    "> - Task에 알맞게 적절한 모델을 찾아보고 선정했는가?\n",
    "> - 성능향상을 위해 논리적으로 접근했는가?\n",
    "> - 결과 도출을 위해 여러가지 시도를 진행했는가?\n",
    "> - 도출된 결론에 충분한 설득력이 있는가?\n",
    "> - 적절한 metric을 설정하고 그 사용 근거 및 결과를 분석하였는가?\n",
    "> - 발표가 매끄럽게 진행되었고 발표시간을 준수하였는지? (발표 10분-15분)"
   ]
  },
  {
   "cell_type": "markdown",
   "id": "8c0d8b04",
   "metadata": {
    "id": "8c0d8b04"
   },
   "source": [
    "## TO-DO-LIST\n",
    "- 일반 대화 데이터셋 만들어야함 (800-1000개정도)\n",
    "- ppt 제작\n",
    "- 평가지표 : f1-score"
   ]
  },
  {
   "cell_type": "markdown",
   "id": "8555a580",
   "metadata": {
    "id": "8555a580"
   },
   "source": [
    "## EDA\n"
   ]
  },
  {
   "cell_type": "code",
   "id": "e85d085e",
   "metadata": {
    "id": "e85d085e",
    "ExecuteTime": {
     "end_time": "2024-06-24T14:11:46.703135Z",
     "start_time": "2024-06-24T14:11:46.683279Z"
    }
   },
   "source": [
    "import matplotlib.pyplot as plt\n",
    "import seaborn as sns"
   ],
   "outputs": [],
   "execution_count": 12
  },
  {
   "cell_type": "code",
   "id": "c8304434",
   "metadata": {
    "scrolled": false,
    "colab": {
     "base_uri": "https://localhost:8080/",
     "height": 206
    },
    "id": "c8304434",
    "outputId": "77e0abcc-38de-44ec-80fa-3b3dc15de69b",
    "ExecuteTime": {
     "end_time": "2024-06-24T14:11:47.114137Z",
     "start_time": "2024-06-24T14:11:47.061824Z"
    }
   },
   "source": [
    "import os\n",
    "import pandas as pd\n",
    "\n",
    "train_data_path =\"./data/train.csv\"\n",
    "train_data = pd.read_csv(train_data_path)\n",
    "train_data.head()"
   ],
   "outputs": [
    {
     "data": {
      "text/plain": [
       "   idx      class                                       conversation\n",
       "0    0      협박 대화  지금 너 스스로를 죽여달라고 애원하는 것인가?\\n 아닙니다. 죄송합니다.\\n 죽을 ...\n",
       "1    1      협박 대화  길동경찰서입니다.\\n9시 40분 마트에 폭발물을 설치할거다.\\n네?\\n똑바로 들어 ...\n",
       "2    2  기타 괴롭힘 대화  너 되게 귀여운거 알지? 나보다 작은 남자는 첨봤어.\\n그만해. 니들 놀리는거 재미...\n",
       "3    3      갈취 대화  어이 거기\\n예??\\n너 말이야 너. 이리 오라고\\n무슨 일.\\n너 옷 좋아보인다?...\n",
       "4    4      갈취 대화  저기요 혹시 날이 너무 뜨겁잖아요? 저희 회사에서 이 선크림 파는데 한 번 손등에 ..."
      ],
      "text/html": [
       "<div>\n",
       "<style scoped>\n",
       "    .dataframe tbody tr th:only-of-type {\n",
       "        vertical-align: middle;\n",
       "    }\n",
       "\n",
       "    .dataframe tbody tr th {\n",
       "        vertical-align: top;\n",
       "    }\n",
       "\n",
       "    .dataframe thead th {\n",
       "        text-align: right;\n",
       "    }\n",
       "</style>\n",
       "<table border=\"1\" class=\"dataframe\">\n",
       "  <thead>\n",
       "    <tr style=\"text-align: right;\">\n",
       "      <th></th>\n",
       "      <th>idx</th>\n",
       "      <th>class</th>\n",
       "      <th>conversation</th>\n",
       "    </tr>\n",
       "  </thead>\n",
       "  <tbody>\n",
       "    <tr>\n",
       "      <th>0</th>\n",
       "      <td>0</td>\n",
       "      <td>협박 대화</td>\n",
       "      <td>지금 너 스스로를 죽여달라고 애원하는 것인가?\\n 아닙니다. 죄송합니다.\\n 죽을 ...</td>\n",
       "    </tr>\n",
       "    <tr>\n",
       "      <th>1</th>\n",
       "      <td>1</td>\n",
       "      <td>협박 대화</td>\n",
       "      <td>길동경찰서입니다.\\n9시 40분 마트에 폭발물을 설치할거다.\\n네?\\n똑바로 들어 ...</td>\n",
       "    </tr>\n",
       "    <tr>\n",
       "      <th>2</th>\n",
       "      <td>2</td>\n",
       "      <td>기타 괴롭힘 대화</td>\n",
       "      <td>너 되게 귀여운거 알지? 나보다 작은 남자는 첨봤어.\\n그만해. 니들 놀리는거 재미...</td>\n",
       "    </tr>\n",
       "    <tr>\n",
       "      <th>3</th>\n",
       "      <td>3</td>\n",
       "      <td>갈취 대화</td>\n",
       "      <td>어이 거기\\n예??\\n너 말이야 너. 이리 오라고\\n무슨 일.\\n너 옷 좋아보인다?...</td>\n",
       "    </tr>\n",
       "    <tr>\n",
       "      <th>4</th>\n",
       "      <td>4</td>\n",
       "      <td>갈취 대화</td>\n",
       "      <td>저기요 혹시 날이 너무 뜨겁잖아요? 저희 회사에서 이 선크림 파는데 한 번 손등에 ...</td>\n",
       "    </tr>\n",
       "  </tbody>\n",
       "</table>\n",
       "</div>"
      ]
     },
     "execution_count": 13,
     "metadata": {},
     "output_type": "execute_result"
    }
   ],
   "execution_count": 13
  },
  {
   "cell_type": "code",
   "id": "8a7c1586",
   "metadata": {
    "colab": {
     "base_uri": "https://localhost:8080/"
    },
    "id": "8a7c1586",
    "outputId": "aad069b3-f94d-479b-85c2-3c41b44f6eee",
    "ExecuteTime": {
     "end_time": "2024-06-24T14:11:48.178368Z",
     "start_time": "2024-06-24T14:11:48.173885Z"
    }
   },
   "source": [
    "train_data.shape"
   ],
   "outputs": [
    {
     "data": {
      "text/plain": [
       "(3950, 3)"
      ]
     },
     "execution_count": 14,
     "metadata": {},
     "output_type": "execute_result"
    }
   ],
   "execution_count": 14
  },
  {
   "cell_type": "markdown",
   "id": "72a7bdc5",
   "metadata": {
    "id": "72a7bdc5"
   },
   "source": [
    "## 데이터 전처리"
   ]
  },
  {
   "cell_type": "code",
   "id": "7f7b7e11",
   "metadata": {
    "colab": {
     "base_uri": "https://localhost:8080/"
    },
    "id": "7f7b7e11",
    "outputId": "033c9c87-86e2-4758-b24e-5edef306a20e",
    "ExecuteTime": {
     "end_time": "2024-06-24T14:11:51.114043Z",
     "start_time": "2024-06-24T14:11:48.888388Z"
    }
   },
   "source": [
    "!pip install soynlp"
   ],
   "outputs": [
    {
     "name": "stdout",
     "output_type": "stream",
     "text": [
      "Requirement already satisfied: soynlp in /opt/homebrew/Caskroom/miniforge/base/envs/DL-tf/lib/python3.8/site-packages (0.0.493)\r\n",
      "Requirement already satisfied: numpy>=1.12.1 in /opt/homebrew/Caskroom/miniforge/base/envs/DL-tf/lib/python3.8/site-packages (from soynlp) (1.22.4)\r\n",
      "Requirement already satisfied: psutil>=5.0.1 in /opt/homebrew/Caskroom/miniforge/base/envs/DL-tf/lib/python3.8/site-packages (from soynlp) (5.9.8)\r\n",
      "Requirement already satisfied: scipy>=1.1.0 in /opt/homebrew/Caskroom/miniforge/base/envs/DL-tf/lib/python3.8/site-packages (from soynlp) (1.10.1)\r\n",
      "Requirement already satisfied: scikit-learn>=0.20.0 in /opt/homebrew/Caskroom/miniforge/base/envs/DL-tf/lib/python3.8/site-packages (from soynlp) (1.3.1)\r\n",
      "Requirement already satisfied: joblib>=1.1.1 in /opt/homebrew/Caskroom/miniforge/base/envs/DL-tf/lib/python3.8/site-packages (from scikit-learn>=0.20.0->soynlp) (1.4.0)\r\n",
      "Requirement already satisfied: threadpoolctl>=2.0.0 in /opt/homebrew/Caskroom/miniforge/base/envs/DL-tf/lib/python3.8/site-packages (from scikit-learn>=0.20.0->soynlp) (3.5.0)\r\n"
     ]
    }
   ],
   "execution_count": 15
  },
  {
   "cell_type": "code",
   "id": "e6d6d67f",
   "metadata": {
    "id": "e6d6d67f",
    "ExecuteTime": {
     "end_time": "2024-06-24T14:11:51.126953Z",
     "start_time": "2024-06-24T14:11:51.117581Z"
    }
   },
   "source": [
    "import re\n",
    "# import emoji\n",
    "from soynlp.normalizer import repeat_normalize"
   ],
   "outputs": [],
   "execution_count": 16
  },
  {
   "cell_type": "code",
   "id": "33482434",
   "metadata": {
    "id": "33482434",
    "ExecuteTime": {
     "end_time": "2024-06-24T14:11:51.133369Z",
     "start_time": "2024-06-24T14:11:51.129006Z"
    }
   },
   "source": [
    "def clean(x):\n",
    "    # emojis = ''.join(emoji.UNICODE_EMOJI.keys())\n",
    "    pattern = re.compile(f'[^ .,?!/@$%~％·∼()\\x00-\\x7Fㄱ-힣]+')\n",
    "    url_pattern = re.compile(\n",
    "        r'https?:\\/\\/(www\\.)?[-a-zA-Z0-9@:%._\\+~#=]{1,256}\\.[a-zA-Z0-9()]{1,6}\\b([-a-zA-Z0-9()@:%_\\+.~#?&//=]*)')\n",
    "    x = pattern.sub(' ', x)\n",
    "    x = url_pattern.sub('', x)\n",
    "    x = x.strip()\n",
    "    x = repeat_normalize(x, num_repeats=2)\n",
    "    return x"
   ],
   "outputs": [],
   "execution_count": 17
  },
  {
   "cell_type": "code",
   "id": "fc0fd269",
   "metadata": {
    "id": "fc0fd269",
    "ExecuteTime": {
     "end_time": "2024-06-24T14:11:51.260024Z",
     "start_time": "2024-06-24T14:11:51.145382Z"
    }
   },
   "source": [
    "train_data['cleaned'] = train_data.conversation.apply(lambda x: clean(x))"
   ],
   "outputs": [],
   "execution_count": 18
  },
  {
   "cell_type": "code",
   "id": "5bcfa21f",
   "metadata": {
    "colab": {
     "base_uri": "https://localhost:8080/"
    },
    "id": "5bcfa21f",
    "outputId": "04706655-e4b1-49a0-acd6-be368950dd73",
    "ExecuteTime": {
     "end_time": "2024-06-24T14:11:51.267586Z",
     "start_time": "2024-06-24T14:11:51.261321Z"
    }
   },
   "source": [
    "train_data['cleaned']"
   ],
   "outputs": [
    {
     "data": {
      "text/plain": [
       "0       지금 너 스스로를 죽여달라고 애원하는 것인가? 아닙니다. 죄송합니다. 죽을 거면 혼...\n",
       "1       길동경찰서입니다. 9시 40분 마트에 폭발물을 설치할거다. 네? 똑바로 들어 한번만...\n",
       "2       너 되게 귀여운거 알지? 나보다 작은 남자는 첨봤어. 그만해. 니들 놀리는거 재미없...\n",
       "3       어이 거기 예?? 너 말이야 너. 이리 오라고 무슨 일. 너 옷 좋아보인다? 얘 돈...\n",
       "4       저기요 혹시 날이 너무 뜨겁잖아요? 저희 회사에서 이 선크림 파는데 한 번 손등에 ...\n",
       "                              ...                        \n",
       "3945    준하야 넌 대가리가 왜이렇게 크냐? 내 머리가 뭐. 밥먹으면 대가리만 크냐 너는? ...\n",
       "3946    내가 지금 너 아들 김길준 데리고 있어. 살리고 싶으면 계좌에 1억만 보내 예.? ...\n",
       "3947    나는 씨 같은 사람 보면 참 신기하더라. 어떻게 저렇게 살지. 왜 그래. 들리겠어....\n",
       "3948    누구맘대로 여기서 장사하래? 이게 무슨일입니까? 남의 구역에서 장사하려면 자릿세를 ...\n",
       "3949    희정씨 네? 주말에 시간이 넘쳐나나봐 갑자기 왜그러세요? 손이 빤짝빤짝 네일했니? ...\n",
       "Name: cleaned, Length: 3950, dtype: object"
      ]
     },
     "execution_count": 19,
     "metadata": {},
     "output_type": "execute_result"
    }
   ],
   "execution_count": 19
  },
  {
   "cell_type": "markdown",
   "id": "58693e4c",
   "metadata": {
    "id": "58693e4c"
   },
   "source": [
    "### 한국어 문장 분리기"
   ]
  },
  {
   "cell_type": "code",
   "id": "ca398dc6",
   "metadata": {
    "scrolled": true,
    "id": "ca398dc6",
    "ExecuteTime": {
     "end_time": "2024-06-24T14:12:02.260371Z",
     "start_time": "2024-06-24T14:11:51.719415Z"
    }
   },
   "source": "!pip install kss",
   "outputs": [
    {
     "name": "stdout",
     "output_type": "stream",
     "text": [
      "Collecting kss\r\n",
      "  Downloading kss-6.0.4.tar.gz (1.1 MB)\r\n",
      "\u001B[2K     \u001B[90m━━━━━━━━━━━━━━━━━━━━━━━━━━━━━━━━━━━━━━━━\u001B[0m \u001B[32m1.1/1.1 MB\u001B[0m \u001B[31m21.5 MB/s\u001B[0m eta \u001B[36m0:00:00\u001B[0ma \u001B[36m0:00:01\u001B[0m\r\n",
      "\u001B[?25h  Preparing metadata (setup.py) ... \u001B[?25ldone\r\n",
      "\u001B[?25hCollecting emoji==1.2.0 (from kss)\r\n",
      "  Downloading emoji-1.2.0-py3-none-any.whl (131 kB)\r\n",
      "\u001B[2K     \u001B[90m━━━━━━━━━━━━━━━━━━━━━━━━━━━━━━━━━━━━━━\u001B[0m \u001B[32m131.3/131.3 kB\u001B[0m \u001B[31m19.8 MB/s\u001B[0m eta \u001B[36m0:00:00\u001B[0m\r\n",
      "\u001B[?25hCollecting pecab (from kss)\r\n",
      "  Downloading pecab-1.0.8.tar.gz (26.4 MB)\r\n",
      "\u001B[2K     \u001B[90m━━━━━━━━━━━━━━━━━━━━━━━━━━━━━━━━━━━━━━━━\u001B[0m \u001B[32m26.4/26.4 MB\u001B[0m \u001B[31m43.8 MB/s\u001B[0m eta \u001B[36m0:00:00\u001B[0m00:01\u001B[0m00:01\u001B[0m\r\n",
      "\u001B[?25h  Preparing metadata (setup.py) ... \u001B[?25ldone\r\n",
      "\u001B[?25hRequirement already satisfied: networkx in /opt/homebrew/Caskroom/miniforge/base/envs/DL-tf/lib/python3.8/site-packages (from kss) (3.1)\r\n",
      "Collecting jamo (from kss)\r\n",
      "  Downloading jamo-0.4.1-py3-none-any.whl (9.5 kB)\r\n",
      "Collecting hangul-jamo (from kss)\r\n",
      "  Downloading hangul_jamo-1.0.1-py3-none-any.whl (4.4 kB)\r\n",
      "Collecting tossi (from kss)\r\n",
      "  Downloading tossi-0.3.1.tar.gz (11 kB)\r\n",
      "  Preparing metadata (setup.py) ... \u001B[?25ldone\r\n",
      "\u001B[?25hCollecting distance (from kss)\r\n",
      "  Downloading Distance-0.1.3.tar.gz (180 kB)\r\n",
      "\u001B[2K     \u001B[90m━━━━━━━━━━━━━━━━━━━━━━━━━━━━━━━━━━━━━━\u001B[0m \u001B[32m180.3/180.3 kB\u001B[0m \u001B[31m24.2 MB/s\u001B[0m eta \u001B[36m0:00:00\u001B[0m\r\n",
      "\u001B[?25h  Preparing metadata (setup.py) ... \u001B[?25ldone\r\n",
      "\u001B[?25hCollecting pyyaml==6.0 (from kss)\r\n",
      "  Using cached PyYAML-6.0.tar.gz (124 kB)\r\n",
      "  Installing build dependencies ... \u001B[?25ldone\r\n",
      "\u001B[?25h  Getting requirements to build wheel ... \u001B[?25lerror\r\n",
      "  \u001B[1;31merror\u001B[0m: \u001B[1msubprocess-exited-with-error\u001B[0m\r\n",
      "  \r\n",
      "  \u001B[31m×\u001B[0m \u001B[32mGetting requirements to build wheel\u001B[0m did not run successfully.\r\n",
      "  \u001B[31m│\u001B[0m exit code: \u001B[1;36m1\u001B[0m\r\n",
      "  \u001B[31m╰─>\u001B[0m \u001B[31m[48 lines of output]\u001B[0m\r\n",
      "  \u001B[31m   \u001B[0m running egg_info\r\n",
      "  \u001B[31m   \u001B[0m writing lib/PyYAML.egg-info/PKG-INFO\r\n",
      "  \u001B[31m   \u001B[0m writing dependency_links to lib/PyYAML.egg-info/dependency_links.txt\r\n",
      "  \u001B[31m   \u001B[0m writing top-level names to lib/PyYAML.egg-info/top_level.txt\r\n",
      "  \u001B[31m   \u001B[0m Traceback (most recent call last):\r\n",
      "  \u001B[31m   \u001B[0m   File \"/opt/homebrew/Caskroom/miniforge/base/envs/DL-tf/lib/python3.8/site-packages/pip/_vendor/pyproject_hooks/_in_process/_in_process.py\", line 353, in <module>\r\n",
      "  \u001B[31m   \u001B[0m     main()\r\n",
      "  \u001B[31m   \u001B[0m   File \"/opt/homebrew/Caskroom/miniforge/base/envs/DL-tf/lib/python3.8/site-packages/pip/_vendor/pyproject_hooks/_in_process/_in_process.py\", line 335, in main\r\n",
      "  \u001B[31m   \u001B[0m     json_out['return_val'] = hook(**hook_input['kwargs'])\r\n",
      "  \u001B[31m   \u001B[0m   File \"/opt/homebrew/Caskroom/miniforge/base/envs/DL-tf/lib/python3.8/site-packages/pip/_vendor/pyproject_hooks/_in_process/_in_process.py\", line 118, in get_requires_for_build_wheel\r\n",
      "  \u001B[31m   \u001B[0m     return hook(config_settings)\r\n",
      "  \u001B[31m   \u001B[0m   File \"/private/var/folders/1b/dx8_94fs0q740wx3lfknk6y40000gn/T/pip-build-env-j4jm_u1w/overlay/lib/python3.8/site-packages/setuptools/build_meta.py\", line 327, in get_requires_for_build_wheel\r\n",
      "  \u001B[31m   \u001B[0m     return self._get_build_requires(config_settings, requirements=[])\r\n",
      "  \u001B[31m   \u001B[0m   File \"/private/var/folders/1b/dx8_94fs0q740wx3lfknk6y40000gn/T/pip-build-env-j4jm_u1w/overlay/lib/python3.8/site-packages/setuptools/build_meta.py\", line 297, in _get_build_requires\r\n",
      "  \u001B[31m   \u001B[0m     self.run_setup()\r\n",
      "  \u001B[31m   \u001B[0m   File \"/private/var/folders/1b/dx8_94fs0q740wx3lfknk6y40000gn/T/pip-build-env-j4jm_u1w/overlay/lib/python3.8/site-packages/setuptools/build_meta.py\", line 313, in run_setup\r\n",
      "  \u001B[31m   \u001B[0m     exec(code, locals())\r\n",
      "  \u001B[31m   \u001B[0m   File \"<string>\", line 288, in <module>\r\n",
      "  \u001B[31m   \u001B[0m   File \"/private/var/folders/1b/dx8_94fs0q740wx3lfknk6y40000gn/T/pip-build-env-j4jm_u1w/overlay/lib/python3.8/site-packages/setuptools/__init__.py\", line 103, in setup\r\n",
      "  \u001B[31m   \u001B[0m     return distutils.core.setup(**attrs)\r\n",
      "  \u001B[31m   \u001B[0m   File \"/private/var/folders/1b/dx8_94fs0q740wx3lfknk6y40000gn/T/pip-build-env-j4jm_u1w/overlay/lib/python3.8/site-packages/setuptools/_distutils/core.py\", line 184, in setup\r\n",
      "  \u001B[31m   \u001B[0m     return run_commands(dist)\r\n",
      "  \u001B[31m   \u001B[0m   File \"/private/var/folders/1b/dx8_94fs0q740wx3lfknk6y40000gn/T/pip-build-env-j4jm_u1w/overlay/lib/python3.8/site-packages/setuptools/_distutils/core.py\", line 200, in run_commands\r\n",
      "  \u001B[31m   \u001B[0m     dist.run_commands()\r\n",
      "  \u001B[31m   \u001B[0m   File \"/private/var/folders/1b/dx8_94fs0q740wx3lfknk6y40000gn/T/pip-build-env-j4jm_u1w/overlay/lib/python3.8/site-packages/setuptools/_distutils/dist.py\", line 969, in run_commands\r\n",
      "  \u001B[31m   \u001B[0m     self.run_command(cmd)\r\n",
      "  \u001B[31m   \u001B[0m   File \"/private/var/folders/1b/dx8_94fs0q740wx3lfknk6y40000gn/T/pip-build-env-j4jm_u1w/overlay/lib/python3.8/site-packages/setuptools/dist.py\", line 976, in run_command\r\n",
      "  \u001B[31m   \u001B[0m     super().run_command(command)\r\n",
      "  \u001B[31m   \u001B[0m   File \"/private/var/folders/1b/dx8_94fs0q740wx3lfknk6y40000gn/T/pip-build-env-j4jm_u1w/overlay/lib/python3.8/site-packages/setuptools/_distutils/dist.py\", line 988, in run_command\r\n",
      "  \u001B[31m   \u001B[0m     cmd_obj.run()\r\n",
      "  \u001B[31m   \u001B[0m   File \"/private/var/folders/1b/dx8_94fs0q740wx3lfknk6y40000gn/T/pip-build-env-j4jm_u1w/overlay/lib/python3.8/site-packages/setuptools/command/egg_info.py\", line 321, in run\r\n",
      "  \u001B[31m   \u001B[0m     self.find_sources()\r\n",
      "  \u001B[31m   \u001B[0m   File \"/private/var/folders/1b/dx8_94fs0q740wx3lfknk6y40000gn/T/pip-build-env-j4jm_u1w/overlay/lib/python3.8/site-packages/setuptools/command/egg_info.py\", line 329, in find_sources\r\n",
      "  \u001B[31m   \u001B[0m     mm.run()\r\n",
      "  \u001B[31m   \u001B[0m   File \"/private/var/folders/1b/dx8_94fs0q740wx3lfknk6y40000gn/T/pip-build-env-j4jm_u1w/overlay/lib/python3.8/site-packages/setuptools/command/egg_info.py\", line 550, in run\r\n",
      "  \u001B[31m   \u001B[0m     self.add_defaults()\r\n",
      "  \u001B[31m   \u001B[0m   File \"/private/var/folders/1b/dx8_94fs0q740wx3lfknk6y40000gn/T/pip-build-env-j4jm_u1w/overlay/lib/python3.8/site-packages/setuptools/command/egg_info.py\", line 588, in add_defaults\r\n",
      "  \u001B[31m   \u001B[0m     sdist.add_defaults(self)\r\n",
      "  \u001B[31m   \u001B[0m   File \"/private/var/folders/1b/dx8_94fs0q740wx3lfknk6y40000gn/T/pip-build-env-j4jm_u1w/overlay/lib/python3.8/site-packages/setuptools/command/sdist.py\", line 102, in add_defaults\r\n",
      "  \u001B[31m   \u001B[0m     super().add_defaults()\r\n",
      "  \u001B[31m   \u001B[0m   File \"/private/var/folders/1b/dx8_94fs0q740wx3lfknk6y40000gn/T/pip-build-env-j4jm_u1w/overlay/lib/python3.8/site-packages/setuptools/_distutils/command/sdist.py\", line 250, in add_defaults\r\n",
      "  \u001B[31m   \u001B[0m     self._add_defaults_ext()\r\n",
      "  \u001B[31m   \u001B[0m   File \"/private/var/folders/1b/dx8_94fs0q740wx3lfknk6y40000gn/T/pip-build-env-j4jm_u1w/overlay/lib/python3.8/site-packages/setuptools/_distutils/command/sdist.py\", line 335, in _add_defaults_ext\r\n",
      "  \u001B[31m   \u001B[0m     self.filelist.extend(build_ext.get_source_files())\r\n",
      "  \u001B[31m   \u001B[0m   File \"<string>\", line 204, in get_source_files\r\n",
      "  \u001B[31m   \u001B[0m   File \"/private/var/folders/1b/dx8_94fs0q740wx3lfknk6y40000gn/T/pip-build-env-j4jm_u1w/overlay/lib/python3.8/site-packages/setuptools/_distutils/cmd.py\", line 107, in __getattr__\r\n",
      "  \u001B[31m   \u001B[0m     raise AttributeError(attr)\r\n",
      "  \u001B[31m   \u001B[0m AttributeError: cython_sources\r\n",
      "  \u001B[31m   \u001B[0m \u001B[31m[end of output]\u001B[0m\r\n",
      "  \r\n",
      "  \u001B[1;35mnote\u001B[0m: This error originates from a subprocess, and is likely not a problem with pip.\r\n",
      "\u001B[1;31merror\u001B[0m: \u001B[1msubprocess-exited-with-error\u001B[0m\r\n",
      "\r\n",
      "\u001B[31m×\u001B[0m \u001B[32mGetting requirements to build wheel\u001B[0m did not run successfully.\r\n",
      "\u001B[31m│\u001B[0m exit code: \u001B[1;36m1\u001B[0m\r\n",
      "\u001B[31m╰─>\u001B[0m See above for output.\r\n",
      "\r\n",
      "\u001B[1;35mnote\u001B[0m: This error originates from a subprocess, and is likely not a problem with pip.\r\n",
      "\u001B[?25h"
     ]
    }
   ],
   "execution_count": 20
  },
  {
   "cell_type": "code",
   "id": "f39d5a63",
   "metadata": {
    "id": "f39d5a63",
    "ExecuteTime": {
     "end_time": "2024-06-24T14:12:02.272340Z",
     "start_time": "2024-06-24T14:12:02.263677Z"
    }
   },
   "source": [
    "samples = train_data.sample(5)"
   ],
   "outputs": [],
   "execution_count": 21
  },
  {
   "cell_type": "code",
   "id": "b65abc00",
   "metadata": {
    "colab": {
     "base_uri": "https://localhost:8080/",
     "height": 206
    },
    "id": "b65abc00",
    "outputId": "f05143f9-32d7-42bf-d9c7-2e65010e033c",
    "ExecuteTime": {
     "end_time": "2024-06-24T14:12:02.287292Z",
     "start_time": "2024-06-24T14:12:02.276142Z"
    }
   },
   "source": [
    "samples"
   ],
   "outputs": [
    {
     "data": {
      "text/plain": [
       "       idx        class                                       conversation  \\\n",
       "2970  2970        갈취 대화  혹시 만원 있어요?\\n누구세요?\\n그건 알거 없고 돈 좀 있냐고요. 나 만원만 좀 ...   \n",
       "2217  2217        협박 대화  뭐하자는 거야?\\n죄송합니다.\\n뭐가 죄송해? 말해봐 뭐가 죄송해?\\n죄송합니다.\\...   \n",
       "2028  2028        갈취 대화  야 너 돈 많이 있어 보이네 \\n네 저 많이 없어요 왜 그러세요\\n시끄러 옷차림 보...   \n",
       "78      78    기타 괴롭힘 대화  여기 서비스좀 주세요\\n네? 오천원어치 사셔서 제가 남는게 없어요 죄송해요\\n저기 ...   \n",
       "3022  3022  직장 내 괴롭힘 대화  어제 맛있게 드셨죠? \\n네! 너무 맛있었어요! 덕분에! \\n네 잘 먹었습니다. \\...   \n",
       "\n",
       "                                                cleaned  \n",
       "2970  혹시 만원 있어요? 누구세요? 그건 알거 없고 돈 좀 있냐고요. 나 만원만 좀 빌려...  \n",
       "2217  뭐하자는 거야? 죄송합니다. 뭐가 죄송해? 말해봐 뭐가 죄송해? 죄송합니다. 죄송할...  \n",
       "2028  야 너 돈 많이 있어 보이네 네 저 많이 없어요 왜 그러세요 시끄러 옷차림 보니 고...  \n",
       "78    여기 서비스좀 주세요 네? 오천원어치 사셔서 제가 남는게 없어요 죄송해요 저기 나 ...  \n",
       "3022  어제 맛있게 드셨죠? 네! 너무 맛있었어요! 덕분에! 네 잘 먹었습니다. 길동님. ...  "
      ],
      "text/html": [
       "<div>\n",
       "<style scoped>\n",
       "    .dataframe tbody tr th:only-of-type {\n",
       "        vertical-align: middle;\n",
       "    }\n",
       "\n",
       "    .dataframe tbody tr th {\n",
       "        vertical-align: top;\n",
       "    }\n",
       "\n",
       "    .dataframe thead th {\n",
       "        text-align: right;\n",
       "    }\n",
       "</style>\n",
       "<table border=\"1\" class=\"dataframe\">\n",
       "  <thead>\n",
       "    <tr style=\"text-align: right;\">\n",
       "      <th></th>\n",
       "      <th>idx</th>\n",
       "      <th>class</th>\n",
       "      <th>conversation</th>\n",
       "      <th>cleaned</th>\n",
       "    </tr>\n",
       "  </thead>\n",
       "  <tbody>\n",
       "    <tr>\n",
       "      <th>2970</th>\n",
       "      <td>2970</td>\n",
       "      <td>갈취 대화</td>\n",
       "      <td>혹시 만원 있어요?\\n누구세요?\\n그건 알거 없고 돈 좀 있냐고요. 나 만원만 좀 ...</td>\n",
       "      <td>혹시 만원 있어요? 누구세요? 그건 알거 없고 돈 좀 있냐고요. 나 만원만 좀 빌려...</td>\n",
       "    </tr>\n",
       "    <tr>\n",
       "      <th>2217</th>\n",
       "      <td>2217</td>\n",
       "      <td>협박 대화</td>\n",
       "      <td>뭐하자는 거야?\\n죄송합니다.\\n뭐가 죄송해? 말해봐 뭐가 죄송해?\\n죄송합니다.\\...</td>\n",
       "      <td>뭐하자는 거야? 죄송합니다. 뭐가 죄송해? 말해봐 뭐가 죄송해? 죄송합니다. 죄송할...</td>\n",
       "    </tr>\n",
       "    <tr>\n",
       "      <th>2028</th>\n",
       "      <td>2028</td>\n",
       "      <td>갈취 대화</td>\n",
       "      <td>야 너 돈 많이 있어 보이네 \\n네 저 많이 없어요 왜 그러세요\\n시끄러 옷차림 보...</td>\n",
       "      <td>야 너 돈 많이 있어 보이네 네 저 많이 없어요 왜 그러세요 시끄러 옷차림 보니 고...</td>\n",
       "    </tr>\n",
       "    <tr>\n",
       "      <th>78</th>\n",
       "      <td>78</td>\n",
       "      <td>기타 괴롭힘 대화</td>\n",
       "      <td>여기 서비스좀 주세요\\n네? 오천원어치 사셔서 제가 남는게 없어요 죄송해요\\n저기 ...</td>\n",
       "      <td>여기 서비스좀 주세요 네? 오천원어치 사셔서 제가 남는게 없어요 죄송해요 저기 나 ...</td>\n",
       "    </tr>\n",
       "    <tr>\n",
       "      <th>3022</th>\n",
       "      <td>3022</td>\n",
       "      <td>직장 내 괴롭힘 대화</td>\n",
       "      <td>어제 맛있게 드셨죠? \\n네! 너무 맛있었어요! 덕분에! \\n네 잘 먹었습니다. \\...</td>\n",
       "      <td>어제 맛있게 드셨죠? 네! 너무 맛있었어요! 덕분에! 네 잘 먹었습니다. 길동님. ...</td>\n",
       "    </tr>\n",
       "  </tbody>\n",
       "</table>\n",
       "</div>"
      ]
     },
     "execution_count": 22,
     "metadata": {},
     "output_type": "execute_result"
    }
   ],
   "execution_count": 22
  },
  {
   "cell_type": "code",
   "id": "399f0f88",
   "metadata": {
    "scrolled": false,
    "colab": {
     "base_uri": "https://localhost:8080/",
     "height": 53
    },
    "id": "399f0f88",
    "outputId": "6c879853-9d7e-49fb-af07-c65f99afa6ea",
    "ExecuteTime": {
     "end_time": "2024-06-24T14:12:02.294953Z",
     "start_time": "2024-06-24T14:12:02.291486Z"
    }
   },
   "source": [
    "samples.cleaned.iloc[0]"
   ],
   "outputs": [
    {
     "data": {
      "text/plain": [
       "'혹시 만원 있어요? 누구세요? 그건 알거 없고 돈 좀 있냐고요. 나 만원만 좀 빌려줘요. 아니 당신이 누군줄 알고 돈을 빌려줘요? 내가 지금 차비가 없어서 그래. 만원만 좀 빌려줘. 싫어요 다른 사람한테 부탁하세요. 당신 방금 지갑에 현금 많은거 봤어! 만원만 빌려주는게 그렇게 어려운 건가! 제가 현금이 많고 적고가 무슨 상관이에요? 좋게 말할때 주는 게 좋을거야. 나 안 참아. 으악! 진정하세요! 빨리 내놔! 알겠어요. 알겠다고요.'"
      ]
     },
     "execution_count": 23,
     "metadata": {},
     "output_type": "execute_result"
    }
   ],
   "execution_count": 23
  },
  {
   "cell_type": "code",
   "id": "c6611b67",
   "metadata": {
    "id": "c6611b67",
    "ExecuteTime": {
     "end_time": "2024-06-24T14:12:02.305671Z",
     "start_time": "2024-06-24T14:12:02.300716Z"
    }
   },
   "source": [
    "# from kss import split_sentences\n",
    "\n",
    "# split_sentences(samples.cleaned.iloc[0])"
   ],
   "outputs": [],
   "execution_count": 24
  },
  {
   "cell_type": "code",
   "id": "e17962d6",
   "metadata": {
    "id": "e17962d6",
    "ExecuteTime": {
     "end_time": "2024-06-24T14:12:02.311169Z",
     "start_time": "2024-06-24T14:12:02.307520Z"
    }
   },
   "source": [
    "# split_sentences(samples.cleaned.iloc[2])"
   ],
   "outputs": [],
   "execution_count": 25
  },
  {
   "cell_type": "code",
   "id": "a752041a",
   "metadata": {
    "id": "a752041a",
    "ExecuteTime": {
     "end_time": "2024-06-24T14:12:02.317126Z",
     "start_time": "2024-06-24T14:12:02.312475Z"
    }
   },
   "source": [
    "# split_sentences(samples.cleaned.iloc[-1])"
   ],
   "outputs": [],
   "execution_count": 26
  },
  {
   "cell_type": "markdown",
   "id": "c1de6ee3",
   "metadata": {
    "id": "c1de6ee3"
   },
   "source": [
    "## BERT"
   ]
  },
  {
   "metadata": {
    "colab": {
     "base_uri": "https://localhost:8080/"
    },
    "id": "cb382f2d39f7fc0a",
    "outputId": "8093ae62-f2fc-4a85-b76d-886451452a1f",
    "ExecuteTime": {
     "end_time": "2024-06-24T14:12:05.303898Z",
     "start_time": "2024-06-24T14:12:02.321330Z"
    }
   },
   "cell_type": "code",
   "source": [
    "!pip install -U transformers"
   ],
   "id": "cb382f2d39f7fc0a",
   "outputs": [
    {
     "name": "stdout",
     "output_type": "stream",
     "text": [
      "Requirement already satisfied: transformers in /opt/homebrew/Caskroom/miniforge/base/envs/DL-tf/lib/python3.8/site-packages (4.41.2)\r\n",
      "Requirement already satisfied: filelock in /opt/homebrew/Caskroom/miniforge/base/envs/DL-tf/lib/python3.8/site-packages (from transformers) (3.15.4)\r\n",
      "Requirement already satisfied: huggingface-hub<1.0,>=0.23.0 in /opt/homebrew/Caskroom/miniforge/base/envs/DL-tf/lib/python3.8/site-packages (from transformers) (0.23.4)\r\n",
      "Requirement already satisfied: numpy>=1.17 in /opt/homebrew/Caskroom/miniforge/base/envs/DL-tf/lib/python3.8/site-packages (from transformers) (1.22.4)\r\n",
      "Requirement already satisfied: packaging>=20.0 in /opt/homebrew/Caskroom/miniforge/base/envs/DL-tf/lib/python3.8/site-packages (from transformers) (24.0)\r\n",
      "Requirement already satisfied: pyyaml>=5.1 in /opt/homebrew/Caskroom/miniforge/base/envs/DL-tf/lib/python3.8/site-packages (from transformers) (6.0.1)\r\n",
      "Requirement already satisfied: regex!=2019.12.17 in /opt/homebrew/Caskroom/miniforge/base/envs/DL-tf/lib/python3.8/site-packages (from transformers) (2024.5.15)\r\n",
      "Requirement already satisfied: requests in /opt/homebrew/Caskroom/miniforge/base/envs/DL-tf/lib/python3.8/site-packages (from transformers) (2.28.2)\r\n",
      "Requirement already satisfied: tokenizers<0.20,>=0.19 in /opt/homebrew/Caskroom/miniforge/base/envs/DL-tf/lib/python3.8/site-packages (from transformers) (0.19.1)\r\n",
      "Requirement already satisfied: safetensors>=0.4.1 in /opt/homebrew/Caskroom/miniforge/base/envs/DL-tf/lib/python3.8/site-packages (from transformers) (0.4.3)\r\n",
      "Requirement already satisfied: tqdm>=4.27 in /opt/homebrew/Caskroom/miniforge/base/envs/DL-tf/lib/python3.8/site-packages (from transformers) (4.66.4)\r\n",
      "Requirement already satisfied: fsspec>=2023.5.0 in /opt/homebrew/Caskroom/miniforge/base/envs/DL-tf/lib/python3.8/site-packages (from huggingface-hub<1.0,>=0.23.0->transformers) (2024.6.0)\r\n",
      "Requirement already satisfied: typing-extensions>=3.7.4.3 in /opt/homebrew/Caskroom/miniforge/base/envs/DL-tf/lib/python3.8/site-packages (from huggingface-hub<1.0,>=0.23.0->transformers) (4.12.2)\r\n",
      "Requirement already satisfied: charset-normalizer<4,>=2 in /opt/homebrew/Caskroom/miniforge/base/envs/DL-tf/lib/python3.8/site-packages (from requests->transformers) (2.1.1)\r\n",
      "Requirement already satisfied: idna<4,>=2.5 in /opt/homebrew/Caskroom/miniforge/base/envs/DL-tf/lib/python3.8/site-packages (from requests->transformers) (3.4)\r\n",
      "Requirement already satisfied: urllib3<1.27,>=1.21.1 in /opt/homebrew/Caskroom/miniforge/base/envs/DL-tf/lib/python3.8/site-packages (from requests->transformers) (1.26.15)\r\n",
      "Requirement already satisfied: certifi>=2017.4.17 in /opt/homebrew/Caskroom/miniforge/base/envs/DL-tf/lib/python3.8/site-packages (from requests->transformers) (2024.6.2)\r\n"
     ]
    }
   ],
   "execution_count": 27
  },
  {
   "cell_type": "code",
   "id": "5a0ae645",
   "metadata": {
    "id": "5a0ae645",
    "ExecuteTime": {
     "end_time": "2024-06-24T14:12:05.311508Z",
     "start_time": "2024-06-24T14:12:05.307949Z"
    }
   },
   "source": [
    "#from transformers import TFElectraModel, ElectraTokenizer\n",
    "\n",
    "# model = TFElectraModel.from_pretrained(\"monologg/koelectra-base-v3-discriminator\", from_pt=True)\n",
    "#tokenizer = ElectraTokenizer.from_pretrained(\"monologg/koelectra-base-v3-discriminator\")"
   ],
   "outputs": [],
   "execution_count": 28
  },
  {
   "cell_type": "code",
   "id": "a282e858",
   "metadata": {
    "id": "a282e858",
    "ExecuteTime": {
     "end_time": "2024-06-24T14:12:05.321167Z",
     "start_time": "2024-06-24T14:12:05.315484Z"
    }
   },
   "source": [
    "from sklearn.preprocessing import LabelEncoder\n",
    "\n",
    "# LabelEncoder를 객체로 생성\n",
    "encoder = LabelEncoder()\n",
    "\n",
    "# fit, transform 메소드를 통한 레이블 인코딩\n",
    "encoder.fit(train_data['class'])\n",
    "\n",
    "train_data[\"label\"] = encoder.transform(train_data['class'])"
   ],
   "outputs": [],
   "execution_count": 29
  },
  {
   "cell_type": "code",
   "id": "01b5f214",
   "metadata": {
    "id": "01b5f214",
    "ExecuteTime": {
     "end_time": "2024-06-24T14:16:42.791617Z",
     "start_time": "2024-06-24T14:16:42.786223Z"
    }
   },
   "source": [
    "dataset = train_data[['cleaned', 'label']]"
   ],
   "outputs": [],
   "execution_count": 41
  },
  {
   "cell_type": "code",
   "id": "dbc68d99",
   "metadata": {
    "colab": {
     "base_uri": "https://localhost:8080/",
     "height": 363
    },
    "id": "dbc68d99",
    "outputId": "24606769-391c-4612-f265-2c6f3b6bc4fb",
    "ExecuteTime": {
     "end_time": "2024-06-24T14:16:43.264090Z",
     "start_time": "2024-06-24T14:16:43.255137Z"
    }
   },
   "source": [
    "dataset.sample(n=10)"
   ],
   "outputs": [
    {
     "data": {
      "text/plain": [
       "                                                cleaned  label\n",
       "1818  이번주부터 프로젝트 진행하는 거 알지? 다들 자기 맡은 일 체크하고 팀장님 제 이름...      2\n",
       "1535  얘들아. 이 년 몰골좀 봐. 야. 너 좀 씻고다녀. 우웩 너희가 나한테 걸레물 뿌린...      1\n",
       "2670  김과장 저녁에 머해 왜요? 월급날인데 데이트하자 사장님 이런거도 성폭력입니다. 데이...      2\n",
       "3036  칼 내려 놓으세요 너가 나 무시하고 있잖아 선생님 진정하시고 제 말좀 들어보세요 너...      3\n",
       "1784  이야 이 엉덩이 짱 크네. 오우 그러게 한 대 때려봐도 되냐? 그만해 그런 장난 안...      1\n",
       "927   야 너 오늘 옷 머냐 내옷???? 새로샀어 야 그몸뚱이에 그게 어울리냐 내몸이어때서...      1\n",
       "2153  자 다같이 열심히 하자 근데 넌 할수있나? 뭐가? 아니 넌 너무 못생기고 말도 잘 ...      1\n",
       "1240  님 롤 나 못하네요 니새보다는 잘하는 것 같은데요 스킬 못 맞추는 꼬라지 라고 01...      1\n",
       "3613  야 우리 쟤 죽여버리자 죽이는건 너무 심하지. 그냥 불구로 만들어버리자 왜그러세요....      3\n",
       "1495  야! 너 그거 당장 내놔!! 절대 못 줘 이게 얼마나 중요한 증거인데!! 그것만 주...      3"
      ],
      "text/html": [
       "<div>\n",
       "<style scoped>\n",
       "    .dataframe tbody tr th:only-of-type {\n",
       "        vertical-align: middle;\n",
       "    }\n",
       "\n",
       "    .dataframe tbody tr th {\n",
       "        vertical-align: top;\n",
       "    }\n",
       "\n",
       "    .dataframe thead th {\n",
       "        text-align: right;\n",
       "    }\n",
       "</style>\n",
       "<table border=\"1\" class=\"dataframe\">\n",
       "  <thead>\n",
       "    <tr style=\"text-align: right;\">\n",
       "      <th></th>\n",
       "      <th>cleaned</th>\n",
       "      <th>label</th>\n",
       "    </tr>\n",
       "  </thead>\n",
       "  <tbody>\n",
       "    <tr>\n",
       "      <th>1818</th>\n",
       "      <td>이번주부터 프로젝트 진행하는 거 알지? 다들 자기 맡은 일 체크하고 팀장님 제 이름...</td>\n",
       "      <td>2</td>\n",
       "    </tr>\n",
       "    <tr>\n",
       "      <th>1535</th>\n",
       "      <td>얘들아. 이 년 몰골좀 봐. 야. 너 좀 씻고다녀. 우웩 너희가 나한테 걸레물 뿌린...</td>\n",
       "      <td>1</td>\n",
       "    </tr>\n",
       "    <tr>\n",
       "      <th>2670</th>\n",
       "      <td>김과장 저녁에 머해 왜요? 월급날인데 데이트하자 사장님 이런거도 성폭력입니다. 데이...</td>\n",
       "      <td>2</td>\n",
       "    </tr>\n",
       "    <tr>\n",
       "      <th>3036</th>\n",
       "      <td>칼 내려 놓으세요 너가 나 무시하고 있잖아 선생님 진정하시고 제 말좀 들어보세요 너...</td>\n",
       "      <td>3</td>\n",
       "    </tr>\n",
       "    <tr>\n",
       "      <th>1784</th>\n",
       "      <td>이야 이 엉덩이 짱 크네. 오우 그러게 한 대 때려봐도 되냐? 그만해 그런 장난 안...</td>\n",
       "      <td>1</td>\n",
       "    </tr>\n",
       "    <tr>\n",
       "      <th>927</th>\n",
       "      <td>야 너 오늘 옷 머냐 내옷???? 새로샀어 야 그몸뚱이에 그게 어울리냐 내몸이어때서...</td>\n",
       "      <td>1</td>\n",
       "    </tr>\n",
       "    <tr>\n",
       "      <th>2153</th>\n",
       "      <td>자 다같이 열심히 하자 근데 넌 할수있나? 뭐가? 아니 넌 너무 못생기고 말도 잘 ...</td>\n",
       "      <td>1</td>\n",
       "    </tr>\n",
       "    <tr>\n",
       "      <th>1240</th>\n",
       "      <td>님 롤 나 못하네요 니새보다는 잘하는 것 같은데요 스킬 못 맞추는 꼬라지 라고 01...</td>\n",
       "      <td>1</td>\n",
       "    </tr>\n",
       "    <tr>\n",
       "      <th>3613</th>\n",
       "      <td>야 우리 쟤 죽여버리자 죽이는건 너무 심하지. 그냥 불구로 만들어버리자 왜그러세요....</td>\n",
       "      <td>3</td>\n",
       "    </tr>\n",
       "    <tr>\n",
       "      <th>1495</th>\n",
       "      <td>야! 너 그거 당장 내놔!! 절대 못 줘 이게 얼마나 중요한 증거인데!! 그것만 주...</td>\n",
       "      <td>3</td>\n",
       "    </tr>\n",
       "  </tbody>\n",
       "</table>\n",
       "</div>"
      ]
     },
     "execution_count": 42,
     "metadata": {},
     "output_type": "execute_result"
    }
   ],
   "execution_count": 42
  },
  {
   "cell_type": "code",
   "id": "fe53bd56",
   "metadata": {
    "colab": {
     "base_uri": "https://localhost:8080/"
    },
    "id": "fe53bd56",
    "outputId": "2602e29b-41fc-443b-afca-b2888111c949",
    "ExecuteTime": {
     "end_time": "2024-06-24T14:16:45.295253Z",
     "start_time": "2024-06-24T14:16:45.285076Z"
    }
   },
   "source": [
    "max_seq_len = 0\n",
    "len_64_128 = 0\n",
    "len_128_256 = 0\n",
    "\n",
    "mylist = [0 for i in range(10000)]\n",
    "for index, value in dataset['cleaned'].items():\n",
    "    mylist[len(value)] += 1\n",
    "    max_seq_len = max(max_seq_len, len(value))\n",
    "\n",
    "    if len(value) >= 64 and len(value) < 128:\n",
    "        len_64_128 += 1\n",
    "    elif len(value) >= 128 and len(value) < 256:\n",
    "        len_128_256 += 1\n",
    "\n",
    "print(f'가장 긴 문장 길이: {max_seq_len}')\n",
    "print(f'64과 128 사이 길이 문장 개수: {len_64_128}')\n",
    "print(f'128과 256 사이 길이 문장 개수: {len_128_256}')"
   ],
   "outputs": [
    {
     "name": "stdout",
     "output_type": "stream",
     "text": [
      "가장 긴 문장 길이: 874\n",
      "64과 128 사이 길이 문장 개수: 462\n",
      "128과 256 사이 길이 문장 개수: 2344\n"
     ]
    }
   ],
   "execution_count": 43
  },
  {
   "cell_type": "code",
   "id": "14244e61",
   "metadata": {
    "id": "14244e61",
    "ExecuteTime": {
     "end_time": "2024-06-24T14:16:47.839105Z",
     "start_time": "2024-06-24T14:16:47.833636Z"
    }
   },
   "source": [
    "max_seq_len = 800"
   ],
   "outputs": [],
   "execution_count": 44
  },
  {
   "cell_type": "code",
   "source": "dataset",
   "metadata": {
    "colab": {
     "base_uri": "https://localhost:8080/",
     "height": 424
    },
    "id": "SZQysxATXuTx",
    "outputId": "30b1e92b-fd87-4eb0-bb9d-ea2625252955",
    "ExecuteTime": {
     "end_time": "2024-06-24T14:17:45.359888Z",
     "start_time": "2024-06-24T14:17:45.343717Z"
    }
   },
   "id": "SZQysxATXuTx",
   "outputs": [
    {
     "data": {
      "text/plain": [
       "                                                cleaned  label\n",
       "0     지금 너 스스로를 죽여달라고 애원하는 것인가? 아닙니다. 죄송합니다. 죽을 거면 혼...      3\n",
       "1     길동경찰서입니다. 9시 40분 마트에 폭발물을 설치할거다. 네? 똑바로 들어 한번만...      3\n",
       "2     너 되게 귀여운거 알지? 나보다 작은 남자는 첨봤어. 그만해. 니들 놀리는거 재미없...      1\n",
       "3     어이 거기 예?? 너 말이야 너. 이리 오라고 무슨 일. 너 옷 좋아보인다? 얘 돈...      0\n",
       "4     저기요 혹시 날이 너무 뜨겁잖아요? 저희 회사에서 이 선크림 파는데 한 번 손등에 ...      0\n",
       "...                                                 ...    ...\n",
       "3945  준하야 넌 대가리가 왜이렇게 크냐? 내 머리가 뭐. 밥먹으면 대가리만 크냐 너는? ...      1\n",
       "3946  내가 지금 너 아들 김길준 데리고 있어. 살리고 싶으면 계좌에 1억만 보내 예.? ...      0\n",
       "3947  나는 씨 같은 사람 보면 참 신기하더라. 어떻게 저렇게 살지. 왜 그래. 들리겠어....      2\n",
       "3948  누구맘대로 여기서 장사하래? 이게 무슨일입니까? 남의 구역에서 장사하려면 자릿세를 ...      0\n",
       "3949  희정씨 네? 주말에 시간이 넘쳐나나봐 갑자기 왜그러세요? 손이 빤짝빤짝 네일했니? ...      2\n",
       "\n",
       "[3950 rows x 2 columns]"
      ],
      "text/html": [
       "<div>\n",
       "<style scoped>\n",
       "    .dataframe tbody tr th:only-of-type {\n",
       "        vertical-align: middle;\n",
       "    }\n",
       "\n",
       "    .dataframe tbody tr th {\n",
       "        vertical-align: top;\n",
       "    }\n",
       "\n",
       "    .dataframe thead th {\n",
       "        text-align: right;\n",
       "    }\n",
       "</style>\n",
       "<table border=\"1\" class=\"dataframe\">\n",
       "  <thead>\n",
       "    <tr style=\"text-align: right;\">\n",
       "      <th></th>\n",
       "      <th>cleaned</th>\n",
       "      <th>label</th>\n",
       "    </tr>\n",
       "  </thead>\n",
       "  <tbody>\n",
       "    <tr>\n",
       "      <th>0</th>\n",
       "      <td>지금 너 스스로를 죽여달라고 애원하는 것인가? 아닙니다. 죄송합니다. 죽을 거면 혼...</td>\n",
       "      <td>3</td>\n",
       "    </tr>\n",
       "    <tr>\n",
       "      <th>1</th>\n",
       "      <td>길동경찰서입니다. 9시 40분 마트에 폭발물을 설치할거다. 네? 똑바로 들어 한번만...</td>\n",
       "      <td>3</td>\n",
       "    </tr>\n",
       "    <tr>\n",
       "      <th>2</th>\n",
       "      <td>너 되게 귀여운거 알지? 나보다 작은 남자는 첨봤어. 그만해. 니들 놀리는거 재미없...</td>\n",
       "      <td>1</td>\n",
       "    </tr>\n",
       "    <tr>\n",
       "      <th>3</th>\n",
       "      <td>어이 거기 예?? 너 말이야 너. 이리 오라고 무슨 일. 너 옷 좋아보인다? 얘 돈...</td>\n",
       "      <td>0</td>\n",
       "    </tr>\n",
       "    <tr>\n",
       "      <th>4</th>\n",
       "      <td>저기요 혹시 날이 너무 뜨겁잖아요? 저희 회사에서 이 선크림 파는데 한 번 손등에 ...</td>\n",
       "      <td>0</td>\n",
       "    </tr>\n",
       "    <tr>\n",
       "      <th>...</th>\n",
       "      <td>...</td>\n",
       "      <td>...</td>\n",
       "    </tr>\n",
       "    <tr>\n",
       "      <th>3945</th>\n",
       "      <td>준하야 넌 대가리가 왜이렇게 크냐? 내 머리가 뭐. 밥먹으면 대가리만 크냐 너는? ...</td>\n",
       "      <td>1</td>\n",
       "    </tr>\n",
       "    <tr>\n",
       "      <th>3946</th>\n",
       "      <td>내가 지금 너 아들 김길준 데리고 있어. 살리고 싶으면 계좌에 1억만 보내 예.? ...</td>\n",
       "      <td>0</td>\n",
       "    </tr>\n",
       "    <tr>\n",
       "      <th>3947</th>\n",
       "      <td>나는 씨 같은 사람 보면 참 신기하더라. 어떻게 저렇게 살지. 왜 그래. 들리겠어....</td>\n",
       "      <td>2</td>\n",
       "    </tr>\n",
       "    <tr>\n",
       "      <th>3948</th>\n",
       "      <td>누구맘대로 여기서 장사하래? 이게 무슨일입니까? 남의 구역에서 장사하려면 자릿세를 ...</td>\n",
       "      <td>0</td>\n",
       "    </tr>\n",
       "    <tr>\n",
       "      <th>3949</th>\n",
       "      <td>희정씨 네? 주말에 시간이 넘쳐나나봐 갑자기 왜그러세요? 손이 빤짝빤짝 네일했니? ...</td>\n",
       "      <td>2</td>\n",
       "    </tr>\n",
       "  </tbody>\n",
       "</table>\n",
       "<p>3950 rows × 2 columns</p>\n",
       "</div>"
      ]
     },
     "execution_count": 48,
     "metadata": {},
     "output_type": "execute_result"
    }
   ],
   "execution_count": 48
  },
  {
   "metadata": {
    "id": "86651c9f66d9194b",
    "ExecuteTime": {
     "end_time": "2024-06-24T14:22:22.048223Z",
     "start_time": "2024-06-24T14:22:11.805656Z"
    }
   },
   "cell_type": "code",
   "source": [
    "import pandas as pd\n",
    "import numpy as np\n",
    "import torch\n",
    "from torch.utils.data import Dataset, DataLoader\n",
    "from transformers import ElectraTokenizer, ElectraModel, ElectraConfig, AdamW\n",
    "import torch.nn as nn\n",
    "import wandb\n",
    "from sklearn.metrics import f1_score\n",
    "\n",
    "# wandb.login(key ='41f703d2a27233965949ceec062860a34d822ed9')\n",
    "# W&B 초기화\n",
    "wandb.init(project=\"koelectra-multi-label-classification2\", entity=\"seongyeonkim\")\n",
    "\n",
    "# 데이터 로드\n",
    "df = train_data[['cleaned', 'label']]\n",
    "\n",
    "# KoElectra tokenizer 로드\n",
    "tokenizer = ElectraTokenizer.from_pretrained(\"monologg/koelectra-base-v3-discriminator\")\n",
    "\n",
    "# 토큰화 및 레이블 변환 함수 정의\n",
    "label_map = {\n",
    "    0: [1, 0, 0, 0],\n",
    "    1: [0, 1, 0, 0],\n",
    "    2: [0, 0, 1, 0],\n",
    "    3: [0, 0, 0, 1],\n",
    "    4: [0, 0, 0, 0]  # 기타 경우 추가\n",
    "}"
   ],
   "id": "86651c9f66d9194b",
   "outputs": [
    {
     "data": {
      "text/plain": [
       "<IPython.core.display.HTML object>"
      ],
      "text/html": [
       "Finishing last run (ID:j2c7y1ku) before initializing another..."
      ]
     },
     "metadata": {},
     "output_type": "display_data"
    },
    {
     "data": {
      "text/plain": [
       "VBox(children=(Label(value='0.016 MB of 0.016 MB uploaded\\r'), FloatProgress(value=1.0, max=1.0)))"
      ],
      "application/vnd.jupyter.widget-view+json": {
       "version_major": 2,
       "version_minor": 0,
       "model_id": "886bed002aac497c92af76bc451da651"
      }
     },
     "metadata": {},
     "output_type": "display_data"
    },
    {
     "data": {
      "text/plain": [
       "<IPython.core.display.HTML object>"
      ],
      "text/html": [
       " View run <strong style=\"color:#cdcd00\">royal-planet-5</strong> at: <a href='https://wandb.ai/seongyeonkim/koelectra-multi-label-classification/runs/j2c7y1ku' target=\"_blank\">https://wandb.ai/seongyeonkim/koelectra-multi-label-classification/runs/j2c7y1ku</a><br/> View project at: <a href='https://wandb.ai/seongyeonkim/koelectra-multi-label-classification' target=\"_blank\">https://wandb.ai/seongyeonkim/koelectra-multi-label-classification</a><br/>Synced 5 W&B file(s), 0 media file(s), 0 artifact file(s) and 0 other file(s)"
      ]
     },
     "metadata": {},
     "output_type": "display_data"
    },
    {
     "data": {
      "text/plain": [
       "<IPython.core.display.HTML object>"
      ],
      "text/html": [
       "Find logs at: <code>./wandb/run-20240624_232202-j2c7y1ku/logs</code>"
      ]
     },
     "metadata": {},
     "output_type": "display_data"
    },
    {
     "data": {
      "text/plain": [
       "<IPython.core.display.HTML object>"
      ],
      "text/html": [
       "Successfully finished last run (ID:j2c7y1ku). Initializing new run:<br/>"
      ]
     },
     "metadata": {},
     "output_type": "display_data"
    },
    {
     "data": {
      "text/plain": [
       "VBox(children=(Label(value='Waiting for wandb.init()...\\r'), FloatProgress(value=0.011119129633333261, max=1.0…"
      ],
      "application/vnd.jupyter.widget-view+json": {
       "version_major": 2,
       "version_minor": 0,
       "model_id": "e56dfffa9643477891ac6b8e5b0f7a2a"
      }
     },
     "metadata": {},
     "output_type": "display_data"
    },
    {
     "data": {
      "text/plain": [
       "<IPython.core.display.HTML object>"
      ],
      "text/html": [
       "wandb version 0.17.2 is available!  To upgrade, please run:\n",
       " $ pip install wandb --upgrade"
      ]
     },
     "metadata": {},
     "output_type": "display_data"
    },
    {
     "data": {
      "text/plain": [
       "<IPython.core.display.HTML object>"
      ],
      "text/html": [
       "Tracking run with wandb version 0.17.1"
      ]
     },
     "metadata": {},
     "output_type": "display_data"
    },
    {
     "data": {
      "text/plain": [
       "<IPython.core.display.HTML object>"
      ],
      "text/html": [
       "Run data is saved locally in <code>/Users/seongyeon/Desktop/AI/AIFFEL_STUDY/DLTHON/wandb/run-20240624_232211-u6onhx6h</code>"
      ]
     },
     "metadata": {},
     "output_type": "display_data"
    },
    {
     "data": {
      "text/plain": [
       "<IPython.core.display.HTML object>"
      ],
      "text/html": [
       "Syncing run <strong><a href='https://wandb.ai/seongyeonkim/koelectra-multi-label-classification/runs/u6onhx6h' target=\"_blank\">soft-breeze-6</a></strong> to <a href='https://wandb.ai/seongyeonkim/koelectra-multi-label-classification' target=\"_blank\">Weights & Biases</a> (<a href='https://wandb.me/run' target=\"_blank\">docs</a>)<br/>"
      ]
     },
     "metadata": {},
     "output_type": "display_data"
    },
    {
     "data": {
      "text/plain": [
       "<IPython.core.display.HTML object>"
      ],
      "text/html": [
       " View project at <a href='https://wandb.ai/seongyeonkim/koelectra-multi-label-classification' target=\"_blank\">https://wandb.ai/seongyeonkim/koelectra-multi-label-classification</a>"
      ]
     },
     "metadata": {},
     "output_type": "display_data"
    },
    {
     "data": {
      "text/plain": [
       "<IPython.core.display.HTML object>"
      ],
      "text/html": [
       " View run at <a href='https://wandb.ai/seongyeonkim/koelectra-multi-label-classification/runs/u6onhx6h' target=\"_blank\">https://wandb.ai/seongyeonkim/koelectra-multi-label-classification/runs/u6onhx6h</a>"
      ]
     },
     "metadata": {},
     "output_type": "display_data"
    }
   ],
   "execution_count": 55
  },
  {
   "metadata": {
    "ExecuteTime": {
     "end_time": "2024-06-24T14:50:23.465821Z",
     "start_time": "2024-06-24T14:22:22.049544Z"
    }
   },
   "cell_type": "code",
   "source": [
    "class ViolenceDataset(Dataset):\n",
    "    def __init__(self, dataframe, tokenizer, max_length):\n",
    "        self.dataframe = dataframe\n",
    "        self.tokenizer = tokenizer\n",
    "        self.max_length = max_length\n",
    "\n",
    "    def __len__(self):\n",
    "        return len(self.dataframe)\n",
    "\n",
    "    def __getitem__(self, idx):\n",
    "        text = self.dataframe.iloc[idx, 0]\n",
    "        labels = self.dataframe.iloc[idx, 1]\n",
    "        labels = label_map[labels]\n",
    "        encoding = self.tokenizer.encode_plus(\n",
    "            text,\n",
    "            add_special_tokens=True,\n",
    "            max_length=self.max_length,\n",
    "            padding='max_length',\n",
    "            truncation=True,\n",
    "            return_tensors='pt'\n",
    "        )\n",
    "        input_ids = encoding['input_ids'].flatten()\n",
    "        attention_mask = encoding['attention_mask'].flatten()\n",
    "        \n",
    "        return {\n",
    "            'input_ids': input_ids,\n",
    "            'attention_mask': attention_mask,\n",
    "            'labels': torch.tensor(labels, dtype=torch.float)\n",
    "        }\n",
    "\n",
    "# 데이터셋 준비\n",
    "max_length = 128\n",
    "dataset = ViolenceDataset(df, tokenizer, max_length)\n",
    "dataloader = DataLoader(dataset, batch_size=16, shuffle=True)\n",
    "\n",
    "# 모델 정의\n",
    "class ElectraForMultiLabelClassification(nn.Module):\n",
    "    def __init__(self, model_name, num_labels):\n",
    "        super(ElectraForMultiLabelClassification, self).__init__()\n",
    "        self.electra = ElectraModel.from_pretrained(model_name)\n",
    "        self.classifier = nn.Linear(self.electra.config.hidden_size, num_labels)\n",
    "\n",
    "    def forward(self, input_ids, attention_mask):\n",
    "        outputs = self.electra(input_ids=input_ids, attention_mask=attention_mask)\n",
    "        sequence_output = outputs.last_hidden_state\n",
    "        pooled_output = sequence_output[:, 0, :]  # cls token\n",
    "        logits = self.classifier(pooled_output)\n",
    "        return logits\n",
    "\n",
    "model = ElectraForMultiLabelClassification(\"monologg/koelectra-base-v3-discriminator\", num_labels=4)\n",
    "criterion = nn.BCEWithLogitsLoss()\n",
    "optimizer = AdamW(model.parameters(), lr=1e-5)\n",
    "\n",
    "# W&B에 모델을 로깅할 수 있도록 W&B에 등록\n",
    "wandb.watch(model, log=\"all\")\n",
    "\n",
    "# 학습 루프\n",
    "model.train()\n",
    "for epoch in range(3):\n",
    "    all_preds = []\n",
    "    all_labels = []\n",
    "    for batch in dataloader:\n",
    "        input_ids = batch['input_ids']\n",
    "        attention_mask = batch['attention_mask']\n",
    "        labels = batch['labels']\n",
    "        \n",
    "        optimizer.zero_grad()\n",
    "        outputs = model(input_ids, attention_mask)\n",
    "        loss = criterion(outputs, labels)\n",
    "        loss.backward()\n",
    "        optimizer.step()\n",
    "        \n",
    "        preds = torch.sigmoid(outputs).detach().cpu().numpy()\n",
    "        labels = labels.detach().cpu().numpy()\n",
    "        \n",
    "        all_preds.append(preds)\n",
    "        all_labels.append(labels)\n",
    "        \n",
    "        wandb.log({\"epoch\": epoch + 1, \"loss\": loss.item()})\n",
    "        print(f\"Epoch {epoch+1}, Loss: {loss.item()}\")\n",
    "    \n",
    "    # 에포크당 F1 스코어 계산\n",
    "    all_preds = np.concatenate(all_preds, axis=0)\n",
    "    all_labels = np.concatenate(all_labels, axis=0)\n",
    "    f1 = f1_score(all_labels, (all_preds > 0.5).astype(int), average='micro')\n",
    "    \n",
    "    wandb.log({\"epoch\": epoch + 1, \"f1_score\": f1})\n",
    "    print(f\"Epoch {epoch+1}, F1 Score: {f1}\")"
   ],
   "id": "119da6e5e79789aa",
   "outputs": [],
   "execution_count": null
  },
  {
   "metadata": {
    "ExecuteTime": {
     "end_time": "2024-06-24T14:53:07.502826Z",
     "start_time": "2024-06-24T14:52:32.242013Z"
    }
   },
   "cell_type": "code",
   "source": [
    "# 모델 저장\n",
    "model_save_path = './koelectra_multilabel'\n",
    "torch.save(model.state_dict(), model_save_path + '/pytorch_model.bin')\n",
    "tokenizer.save_pretrained(model_save_path)\n",
    "\n",
    "# W&B에 모델 아티팩트로 업로드\n",
    "artifact = wandb.Artifact('koelectra-multi-label-classification', type='model')\n",
    "artifact.add_dir(model_save_path)\n",
    "wandb.log_artifact(artifact)\n",
    "\n",
    "# W&B 실행 종료\n",
    "wandb.finish()"
   ],
   "id": "d562d49b41a6602",
   "outputs": [
    {
     "name": "stderr",
     "output_type": "stream",
     "text": [
      "\u001B[34m\u001B[1mwandb\u001B[0m: Adding directory to artifact (./koelectra_multilabel)... Done. 1.8s\n"
     ]
    },
    {
     "data": {
      "text/plain": [
       "VBox(children=(Label(value='428.850 MB of 428.850 MB uploaded\\r'), FloatProgress(value=1.0, max=1.0)))"
      ],
      "application/vnd.jupyter.widget-view+json": {
       "version_major": 2,
       "version_minor": 0,
       "model_id": "b7995de112b749d796795a35756b1b86"
      }
     },
     "metadata": {},
     "output_type": "display_data"
    },
    {
     "data": {
      "text/plain": [
       "<IPython.core.display.HTML object>"
      ],
      "text/html": [
       "<style>\n",
       "    table.wandb td:nth-child(1) { padding: 0 10px; text-align: left ; width: auto;} td:nth-child(2) {text-align: left ; width: 100%}\n",
       "    .wandb-row { display: flex; flex-direction: row; flex-wrap: wrap; justify-content: flex-start; width: 100% }\n",
       "    .wandb-col { display: flex; flex-direction: column; flex-basis: 100%; flex: 1; padding: 10px; }\n",
       "    </style>\n",
       "<div class=\"wandb-row\"><div class=\"wandb-col\"><h3>Run history:</h3><br/><table class=\"wandb\"><tr><td>epoch</td><td>▁▁▁▁▁▁▁▁▁▁▁▁▁▅▅▅▅▅▅▅▅▅▅▅▅▅▅█████████████</td></tr><tr><td>loss</td><td>█▇▇▇▇▆▅▅▄▅▄▃▄▂▂▃▂▃▃▃▁▃▃▃▂▃▂▂▃▂▁▂▁▁▂▄▄▂▁▂</td></tr></table><br/></div><div class=\"wandb-col\"><h3>Run summary:</h3><br/><table class=\"wandb\"><tr><td>epoch</td><td>3</td></tr><tr><td>loss</td><td>0.06351</td></tr></table><br/></div></div>"
      ]
     },
     "metadata": {},
     "output_type": "display_data"
    },
    {
     "data": {
      "text/plain": [
       "<IPython.core.display.HTML object>"
      ],
      "text/html": [
       " View run <strong style=\"color:#cdcd00\">soft-breeze-6</strong> at: <a href='https://wandb.ai/seongyeonkim/koelectra-multi-label-classification/runs/u6onhx6h' target=\"_blank\">https://wandb.ai/seongyeonkim/koelectra-multi-label-classification/runs/u6onhx6h</a><br/> View project at: <a href='https://wandb.ai/seongyeonkim/koelectra-multi-label-classification' target=\"_blank\">https://wandb.ai/seongyeonkim/koelectra-multi-label-classification</a><br/>Synced 6 W&B file(s), 0 media file(s), 4 artifact file(s) and 0 other file(s)"
      ]
     },
     "metadata": {},
     "output_type": "display_data"
    },
    {
     "data": {
      "text/plain": [
       "<IPython.core.display.HTML object>"
      ],
      "text/html": [
       "Find logs at: <code>./wandb/run-20240624_232211-u6onhx6h/logs</code>"
      ]
     },
     "metadata": {},
     "output_type": "display_data"
    }
   ],
   "execution_count": 57
  },
  {
   "cell_type": "code",
   "source": "",
   "metadata": {
    "colab": {
     "base_uri": "https://localhost:8080/"
    },
    "id": "TyYdkc1MRzym",
    "outputId": "c00ac3b8-ebb6-4349-a865-22412cd37315",
    "ExecuteTime": {
     "end_time": "2024-06-24T14:50:23.466719Z",
     "start_time": "2024-06-24T14:50:23.466656Z"
    }
   },
   "id": "TyYdkc1MRzym",
   "outputs": [],
   "execution_count": null
  },
  {
   "cell_type": "code",
   "source": [],
   "metadata": {
    "id": "CccXUBCWXKKS"
   },
   "id": "CccXUBCWXKKS",
   "outputs": [],
   "execution_count": null
  },
  {
   "cell_type": "markdown",
   "id": "e8686a29",
   "metadata": {
    "id": "e8686a29"
   },
   "source": [
    "## Fine-tuning Model"
   ]
  },
  {
   "metadata": {},
   "cell_type": "code",
   "outputs": [],
   "execution_count": null,
   "source": "",
   "id": "67faca63274bf1a4"
  },
  {
   "cell_type": "markdown",
   "id": "e6143331",
   "metadata": {
    "id": "e6143331"
   },
   "source": "## Predict"
  },
  {
   "cell_type": "markdown",
   "id": "00279d77",
   "metadata": {
    "id": "00279d77"
   },
   "source": [
    "일반대화 예시\n",
    "\n",
    "```json\n",
    "{\n",
    "\t\"id\": {\n",
    "\t\t\"text\": \"이거 들어봐 와 이 노래 진짜 좋다 그치 요즘 이 것만 들어 진짜 너무 좋다 내가 요즘 듣는 것도 들어봐 음 난 좀 별론데 좋을 줄 알았는데 아쉽네 내 취향은 아닌 듯 배고프다 밥이나 먹으러 가자 그래\"\n",
    "\t}\n",
    "}\n",
    "```"
   ]
  },
  {
   "cell_type": "code",
   "id": "d3bed8f7",
   "metadata": {
    "id": "d3bed8f7",
    "ExecuteTime": {
     "end_time": "2024-06-24T14:54:28.648966Z",
     "start_time": "2024-06-24T14:54:28.623506Z"
    }
   },
   "source": [
    "import json\n",
    "with open('./data/test.json') as f:\n",
    "    test_data = json.load(f)\n",
    "\n",
    "test_data = pd.DataFrame(test_data).T\n",
    "test_data.reset_index(drop=True, inplace=True)"
   ],
   "outputs": [],
   "execution_count": 61
  },
  {
   "cell_type": "code",
   "id": "cb2a4075",
   "metadata": {
    "scrolled": false,
    "id": "cb2a4075",
    "ExecuteTime": {
     "end_time": "2024-06-24T14:54:30.512560Z",
     "start_time": "2024-06-24T14:54:30.506840Z"
    }
   },
   "source": [
    "test_data"
   ],
   "outputs": [
    {
     "data": {
      "text/plain": [
       "                                                  text\n",
       "0    아가씨 담배한갑주소 네 4500원입니다 어 네 지갑어디갔지 에이 버스에서 잃어버렸나...\n",
       "1    우리팀에서 다른팀으로 갈 사람 없나? 그럼 영지씨가 가는건 어때?  네? 제가요? ...\n",
       "2    너 오늘 그게 뭐야 네 제가 뭘 잘못했나요.? 제대로 좀 하지 네 똑바로 좀 하지 ...\n",
       "3    이거 들어바 와 이 노래 진짜 좋다 그치 요즘 이 것만 들어 진짜 너무 좋다 내가 ...\n",
       "4    아무튼 앞으로 니가 내 와이파이야. .응 와이파이 온. 켰어. 반말? 주인님이라고도...\n",
       "..                                                 ...\n",
       "495  미나씨 휴가 결제 올리기 전에 저랑 상의하라고 말한거 기억해요? 네 합니다. 보고서...\n",
       "496  교수님 제 논문에 제 이름이 없나요?  아 무슨 논문말이야?  지난 번 냈던 논문이...\n",
       "497  야 너  네 저요? 그래 너 왜요 돈좀 줘봐  돈 없어요 돈이 왜 없어 지갑은 폼이...\n",
       "498  야 너 빨리 안 뛰어와? 너 이 환자 제대로 봤어 안 봤어 어제 저녁부터 계속 보다...\n",
       "499  엄마 저 그 돈 안해주시면 정말 큰일나요.  이유도 말하지 않고. 몇번째니 경민아....\n",
       "\n",
       "[500 rows x 1 columns]"
      ],
      "text/html": [
       "<div>\n",
       "<style scoped>\n",
       "    .dataframe tbody tr th:only-of-type {\n",
       "        vertical-align: middle;\n",
       "    }\n",
       "\n",
       "    .dataframe tbody tr th {\n",
       "        vertical-align: top;\n",
       "    }\n",
       "\n",
       "    .dataframe thead th {\n",
       "        text-align: right;\n",
       "    }\n",
       "</style>\n",
       "<table border=\"1\" class=\"dataframe\">\n",
       "  <thead>\n",
       "    <tr style=\"text-align: right;\">\n",
       "      <th></th>\n",
       "      <th>text</th>\n",
       "    </tr>\n",
       "  </thead>\n",
       "  <tbody>\n",
       "    <tr>\n",
       "      <th>0</th>\n",
       "      <td>아가씨 담배한갑주소 네 4500원입니다 어 네 지갑어디갔지 에이 버스에서 잃어버렸나...</td>\n",
       "    </tr>\n",
       "    <tr>\n",
       "      <th>1</th>\n",
       "      <td>우리팀에서 다른팀으로 갈 사람 없나? 그럼 영지씨가 가는건 어때?  네? 제가요? ...</td>\n",
       "    </tr>\n",
       "    <tr>\n",
       "      <th>2</th>\n",
       "      <td>너 오늘 그게 뭐야 네 제가 뭘 잘못했나요.? 제대로 좀 하지 네 똑바로 좀 하지 ...</td>\n",
       "    </tr>\n",
       "    <tr>\n",
       "      <th>3</th>\n",
       "      <td>이거 들어바 와 이 노래 진짜 좋다 그치 요즘 이 것만 들어 진짜 너무 좋다 내가 ...</td>\n",
       "    </tr>\n",
       "    <tr>\n",
       "      <th>4</th>\n",
       "      <td>아무튼 앞으로 니가 내 와이파이야. .응 와이파이 온. 켰어. 반말? 주인님이라고도...</td>\n",
       "    </tr>\n",
       "    <tr>\n",
       "      <th>...</th>\n",
       "      <td>...</td>\n",
       "    </tr>\n",
       "    <tr>\n",
       "      <th>495</th>\n",
       "      <td>미나씨 휴가 결제 올리기 전에 저랑 상의하라고 말한거 기억해요? 네 합니다. 보고서...</td>\n",
       "    </tr>\n",
       "    <tr>\n",
       "      <th>496</th>\n",
       "      <td>교수님 제 논문에 제 이름이 없나요?  아 무슨 논문말이야?  지난 번 냈던 논문이...</td>\n",
       "    </tr>\n",
       "    <tr>\n",
       "      <th>497</th>\n",
       "      <td>야 너  네 저요? 그래 너 왜요 돈좀 줘봐  돈 없어요 돈이 왜 없어 지갑은 폼이...</td>\n",
       "    </tr>\n",
       "    <tr>\n",
       "      <th>498</th>\n",
       "      <td>야 너 빨리 안 뛰어와? 너 이 환자 제대로 봤어 안 봤어 어제 저녁부터 계속 보다...</td>\n",
       "    </tr>\n",
       "    <tr>\n",
       "      <th>499</th>\n",
       "      <td>엄마 저 그 돈 안해주시면 정말 큰일나요.  이유도 말하지 않고. 몇번째니 경민아....</td>\n",
       "    </tr>\n",
       "  </tbody>\n",
       "</table>\n",
       "<p>500 rows × 1 columns</p>\n",
       "</div>"
      ]
     },
     "execution_count": 62,
     "metadata": {},
     "output_type": "execute_result"
    }
   ],
   "execution_count": 62
  },
  {
   "metadata": {
    "ExecuteTime": {
     "end_time": "2024-06-24T15:05:17.000737Z",
     "start_time": "2024-06-24T15:05:16.992559Z"
    }
   },
   "cell_type": "code",
   "source": [
    "# 예측 함수\n",
    "def predict(text):\n",
    "    try:\n",
    "        model.eval()\n",
    "        with torch.no_grad():\n",
    "            encoding = tokenizer.encode_plus(\n",
    "                text,\n",
    "                add_special_tokens=True,\n",
    "                max_length=128,\n",
    "                padding='max_length',\n",
    "                truncation=True,\n",
    "                return_tensors='pt'\n",
    "            )\n",
    "            input_ids = encoding['input_ids']\n",
    "            attention_mask = encoding['attention_mask']\n",
    "            outputs = model(input_ids=input_ids, attention_mask=attention_mask)\n",
    "            probs = torch.sigmoid(outputs)\n",
    "        return probs\n",
    "    except:\n",
    "        print(text)\n",
    "        return torch.zeros([1, 4])"
   ],
   "id": "beb69d4694728157",
   "outputs": [],
   "execution_count": 69
  },
  {
   "metadata": {
    "ExecuteTime": {
     "end_time": "2024-06-24T15:05:17.738745Z",
     "start_time": "2024-06-24T15:05:17.736004Z"
    }
   },
   "cell_type": "code",
   "source": "print(encoder.classes_)",
   "id": "ad58f93707e7f01c",
   "outputs": [
    {
     "name": "stdout",
     "output_type": "stream",
     "text": [
      "['갈취 대화' '기타 괴롭힘 대화' '직장 내 괴롭힘 대화' '협박 대화']\n"
     ]
    }
   ],
   "execution_count": 70
  },
  {
   "metadata": {
    "ExecuteTime": {
     "end_time": "2024-06-24T15:05:18.523105Z",
     "start_time": "2024-06-24T15:05:18.392972Z"
    }
   },
   "cell_type": "code",
   "source": [
    "text = test_data.text.iloc[2]\n",
    "print(text)\n",
    "predict(text)"
   ],
   "id": "fed26eacf80728cb",
   "outputs": [
    {
     "name": "stdout",
     "output_type": "stream",
     "text": [
      "너 오늘 그게 뭐야 네 제가 뭘 잘못했나요.? 제대로 좀 하지 네 똑바로 좀 하지 행실이 맘에 안들어 네 실천할께요 옆에 동기들 좀 본받으란 말야 어? 네 알겠습니다 그래 똑바로해 노럭할께요\n"
     ]
    },
    {
     "data": {
      "text/plain": [
       "tensor([[0.0214, 0.0489, 0.9169, 0.0485]])"
      ]
     },
     "execution_count": 71,
     "metadata": {},
     "output_type": "execute_result"
    }
   ],
   "execution_count": 71
  },
  {
   "metadata": {
    "ExecuteTime": {
     "end_time": "2024-06-24T15:05:19.803334Z",
     "start_time": "2024-06-24T15:05:19.799760Z"
    }
   },
   "cell_type": "code",
   "source": [
    "from tqdm import tqdm, trange\n",
    "\n",
    "tqdm.pandas()"
   ],
   "id": "e76116e146b6cfac",
   "outputs": [],
   "execution_count": 72
  },
  {
   "metadata": {
    "ExecuteTime": {
     "end_time": "2024-06-24T15:05:54.659258Z",
     "start_time": "2024-06-24T15:05:20.541353Z"
    }
   },
   "cell_type": "code",
   "source": "test_data['pred'] = test_data['text'].progress_apply(lambda x: predict(x))",
   "id": "32d38889149189cb",
   "outputs": [
    {
     "name": "stderr",
     "output_type": "stream",
     "text": [
      "100%|██████████| 500/500 [00:34<00:00, 14.66it/s]\n"
     ]
    }
   ],
   "execution_count": 73
  },
  {
   "cell_type": "code",
   "id": "bb43e396",
   "metadata": {
    "id": "bb43e396",
    "ExecuteTime": {
     "end_time": "2024-06-24T15:07:42.566826Z",
     "start_time": "2024-06-24T15:07:42.564403Z"
    }
   },
   "source": "pred_dict = test_data.pred.to_dict()",
   "outputs": [],
   "execution_count": 78
  },
  {
   "metadata": {
    "ExecuteTime": {
     "end_time": "2024-06-24T15:07:46.906912Z",
     "start_time": "2024-06-24T15:07:46.866156Z"
    }
   },
   "cell_type": "code",
   "source": "pred_dict ",
   "id": "c946db22f11b2b3d",
   "outputs": [
    {
     "data": {
      "text/plain": [
       "{0: tensor([[0.9123, 0.0904, 0.0193, 0.0350]]),\n",
       " 1: tensor([[0.0309, 0.0223, 0.9573, 0.0492]]),\n",
       " 2: tensor([[0.0214, 0.0489, 0.9169, 0.0485]]),\n",
       " 3: tensor([[0.0377, 0.9185, 0.0298, 0.0458]]),\n",
       " 4: tensor([[0.0300, 0.7538, 0.0385, 0.0742]]),\n",
       " 5: tensor([[0.0808, 0.0457, 0.0162, 0.8911]]),\n",
       " 6: tensor([[0.0554, 0.0286, 0.0319, 0.9531]]),\n",
       " 7: tensor([[0.2115, 0.8407, 0.0137, 0.0303]]),\n",
       " 8: tensor([[0.0324, 0.9226, 0.0468, 0.0437]]),\n",
       " 9: tensor([[0.9261, 0.0670, 0.0259, 0.0317]]),\n",
       " 10: tensor([[0.0413, 0.0388, 0.0243, 0.9423]]),\n",
       " 11: tensor([[0.0261, 0.9368, 0.0554, 0.0390]]),\n",
       " 12: tensor([[0.0282, 0.0254, 0.9572, 0.0453]]),\n",
       " 13: tensor([[0.0339, 0.0314, 0.9593, 0.0367]]),\n",
       " 14: tensor([[0.0314, 0.0272, 0.9662, 0.0350]]),\n",
       " 15: tensor([[0.1302, 0.0359, 0.0157, 0.8489]]),\n",
       " 16: tensor([[0.0250, 0.6617, 0.0221, 0.2029]]),\n",
       " 17: tensor([[0.0167, 0.8693, 0.1461, 0.0335]]),\n",
       " 18: tensor([[0.0783, 0.0281, 0.0213, 0.9313]]),\n",
       " 19: tensor([[0.0320, 0.9263, 0.0447, 0.0360]]),\n",
       " 20: tensor([[0.0493, 0.0328, 0.0299, 0.9541]]),\n",
       " 21: tensor([[0.0240, 0.9518, 0.0327, 0.0551]]),\n",
       " 22: tensor([[0.0208, 0.9345, 0.0207, 0.0956]]),\n",
       " 23: tensor([[0.9280, 0.0462, 0.0242, 0.0494]]),\n",
       " 24: tensor([[0.9315, 0.0560, 0.0268, 0.0376]]),\n",
       " 25: tensor([[0.0301, 0.0263, 0.9643, 0.0400]]),\n",
       " 26: tensor([[0.0366, 0.9038, 0.0184, 0.0600]]),\n",
       " 27: tensor([[0.0362, 0.9191, 0.0366, 0.0401]]),\n",
       " 28: tensor([[0.0302, 0.0248, 0.9623, 0.0448]]),\n",
       " 29: tensor([[0.1774, 0.6136, 0.0110, 0.0506]]),\n",
       " 30: tensor([[0.9353, 0.0484, 0.0267, 0.0469]]),\n",
       " 31: tensor([[0.0636, 0.0332, 0.0206, 0.9324]]),\n",
       " 32: tensor([[0.0234, 0.9317, 0.0611, 0.0421]]),\n",
       " 33: tensor([[0.4448, 0.2725, 0.0213, 0.0476]]),\n",
       " 34: tensor([[0.0192, 0.7215, 0.0104, 0.3658]]),\n",
       " 35: tensor([[0.5662, 0.5676, 0.0136, 0.0233]]),\n",
       " 36: tensor([[0.0595, 0.9395, 0.0235, 0.0445]]),\n",
       " 37: tensor([[0.4981, 0.0235, 0.0134, 0.5621]]),\n",
       " 38: tensor([[0.0267, 0.0545, 0.0339, 0.9307]]),\n",
       " 39: tensor([[0.8717, 0.0789, 0.0125, 0.0587]]),\n",
       " 40: tensor([[0.0397, 0.0442, 0.0267, 0.9355]]),\n",
       " 41: tensor([[0.6266, 0.4767, 0.0127, 0.0257]]),\n",
       " 42: tensor([[0.8368, 0.0593, 0.0744, 0.0244]]),\n",
       " 43: tensor([[0.7736, 0.0314, 0.0127, 0.2318]]),\n",
       " 44: tensor([[0.0289, 0.9425, 0.0347, 0.0436]]),\n",
       " 45: tensor([[0.0317, 0.0240, 0.9647, 0.0382]]),\n",
       " 46: tensor([[0.0372, 0.0449, 0.0285, 0.9511]]),\n",
       " 47: tensor([[0.0200, 0.8220, 0.0106, 0.2393]]),\n",
       " 48: tensor([[0.0343, 0.9391, 0.0281, 0.0480]]),\n",
       " 49: tensor([[0.0396, 0.0414, 0.0286, 0.9516]]),\n",
       " 50: tensor([[0.9163, 0.0808, 0.0263, 0.0274]]),\n",
       " 51: tensor([[0.0266, 0.9549, 0.0386, 0.0499]]),\n",
       " 52: tensor([[0.9285, 0.0623, 0.0277, 0.0371]]),\n",
       " 53: tensor([[0.0315, 0.0249, 0.9635, 0.0421]]),\n",
       " 54: tensor([[0.0330, 0.0248, 0.9683, 0.0373]]),\n",
       " 55: tensor([[0.0482, 0.9420, 0.0219, 0.0495]]),\n",
       " 56: tensor([[0.0407, 0.9339, 0.0201, 0.0693]]),\n",
       " 57: tensor([[0.0200, 0.9160, 0.0346, 0.0752]]),\n",
       " 58: tensor([[0.0238, 0.9544, 0.0347, 0.0537]]),\n",
       " 59: tensor([[0.0240, 0.9467, 0.0443, 0.0512]]),\n",
       " 60: tensor([[0.8922, 0.1323, 0.0183, 0.0295]]),\n",
       " 61: tensor([[0.0151, 0.4604, 0.0156, 0.5071]]),\n",
       " 62: tensor([[0.0445, 0.0447, 0.0292, 0.8446]]),\n",
       " 63: tensor([[0.0280, 0.9539, 0.0389, 0.0485]]),\n",
       " 64: tensor([[0.0298, 0.0276, 0.9660, 0.0368]]),\n",
       " 65: tensor([[0.0365, 0.0397, 0.0297, 0.9537]]),\n",
       " 66: tensor([[0.0218, 0.9006, 0.0162, 0.1173]]),\n",
       " 67: tensor([[0.0277, 0.9237, 0.0288, 0.0642]]),\n",
       " 68: tensor([[0.0972, 0.6085, 0.0189, 0.1029]]),\n",
       " 69: tensor([[0.4917, 0.0238, 0.0123, 0.5688]]),\n",
       " 70: tensor([[0.0189, 0.8127, 0.0196, 0.1979]]),\n",
       " 71: tensor([[0.0319, 0.0263, 0.9671, 0.0351]]),\n",
       " 72: tensor([[0.0313, 0.9596, 0.0410, 0.0530]]),\n",
       " 73: tensor([[0.0291, 0.0301, 0.9656, 0.0346]]),\n",
       " 74: tensor([[0.0408, 0.0366, 0.0254, 0.9472]]),\n",
       " 75: tensor([[0.0219, 0.0545, 0.9448, 0.0344]]),\n",
       " 76: tensor([[0.0235, 0.0353, 0.9548, 0.0487]]),\n",
       " 77: tensor([[0.0306, 0.2065, 0.1503, 0.0651]]),\n",
       " 78: tensor([[0.0231, 0.0761, 0.9429, 0.0245]]),\n",
       " 79: tensor([[0.0168, 0.8551, 0.0527, 0.0753]]),\n",
       " 80: tensor([[0.3198, 0.6607, 0.0152, 0.0205]]),\n",
       " 81: tensor([[0.0428, 0.0343, 0.0269, 0.9496]]),\n",
       " 82: tensor([[0.1920, 0.2415, 0.0464, 0.1030]]),\n",
       " 83: tensor([[0.0753, 0.0300, 0.0217, 0.9335]]),\n",
       " 84: tensor([[0.0283, 0.9483, 0.0316, 0.0548]]),\n",
       " 85: tensor([[0.0317, 0.0170, 0.7097, 0.1833]]),\n",
       " 86: tensor([[0.4408, 0.0232, 0.0130, 0.5941]]),\n",
       " 87: tensor([[0.0305, 0.9051, 0.0308, 0.0537]]),\n",
       " 88: tensor([[0.8527, 0.1312, 0.0324, 0.0189]]),\n",
       " 89: tensor([[0.0279, 0.0348, 0.9596, 0.0322]]),\n",
       " 90: tensor([[0.0413, 0.0414, 0.0356, 0.9385]]),\n",
       " 91: tensor([[0.0321, 0.0255, 0.9666, 0.0374]]),\n",
       " 92: tensor([[0.0438, 0.0336, 0.0306, 0.9570]]),\n",
       " 93: tensor([[0.0302, 0.9422, 0.0339, 0.0499]]),\n",
       " 94: tensor([[0.0196, 0.9433, 0.0295, 0.0788]]),\n",
       " 95: tensor([[0.0333, 0.0240, 0.9645, 0.0385]]),\n",
       " 96: tensor([[0.1583, 0.8032, 0.0175, 0.0528]]),\n",
       " 97: tensor([[0.0329, 0.0207, 0.9288, 0.0669]]),\n",
       " 98: tensor([[0.4760, 0.0215, 0.0137, 0.5866]]),\n",
       " 99: tensor([[0.0355, 0.0230, 0.1534, 0.7116]]),\n",
       " 100: tensor([[0.7307, 0.3024, 0.0100, 0.0500]]),\n",
       " 101: tensor([[0.9106, 0.0700, 0.0204, 0.0394]]),\n",
       " 102: tensor([[0.0130, 0.8095, 0.1733, 0.0408]]),\n",
       " 103: tensor([[0.0617, 0.0259, 0.0257, 0.9389]]),\n",
       " 104: tensor([[0.0127, 0.0823, 0.1823, 0.4902]]),\n",
       " 105: tensor([[0.0323, 0.0257, 0.9675, 0.0376]]),\n",
       " 106: tensor([[0.0288, 0.0263, 0.9603, 0.0421]]),\n",
       " 107: tensor([[0.0259, 0.9473, 0.0273, 0.0631]]),\n",
       " 108: tensor([[0.0299, 0.9367, 0.0398, 0.0474]]),\n",
       " 109: tensor([[0.0803, 0.0251, 0.0225, 0.9345]]),\n",
       " 110: tensor([[0.0432, 0.5211, 0.0181, 0.1884]]),\n",
       " 111: tensor([[0.0386, 0.0425, 0.0288, 0.9527]]),\n",
       " 112: tensor([[0.6590, 0.0248, 0.0222, 0.3665]]),\n",
       " 113: tensor([[0.0243, 0.0411, 0.9604, 0.0360]]),\n",
       " 114: tensor([[0.4959, 0.6514, 0.0139, 0.0232]]),\n",
       " 115: tensor([[0.9283, 0.0478, 0.0259, 0.0470]]),\n",
       " 116: tensor([[0.2566, 0.6038, 0.0369, 0.0211]]),\n",
       " 117: tensor([[0.0294, 0.0301, 0.9577, 0.0416]]),\n",
       " 118: tensor([[0.0288, 0.0301, 0.9578, 0.0356]]),\n",
       " 119: tensor([[0.9194, 0.0544, 0.0244, 0.0462]]),\n",
       " 120: tensor([[0.0409, 0.0209, 0.8497, 0.0573]]),\n",
       " 121: tensor([[0.0182, 0.5257, 0.3742, 0.0169]]),\n",
       " 122: tensor([[0.3538, 0.4729, 0.0076, 0.0715]]),\n",
       " 123: tensor([[0.9125, 0.0827, 0.0191, 0.0393]]),\n",
       " 124: tensor([[0.9249, 0.0412, 0.0229, 0.0660]]),\n",
       " 125: tensor([[0.8810, 0.1529, 0.0172, 0.0299]]),\n",
       " 126: tensor([[0.1200, 0.0200, 0.7873, 0.0261]]),\n",
       " 127: tensor([[0.0936, 0.0500, 0.0332, 0.6412]]),\n",
       " 128: tensor([[0.9267, 0.0601, 0.0239, 0.0376]]),\n",
       " 129: tensor([[0.0290, 0.9498, 0.0264, 0.0535]]),\n",
       " 130: tensor([[0.0212, 0.9361, 0.0242, 0.0759]]),\n",
       " 131: tensor([[0.0245, 0.9505, 0.0465, 0.0473]]),\n",
       " 132: tensor([[0.0139, 0.6080, 0.4113, 0.0205]]),\n",
       " 133: tensor([[0.0261, 0.9550, 0.0401, 0.0495]]),\n",
       " 134: tensor([[0.6088, 0.0452, 0.0086, 0.3611]]),\n",
       " 135: tensor([[0.0413, 0.0356, 0.0278, 0.9541]]),\n",
       " 136: tensor([[0.0150, 0.7342, 0.0159, 0.3209]]),\n",
       " 137: tensor([[0.0457, 0.0368, 0.0253, 0.9525]]),\n",
       " 138: tensor([[0.0281, 0.9480, 0.0399, 0.0432]]),\n",
       " 139: tensor([[0.0180, 0.8750, 0.0731, 0.0485]]),\n",
       " 140: tensor([[0.0280, 0.0858, 0.0159, 0.9089]]),\n",
       " 141: tensor([[0.0275, 0.9492, 0.0421, 0.0449]]),\n",
       " 142: tensor([[0.9363, 0.0478, 0.0302, 0.0410]]),\n",
       " 143: tensor([[0.0260, 0.9582, 0.0389, 0.0506]]),\n",
       " 144: tensor([[0.0268, 0.0206, 0.7786, 0.2512]]),\n",
       " 145: tensor([[0.0463, 0.0328, 0.0346, 0.9570]]),\n",
       " 146: tensor([[0.0484, 0.0312, 0.0317, 0.9577]]),\n",
       " 147: tensor([[0.0502, 0.0409, 0.0207, 0.9400]]),\n",
       " 148: tensor([[0.0148, 0.5557, 0.0117, 0.5074]]),\n",
       " 149: tensor([[0.9229, 0.0847, 0.0225, 0.0313]]),\n",
       " 150: tensor([[0.0501, 0.0291, 0.0342, 0.9481]]),\n",
       " 151: tensor([[0.0231, 0.9407, 0.0197, 0.0984]]),\n",
       " 152: tensor([[0.2392, 0.1815, 0.0178, 0.1803]]),\n",
       " 153: tensor([[0.8916, 0.1383, 0.0178, 0.0395]]),\n",
       " 154: tensor([[0.0279, 0.8079, 0.1314, 0.0238]]),\n",
       " 155: tensor([[0.0331, 0.9083, 0.0471, 0.0604]]),\n",
       " 156: tensor([[0.0497, 0.0318, 0.0259, 0.9493]]),\n",
       " 157: tensor([[0.0325, 0.0234, 0.9651, 0.0424]]),\n",
       " 158: tensor([[0.0238, 0.9524, 0.0387, 0.0517]]),\n",
       " 159: tensor([[0.0240, 0.9520, 0.0316, 0.0592]]),\n",
       " 160: tensor([[0.0434, 0.0322, 0.0345, 0.9556]]),\n",
       " 161: tensor([[0.0268, 0.9567, 0.0388, 0.0472]]),\n",
       " 162: tensor([[0.0420, 0.0281, 0.6011, 0.1414]]),\n",
       " 163: tensor([[0.0438, 0.0334, 0.0308, 0.9554]]),\n",
       " 164: tensor([[0.0140, 0.8790, 0.0423, 0.0896]]),\n",
       " 165: tensor([[0.0242, 0.9521, 0.0440, 0.0456]]),\n",
       " 166: tensor([[0.0319, 0.0268, 0.9649, 0.0362]]),\n",
       " 167: tensor([[0.0259, 0.8369, 0.0734, 0.0303]]),\n",
       " 168: tensor([[0.0202, 0.9480, 0.0367, 0.0660]]),\n",
       " 169: tensor([[0.1430, 0.8872, 0.0188, 0.0315]]),\n",
       " 170: tensor([[0.0489, 0.0362, 0.0254, 0.9408]]),\n",
       " 171: tensor([[0.0296, 0.0257, 0.9632, 0.0380]]),\n",
       " 172: tensor([[0.0336, 0.0232, 0.9617, 0.0422]]),\n",
       " 173: tensor([[0.0324, 0.9452, 0.0407, 0.0423]]),\n",
       " 174: tensor([[0.0216, 0.8789, 0.0657, 0.0468]]),\n",
       " 175: tensor([[0.0255, 0.9501, 0.0442, 0.0456]]),\n",
       " 176: tensor([[0.0725, 0.0458, 0.0175, 0.8911]]),\n",
       " 177: tensor([[0.0349, 0.0248, 0.9690, 0.0401]]),\n",
       " 178: tensor([[0.0770, 0.8901, 0.0096, 0.0795]]),\n",
       " 179: tensor([[0.0276, 0.9251, 0.0195, 0.0815]]),\n",
       " 180: tensor([[0.0256, 0.0169, 0.8029, 0.1940]]),\n",
       " 181: tensor([[0.0147, 0.4347, 0.0132, 0.6676]]),\n",
       " 182: tensor([[0.0645, 0.0527, 0.8594, 0.0154]]),\n",
       " 183: tensor([[0.0154, 0.1681, 0.8805, 0.0379]]),\n",
       " 184: tensor([[0.0217, 0.1483, 0.0163, 0.8613]]),\n",
       " 185: tensor([[0.0164, 0.8650, 0.1517, 0.0337]]),\n",
       " 186: tensor([[0.0168, 0.8689, 0.1136, 0.0310]]),\n",
       " 187: tensor([[0.0456, 0.0303, 0.0285, 0.9497]]),\n",
       " 188: tensor([[0.9023, 0.0354, 0.0212, 0.0906]]),\n",
       " 189: tensor([[0.0173, 0.1662, 0.0169, 0.8514]]),\n",
       " 190: tensor([[0.0383, 0.0389, 0.0295, 0.9532]]),\n",
       " 191: tensor([[0.0237, 0.9408, 0.0386, 0.0516]]),\n",
       " 192: tensor([[0.9271, 0.0601, 0.0242, 0.0390]]),\n",
       " 193: tensor([[0.0203, 0.9415, 0.0444, 0.0579]]),\n",
       " 194: tensor([[0.9266, 0.0650, 0.0281, 0.0301]]),\n",
       " 195: tensor([[0.0214, 0.8416, 0.0164, 0.1603]]),\n",
       " 196: tensor([[0.0187, 0.3806, 0.0098, 0.6737]]),\n",
       " 197: tensor([[0.0307, 0.6545, 0.2444, 0.0150]]),\n",
       " 198: tensor([[0.0217, 0.9118, 0.0181, 0.1200]]),\n",
       " 199: tensor([[0.0241, 0.9447, 0.0394, 0.0524]]),\n",
       " 200: tensor([[0.0323, 0.0220, 0.9584, 0.0532]]),\n",
       " 201: tensor([[0.0306, 0.0780, 0.0180, 0.9260]]),\n",
       " 202: tensor([[0.0219, 0.8722, 0.0352, 0.0669]]),\n",
       " 203: tensor([[0.0263, 0.9177, 0.0542, 0.0388]]),\n",
       " 204: tensor([[0.0484, 0.0324, 0.0288, 0.9553]]),\n",
       " 205: tensor([[0.0281, 0.9563, 0.0425, 0.0465]]),\n",
       " 206: tensor([[0.0320, 0.0261, 0.9669, 0.0383]]),\n",
       " 207: tensor([[0.0332, 0.0409, 0.0623, 0.8362]]),\n",
       " 208: tensor([[0.0253, 0.0394, 0.9548, 0.0403]]),\n",
       " 209: tensor([[0.0329, 0.0219, 0.9570, 0.0470]]),\n",
       " 210: tensor([[0.0315, 0.1178, 0.0217, 0.8505]]),\n",
       " 211: tensor([[0.1300, 0.8738, 0.0170, 0.0272]]),\n",
       " 212: tensor([[0.0426, 0.8071, 0.0132, 0.1292]]),\n",
       " 213: tensor([[0.0364, 0.0183, 0.9512, 0.0535]]),\n",
       " 214: tensor([[0.8218, 0.0367, 0.0120, 0.1731]]),\n",
       " 215: tensor([[0.0337, 0.9489, 0.0421, 0.0405]]),\n",
       " 216: tensor([[0.0353, 0.9358, 0.0347, 0.0373]]),\n",
       " 217: tensor([[0.0132, 0.7482, 0.0502, 0.1310]]),\n",
       " 218: tensor([[0.0470, 0.0459, 0.0195, 0.9261]]),\n",
       " 219: tensor([[0.0486, 0.0305, 0.0291, 0.9532]]),\n",
       " 220: tensor([[0.9031, 0.0945, 0.0183, 0.0324]]),\n",
       " 221: tensor([[0.0370, 0.0455, 0.9316, 0.0641]]),\n",
       " 222: tensor([[0.0267, 0.1304, 0.0137, 0.8588]]),\n",
       " 223: tensor([[0.0285, 0.1691, 0.0242, 0.6324]]),\n",
       " 224: tensor([[0.4814, 0.0231, 0.0152, 0.6103]]),\n",
       " 225: tensor([[0.4843, 0.5320, 0.0192, 0.0189]]),\n",
       " 226: tensor([[0.7643, 0.0737, 0.0885, 0.0170]]),\n",
       " 227: tensor([[0.0516, 0.0308, 0.0307, 0.9541]]),\n",
       " 228: tensor([[0.8302, 0.1092, 0.0113, 0.0856]]),\n",
       " 229: tensor([[0.0479, 0.0365, 0.0235, 0.9418]]),\n",
       " 230: tensor([[0.0320, 0.0226, 0.9636, 0.0445]]),\n",
       " 231: tensor([[0.0501, 0.0366, 0.0214, 0.9452]]),\n",
       " 232: tensor([[0.0270, 0.9458, 0.0327, 0.0517]]),\n",
       " 233: tensor([[0.0315, 0.8954, 0.0143, 0.0918]]),\n",
       " 234: tensor([[0.1329, 0.1094, 0.0069, 0.6360]]),\n",
       " 235: tensor([[0.0300, 0.9575, 0.0354, 0.0466]]),\n",
       " 236: tensor([[0.0207, 0.9490, 0.0394, 0.0588]]),\n",
       " 237: tensor([[0.9237, 0.0633, 0.0217, 0.0418]]),\n",
       " 238: tensor([[0.0498, 0.1216, 0.0096, 0.8230]]),\n",
       " 239: tensor([[0.0175, 0.9319, 0.0326, 0.0801]]),\n",
       " 240: tensor([[0.0265, 0.9582, 0.0382, 0.0556]]),\n",
       " 241: tensor([[0.0239, 0.9435, 0.0306, 0.0654]]),\n",
       " 242: tensor([[0.0211, 0.9170, 0.0423, 0.0643]]),\n",
       " 243: tensor([[0.0299, 0.0231, 0.9615, 0.0457]]),\n",
       " 244: tensor([[0.0282, 0.9292, 0.0712, 0.0493]]),\n",
       " 245: tensor([[0.9373, 0.0549, 0.0333, 0.0333]]),\n",
       " 246: tensor([[0.0354, 0.0203, 0.9602, 0.0425]]),\n",
       " 247: tensor([[0.0904, 0.9045, 0.0172, 0.0427]]),\n",
       " 248: tensor([[0.0332, 0.0223, 0.9611, 0.0411]]),\n",
       " 249: tensor([[0.7256, 0.0485, 0.0124, 0.2220]]),\n",
       " 250: tensor([[0.2724, 0.0190, 0.0183, 0.7969]]),\n",
       " 251: tensor([[0.0135, 0.3744, 0.6780, 0.0257]]),\n",
       " 252: tensor([[0.0418, 0.0336, 0.0285, 0.9505]]),\n",
       " 253: tensor([[0.0285, 0.0307, 0.9601, 0.0372]]),\n",
       " 254: tensor([[0.0320, 0.0209, 0.9562, 0.0494]]),\n",
       " 255: tensor([[0.4766, 0.5548, 0.0136, 0.0196]]),\n",
       " 256: tensor([[0.0199, 0.6790, 0.0291, 0.2172]]),\n",
       " 257: tensor([[0.0377, 0.0243, 0.9587, 0.0366]]),\n",
       " 258: tensor([[0.7823, 0.2664, 0.0184, 0.0225]]),\n",
       " 259: tensor([[0.0314, 0.0255, 0.9647, 0.0368]]),\n",
       " 260: tensor([[0.0883, 0.4778, 0.1090, 0.0157]]),\n",
       " 261: tensor([[0.0250, 0.9192, 0.0884, 0.0304]]),\n",
       " 262: tensor([[0.0731, 0.0456, 0.0197, 0.8774]]),\n",
       " 263: tensor([[0.0361, 0.9478, 0.0309, 0.0463]]),\n",
       " 264: tensor([[0.0321, 0.0227, 0.9602, 0.0467]]),\n",
       " 265: tensor([[0.0356, 0.9467, 0.0320, 0.0442]]),\n",
       " 266: tensor([[0.0258, 0.9558, 0.0312, 0.0582]]),\n",
       " 267: tensor([[0.0267, 0.2475, 0.0520, 0.4892]]),\n",
       " 268: tensor([[0.0264, 0.9210, 0.0510, 0.0440]]),\n",
       " 269: tensor([[0.0673, 0.9305, 0.0177, 0.0466]]),\n",
       " 270: tensor([[0.2603, 0.0251, 0.0149, 0.7935]]),\n",
       " 271: tensor([[0.0221, 0.9365, 0.0283, 0.0684]]),\n",
       " 272: tensor([[0.0429, 0.0402, 0.0295, 0.9538]]),\n",
       " 273: tensor([[0.0284, 0.0438, 0.9463, 0.0314]]),\n",
       " 274: tensor([[0.7535, 0.2794, 0.0147, 0.0298]]),\n",
       " 275: tensor([[0.0315, 0.0271, 0.9654, 0.0401]]),\n",
       " 276: tensor([[0.0330, 0.0188, 0.9485, 0.0598]]),\n",
       " 277: tensor([[0.0197, 0.9383, 0.0605, 0.0579]]),\n",
       " 278: tensor([[0.0305, 0.0266, 0.9636, 0.0421]]),\n",
       " 279: tensor([[0.0321, 0.0235, 0.9628, 0.0396]]),\n",
       " 280: tensor([[0.9175, 0.0760, 0.0284, 0.0277]]),\n",
       " 281: tensor([[0.0371, 0.0390, 0.0267, 0.9491]]),\n",
       " 282: tensor([[0.0145, 0.6410, 0.0110, 0.5213]]),\n",
       " 283: tensor([[0.0310, 0.0243, 0.9647, 0.0430]]),\n",
       " 284: tensor([[0.0229, 0.0462, 0.9374, 0.0346]]),\n",
       " 285: tensor([[0.0316, 0.0232, 0.9608, 0.0471]]),\n",
       " 286: tensor([[0.8268, 0.0563, 0.0120, 0.1186]]),\n",
       " 287: tensor([[0.0314, 0.0237, 0.9650, 0.0446]]),\n",
       " 288: tensor([[0.7790, 0.0276, 0.0143, 0.2391]]),\n",
       " 289: tensor([[0.0226, 0.9427, 0.0576, 0.0437]]),\n",
       " 290: tensor([[0.6802, 0.3395, 0.0163, 0.0278]]),\n",
       " 291: tensor([[0.9214, 0.0593, 0.0235, 0.0436]]),\n",
       " 292: tensor([[0.0267, 0.9377, 0.0280, 0.0632]]),\n",
       " 293: tensor([[0.0262, 0.9563, 0.0494, 0.0445]]),\n",
       " 294: tensor([[0.0339, 0.0239, 0.9641, 0.0382]]),\n",
       " 295: tensor([[0.0213, 0.9341, 0.0208, 0.1065]]),\n",
       " 296: tensor([[0.0255, 0.9467, 0.0365, 0.0493]]),\n",
       " 297: tensor([[0.0214, 0.9408, 0.0600, 0.0467]]),\n",
       " 298: tensor([[0.8507, 0.1598, 0.0125, 0.0395]]),\n",
       " 299: tensor([[0.0349, 0.0558, 0.0255, 0.9436]]),\n",
       " 300: tensor([[0.0748, 0.0317, 0.2471, 0.3369]]),\n",
       " 301: tensor([[0.0228, 0.9495, 0.0325, 0.0646]]),\n",
       " 302: tensor([[0.0441, 0.0332, 0.0303, 0.9556]]),\n",
       " 303: tensor([[0.0283, 0.0302, 0.9624, 0.0443]]),\n",
       " 304: tensor([[0.9384, 0.0501, 0.0308, 0.0367]]),\n",
       " 305: tensor([[0.9368, 0.0601, 0.0313, 0.0315]]),\n",
       " 306: tensor([[0.0147, 0.4347, 0.0132, 0.6676]]),\n",
       " 307: tensor([[0.0227, 0.0203, 0.9207, 0.0860]]),\n",
       " 308: tensor([[0.8806, 0.0921, 0.0142, 0.0553]]),\n",
       " 309: tensor([[0.0307, 0.0254, 0.9651, 0.0390]]),\n",
       " 310: tensor([[0.0596, 0.0325, 0.0327, 0.9208]]),\n",
       " 311: tensor([[0.9372, 0.0540, 0.0310, 0.0336]]),\n",
       " 312: tensor([[0.0362, 0.9308, 0.0239, 0.0503]]),\n",
       " 313: tensor([[0.0235, 0.9284, 0.0340, 0.0780]]),\n",
       " 314: tensor([[0.0313, 0.0245, 0.9642, 0.0392]]),\n",
       " 315: tensor([[0.0498, 0.9178, 0.0187, 0.0493]]),\n",
       " 316: tensor([[0.5525, 0.0257, 0.0119, 0.4783]]),\n",
       " 317: tensor([[0.0263, 0.9562, 0.0442, 0.0460]]),\n",
       " 318: tensor([[0.0224, 0.9481, 0.0269, 0.0728]]),\n",
       " 319: tensor([[0.3670, 0.0213, 0.0149, 0.6681]]),\n",
       " 320: tensor([[0.0323, 0.0229, 0.9649, 0.0409]]),\n",
       " 321: tensor([[0.0509, 0.0324, 0.0289, 0.9539]]),\n",
       " 322: tensor([[0.0201, 0.4510, 0.0095, 0.5935]]),\n",
       " 323: tensor([[0.2523, 0.7938, 0.0147, 0.0248]]),\n",
       " 324: tensor([[0.9331, 0.0575, 0.0269, 0.0380]]),\n",
       " 325: tensor([[0.8605, 0.1697, 0.0186, 0.0239]]),\n",
       " 326: tensor([[0.2912, 0.7579, 0.0173, 0.0254]]),\n",
       " 327: tensor([[0.7269, 0.1813, 0.0118, 0.0808]]),\n",
       " 328: tensor([[0.0316, 0.0252, 0.9640, 0.0396]]),\n",
       " 329: tensor([[0.0225, 0.9169, 0.0485, 0.0560]]),\n",
       " 330: tensor([[0.0588, 0.6760, 0.0058, 0.2013]]),\n",
       " 331: tensor([[0.0484, 0.0310, 0.0265, 0.9528]]),\n",
       " 332: tensor([[0.0689, 0.0263, 0.0223, 0.9314]]),\n",
       " 333: tensor([[0.0718, 0.9401, 0.0228, 0.0360]]),\n",
       " 334: tensor([[0.8571, 0.1659, 0.0183, 0.0299]]),\n",
       " 335: tensor([[0.0303, 0.5917, 0.0904, 0.0456]]),\n",
       " 336: tensor([[0.0692, 0.9391, 0.0205, 0.0423]]),\n",
       " 337: tensor([[0.9347, 0.0603, 0.0273, 0.0351]]),\n",
       " 338: tensor([[0.0523, 0.8929, 0.0362, 0.0364]]),\n",
       " 339: tensor([[0.0345, 0.9445, 0.0357, 0.0503]]),\n",
       " 340: tensor([[0.0646, 0.0279, 0.0247, 0.9380]]),\n",
       " 341: tensor([[0.0315, 0.0250, 0.9656, 0.0408]]),\n",
       " 342: tensor([[0.0378, 0.0418, 0.0265, 0.9517]]),\n",
       " 343: tensor([[0.0403, 0.0356, 0.0307, 0.9557]]),\n",
       " 344: tensor([[0.9274, 0.0612, 0.0250, 0.0424]]),\n",
       " 345: tensor([[0.0315, 0.0229, 0.9602, 0.0480]]),\n",
       " 346: tensor([[0.0202, 0.9174, 0.0703, 0.0430]]),\n",
       " 347: tensor([[0.7758, 0.3034, 0.0148, 0.0292]]),\n",
       " 348: tensor([[0.0727, 0.0251, 0.0233, 0.9383]]),\n",
       " 349: tensor([[0.0421, 0.0401, 0.0276, 0.9542]]),\n",
       " 350: tensor([[0.0581, 0.0291, 0.0262, 0.9461]]),\n",
       " 351: tensor([[0.0272, 0.0569, 0.9386, 0.0257]]),\n",
       " 352: tensor([[0.9168, 0.0741, 0.0245, 0.0319]]),\n",
       " 353: tensor([[0.3726, 0.6873, 0.0153, 0.0235]]),\n",
       " 354: tensor([[0.9299, 0.0694, 0.0266, 0.0320]]),\n",
       " 355: tensor([[0.0122, 0.2571, 0.8338, 0.0276]]),\n",
       " 356: tensor([[0.0253, 0.9548, 0.0416, 0.0494]]),\n",
       " 357: tensor([[0.0287, 0.9607, 0.0378, 0.0512]]),\n",
       " 358: tensor([[0.0548, 0.0435, 0.0210, 0.9257]]),\n",
       " 359: tensor([[0.8532, 0.1509, 0.0197, 0.0276]]),\n",
       " 360: tensor([[0.0281, 0.9570, 0.0327, 0.0517]]),\n",
       " 361: tensor([[0.0638, 0.4554, 0.0089, 0.3285]]),\n",
       " 362: tensor([[0.9314, 0.0641, 0.0358, 0.0281]]),\n",
       " 363: tensor([[0.8944, 0.0540, 0.0175, 0.0786]]),\n",
       " 364: tensor([[0.0317, 0.0257, 0.9682, 0.0399]]),\n",
       " 365: tensor([[0.0100, 0.7135, 0.1802, 0.0568]]),\n",
       " 366: tensor([[0.0381, 0.9494, 0.0275, 0.0450]]),\n",
       " 367: tensor([[0.0324, 0.0234, 0.9607, 0.0457]]),\n",
       " 368: tensor([[0.0297, 0.6491, 0.0208, 0.1913]]),\n",
       " 369: tensor([[0.7807, 0.2282, 0.0105, 0.0408]]),\n",
       " 370: tensor([[0.1169, 0.0371, 0.7872, 0.0178]]),\n",
       " 371: tensor([[0.0251, 0.0404, 0.9618, 0.0317]]),\n",
       " 372: tensor([[0.0414, 0.0362, 0.0276, 0.9536]]),\n",
       " 373: tensor([[0.0333, 0.0258, 0.9659, 0.0350]]),\n",
       " 374: tensor([[0.0335, 0.0197, 0.9528, 0.0541]]),\n",
       " 375: tensor([[0.0660, 0.9058, 0.0249, 0.0420]]),\n",
       " 376: tensor([[0.8357, 0.1831, 0.0142, 0.0293]]),\n",
       " 377: tensor([[0.0224, 0.8690, 0.0111, 0.2007]]),\n",
       " 378: tensor([[0.9294, 0.0716, 0.0307, 0.0298]]),\n",
       " 379: tensor([[0.7556, 0.0324, 0.0137, 0.2566]]),\n",
       " 380: tensor([[0.0307, 0.0257, 0.9638, 0.0378]]),\n",
       " 381: tensor([[0.0458, 0.0345, 0.0300, 0.9477]]),\n",
       " 382: tensor([[0.0338, 0.0232, 0.9549, 0.0431]]),\n",
       " 383: tensor([[0.0318, 0.0191, 0.9521, 0.0581]]),\n",
       " 384: tensor([[0.0304, 0.9578, 0.0384, 0.0464]]),\n",
       " 385: tensor([[0.7968, 0.2160, 0.0130, 0.0433]]),\n",
       " 386: tensor([[0.0204, 0.8668, 0.0181, 0.1352]]),\n",
       " 387: tensor([[0.0466, 0.0338, 0.0235, 0.9460]]),\n",
       " 388: tensor([[0.0446, 0.0319, 0.0319, 0.9421]]),\n",
       " 389: tensor([[0.0330, 0.9522, 0.0300, 0.0518]]),\n",
       " 390: tensor([[0.8445, 0.1915, 0.0138, 0.0302]]),\n",
       " 391: tensor([[0.0396, 0.0404, 0.0283, 0.9530]]),\n",
       " 392: tensor([[0.2157, 0.7891, 0.0233, 0.0187]]),\n",
       " 393: tensor([[0.0295, 0.0293, 0.9609, 0.0361]]),\n",
       " 394: tensor([[0.9322, 0.0627, 0.0304, 0.0329]]),\n",
       " 395: tensor([[0.0211, 0.9300, 0.0689, 0.0436]]),\n",
       " 396: tensor([[0.0271, 0.1001, 0.0176, 0.9032]]),\n",
       " 397: tensor([[0.1047, 0.3818, 0.0196, 0.0969]]),\n",
       " 398: tensor([[0.8698, 0.0647, 0.0130, 0.0878]]),\n",
       " 399: tensor([[0.0345, 0.0672, 0.0200, 0.9360]]),\n",
       " 400: tensor([[0.0309, 0.9558, 0.0398, 0.0479]]),\n",
       " 401: tensor([[0.0328, 0.9514, 0.0311, 0.0472]]),\n",
       " 402: tensor([[0.0313, 0.0248, 0.9657, 0.0394]]),\n",
       " 403: tensor([[0.0260, 0.0347, 0.9542, 0.0365]]),\n",
       " 404: tensor([[0.0222, 0.9467, 0.0443, 0.0486]]),\n",
       " 405: tensor([[0.0226, 0.1645, 0.0124, 0.8455]]),\n",
       " 406: tensor([[0.0156, 0.2412, 0.7027, 0.0390]]),\n",
       " 407: tensor([[0.3257, 0.7079, 0.0122, 0.0338]]),\n",
       " 408: tensor([[0.0333, 0.0236, 0.9658, 0.0381]]),\n",
       " 409: tensor([[0.4061, 0.0452, 0.0086, 0.5304]]),\n",
       " 410: tensor([[0.0122, 0.6541, 0.0166, 0.4019]]),\n",
       " 411: tensor([[0.0166, 0.8654, 0.0840, 0.0506]]),\n",
       " 412: tensor([[0.0277, 0.2670, 0.0120, 0.6717]]),\n",
       " 413: tensor([[0.0328, 0.0230, 0.9621, 0.0432]]),\n",
       " 414: tensor([[0.0321, 0.5529, 0.1907, 0.0181]]),\n",
       " 415: tensor([[0.0358, 0.3403, 0.1004, 0.3241]]),\n",
       " 416: tensor([[0.0286, 0.1447, 0.0165, 0.7184]]),\n",
       " 417: tensor([[0.4284, 0.5825, 0.0145, 0.0240]]),\n",
       " 418: tensor([[0.9014, 0.0398, 0.0205, 0.0747]]),\n",
       " 419: tensor([[0.0320, 0.0470, 0.0281, 0.9304]]),\n",
       " 420: tensor([[0.7488, 0.0361, 0.0112, 0.2856]]),\n",
       " 421: tensor([[0.0814, 0.0265, 0.0199, 0.9263]]),\n",
       " 422: tensor([[0.0182, 0.7044, 0.0105, 0.3951]]),\n",
       " 423: tensor([[0.0277, 0.9576, 0.0448, 0.0441]]),\n",
       " 424: tensor([[0.0238, 0.9564, 0.0362, 0.0556]]),\n",
       " 425: tensor([[0.9125, 0.0815, 0.0186, 0.0406]]),\n",
       " 426: tensor([[0.4705, 0.0860, 0.0065, 0.3349]]),\n",
       " 427: tensor([[0.0268, 0.0471, 0.9557, 0.0299]]),\n",
       " 428: tensor([[0.0346, 0.0146, 0.9077, 0.1084]]),\n",
       " 429: tensor([[0.0375, 0.0712, 0.0182, 0.8938]]),\n",
       " 430: tensor([[0.0257, 0.9496, 0.0252, 0.0716]]),\n",
       " 431: tensor([[0.0305, 0.9435, 0.0346, 0.0506]]),\n",
       " 432: tensor([[0.6694, 0.0273, 0.0125, 0.3778]]),\n",
       " 433: tensor([[0.0961, 0.0266, 0.0207, 0.9194]]),\n",
       " 434: tensor([[0.1293, 0.8870, 0.0224, 0.0334]]),\n",
       " 435: tensor([[0.0274, 0.9498, 0.0388, 0.0551]]),\n",
       " 436: tensor([[0.0781, 0.0339, 0.0215, 0.9393]]),\n",
       " 437: tensor([[0.0139, 0.7978, 0.1087, 0.0449]]),\n",
       " 438: tensor([[0.0329, 0.9194, 0.0393, 0.0500]]),\n",
       " 439: tensor([[0.0345, 0.0225, 0.9655, 0.0419]]),\n",
       " 440: tensor([[0.0256, 0.9558, 0.0288, 0.0650]]),\n",
       " 441: tensor([[0.0492, 0.0296, 0.0286, 0.9477]]),\n",
       " 442: tensor([[0.0326, 0.0230, 0.9627, 0.0419]]),\n",
       " 443: tensor([[0.0301, 0.9545, 0.0277, 0.0537]]),\n",
       " 444: tensor([[0.8157, 0.1781, 0.0200, 0.0239]]),\n",
       " 445: tensor([[0.0224, 0.0369, 0.9549, 0.0506]]),\n",
       " 446: tensor([[0.0365, 0.0394, 0.0293, 0.9467]]),\n",
       " 447: tensor([[0.0321, 0.0198, 0.9513, 0.0594]]),\n",
       " 448: tensor([[0.0342, 0.0257, 0.9641, 0.0364]]),\n",
       " 449: tensor([[0.0555, 0.8167, 0.0482, 0.0200]]),\n",
       " 450: tensor([[0.1925, 0.4796, 0.0502, 0.0154]]),\n",
       " 451: tensor([[0.0492, 0.0404, 0.0211, 0.9441]]),\n",
       " 452: tensor([[0.0352, 0.0269, 0.9604, 0.0324]]),\n",
       " 453: tensor([[0.0174, 0.5267, 0.0133, 0.5395]]),\n",
       " 454: tensor([[0.0115, 0.5381, 0.5436, 0.0235]]),\n",
       " 455: tensor([[0.8717, 0.1061, 0.0232, 0.0285]]),\n",
       " 456: tensor([[0.0317, 0.0258, 0.9672, 0.0382]]),\n",
       " 457: tensor([[0.0120, 0.4360, 0.1628, 0.0878]]),\n",
       " 458: tensor([[0.9235, 0.0666, 0.0211, 0.0445]]),\n",
       " 459: tensor([[0.3139, 0.0310, 0.0127, 0.7105]]),\n",
       " 460: tensor([[0.0197, 0.0611, 0.0994, 0.7372]]),\n",
       " 461: tensor([[0.9307, 0.0360, 0.0266, 0.0650]]),\n",
       " 462: tensor([[0.2231, 0.0223, 0.0366, 0.8110]]),\n",
       " 463: tensor([[0.0115, 0.3820, 0.6770, 0.0264]]),\n",
       " 464: tensor([[0.0321, 0.0248, 0.9671, 0.0398]]),\n",
       " 465: tensor([[0.0685, 0.9351, 0.0235, 0.0335]]),\n",
       " 466: tensor([[0.0293, 0.3348, 0.4071, 0.0187]]),\n",
       " 467: tensor([[0.0231, 0.0413, 0.9554, 0.0356]]),\n",
       " 468: tensor([[0.0326, 0.1696, 0.0403, 0.7039]]),\n",
       " 469: tensor([[0.0423, 0.0358, 0.0300, 0.9530]]),\n",
       " 470: tensor([[0.0306, 0.0257, 0.9655, 0.0407]]),\n",
       " 471: tensor([[0.8912, 0.1190, 0.0235, 0.0243]]),\n",
       " 472: tensor([[0.0413, 0.0333, 0.0318, 0.9546]]),\n",
       " 473: tensor([[0.0255, 0.9350, 0.0436, 0.0445]]),\n",
       " 474: tensor([[0.0417, 0.0485, 0.0234, 0.9299]]),\n",
       " 475: tensor([[0.0336, 0.0244, 0.9647, 0.0387]]),\n",
       " 476: tensor([[0.9226, 0.0782, 0.0234, 0.0324]]),\n",
       " 477: tensor([[0.0571, 0.9338, 0.0237, 0.0444]]),\n",
       " 478: tensor([[0.0579, 0.5316, 0.1472, 0.0168]]),\n",
       " 479: tensor([[0.0358, 0.0212, 0.9596, 0.0427]]),\n",
       " 480: tensor([[0.2662, 0.2068, 0.0153, 0.1622]]),\n",
       " 481: tensor([[0.0326, 0.9576, 0.0343, 0.0450]]),\n",
       " 482: tensor([[0.9214, 0.0743, 0.0264, 0.0303]]),\n",
       " 483: tensor([[0.0774, 0.0331, 0.0192, 0.9155]]),\n",
       " 484: tensor([[0.7194, 0.1042, 0.0102, 0.1213]]),\n",
       " 485: tensor([[0.0252, 0.9557, 0.0415, 0.0528]]),\n",
       " 486: tensor([[0.0230, 0.9379, 0.0767, 0.0346]]),\n",
       " 487: tensor([[0.0421, 0.6399, 0.0735, 0.0599]]),\n",
       " 488: tensor([[0.0951, 0.3182, 0.0131, 0.3973]]),\n",
       " 489: tensor([[0.0487, 0.0794, 0.0128, 0.8568]]),\n",
       " 490: tensor([[0.0166, 0.9152, 0.0316, 0.0920]]),\n",
       " 491: tensor([[0.1655, 0.2809, 0.0396, 0.0926]]),\n",
       " 492: tensor([[0.0641, 0.0273, 0.0231, 0.9436]]),\n",
       " 493: tensor([[0.8216, 0.2131, 0.0191, 0.0248]]),\n",
       " 494: tensor([[0.9366, 0.0499, 0.0268, 0.0480]]),\n",
       " 495: tensor([[0.0333, 0.0246, 0.9658, 0.0385]]),\n",
       " 496: tensor([[0.0746, 0.0670, 0.2832, 0.0447]]),\n",
       " 497: tensor([[0.9170, 0.0862, 0.0251, 0.0295]]),\n",
       " 498: tensor([[0.0380, 0.0241, 0.1455, 0.7433]]),\n",
       " 499: tensor([[0.0613, 0.0307, 0.0214, 0.9383]])}"
      ]
     },
     "execution_count": 79,
     "metadata": {},
     "output_type": "execute_result"
    }
   ],
   "execution_count": 79
  },
  {
   "metadata": {
    "ExecuteTime": {
     "end_time": "2024-06-24T15:15:49.928957Z",
     "start_time": "2024-06-24T15:15:49.909784Z"
    }
   },
   "cell_type": "code",
   "source": [
    "# 데이터프레임으로 변환\n",
    "pred_df = pd.DataFrame({k: v.numpy().flatten() for k, v in pred_dict.items()}).T\n",
    "\n",
    "# 열 이름 지정\n",
    "pred_df.columns = encoder.classes_"
   ],
   "id": "dd2da0b4fcd222ba",
   "outputs": [],
   "execution_count": 94
  },
  {
   "metadata": {
    "ExecuteTime": {
     "end_time": "2024-06-24T15:15:50.466755Z",
     "start_time": "2024-06-24T15:15:50.457009Z"
    }
   },
   "cell_type": "code",
   "source": "pred_df",
   "id": "26339b61acfda807",
   "outputs": [
    {
     "data": {
      "text/plain": [
       "        갈취 대화  기타 괴롭힘 대화  직장 내 괴롭힘 대화     협박 대화\n",
       "0    0.912327   0.090432     0.019308  0.035047\n",
       "1    0.030882   0.022269     0.957312  0.049211\n",
       "2    0.021364   0.048918     0.916913  0.048465\n",
       "3    0.037729   0.918511     0.029835  0.045829\n",
       "4    0.030002   0.753776     0.038451  0.074196\n",
       "..        ...        ...          ...       ...\n",
       "495  0.033309   0.024554     0.965784  0.038516\n",
       "496  0.074568   0.067026     0.283243  0.044703\n",
       "497  0.916953   0.086230     0.025130  0.029461\n",
       "498  0.037958   0.024057     0.145475  0.743308\n",
       "499  0.061257   0.030713     0.021423  0.938319\n",
       "\n",
       "[500 rows x 4 columns]"
      ],
      "text/html": [
       "<div>\n",
       "<style scoped>\n",
       "    .dataframe tbody tr th:only-of-type {\n",
       "        vertical-align: middle;\n",
       "    }\n",
       "\n",
       "    .dataframe tbody tr th {\n",
       "        vertical-align: top;\n",
       "    }\n",
       "\n",
       "    .dataframe thead th {\n",
       "        text-align: right;\n",
       "    }\n",
       "</style>\n",
       "<table border=\"1\" class=\"dataframe\">\n",
       "  <thead>\n",
       "    <tr style=\"text-align: right;\">\n",
       "      <th></th>\n",
       "      <th>갈취 대화</th>\n",
       "      <th>기타 괴롭힘 대화</th>\n",
       "      <th>직장 내 괴롭힘 대화</th>\n",
       "      <th>협박 대화</th>\n",
       "    </tr>\n",
       "  </thead>\n",
       "  <tbody>\n",
       "    <tr>\n",
       "      <th>0</th>\n",
       "      <td>0.912327</td>\n",
       "      <td>0.090432</td>\n",
       "      <td>0.019308</td>\n",
       "      <td>0.035047</td>\n",
       "    </tr>\n",
       "    <tr>\n",
       "      <th>1</th>\n",
       "      <td>0.030882</td>\n",
       "      <td>0.022269</td>\n",
       "      <td>0.957312</td>\n",
       "      <td>0.049211</td>\n",
       "    </tr>\n",
       "    <tr>\n",
       "      <th>2</th>\n",
       "      <td>0.021364</td>\n",
       "      <td>0.048918</td>\n",
       "      <td>0.916913</td>\n",
       "      <td>0.048465</td>\n",
       "    </tr>\n",
       "    <tr>\n",
       "      <th>3</th>\n",
       "      <td>0.037729</td>\n",
       "      <td>0.918511</td>\n",
       "      <td>0.029835</td>\n",
       "      <td>0.045829</td>\n",
       "    </tr>\n",
       "    <tr>\n",
       "      <th>4</th>\n",
       "      <td>0.030002</td>\n",
       "      <td>0.753776</td>\n",
       "      <td>0.038451</td>\n",
       "      <td>0.074196</td>\n",
       "    </tr>\n",
       "    <tr>\n",
       "      <th>...</th>\n",
       "      <td>...</td>\n",
       "      <td>...</td>\n",
       "      <td>...</td>\n",
       "      <td>...</td>\n",
       "    </tr>\n",
       "    <tr>\n",
       "      <th>495</th>\n",
       "      <td>0.033309</td>\n",
       "      <td>0.024554</td>\n",
       "      <td>0.965784</td>\n",
       "      <td>0.038516</td>\n",
       "    </tr>\n",
       "    <tr>\n",
       "      <th>496</th>\n",
       "      <td>0.074568</td>\n",
       "      <td>0.067026</td>\n",
       "      <td>0.283243</td>\n",
       "      <td>0.044703</td>\n",
       "    </tr>\n",
       "    <tr>\n",
       "      <th>497</th>\n",
       "      <td>0.916953</td>\n",
       "      <td>0.086230</td>\n",
       "      <td>0.025130</td>\n",
       "      <td>0.029461</td>\n",
       "    </tr>\n",
       "    <tr>\n",
       "      <th>498</th>\n",
       "      <td>0.037958</td>\n",
       "      <td>0.024057</td>\n",
       "      <td>0.145475</td>\n",
       "      <td>0.743308</td>\n",
       "    </tr>\n",
       "    <tr>\n",
       "      <th>499</th>\n",
       "      <td>0.061257</td>\n",
       "      <td>0.030713</td>\n",
       "      <td>0.021423</td>\n",
       "      <td>0.938319</td>\n",
       "    </tr>\n",
       "  </tbody>\n",
       "</table>\n",
       "<p>500 rows × 4 columns</p>\n",
       "</div>"
      ]
     },
     "execution_count": 95,
     "metadata": {},
     "output_type": "execute_result"
    }
   ],
   "execution_count": 95
  },
  {
   "metadata": {
    "ExecuteTime": {
     "end_time": "2024-06-24T15:19:54.500607Z",
     "start_time": "2024-06-24T15:19:54.496743Z"
    }
   },
   "cell_type": "code",
   "source": "pred_df = pred_df.astype('float')",
   "id": "ab1c25f7c7eb373b",
   "outputs": [],
   "execution_count": 101
  },
  {
   "metadata": {
    "ExecuteTime": {
     "end_time": "2024-06-24T15:20:32.024020Z",
     "start_time": "2024-06-24T15:20:32.017764Z"
    }
   },
   "cell_type": "code",
   "source": "pred_df['max_val'] = pred_df.max(axis=1)",
   "id": "e056b3b3a10b9e07",
   "outputs": [],
   "execution_count": 104
  },
  {
   "metadata": {
    "ExecuteTime": {
     "end_time": "2024-06-24T15:22:38.775570Z",
     "start_time": "2024-06-24T15:22:38.773684Z"
    }
   },
   "cell_type": "code",
   "source": "import numpy as np",
   "id": "d93af7c3f96c223a",
   "outputs": [],
   "execution_count": 106
  },
  {
   "metadata": {
    "ExecuteTime": {
     "end_time": "2024-06-24T15:23:02.073273Z",
     "start_time": "2024-06-24T15:23:02.043033Z"
    }
   },
   "cell_type": "code",
   "source": "pred_df",
   "id": "4d916ecc940deff4",
   "outputs": [
    {
     "data": {
      "text/plain": [
       "        갈취 대화  기타 괴롭힘 대화  직장 내 괴롭힘 대화     협박 대화   max_val\n",
       "0    0.912327   0.090432     0.019308  0.035047  0.912327\n",
       "1    0.030882   0.022269     0.957312  0.049211  0.957312\n",
       "2    0.021364   0.048918     0.916913  0.048465  0.916913\n",
       "3    0.037729   0.918511     0.029835  0.045829  0.918511\n",
       "4    0.030002   0.753776     0.038451  0.074196  0.753776\n",
       "..        ...        ...          ...       ...       ...\n",
       "495  0.033309   0.024554     0.965784  0.038516  0.965784\n",
       "496  0.074568   0.067026     0.283243  0.044703  0.283243\n",
       "497  0.916953   0.086230     0.025130  0.029461  0.916953\n",
       "498  0.037958   0.024057     0.145475  0.743308  0.743308\n",
       "499  0.061257   0.030713     0.021423  0.938319  0.938319\n",
       "\n",
       "[500 rows x 5 columns]"
      ],
      "text/html": [
       "<div>\n",
       "<style scoped>\n",
       "    .dataframe tbody tr th:only-of-type {\n",
       "        vertical-align: middle;\n",
       "    }\n",
       "\n",
       "    .dataframe tbody tr th {\n",
       "        vertical-align: top;\n",
       "    }\n",
       "\n",
       "    .dataframe thead th {\n",
       "        text-align: right;\n",
       "    }\n",
       "</style>\n",
       "<table border=\"1\" class=\"dataframe\">\n",
       "  <thead>\n",
       "    <tr style=\"text-align: right;\">\n",
       "      <th></th>\n",
       "      <th>갈취 대화</th>\n",
       "      <th>기타 괴롭힘 대화</th>\n",
       "      <th>직장 내 괴롭힘 대화</th>\n",
       "      <th>협박 대화</th>\n",
       "      <th>max_val</th>\n",
       "    </tr>\n",
       "  </thead>\n",
       "  <tbody>\n",
       "    <tr>\n",
       "      <th>0</th>\n",
       "      <td>0.912327</td>\n",
       "      <td>0.090432</td>\n",
       "      <td>0.019308</td>\n",
       "      <td>0.035047</td>\n",
       "      <td>0.912327</td>\n",
       "    </tr>\n",
       "    <tr>\n",
       "      <th>1</th>\n",
       "      <td>0.030882</td>\n",
       "      <td>0.022269</td>\n",
       "      <td>0.957312</td>\n",
       "      <td>0.049211</td>\n",
       "      <td>0.957312</td>\n",
       "    </tr>\n",
       "    <tr>\n",
       "      <th>2</th>\n",
       "      <td>0.021364</td>\n",
       "      <td>0.048918</td>\n",
       "      <td>0.916913</td>\n",
       "      <td>0.048465</td>\n",
       "      <td>0.916913</td>\n",
       "    </tr>\n",
       "    <tr>\n",
       "      <th>3</th>\n",
       "      <td>0.037729</td>\n",
       "      <td>0.918511</td>\n",
       "      <td>0.029835</td>\n",
       "      <td>0.045829</td>\n",
       "      <td>0.918511</td>\n",
       "    </tr>\n",
       "    <tr>\n",
       "      <th>4</th>\n",
       "      <td>0.030002</td>\n",
       "      <td>0.753776</td>\n",
       "      <td>0.038451</td>\n",
       "      <td>0.074196</td>\n",
       "      <td>0.753776</td>\n",
       "    </tr>\n",
       "    <tr>\n",
       "      <th>...</th>\n",
       "      <td>...</td>\n",
       "      <td>...</td>\n",
       "      <td>...</td>\n",
       "      <td>...</td>\n",
       "      <td>...</td>\n",
       "    </tr>\n",
       "    <tr>\n",
       "      <th>495</th>\n",
       "      <td>0.033309</td>\n",
       "      <td>0.024554</td>\n",
       "      <td>0.965784</td>\n",
       "      <td>0.038516</td>\n",
       "      <td>0.965784</td>\n",
       "    </tr>\n",
       "    <tr>\n",
       "      <th>496</th>\n",
       "      <td>0.074568</td>\n",
       "      <td>0.067026</td>\n",
       "      <td>0.283243</td>\n",
       "      <td>0.044703</td>\n",
       "      <td>0.283243</td>\n",
       "    </tr>\n",
       "    <tr>\n",
       "      <th>497</th>\n",
       "      <td>0.916953</td>\n",
       "      <td>0.086230</td>\n",
       "      <td>0.025130</td>\n",
       "      <td>0.029461</td>\n",
       "      <td>0.916953</td>\n",
       "    </tr>\n",
       "    <tr>\n",
       "      <th>498</th>\n",
       "      <td>0.037958</td>\n",
       "      <td>0.024057</td>\n",
       "      <td>0.145475</td>\n",
       "      <td>0.743308</td>\n",
       "      <td>0.743308</td>\n",
       "    </tr>\n",
       "    <tr>\n",
       "      <th>499</th>\n",
       "      <td>0.061257</td>\n",
       "      <td>0.030713</td>\n",
       "      <td>0.021423</td>\n",
       "      <td>0.938319</td>\n",
       "      <td>0.938319</td>\n",
       "    </tr>\n",
       "  </tbody>\n",
       "</table>\n",
       "<p>500 rows × 5 columns</p>\n",
       "</div>"
      ]
     },
     "execution_count": 109,
     "metadata": {},
     "output_type": "execute_result"
    }
   ],
   "execution_count": 109
  },
  {
   "metadata": {
    "ExecuteTime": {
     "end_time": "2024-06-24T15:24:31.005349Z",
     "start_time": "2024-06-24T15:24:30.962524Z"
    }
   },
   "cell_type": "code",
   "source": "pred_df['label'] = pred_df.iloc[:,:4].progress_apply(lambda x : pred_df.columns[np.argmax(x)], axis=1 )",
   "id": "c356cdb5ad04e5d8",
   "outputs": [
    {
     "name": "stderr",
     "output_type": "stream",
     "text": [
      "100%|██████████| 500/500 [00:00<00:00, 32241.06it/s]\n"
     ]
    }
   ],
   "execution_count": 113
  },
  {
   "metadata": {
    "ExecuteTime": {
     "end_time": "2024-06-24T15:24:40.411748Z",
     "start_time": "2024-06-24T15:24:40.405162Z"
    }
   },
   "cell_type": "code",
   "source": "pred_df",
   "id": "dc8ce608ab46e28f",
   "outputs": [
    {
     "data": {
      "text/plain": [
       "        갈취 대화  기타 괴롭힘 대화  직장 내 괴롭힘 대화     협박 대화   max_val        label\n",
       "0    0.912327   0.090432     0.019308  0.035047  0.912327        갈취 대화\n",
       "1    0.030882   0.022269     0.957312  0.049211  0.957312  직장 내 괴롭힘 대화\n",
       "2    0.021364   0.048918     0.916913  0.048465  0.916913  직장 내 괴롭힘 대화\n",
       "3    0.037729   0.918511     0.029835  0.045829  0.918511    기타 괴롭힘 대화\n",
       "4    0.030002   0.753776     0.038451  0.074196  0.753776    기타 괴롭힘 대화\n",
       "..        ...        ...          ...       ...       ...          ...\n",
       "495  0.033309   0.024554     0.965784  0.038516  0.965784  직장 내 괴롭힘 대화\n",
       "496  0.074568   0.067026     0.283243  0.044703  0.283243  직장 내 괴롭힘 대화\n",
       "497  0.916953   0.086230     0.025130  0.029461  0.916953        갈취 대화\n",
       "498  0.037958   0.024057     0.145475  0.743308  0.743308        협박 대화\n",
       "499  0.061257   0.030713     0.021423  0.938319  0.938319        협박 대화\n",
       "\n",
       "[500 rows x 6 columns]"
      ],
      "text/html": [
       "<div>\n",
       "<style scoped>\n",
       "    .dataframe tbody tr th:only-of-type {\n",
       "        vertical-align: middle;\n",
       "    }\n",
       "\n",
       "    .dataframe tbody tr th {\n",
       "        vertical-align: top;\n",
       "    }\n",
       "\n",
       "    .dataframe thead th {\n",
       "        text-align: right;\n",
       "    }\n",
       "</style>\n",
       "<table border=\"1\" class=\"dataframe\">\n",
       "  <thead>\n",
       "    <tr style=\"text-align: right;\">\n",
       "      <th></th>\n",
       "      <th>갈취 대화</th>\n",
       "      <th>기타 괴롭힘 대화</th>\n",
       "      <th>직장 내 괴롭힘 대화</th>\n",
       "      <th>협박 대화</th>\n",
       "      <th>max_val</th>\n",
       "      <th>label</th>\n",
       "    </tr>\n",
       "  </thead>\n",
       "  <tbody>\n",
       "    <tr>\n",
       "      <th>0</th>\n",
       "      <td>0.912327</td>\n",
       "      <td>0.090432</td>\n",
       "      <td>0.019308</td>\n",
       "      <td>0.035047</td>\n",
       "      <td>0.912327</td>\n",
       "      <td>갈취 대화</td>\n",
       "    </tr>\n",
       "    <tr>\n",
       "      <th>1</th>\n",
       "      <td>0.030882</td>\n",
       "      <td>0.022269</td>\n",
       "      <td>0.957312</td>\n",
       "      <td>0.049211</td>\n",
       "      <td>0.957312</td>\n",
       "      <td>직장 내 괴롭힘 대화</td>\n",
       "    </tr>\n",
       "    <tr>\n",
       "      <th>2</th>\n",
       "      <td>0.021364</td>\n",
       "      <td>0.048918</td>\n",
       "      <td>0.916913</td>\n",
       "      <td>0.048465</td>\n",
       "      <td>0.916913</td>\n",
       "      <td>직장 내 괴롭힘 대화</td>\n",
       "    </tr>\n",
       "    <tr>\n",
       "      <th>3</th>\n",
       "      <td>0.037729</td>\n",
       "      <td>0.918511</td>\n",
       "      <td>0.029835</td>\n",
       "      <td>0.045829</td>\n",
       "      <td>0.918511</td>\n",
       "      <td>기타 괴롭힘 대화</td>\n",
       "    </tr>\n",
       "    <tr>\n",
       "      <th>4</th>\n",
       "      <td>0.030002</td>\n",
       "      <td>0.753776</td>\n",
       "      <td>0.038451</td>\n",
       "      <td>0.074196</td>\n",
       "      <td>0.753776</td>\n",
       "      <td>기타 괴롭힘 대화</td>\n",
       "    </tr>\n",
       "    <tr>\n",
       "      <th>...</th>\n",
       "      <td>...</td>\n",
       "      <td>...</td>\n",
       "      <td>...</td>\n",
       "      <td>...</td>\n",
       "      <td>...</td>\n",
       "      <td>...</td>\n",
       "    </tr>\n",
       "    <tr>\n",
       "      <th>495</th>\n",
       "      <td>0.033309</td>\n",
       "      <td>0.024554</td>\n",
       "      <td>0.965784</td>\n",
       "      <td>0.038516</td>\n",
       "      <td>0.965784</td>\n",
       "      <td>직장 내 괴롭힘 대화</td>\n",
       "    </tr>\n",
       "    <tr>\n",
       "      <th>496</th>\n",
       "      <td>0.074568</td>\n",
       "      <td>0.067026</td>\n",
       "      <td>0.283243</td>\n",
       "      <td>0.044703</td>\n",
       "      <td>0.283243</td>\n",
       "      <td>직장 내 괴롭힘 대화</td>\n",
       "    </tr>\n",
       "    <tr>\n",
       "      <th>497</th>\n",
       "      <td>0.916953</td>\n",
       "      <td>0.086230</td>\n",
       "      <td>0.025130</td>\n",
       "      <td>0.029461</td>\n",
       "      <td>0.916953</td>\n",
       "      <td>갈취 대화</td>\n",
       "    </tr>\n",
       "    <tr>\n",
       "      <th>498</th>\n",
       "      <td>0.037958</td>\n",
       "      <td>0.024057</td>\n",
       "      <td>0.145475</td>\n",
       "      <td>0.743308</td>\n",
       "      <td>0.743308</td>\n",
       "      <td>협박 대화</td>\n",
       "    </tr>\n",
       "    <tr>\n",
       "      <th>499</th>\n",
       "      <td>0.061257</td>\n",
       "      <td>0.030713</td>\n",
       "      <td>0.021423</td>\n",
       "      <td>0.938319</td>\n",
       "      <td>0.938319</td>\n",
       "      <td>협박 대화</td>\n",
       "    </tr>\n",
       "  </tbody>\n",
       "</table>\n",
       "<p>500 rows × 6 columns</p>\n",
       "</div>"
      ]
     },
     "execution_count": 114,
     "metadata": {},
     "output_type": "execute_result"
    }
   ],
   "execution_count": 114
  },
  {
   "metadata": {
    "ExecuteTime": {
     "end_time": "2024-06-24T15:25:06.565728Z",
     "start_time": "2024-06-24T15:25:06.427433Z"
    }
   },
   "cell_type": "code",
   "source": "pred_df.max_val.hist()",
   "id": "5d207fec8fc6f69b",
   "outputs": [
    {
     "data": {
      "text/plain": [
       "<AxesSubplot: >"
      ]
     },
     "execution_count": 116,
     "metadata": {},
     "output_type": "execute_result"
    },
    {
     "data": {
      "text/plain": [
       "<Figure size 640x480 with 1 Axes>"
      ],
      "image/png": "[encoded data removed]"
     },
     "metadata": {},
     "output_type": "display_data"
    }
   ],
   "execution_count": 116
  },
  {
   "metadata": {
    "ExecuteTime": {
     "end_time": "2024-06-24T15:26:50.619724Z",
     "start_time": "2024-06-24T15:26:50.613823Z"
    }
   },
   "cell_type": "code",
   "source": "pred_df[pred_df.max_val < 0.4]",
   "id": "6ff70473c48fe73a",
   "outputs": [
    {
     "data": {
      "text/plain": [
       "        갈취 대화  기타 괴롭힘 대화  직장 내 괴롭힘 대화     협박 대화   max_val        label\n",
       "77   0.030591   0.206497     0.150329  0.065126  0.206497    기타 괴롭힘 대화\n",
       "82   0.191998   0.241525     0.046395  0.103002  0.241525    기타 괴롭힘 대화\n",
       "152  0.239190   0.181527     0.017762  0.180304  0.239190        갈취 대화\n",
       "300  0.074848   0.031678     0.247143  0.336920  0.336920        협박 대화\n",
       "397  0.104743   0.381808     0.019580  0.096906  0.381808    기타 괴롭힘 대화\n",
       "415  0.035841   0.340277     0.100390  0.324129  0.340277    기타 괴롭힘 대화\n",
       "480  0.266200   0.206832     0.015270  0.162208  0.266200        갈취 대화\n",
       "488  0.095094   0.318152     0.013105  0.397349  0.397349        협박 대화\n",
       "491  0.165507   0.280934     0.039588  0.092551  0.280934    기타 괴롭힘 대화\n",
       "496  0.074568   0.067026     0.283243  0.044703  0.283243  직장 내 괴롭힘 대화"
      ],
      "text/html": [
       "<div>\n",
       "<style scoped>\n",
       "    .dataframe tbody tr th:only-of-type {\n",
       "        vertical-align: middle;\n",
       "    }\n",
       "\n",
       "    .dataframe tbody tr th {\n",
       "        vertical-align: top;\n",
       "    }\n",
       "\n",
       "    .dataframe thead th {\n",
       "        text-align: right;\n",
       "    }\n",
       "</style>\n",
       "<table border=\"1\" class=\"dataframe\">\n",
       "  <thead>\n",
       "    <tr style=\"text-align: right;\">\n",
       "      <th></th>\n",
       "      <th>갈취 대화</th>\n",
       "      <th>기타 괴롭힘 대화</th>\n",
       "      <th>직장 내 괴롭힘 대화</th>\n",
       "      <th>협박 대화</th>\n",
       "      <th>max_val</th>\n",
       "      <th>label</th>\n",
       "    </tr>\n",
       "  </thead>\n",
       "  <tbody>\n",
       "    <tr>\n",
       "      <th>77</th>\n",
       "      <td>0.030591</td>\n",
       "      <td>0.206497</td>\n",
       "      <td>0.150329</td>\n",
       "      <td>0.065126</td>\n",
       "      <td>0.206497</td>\n",
       "      <td>기타 괴롭힘 대화</td>\n",
       "    </tr>\n",
       "    <tr>\n",
       "      <th>82</th>\n",
       "      <td>0.191998</td>\n",
       "      <td>0.241525</td>\n",
       "      <td>0.046395</td>\n",
       "      <td>0.103002</td>\n",
       "      <td>0.241525</td>\n",
       "      <td>기타 괴롭힘 대화</td>\n",
       "    </tr>\n",
       "    <tr>\n",
       "      <th>152</th>\n",
       "      <td>0.239190</td>\n",
       "      <td>0.181527</td>\n",
       "      <td>0.017762</td>\n",
       "      <td>0.180304</td>\n",
       "      <td>0.239190</td>\n",
       "      <td>갈취 대화</td>\n",
       "    </tr>\n",
       "    <tr>\n",
       "      <th>300</th>\n",
       "      <td>0.074848</td>\n",
       "      <td>0.031678</td>\n",
       "      <td>0.247143</td>\n",
       "      <td>0.336920</td>\n",
       "      <td>0.336920</td>\n",
       "      <td>협박 대화</td>\n",
       "    </tr>\n",
       "    <tr>\n",
       "      <th>397</th>\n",
       "      <td>0.104743</td>\n",
       "      <td>0.381808</td>\n",
       "      <td>0.019580</td>\n",
       "      <td>0.096906</td>\n",
       "      <td>0.381808</td>\n",
       "      <td>기타 괴롭힘 대화</td>\n",
       "    </tr>\n",
       "    <tr>\n",
       "      <th>415</th>\n",
       "      <td>0.035841</td>\n",
       "      <td>0.340277</td>\n",
       "      <td>0.100390</td>\n",
       "      <td>0.324129</td>\n",
       "      <td>0.340277</td>\n",
       "      <td>기타 괴롭힘 대화</td>\n",
       "    </tr>\n",
       "    <tr>\n",
       "      <th>480</th>\n",
       "      <td>0.266200</td>\n",
       "      <td>0.206832</td>\n",
       "      <td>0.015270</td>\n",
       "      <td>0.162208</td>\n",
       "      <td>0.266200</td>\n",
       "      <td>갈취 대화</td>\n",
       "    </tr>\n",
       "    <tr>\n",
       "      <th>488</th>\n",
       "      <td>0.095094</td>\n",
       "      <td>0.318152</td>\n",
       "      <td>0.013105</td>\n",
       "      <td>0.397349</td>\n",
       "      <td>0.397349</td>\n",
       "      <td>협박 대화</td>\n",
       "    </tr>\n",
       "    <tr>\n",
       "      <th>491</th>\n",
       "      <td>0.165507</td>\n",
       "      <td>0.280934</td>\n",
       "      <td>0.039588</td>\n",
       "      <td>0.092551</td>\n",
       "      <td>0.280934</td>\n",
       "      <td>기타 괴롭힘 대화</td>\n",
       "    </tr>\n",
       "    <tr>\n",
       "      <th>496</th>\n",
       "      <td>0.074568</td>\n",
       "      <td>0.067026</td>\n",
       "      <td>0.283243</td>\n",
       "      <td>0.044703</td>\n",
       "      <td>0.283243</td>\n",
       "      <td>직장 내 괴롭힘 대화</td>\n",
       "    </tr>\n",
       "  </tbody>\n",
       "</table>\n",
       "</div>"
      ]
     },
     "execution_count": 123,
     "metadata": {},
     "output_type": "execute_result"
    }
   ],
   "execution_count": 123
  },
  {
   "metadata": {},
   "cell_type": "markdown",
   "source": "### 확신하지 못하는 데이터 -> 일반 데이터가 아닐까?",
   "id": "3ed4ec24de71e1f1"
  },
  {
   "metadata": {},
   "cell_type": "code",
   "outputs": [
    {
     "data": {
      "text/plain": [
       "'안녕 얘들아 이번 반장은 내가 맡게 되었어. 모두들 잘 부탁해. 우와 축하해! 우리반을 위해 열심히 일을 해줘! 아 그런데 이번에 반장되고 반장으로서 너희들에게 할 말이 있어. 우리에게 할 말이 있다고? 뭔데? 벌써부터 일 하려는거야? 무리하지 마 이제 앞으로 아침마다 등교시간은 8시며 지각할 때마다 벌금을 오천원 씩 걷어 들이려고 해. 뭔소리야 우리 학교 원래 지정된 등교시간은 9시잖아. 아무리 반장이어도 교칙을 바꿔서는 안 돼. 더욱이 벌금같은 돈이 오가서는 안되고. 내가 반장이잖아. 너가 반장이야? 그럼 뭐 반장은 아무 재정도 없이 일을 해야해? 지각을 안하면 되는거잖아. 애초에 돈을 걷을 생각이면 그 돈을 어디에다 어떻게 쓸건지 말해줘야 하는게 먼저 아닐까? 일단 지각비로 걷은 오천원 중 삼천원은 반의 발전을 위해 쓸거고 이천원은 그래도 내가 반을 위해 일 하는데 수고금 같은건 가져가야지. 야 무슨 학교에서 반장 하나 하는데 돈이 필요해. 너 도둑놈심보다. 그럼 너가 반장하던지 그럴 용기도 없으면서 말이 많네? 어쨌든 내일부터 지각하면 오천원이야. 지각할 마음 있으면 오천원씩 들고와.'"
      ]
     },
     "execution_count": 124,
     "metadata": {},
     "output_type": "execute_result"
    }
   ],
   "execution_count": 124,
   "source": "test_data.iloc[77].text",
   "id": "396da83469f27369"
  },
  {
   "metadata": {
    "ExecuteTime": {
     "end_time": "2024-06-24T15:27:34.737165Z",
     "start_time": "2024-06-24T15:27:34.730476Z"
    }
   },
   "cell_type": "code",
   "source": "test_data.iloc[82].text",
   "id": "d198e51a636af30c",
   "outputs": [
    {
     "data": {
      "text/plain": [
       "'천안 두정동 제이빌라 인데요, 지금 화재가 발생했어요. 빌라 어디에 불이 났나요? 1층 주차장에서 불이 나고 있어요. 그러면 지금 다친 사람도 있나요? 아직까지는 없는거 같아요. 알겠습니다. 지금 119 소방대를 보내도록 하겠습니다.'"
      ]
     },
     "execution_count": 125,
     "metadata": {},
     "output_type": "execute_result"
    }
   ],
   "execution_count": 125
  },
  {
   "cell_type": "code",
   "id": "d0f881f4",
   "metadata": {
    "id": "d0f881f4",
    "ExecuteTime": {
     "end_time": "2024-06-24T15:30:12.936579Z",
     "start_time": "2024-06-24T15:30:12.911235Z"
    }
   },
   "source": "pred_df.to_csv('pred_koelectra.csv', index=False)",
   "outputs": [],
   "execution_count": 127
  }
 ],
 "metadata": {
  "kernelspec": {
   "display_name": "Python 3 (ipykernel)",
   "name": "python3",
   "language": "python"
  },
  "language_info": {
   "codemirror_mode": {
    "name": "ipython",
    "version": 3
   },
   "file_extension": ".py",
   "mimetype": "text/x-python",
   "name": "python",
   "nbconvert_exporter": "python",
   "pygments_lexer": "ipython3",
   "version": "3.9.7"
  },
  "colab": {
   "provenance": [],
   "gpuType": "T4"
  },
  "accelerator": "GPU"
 },
 "nbformat": 4,
 "nbformat_minor": 5
}
