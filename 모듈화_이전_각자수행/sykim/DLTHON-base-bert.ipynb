{
 "cells": [
  {
   "cell_type": "markdown",
   "id": "2b300fef",
   "metadata": {},
   "source": [
    "# DLTHON"
   ]
  },
  {
   "cell_type": "markdown",
   "id": "bf965457",
   "metadata": {},
   "source": [
    "## DKTC (Dataset of Korean Threatening Conversations)\n",
    "\n",
    "- 텍스트 다중분류 프로젝트"
   ]
  },
  {
   "cell_type": "markdown",
   "id": "7059ce9e",
   "metadata": {},
   "source": [
    "## 데이터셋 정보"
   ]
  },
  {
   "cell_type": "markdown",
   "id": "56ff0924",
   "metadata": {},
   "source": [
    "train.csv\n",
    "\n",
    "    1. idx = 인덱스\n",
    "    2. class = 0~4\n",
    "        class 0; 협박 대화\n",
    "        class 1; 갈취 대화\n",
    "        class 2; 직장 내 괴롭힘 대화\n",
    "        class 3; 기타 괴롭힘 대화\n",
    "    3. conversation = \\n으로 구분된 멀티턴 텍스트 대화"
   ]
  },
  {
   "cell_type": "markdown",
   "id": "9e842176",
   "metadata": {},
   "source": [
    "test.json\n",
    "\n",
    "    1. t_### = 인덱스\n",
    "    2. text = 대화"
   ]
  },
  {
   "cell_type": "markdown",
   "id": "ac322063",
   "metadata": {},
   "source": [
    "submission.csv\n",
    "\n",
    "    1. file_name = 인덱스\n",
    "    2. class = 예측값"
   ]
  },
  {
   "cell_type": "markdown",
   "id": "d2d810b4",
   "metadata": {},
   "source": [
    "## 평가기준 \n",
    "> - 데이터 EDA와 데이터 전처리가 적절하게 이뤄졌는가?\n",
    "> - Task에 알맞게 적절한 모델을 찾아보고 선정했는가?\n",
    "> - 성능향상을 위해 논리적으로 접근했는가?\n",
    "> - 결과 도출을 위해 여러가지 시도를 진행했는가?\n",
    "> - 도출된 결론에 충분한 설득력이 있는가?\n",
    "> - 적절한 metric을 설정하고 그 사용 근거 및 결과를 분석하였는가?\n",
    "> - 발표가 매끄럽게 진행되었고 발표시간을 준수하였는지? (발표 10분-15분)"
   ]
  },
  {
   "cell_type": "markdown",
   "id": "8c0d8b04",
   "metadata": {},
   "source": [
    "## TO-DO-LIST\n",
    "- 일반 대화 데이터셋 만들어야함 (800-1000개정도)\n",
    "- ppt 제작\n",
    "- 평가지표 : f1-score"
   ]
  },
  {
   "cell_type": "markdown",
   "id": "8555a580",
   "metadata": {},
   "source": [
    "## EDA\n"
   ]
  },
  {
   "cell_type": "code",
   "id": "e85d085e",
   "metadata": {
    "ExecuteTime": {
     "end_time": "2024-06-24T10:32:55.813004Z",
     "start_time": "2024-06-24T10:32:55.811175Z"
    }
   },
   "source": [
    "import matplotlib.pyplot as plt\n",
    "import seaborn as sns"
   ],
   "outputs": [],
   "execution_count": 118
  },
  {
   "cell_type": "code",
   "id": "c8304434",
   "metadata": {
    "scrolled": false,
    "ExecuteTime": {
     "end_time": "2024-06-24T10:32:56.026364Z",
     "start_time": "2024-06-24T10:32:55.992734Z"
    }
   },
   "source": [
    "import os\n",
    "import pandas as pd\n",
    "\n",
    "train_data_path =\"./data/train.csv\"\n",
    "train_data = pd.read_csv(train_data_path)\n",
    "train_data.head()"
   ],
   "outputs": [
    {
     "data": {
      "text/plain": [
       "   idx      class                                       conversation\n",
       "0    0      협박 대화  지금 너 스스로를 죽여달라고 애원하는 것인가?\\n 아닙니다. 죄송합니다.\\n 죽을 ...\n",
       "1    1      협박 대화  길동경찰서입니다.\\n9시 40분 마트에 폭발물을 설치할거다.\\n네?\\n똑바로 들어 ...\n",
       "2    2  기타 괴롭힘 대화  너 되게 귀여운거 알지? 나보다 작은 남자는 첨봤어.\\n그만해. 니들 놀리는거 재미...\n",
       "3    3      갈취 대화  어이 거기\\n예??\\n너 말이야 너. 이리 오라고\\n무슨 일.\\n너 옷 좋아보인다?...\n",
       "4    4      갈취 대화  저기요 혹시 날이 너무 뜨겁잖아요? 저희 회사에서 이 선크림 파는데 한 번 손등에 ..."
      ],
      "text/html": [
       "<div>\n",
       "<style scoped>\n",
       "    .dataframe tbody tr th:only-of-type {\n",
       "        vertical-align: middle;\n",
       "    }\n",
       "\n",
       "    .dataframe tbody tr th {\n",
       "        vertical-align: top;\n",
       "    }\n",
       "\n",
       "    .dataframe thead th {\n",
       "        text-align: right;\n",
       "    }\n",
       "</style>\n",
       "<table border=\"1\" class=\"dataframe\">\n",
       "  <thead>\n",
       "    <tr style=\"text-align: right;\">\n",
       "      <th></th>\n",
       "      <th>idx</th>\n",
       "      <th>class</th>\n",
       "      <th>conversation</th>\n",
       "    </tr>\n",
       "  </thead>\n",
       "  <tbody>\n",
       "    <tr>\n",
       "      <th>0</th>\n",
       "      <td>0</td>\n",
       "      <td>협박 대화</td>\n",
       "      <td>지금 너 스스로를 죽여달라고 애원하는 것인가?\\n 아닙니다. 죄송합니다.\\n 죽을 ...</td>\n",
       "    </tr>\n",
       "    <tr>\n",
       "      <th>1</th>\n",
       "      <td>1</td>\n",
       "      <td>협박 대화</td>\n",
       "      <td>길동경찰서입니다.\\n9시 40분 마트에 폭발물을 설치할거다.\\n네?\\n똑바로 들어 ...</td>\n",
       "    </tr>\n",
       "    <tr>\n",
       "      <th>2</th>\n",
       "      <td>2</td>\n",
       "      <td>기타 괴롭힘 대화</td>\n",
       "      <td>너 되게 귀여운거 알지? 나보다 작은 남자는 첨봤어.\\n그만해. 니들 놀리는거 재미...</td>\n",
       "    </tr>\n",
       "    <tr>\n",
       "      <th>3</th>\n",
       "      <td>3</td>\n",
       "      <td>갈취 대화</td>\n",
       "      <td>어이 거기\\n예??\\n너 말이야 너. 이리 오라고\\n무슨 일.\\n너 옷 좋아보인다?...</td>\n",
       "    </tr>\n",
       "    <tr>\n",
       "      <th>4</th>\n",
       "      <td>4</td>\n",
       "      <td>갈취 대화</td>\n",
       "      <td>저기요 혹시 날이 너무 뜨겁잖아요? 저희 회사에서 이 선크림 파는데 한 번 손등에 ...</td>\n",
       "    </tr>\n",
       "  </tbody>\n",
       "</table>\n",
       "</div>"
      ]
     },
     "execution_count": 119,
     "metadata": {},
     "output_type": "execute_result"
    }
   ],
   "execution_count": 119
  },
  {
   "cell_type": "code",
   "id": "8a7c1586",
   "metadata": {
    "ExecuteTime": {
     "end_time": "2024-06-24T10:32:56.029733Z",
     "start_time": "2024-06-24T10:32:56.027348Z"
    }
   },
   "source": [
    "train_data.shape"
   ],
   "outputs": [
    {
     "data": {
      "text/plain": [
       "(3950, 3)"
      ]
     },
     "execution_count": 120,
     "metadata": {},
     "output_type": "execute_result"
    }
   ],
   "execution_count": 120
  },
  {
   "cell_type": "markdown",
   "id": "72a7bdc5",
   "metadata": {},
   "source": [
    "## 데이터 전처리"
   ]
  },
  {
   "cell_type": "code",
   "id": "7f7b7e11",
   "metadata": {
    "ExecuteTime": {
     "end_time": "2024-06-24T10:32:57.573397Z",
     "start_time": "2024-06-24T10:32:56.030370Z"
    }
   },
   "source": [
    "!pip install soynlp"
   ],
   "outputs": [
    {
     "name": "stdout",
     "output_type": "stream",
     "text": [
      "Requirement already satisfied: soynlp in /opt/homebrew/Caskroom/miniforge/base/envs/DL-tf/lib/python3.8/site-packages (0.0.493)\r\n",
      "Requirement already satisfied: numpy>=1.12.1 in /opt/homebrew/Caskroom/miniforge/base/envs/DL-tf/lib/python3.8/site-packages (from soynlp) (1.22.4)\r\n",
      "Requirement already satisfied: psutil>=5.0.1 in /opt/homebrew/Caskroom/miniforge/base/envs/DL-tf/lib/python3.8/site-packages (from soynlp) (5.9.8)\r\n",
      "Requirement already satisfied: scipy>=1.1.0 in /opt/homebrew/Caskroom/miniforge/base/envs/DL-tf/lib/python3.8/site-packages (from soynlp) (1.10.1)\r\n",
      "Requirement already satisfied: scikit-learn>=0.20.0 in /opt/homebrew/Caskroom/miniforge/base/envs/DL-tf/lib/python3.8/site-packages (from soynlp) (1.3.1)\r\n",
      "Requirement already satisfied: joblib>=1.1.1 in /opt/homebrew/Caskroom/miniforge/base/envs/DL-tf/lib/python3.8/site-packages (from scikit-learn>=0.20.0->soynlp) (1.4.0)\r\n",
      "Requirement already satisfied: threadpoolctl>=2.0.0 in /opt/homebrew/Caskroom/miniforge/base/envs/DL-tf/lib/python3.8/site-packages (from scikit-learn>=0.20.0->soynlp) (3.5.0)\r\n"
     ]
    }
   ],
   "execution_count": 121
  },
  {
   "cell_type": "code",
   "id": "e6d6d67f",
   "metadata": {
    "ExecuteTime": {
     "end_time": "2024-06-24T10:32:57.577332Z",
     "start_time": "2024-06-24T10:32:57.575094Z"
    }
   },
   "source": [
    "import re\n",
    "# import emoji\n",
    "from soynlp.normalizer import repeat_normalize"
   ],
   "outputs": [],
   "execution_count": 122
  },
  {
   "cell_type": "code",
   "id": "33482434",
   "metadata": {
    "ExecuteTime": {
     "end_time": "2024-06-24T10:32:57.580746Z",
     "start_time": "2024-06-24T10:32:57.578139Z"
    }
   },
   "source": [
    "def clean(x):\n",
    "    # emojis = ''.join(emoji.UNICODE_EMOJI.keys())\n",
    "    pattern = re.compile(f'[^ .,?!/@$%~％·∼()\\x00-\\x7Fㄱ-힣]+')\n",
    "    url_pattern = re.compile(\n",
    "        r'https?:\\/\\/(www\\.)?[-a-zA-Z0-9@:%._\\+~#=]{1,256}\\.[a-zA-Z0-9()]{1,6}\\b([-a-zA-Z0-9()@:%_\\+.~#?&//=]*)')\n",
    "    x = pattern.sub(' ', x)\n",
    "    x = url_pattern.sub('', x)\n",
    "    x = x.strip()\n",
    "    x = repeat_normalize(x, num_repeats=2)\n",
    "    return x"
   ],
   "outputs": [],
   "execution_count": 123
  },
  {
   "cell_type": "code",
   "id": "fc0fd269",
   "metadata": {
    "ExecuteTime": {
     "end_time": "2024-06-24T10:32:57.666408Z",
     "start_time": "2024-06-24T10:32:57.581500Z"
    }
   },
   "source": [
    "train_data['cleaned'] = train_data.conversation.apply(lambda x: clean(x))"
   ],
   "outputs": [],
   "execution_count": 124
  },
  {
   "cell_type": "code",
   "id": "5bcfa21f",
   "metadata": {
    "ExecuteTime": {
     "end_time": "2024-06-24T10:32:57.670282Z",
     "start_time": "2024-06-24T10:32:57.667161Z"
    }
   },
   "source": [
    "train_data['cleaned']"
   ],
   "outputs": [
    {
     "data": {
      "text/plain": [
       "0       지금 너 스스로를 죽여달라고 애원하는 것인가? 아닙니다. 죄송합니다. 죽을 거면 혼...\n",
       "1       길동경찰서입니다. 9시 40분 마트에 폭발물을 설치할거다. 네? 똑바로 들어 한번만...\n",
       "2       너 되게 귀여운거 알지? 나보다 작은 남자는 첨봤어. 그만해. 니들 놀리는거 재미없...\n",
       "3       어이 거기 예?? 너 말이야 너. 이리 오라고 무슨 일. 너 옷 좋아보인다? 얘 돈...\n",
       "4       저기요 혹시 날이 너무 뜨겁잖아요? 저희 회사에서 이 선크림 파는데 한 번 손등에 ...\n",
       "                              ...                        \n",
       "3945    준하야 넌 대가리가 왜이렇게 크냐? 내 머리가 뭐. 밥먹으면 대가리만 크냐 너는? ...\n",
       "3946    내가 지금 너 아들 김길준 데리고 있어. 살리고 싶으면 계좌에 1억만 보내 예.? ...\n",
       "3947    나는 씨 같은 사람 보면 참 신기하더라. 어떻게 저렇게 살지. 왜 그래. 들리겠어....\n",
       "3948    누구맘대로 여기서 장사하래? 이게 무슨일입니까? 남의 구역에서 장사하려면 자릿세를 ...\n",
       "3949    희정씨 네? 주말에 시간이 넘쳐나나봐 갑자기 왜그러세요? 손이 빤짝빤짝 네일했니? ...\n",
       "Name: cleaned, Length: 3950, dtype: object"
      ]
     },
     "execution_count": 125,
     "metadata": {},
     "output_type": "execute_result"
    }
   ],
   "execution_count": 125
  },
  {
   "cell_type": "markdown",
   "id": "58693e4c",
   "metadata": {},
   "source": [
    "### 한국어 문장 분리기"
   ]
  },
  {
   "cell_type": "code",
   "id": "ca398dc6",
   "metadata": {
    "scrolled": true,
    "ExecuteTime": {
     "end_time": "2024-06-24T10:32:57.673459Z",
     "start_time": "2024-06-24T10:32:57.672050Z"
    }
   },
   "source": [
    "# !pip install kss"
   ],
   "outputs": [],
   "execution_count": 126
  },
  {
   "cell_type": "code",
   "id": "f39d5a63",
   "metadata": {
    "ExecuteTime": {
     "end_time": "2024-06-24T10:32:57.676400Z",
     "start_time": "2024-06-24T10:32:57.674081Z"
    }
   },
   "source": [
    "samples = train_data.sample(5)"
   ],
   "outputs": [],
   "execution_count": 127
  },
  {
   "cell_type": "code",
   "id": "b65abc00",
   "metadata": {
    "ExecuteTime": {
     "end_time": "2024-06-24T10:32:57.680740Z",
     "start_time": "2024-06-24T10:32:57.677058Z"
    }
   },
   "source": [
    "samples"
   ],
   "outputs": [
    {
     "data": {
      "text/plain": [
       "       idx        class                                       conversation  \\\n",
       "1186  1186        갈취 대화  야 꼬마야 돈 좀있냐\\n무서운 어른은 피하라고 엄마가 그랬는데\\n우리 무서운 어른 ...   \n",
       "2797  2797  직장 내 괴롭힘 대화  저기 신입은 남자친구있어?\\n아 없는데요\\n그럼 저기 과장님어때?\\n네? 저보다 2...   \n",
       "501    501  직장 내 괴롭힘 대화  진짜 별로다 김대리\\n네?\\n내가 그렇게 말했는데도 아직도 모르겠어?\\n네?무슨 말...   \n",
       "585    585    기타 괴롭힘 대화  친구야 지방대 다닐만하냐?\\n 응. 편하고 좋아\\n 너네학교 애들은 공부안하고 술만...   \n",
       "1395  1395        협박 대화  난 널 사랑해\\n난 이제 너가 너무 무서워\\n무슨소리야? 이쁜 입으로 이쁜말만해 입...   \n",
       "\n",
       "                                                cleaned  \n",
       "1186  야 꼬마야 돈 좀있냐 무서운 어른은 피하라고 엄마가 그랬는데 우리 무서운 어른 아닌...  \n",
       "2797  저기 신입은 남자친구있어? 아 없는데요 그럼 저기 과장님어때? 네? 저보다 20살 ...  \n",
       "501   진짜 별로다 김대리 네? 내가 그렇게 말했는데도 아직도 모르겠어? 네?무슨 말씀이신...  \n",
       "585   친구야 지방대 다닐만하냐? 응. 편하고 좋아 너네학교 애들은 공부안하고 술만 먹지?...  \n",
       "1395  난 널 사랑해 난 이제 너가 너무 무서워 무슨소리야? 이쁜 입으로 이쁜말만해 입을 ...  "
      ],
      "text/html": [
       "<div>\n",
       "<style scoped>\n",
       "    .dataframe tbody tr th:only-of-type {\n",
       "        vertical-align: middle;\n",
       "    }\n",
       "\n",
       "    .dataframe tbody tr th {\n",
       "        vertical-align: top;\n",
       "    }\n",
       "\n",
       "    .dataframe thead th {\n",
       "        text-align: right;\n",
       "    }\n",
       "</style>\n",
       "<table border=\"1\" class=\"dataframe\">\n",
       "  <thead>\n",
       "    <tr style=\"text-align: right;\">\n",
       "      <th></th>\n",
       "      <th>idx</th>\n",
       "      <th>class</th>\n",
       "      <th>conversation</th>\n",
       "      <th>cleaned</th>\n",
       "    </tr>\n",
       "  </thead>\n",
       "  <tbody>\n",
       "    <tr>\n",
       "      <th>1186</th>\n",
       "      <td>1186</td>\n",
       "      <td>갈취 대화</td>\n",
       "      <td>야 꼬마야 돈 좀있냐\\n무서운 어른은 피하라고 엄마가 그랬는데\\n우리 무서운 어른 ...</td>\n",
       "      <td>야 꼬마야 돈 좀있냐 무서운 어른은 피하라고 엄마가 그랬는데 우리 무서운 어른 아닌...</td>\n",
       "    </tr>\n",
       "    <tr>\n",
       "      <th>2797</th>\n",
       "      <td>2797</td>\n",
       "      <td>직장 내 괴롭힘 대화</td>\n",
       "      <td>저기 신입은 남자친구있어?\\n아 없는데요\\n그럼 저기 과장님어때?\\n네? 저보다 2...</td>\n",
       "      <td>저기 신입은 남자친구있어? 아 없는데요 그럼 저기 과장님어때? 네? 저보다 20살 ...</td>\n",
       "    </tr>\n",
       "    <tr>\n",
       "      <th>501</th>\n",
       "      <td>501</td>\n",
       "      <td>직장 내 괴롭힘 대화</td>\n",
       "      <td>진짜 별로다 김대리\\n네?\\n내가 그렇게 말했는데도 아직도 모르겠어?\\n네?무슨 말...</td>\n",
       "      <td>진짜 별로다 김대리 네? 내가 그렇게 말했는데도 아직도 모르겠어? 네?무슨 말씀이신...</td>\n",
       "    </tr>\n",
       "    <tr>\n",
       "      <th>585</th>\n",
       "      <td>585</td>\n",
       "      <td>기타 괴롭힘 대화</td>\n",
       "      <td>친구야 지방대 다닐만하냐?\\n 응. 편하고 좋아\\n 너네학교 애들은 공부안하고 술만...</td>\n",
       "      <td>친구야 지방대 다닐만하냐? 응. 편하고 좋아 너네학교 애들은 공부안하고 술만 먹지?...</td>\n",
       "    </tr>\n",
       "    <tr>\n",
       "      <th>1395</th>\n",
       "      <td>1395</td>\n",
       "      <td>협박 대화</td>\n",
       "      <td>난 널 사랑해\\n난 이제 너가 너무 무서워\\n무슨소리야? 이쁜 입으로 이쁜말만해 입...</td>\n",
       "      <td>난 널 사랑해 난 이제 너가 너무 무서워 무슨소리야? 이쁜 입으로 이쁜말만해 입을 ...</td>\n",
       "    </tr>\n",
       "  </tbody>\n",
       "</table>\n",
       "</div>"
      ]
     },
     "execution_count": 128,
     "metadata": {},
     "output_type": "execute_result"
    }
   ],
   "execution_count": 128
  },
  {
   "cell_type": "code",
   "id": "399f0f88",
   "metadata": {
    "scrolled": false,
    "ExecuteTime": {
     "end_time": "2024-06-24T10:32:57.683615Z",
     "start_time": "2024-06-24T10:32:57.681404Z"
    }
   },
   "source": [
    "samples.cleaned.iloc[0]"
   ],
   "outputs": [
    {
     "data": {
      "text/plain": [
       "'야 꼬마야 돈 좀있냐 무서운 어른은 피하라고 엄마가 그랬는데 우리 무서운 어른 아닌데 그냥 돈이 필요한 어른인데 저 돈 없어요 그럼 너 휴대전화라도 줘 네? 돈이 필요하다면서 휴대전화는 왜요? 그야 너 핸드폰이 돈이 돼니까 그렇지 안돼요 왜 그러세요 코피 터지고 나서 줄래 그냥 줄래 죄송해요 한번만 봐주세요 넌 잘못한게 없어 다만 핸드폰을 안주면 큰일이 생길거야'"
      ]
     },
     "execution_count": 129,
     "metadata": {},
     "output_type": "execute_result"
    }
   ],
   "execution_count": 129
  },
  {
   "cell_type": "code",
   "id": "c6611b67",
   "metadata": {
    "ExecuteTime": {
     "end_time": "2024-06-24T10:32:57.685970Z",
     "start_time": "2024-06-24T10:32:57.684223Z"
    }
   },
   "source": [
    "# from kss import split_sentences\n",
    "\n",
    "# split_sentences(samples.cleaned.iloc[0])"
   ],
   "outputs": [],
   "execution_count": 130
  },
  {
   "cell_type": "code",
   "id": "e17962d6",
   "metadata": {
    "ExecuteTime": {
     "end_time": "2024-06-24T10:32:57.688490Z",
     "start_time": "2024-06-24T10:32:57.686632Z"
    }
   },
   "source": [
    "# split_sentences(samples.cleaned.iloc[2])"
   ],
   "outputs": [],
   "execution_count": 131
  },
  {
   "cell_type": "code",
   "id": "a752041a",
   "metadata": {
    "ExecuteTime": {
     "end_time": "2024-06-24T10:32:57.690483Z",
     "start_time": "2024-06-24T10:32:57.689007Z"
    }
   },
   "source": [
    "# split_sentences(samples.cleaned.iloc[-1])"
   ],
   "outputs": [],
   "execution_count": 132
  },
  {
   "cell_type": "markdown",
   "id": "c1de6ee3",
   "metadata": {},
   "source": [
    "## BERT"
   ]
  },
  {
   "metadata": {
    "ExecuteTime": {
     "end_time": "2024-06-24T10:32:59.130071Z",
     "start_time": "2024-06-24T10:32:57.691033Z"
    }
   },
   "cell_type": "code",
   "source": "!pip install -U transformers",
   "id": "cb382f2d39f7fc0a",
   "outputs": [
    {
     "name": "stdout",
     "output_type": "stream",
     "text": [
      "Requirement already satisfied: transformers in /opt/homebrew/Caskroom/miniforge/base/envs/DL-tf/lib/python3.8/site-packages (4.41.2)\r\n",
      "Requirement already satisfied: filelock in /opt/homebrew/Caskroom/miniforge/base/envs/DL-tf/lib/python3.8/site-packages (from transformers) (3.15.4)\r\n",
      "Requirement already satisfied: huggingface-hub<1.0,>=0.23.0 in /opt/homebrew/Caskroom/miniforge/base/envs/DL-tf/lib/python3.8/site-packages (from transformers) (0.23.4)\r\n",
      "Requirement already satisfied: numpy>=1.17 in /opt/homebrew/Caskroom/miniforge/base/envs/DL-tf/lib/python3.8/site-packages (from transformers) (1.22.4)\r\n",
      "Requirement already satisfied: packaging>=20.0 in /opt/homebrew/Caskroom/miniforge/base/envs/DL-tf/lib/python3.8/site-packages (from transformers) (24.0)\r\n",
      "Requirement already satisfied: pyyaml>=5.1 in /opt/homebrew/Caskroom/miniforge/base/envs/DL-tf/lib/python3.8/site-packages (from transformers) (6.0.1)\r\n",
      "Requirement already satisfied: regex!=2019.12.17 in /opt/homebrew/Caskroom/miniforge/base/envs/DL-tf/lib/python3.8/site-packages (from transformers) (2024.5.15)\r\n",
      "Requirement already satisfied: requests in /opt/homebrew/Caskroom/miniforge/base/envs/DL-tf/lib/python3.8/site-packages (from transformers) (2.28.2)\r\n",
      "Requirement already satisfied: tokenizers<0.20,>=0.19 in /opt/homebrew/Caskroom/miniforge/base/envs/DL-tf/lib/python3.8/site-packages (from transformers) (0.19.1)\r\n",
      "Requirement already satisfied: safetensors>=0.4.1 in /opt/homebrew/Caskroom/miniforge/base/envs/DL-tf/lib/python3.8/site-packages (from transformers) (0.4.3)\r\n",
      "Requirement already satisfied: tqdm>=4.27 in /opt/homebrew/Caskroom/miniforge/base/envs/DL-tf/lib/python3.8/site-packages (from transformers) (4.66.4)\r\n",
      "Requirement already satisfied: fsspec>=2023.5.0 in /opt/homebrew/Caskroom/miniforge/base/envs/DL-tf/lib/python3.8/site-packages (from huggingface-hub<1.0,>=0.23.0->transformers) (2024.6.0)\r\n",
      "Requirement already satisfied: typing-extensions>=3.7.4.3 in /opt/homebrew/Caskroom/miniforge/base/envs/DL-tf/lib/python3.8/site-packages (from huggingface-hub<1.0,>=0.23.0->transformers) (4.12.2)\r\n",
      "Requirement already satisfied: charset-normalizer<4,>=2 in /opt/homebrew/Caskroom/miniforge/base/envs/DL-tf/lib/python3.8/site-packages (from requests->transformers) (2.1.1)\r\n",
      "Requirement already satisfied: idna<4,>=2.5 in /opt/homebrew/Caskroom/miniforge/base/envs/DL-tf/lib/python3.8/site-packages (from requests->transformers) (3.4)\r\n",
      "Requirement already satisfied: urllib3<1.27,>=1.21.1 in /opt/homebrew/Caskroom/miniforge/base/envs/DL-tf/lib/python3.8/site-packages (from requests->transformers) (1.26.15)\r\n",
      "Requirement already satisfied: certifi>=2017.4.17 in /opt/homebrew/Caskroom/miniforge/base/envs/DL-tf/lib/python3.8/site-packages (from requests->transformers) (2024.6.2)\r\n"
     ]
    }
   ],
   "execution_count": 133
  },
  {
   "cell_type": "code",
   "id": "5a0ae645",
   "metadata": {
    "ExecuteTime": {
     "end_time": "2024-06-24T10:32:59.415349Z",
     "start_time": "2024-06-24T10:32:59.131526Z"
    }
   },
   "source": [
    "from transformers import TFElectraModel, ElectraTokenizer\n",
    "\n",
    "# model = TFElectraModel.from_pretrained(\"monologg/koelectra-base-v3-discriminator\", from_pt=True)\n",
    "tokenizer = ElectraTokenizer.from_pretrained(\"monologg/koelectra-base-v3-discriminator\")"
   ],
   "outputs": [],
   "execution_count": 134
  },
  {
   "cell_type": "code",
   "id": "a282e858",
   "metadata": {
    "ExecuteTime": {
     "end_time": "2024-06-24T10:32:59.419942Z",
     "start_time": "2024-06-24T10:32:59.416107Z"
    }
   },
   "source": [
    "from sklearn.preprocessing import LabelEncoder\n",
    "\n",
    "# LabelEncoder를 객체로 생성\n",
    "encoder = LabelEncoder()\n",
    "\n",
    "# fit, transform 메소드를 통한 레이블 인코딩\n",
    "encoder.fit(train_data['class'])\n",
    "\n",
    "train_data[\"label\"] = encoder.transform(train_data['class'])"
   ],
   "outputs": [],
   "execution_count": 135
  },
  {
   "cell_type": "code",
   "id": "01b5f214",
   "metadata": {
    "ExecuteTime": {
     "end_time": "2024-06-24T10:32:59.424519Z",
     "start_time": "2024-06-24T10:32:59.420895Z"
    }
   },
   "source": [
    "dataset = train_data[['cleaned', 'label']]"
   ],
   "outputs": [],
   "execution_count": 136
  },
  {
   "cell_type": "code",
   "id": "dbc68d99",
   "metadata": {
    "ExecuteTime": {
     "end_time": "2024-06-24T10:32:59.429723Z",
     "start_time": "2024-06-24T10:32:59.425329Z"
    }
   },
   "source": [
    "dataset.sample(n=10)"
   ],
   "outputs": [
    {
     "data": {
      "text/plain": [
       "                                                cleaned  label\n",
       "2072  저기 인테리어 맞는가? 네 맞는데요 혹시 누구신지 말씀해주실 수 있나요? 정보에 입...      0\n",
       "470   아 정글 씨발새끼 정글에 엄마 묻어놨냐? 계속 찾아다니네. 그니까 쉬발 ? 지가 갱...      1\n",
       "3393  중구가 시키드나? 경찰들 논간에 놀아나는 거여 어이 정청 이 짱개새꺄 우리가 개 호...      3\n",
       "3533  야 머하냐? 학원가려고. 돈 좀 있냐? 아니 없어. 야 니가 머가 없어 니 손에 든...      3\n",
       "1563  어이 김대리 김대리가 내일부터 내것 까지 도시락 반찬 좀 싸와 네? 저희는 저희끼리...      2\n",
       "2989  야이자식너 학교에서 시험뭐이따위로 점수받아와 죄송해요아빠 너 배에 물좀차봐야겠네 골...      3\n",
       "603   야 돼지.지나간다 나말이야? 돼지가 말도 하네 왜 그래 너 뚱뚱한거 맞잖아 내가 뚱...      1\n",
       "2944  성오야 미안한데 나 3만원만 빌려주면 안 돼? 미안해.나도 이번달에 지출이 많았어서...      0\n",
       "2253  말같지도 않은 소리하네. 잘 알지도 못하면서 팁이라고 영상 올린거냐? 제 주관이고 ...      3\n",
       "613   내가 정보 다 가지고 있으니 긴말 안할테니까 돈 인 당 만원씩 내놔 네? 그게 뭔소...      0"
      ],
      "text/html": [
       "<div>\n",
       "<style scoped>\n",
       "    .dataframe tbody tr th:only-of-type {\n",
       "        vertical-align: middle;\n",
       "    }\n",
       "\n",
       "    .dataframe tbody tr th {\n",
       "        vertical-align: top;\n",
       "    }\n",
       "\n",
       "    .dataframe thead th {\n",
       "        text-align: right;\n",
       "    }\n",
       "</style>\n",
       "<table border=\"1\" class=\"dataframe\">\n",
       "  <thead>\n",
       "    <tr style=\"text-align: right;\">\n",
       "      <th></th>\n",
       "      <th>cleaned</th>\n",
       "      <th>label</th>\n",
       "    </tr>\n",
       "  </thead>\n",
       "  <tbody>\n",
       "    <tr>\n",
       "      <th>2072</th>\n",
       "      <td>저기 인테리어 맞는가? 네 맞는데요 혹시 누구신지 말씀해주실 수 있나요? 정보에 입...</td>\n",
       "      <td>0</td>\n",
       "    </tr>\n",
       "    <tr>\n",
       "      <th>470</th>\n",
       "      <td>아 정글 씨발새끼 정글에 엄마 묻어놨냐? 계속 찾아다니네. 그니까 쉬발 ? 지가 갱...</td>\n",
       "      <td>1</td>\n",
       "    </tr>\n",
       "    <tr>\n",
       "      <th>3393</th>\n",
       "      <td>중구가 시키드나? 경찰들 논간에 놀아나는 거여 어이 정청 이 짱개새꺄 우리가 개 호...</td>\n",
       "      <td>3</td>\n",
       "    </tr>\n",
       "    <tr>\n",
       "      <th>3533</th>\n",
       "      <td>야 머하냐? 학원가려고. 돈 좀 있냐? 아니 없어. 야 니가 머가 없어 니 손에 든...</td>\n",
       "      <td>3</td>\n",
       "    </tr>\n",
       "    <tr>\n",
       "      <th>1563</th>\n",
       "      <td>어이 김대리 김대리가 내일부터 내것 까지 도시락 반찬 좀 싸와 네? 저희는 저희끼리...</td>\n",
       "      <td>2</td>\n",
       "    </tr>\n",
       "    <tr>\n",
       "      <th>2989</th>\n",
       "      <td>야이자식너 학교에서 시험뭐이따위로 점수받아와 죄송해요아빠 너 배에 물좀차봐야겠네 골...</td>\n",
       "      <td>3</td>\n",
       "    </tr>\n",
       "    <tr>\n",
       "      <th>603</th>\n",
       "      <td>야 돼지.지나간다 나말이야? 돼지가 말도 하네 왜 그래 너 뚱뚱한거 맞잖아 내가 뚱...</td>\n",
       "      <td>1</td>\n",
       "    </tr>\n",
       "    <tr>\n",
       "      <th>2944</th>\n",
       "      <td>성오야 미안한데 나 3만원만 빌려주면 안 돼? 미안해.나도 이번달에 지출이 많았어서...</td>\n",
       "      <td>0</td>\n",
       "    </tr>\n",
       "    <tr>\n",
       "      <th>2253</th>\n",
       "      <td>말같지도 않은 소리하네. 잘 알지도 못하면서 팁이라고 영상 올린거냐? 제 주관이고 ...</td>\n",
       "      <td>3</td>\n",
       "    </tr>\n",
       "    <tr>\n",
       "      <th>613</th>\n",
       "      <td>내가 정보 다 가지고 있으니 긴말 안할테니까 돈 인 당 만원씩 내놔 네? 그게 뭔소...</td>\n",
       "      <td>0</td>\n",
       "    </tr>\n",
       "  </tbody>\n",
       "</table>\n",
       "</div>"
      ]
     },
     "execution_count": 137,
     "metadata": {},
     "output_type": "execute_result"
    }
   ],
   "execution_count": 137
  },
  {
   "cell_type": "code",
   "id": "fe53bd56",
   "metadata": {
    "ExecuteTime": {
     "end_time": "2024-06-24T10:32:59.439265Z",
     "start_time": "2024-06-24T10:32:59.433263Z"
    }
   },
   "source": [
    "max_seq_len = 0\n",
    "len_64_128 = 0\n",
    "len_128_256 = 0\n",
    "\n",
    "mylist = [0 for i in range(10000)]\n",
    "for index, value in dataset['cleaned'].items():\n",
    "    mylist[len(value)] += 1\n",
    "    max_seq_len = max(max_seq_len, len(value))\n",
    "    \n",
    "    if len(value) >= 64 and len(value) < 128:\n",
    "        len_64_128 += 1\n",
    "    elif len(value) >= 128 and len(value) < 256:\n",
    "        len_128_256 += 1\n",
    "\n",
    "print(f'가장 긴 문장 길이: {max_seq_len}')\n",
    "print(f'64과 128 사이 길이 문장 개수: {len_64_128}')\n",
    "print(f'128과 256 사이 길이 문장 개수: {len_128_256}')"
   ],
   "outputs": [
    {
     "name": "stdout",
     "output_type": "stream",
     "text": [
      "가장 긴 문장 길이: 874\n",
      "64과 128 사이 길이 문장 개수: 462\n",
      "128과 256 사이 길이 문장 개수: 2344\n"
     ]
    }
   ],
   "execution_count": 138
  },
  {
   "cell_type": "code",
   "id": "14244e61",
   "metadata": {
    "ExecuteTime": {
     "end_time": "2024-06-24T10:32:59.441689Z",
     "start_time": "2024-06-24T10:32:59.439924Z"
    }
   },
   "source": [
    "max_seq_len = 800"
   ],
   "outputs": [],
   "execution_count": 139
  },
  {
   "metadata": {
    "ExecuteTime": {
     "end_time": "2024-06-24T10:33:02.008473Z",
     "start_time": "2024-06-24T10:32:59.442482Z"
    }
   },
   "cell_type": "code",
   "source": "# !pip install -U scikit-learn",
   "id": "86651c9f66d9194b",
   "outputs": [
    {
     "name": "stdout",
     "output_type": "stream",
     "text": [
      "Requirement already satisfied: scikit-learn in /opt/homebrew/Caskroom/miniforge/base/envs/DL-tf/lib/python3.8/site-packages (1.3.1)\r\n",
      "Collecting scikit-learn\r\n",
      "  Using cached scikit_learn-1.3.2-cp38-cp38-macosx_12_0_arm64.whl (9.4 MB)\r\n",
      "Requirement already satisfied: numpy<2.0,>=1.17.3 in /opt/homebrew/Caskroom/miniforge/base/envs/DL-tf/lib/python3.8/site-packages (from scikit-learn) (1.22.4)\r\n",
      "Requirement already satisfied: scipy>=1.5.0 in /opt/homebrew/Caskroom/miniforge/base/envs/DL-tf/lib/python3.8/site-packages (from scikit-learn) (1.10.1)\r\n",
      "Requirement already satisfied: joblib>=1.1.1 in /opt/homebrew/Caskroom/miniforge/base/envs/DL-tf/lib/python3.8/site-packages (from scikit-learn) (1.4.0)\r\n",
      "Requirement already satisfied: threadpoolctl>=2.0.0 in /opt/homebrew/Caskroom/miniforge/base/envs/DL-tf/lib/python3.8/site-packages (from scikit-learn) (3.5.0)\r\n",
      "Installing collected packages: scikit-learn\r\n",
      "  Attempting uninstall: scikit-learn\r\n",
      "    Found existing installation: scikit-learn 1.3.1\r\n",
      "    Uninstalling scikit-learn-1.3.1:\r\n",
      "      Successfully uninstalled scikit-learn-1.3.1\r\n",
      "Successfully installed scikit-learn-1.3.2\r\n"
     ]
    }
   ],
   "execution_count": 140
  },
  {
   "cell_type": "code",
   "id": "ee0ca77b",
   "metadata": {
    "ExecuteTime": {
     "end_time": "2024-06-24T10:34:24.368348Z",
     "start_time": "2024-06-24T10:34:24.309768Z"
    }
   },
   "source": [
    "from sklearn.model_selection import train_test_split\n",
    "\n",
    "dataset_X = dataset[dataset.columns[0]].tolist()\n",
    "dataset_y = dataset[dataset.columns[1]].tolist()\n",
    "\n",
    "# train/validation/test dataset 분할\n",
    "# train:val:test = 6:2:2\n",
    "train_X, temp_X, train_y, temp_y = train_test_split(dataset_X, dataset_y, test_size=0.4, random_state=0)\n",
    "val_X, test_X, val_y, test_y = train_test_split(temp_X, temp_y, test_size=0.5, random_state=0)"
   ],
   "outputs": [
    {
     "ename": "ImportError",
     "evalue": "cannot import name '_check_response_method' from 'sklearn.utils.validation' (/opt/homebrew/Caskroom/miniforge/base/envs/DL-tf/lib/python3.8/site-packages/sklearn/utils/validation.py)",
     "output_type": "error",
     "traceback": [
      "\u001B[0;31m---------------------------------------------------------------------------\u001B[0m",
      "\u001B[0;31mImportError\u001B[0m                               Traceback (most recent call last)",
      "Cell \u001B[0;32mIn[144], line 1\u001B[0m\n\u001B[0;32m----> 1\u001B[0m \u001B[38;5;28;01mfrom\u001B[39;00m \u001B[38;5;21;01msklearn\u001B[39;00m\u001B[38;5;21;01m.\u001B[39;00m\u001B[38;5;21;01mmodel_selection\u001B[39;00m \u001B[38;5;28;01mimport\u001B[39;00m train_test_split\n\u001B[1;32m      3\u001B[0m dataset_X \u001B[38;5;241m=\u001B[39m dataset[dataset\u001B[38;5;241m.\u001B[39mcolumns[\u001B[38;5;241m0\u001B[39m]]\u001B[38;5;241m.\u001B[39mtolist()\n\u001B[1;32m      4\u001B[0m dataset_y \u001B[38;5;241m=\u001B[39m dataset[dataset\u001B[38;5;241m.\u001B[39mcolumns[\u001B[38;5;241m1\u001B[39m]]\u001B[38;5;241m.\u001B[39mtolist()\n",
      "File \u001B[0;32m/opt/homebrew/Caskroom/miniforge/base/envs/DL-tf/lib/python3.8/site-packages/sklearn/model_selection/__init__.py:3\u001B[0m\n\u001B[1;32m      1\u001B[0m \u001B[38;5;28;01mimport\u001B[39;00m \u001B[38;5;21;01mtyping\u001B[39;00m\n\u001B[0;32m----> 3\u001B[0m \u001B[38;5;28;01mfrom\u001B[39;00m \u001B[38;5;21;01m.\u001B[39;00m\u001B[38;5;21;01m_plot\u001B[39;00m \u001B[38;5;28;01mimport\u001B[39;00m LearningCurveDisplay, ValidationCurveDisplay\n\u001B[1;32m      4\u001B[0m \u001B[38;5;28;01mfrom\u001B[39;00m \u001B[38;5;21;01m.\u001B[39;00m\u001B[38;5;21;01m_search\u001B[39;00m \u001B[38;5;28;01mimport\u001B[39;00m GridSearchCV, ParameterGrid, ParameterSampler, RandomizedSearchCV\n\u001B[1;32m      5\u001B[0m \u001B[38;5;28;01mfrom\u001B[39;00m \u001B[38;5;21;01m.\u001B[39;00m\u001B[38;5;21;01m_split\u001B[39;00m \u001B[38;5;28;01mimport\u001B[39;00m (\n\u001B[1;32m      6\u001B[0m     BaseCrossValidator,\n\u001B[1;32m      7\u001B[0m     BaseShuffleSplit,\n\u001B[0;32m   (...)\u001B[0m\n\u001B[1;32m     24\u001B[0m     train_test_split,\n\u001B[1;32m     25\u001B[0m )\n",
      "File \u001B[0;32m/opt/homebrew/Caskroom/miniforge/base/envs/DL-tf/lib/python3.8/site-packages/sklearn/model_selection/_plot.py:6\u001B[0m\n\u001B[1;32m      3\u001B[0m \u001B[38;5;28;01mimport\u001B[39;00m \u001B[38;5;21;01mnumpy\u001B[39;00m \u001B[38;5;28;01mas\u001B[39;00m \u001B[38;5;21;01mnp\u001B[39;00m\n\u001B[1;32m      5\u001B[0m \u001B[38;5;28;01mfrom\u001B[39;00m \u001B[38;5;21;01m.\u001B[39;00m\u001B[38;5;21;01m.\u001B[39;00m\u001B[38;5;21;01mutils\u001B[39;00m \u001B[38;5;28;01mimport\u001B[39;00m check_matplotlib_support\n\u001B[0;32m----> 6\u001B[0m \u001B[38;5;28;01mfrom\u001B[39;00m \u001B[38;5;21;01m.\u001B[39;00m\u001B[38;5;21;01m.\u001B[39;00m\u001B[38;5;21;01mutils\u001B[39;00m\u001B[38;5;21;01m.\u001B[39;00m\u001B[38;5;21;01m_plotting\u001B[39;00m \u001B[38;5;28;01mimport\u001B[39;00m _interval_max_min_ratio, _validate_score_name\n\u001B[1;32m      7\u001B[0m \u001B[38;5;28;01mfrom\u001B[39;00m \u001B[38;5;21;01m.\u001B[39;00m\u001B[38;5;21;01m_validation\u001B[39;00m \u001B[38;5;28;01mimport\u001B[39;00m learning_curve, validation_curve\n\u001B[1;32m     10\u001B[0m \u001B[38;5;28;01mclass\u001B[39;00m \u001B[38;5;21;01m_BaseCurveDisplay\u001B[39;00m:\n",
      "File \u001B[0;32m/opt/homebrew/Caskroom/miniforge/base/envs/DL-tf/lib/python3.8/site-packages/sklearn/utils/_plotting.py:4\u001B[0m\n\u001B[1;32m      1\u001B[0m \u001B[38;5;28;01mimport\u001B[39;00m \u001B[38;5;21;01mnumpy\u001B[39;00m \u001B[38;5;28;01mas\u001B[39;00m \u001B[38;5;21;01mnp\u001B[39;00m\n\u001B[1;32m      3\u001B[0m \u001B[38;5;28;01mfrom\u001B[39;00m \u001B[38;5;21;01m.\u001B[39;00m \u001B[38;5;28;01mimport\u001B[39;00m check_consistent_length, check_matplotlib_support\n\u001B[0;32m----> 4\u001B[0m \u001B[38;5;28;01mfrom\u001B[39;00m \u001B[38;5;21;01m.\u001B[39;00m\u001B[38;5;21;01m_response\u001B[39;00m \u001B[38;5;28;01mimport\u001B[39;00m _get_response_values_binary\n\u001B[1;32m      5\u001B[0m \u001B[38;5;28;01mfrom\u001B[39;00m \u001B[38;5;21;01m.\u001B[39;00m\u001B[38;5;21;01mmulticlass\u001B[39;00m \u001B[38;5;28;01mimport\u001B[39;00m type_of_target\n\u001B[1;32m      6\u001B[0m \u001B[38;5;28;01mfrom\u001B[39;00m \u001B[38;5;21;01m.\u001B[39;00m\u001B[38;5;21;01mvalidation\u001B[39;00m \u001B[38;5;28;01mimport\u001B[39;00m _check_pos_label_consistency\n",
      "File \u001B[0;32m/opt/homebrew/Caskroom/miniforge/base/envs/DL-tf/lib/python3.8/site-packages/sklearn/utils/_response.py:9\u001B[0m\n\u001B[1;32m      7\u001B[0m \u001B[38;5;28;01mfrom\u001B[39;00m \u001B[38;5;21;01m.\u001B[39;00m\u001B[38;5;21;01m.\u001B[39;00m\u001B[38;5;21;01mbase\u001B[39;00m \u001B[38;5;28;01mimport\u001B[39;00m is_classifier\n\u001B[1;32m      8\u001B[0m \u001B[38;5;28;01mfrom\u001B[39;00m \u001B[38;5;21;01m.\u001B[39;00m\u001B[38;5;21;01mmulticlass\u001B[39;00m \u001B[38;5;28;01mimport\u001B[39;00m type_of_target\n\u001B[0;32m----> 9\u001B[0m \u001B[38;5;28;01mfrom\u001B[39;00m \u001B[38;5;21;01m.\u001B[39;00m\u001B[38;5;21;01mvalidation\u001B[39;00m \u001B[38;5;28;01mimport\u001B[39;00m _check_response_method, check_is_fitted\n\u001B[1;32m     12\u001B[0m \u001B[38;5;28;01mdef\u001B[39;00m \u001B[38;5;21m_process_predict_proba\u001B[39m(\u001B[38;5;241m*\u001B[39m, y_pred, target_type, classes, pos_label):\n\u001B[1;32m     13\u001B[0m \u001B[38;5;250m    \u001B[39m\u001B[38;5;124;03m\"\"\"Get the response values when the response method is `predict_proba`.\u001B[39;00m\n\u001B[1;32m     14\u001B[0m \n\u001B[1;32m     15\u001B[0m \u001B[38;5;124;03m    This function process the `y_pred` array in the binary and multi-label cases.\u001B[39;00m\n\u001B[0;32m   (...)\u001B[0m\n\u001B[1;32m     46\u001B[0m \u001B[38;5;124;03m        Compressed predictions format as requested by the metrics.\u001B[39;00m\n\u001B[1;32m     47\u001B[0m \u001B[38;5;124;03m    \"\"\"\u001B[39;00m\n",
      "\u001B[0;31mImportError\u001B[0m: cannot import name '_check_response_method' from 'sklearn.utils.validation' (/opt/homebrew/Caskroom/miniforge/base/envs/DL-tf/lib/python3.8/site-packages/sklearn/utils/validation.py)"
     ]
    }
   ],
   "execution_count": 144
  },
  {
   "cell_type": "code",
   "id": "995de1f3",
   "metadata": {},
   "source": [
    "print(f'train set length: {len(train_X)}')\n",
    "print(f'valid set length: {len(val_X)}')\n",
    "print(f'test  set length: {len(test_X)}')"
   ],
   "outputs": [],
   "execution_count": null
  },
  {
   "cell_type": "markdown",
   "id": "8d784c0e",
   "metadata": {},
   "source": [
    "## Tokenize Dataset"
   ]
  },
  {
   "cell_type": "code",
   "id": "8fabbaaa",
   "metadata": {},
   "source": [
    "import tensorflow as tf"
   ],
   "outputs": [],
   "execution_count": null
  },
  {
   "cell_type": "code",
   "id": "b024a4cd",
   "metadata": {},
   "source": [
    "from transformers import BertTokenizerFast"
   ],
   "outputs": [],
   "execution_count": null
  },
  {
   "cell_type": "code",
   "id": "6d1ea762",
   "metadata": {},
   "source": [
    "tokenizer = BertTokenizerFast.from_pretrained(\"klue/bert-base\", max_len=max_seq_len, truncation=True, padding=True) # klue/bert"
   ],
   "outputs": [],
   "execution_count": null
  },
  {
   "cell_type": "code",
   "id": "80936121",
   "metadata": {},
   "source": [
    "train_X = tokenizer(train_X, truncation=True, padding=True)\n",
    "val_X = tokenizer(val_X, truncation=True, padding=True)"
   ],
   "outputs": [],
   "execution_count": null
  },
  {
   "cell_type": "code",
   "id": "b16b8d12",
   "metadata": {},
   "source": [
    "# tensorflow의 dataset 객체로 변환\n",
    "train_dataset = tf.data.Dataset.from_tensor_slices((dict(train_X), train_y))\n",
    "val_dataset = tf.data.Dataset.from_tensor_slices((dict(val_X), val_y))"
   ],
   "outputs": [],
   "execution_count": null
  },
  {
   "cell_type": "markdown",
   "id": "e8686a29",
   "metadata": {},
   "source": [
    "## Fine-tuning Model"
   ]
  },
  {
   "cell_type": "code",
   "id": "789fe85b",
   "metadata": {},
   "source": [
    "from transformers import TFBertForSequenceClassification"
   ],
   "outputs": [],
   "execution_count": null
  },
  {
   "cell_type": "code",
   "id": "63ab3abd",
   "metadata": {},
   "source": [
    "model_name = \"klue/bert-base\"\n",
    "num_labels = len(dataset.groupby(by=['label']))\n",
    "optimizer = tf.keras.optimizers.Adam(learning_rate=2e-5)"
   ],
   "outputs": [],
   "execution_count": null
  },
  {
   "cell_type": "code",
   "id": "7b89abbe",
   "metadata": {},
   "source": [
    "# tensorflow의 dataset 객체로 변환\n",
    "train_dataset = tf.data.Dataset.from_tensor_slices((dict(train_X), train_y))\n",
    "val_dataset = tf.data.Dataset.from_tensor_slices((dict(val_X), val_y))"
   ],
   "outputs": [],
   "execution_count": null
  },
  {
   "cell_type": "code",
   "id": "7751983e",
   "metadata": {},
   "source": [
    "model = TFBertForSequenceClassification.from_pretrained(model_name, num_labels=num_labels, from_pt=True)\n",
    "model.compile(optimizer=optimizer, loss=model.compute_loss, metrics=['accuracy'])"
   ],
   "outputs": [],
   "execution_count": null
  },
  {
   "cell_type": "code",
   "id": "52fd5794",
   "metadata": {},
   "source": [
    "callback_earlystop = tf.keras.callbacks.EarlyStopping(\n",
    "    monitor=\"val_accuracy\",\n",
    "    min_delta=0.001,\n",
    "    patience=0\n",
    ")"
   ],
   "outputs": [],
   "execution_count": null
  },
  {
   "cell_type": "code",
   "id": "d9272170",
   "metadata": {},
   "source": [
    "train_dataset = train_dataset.shuffle(10000)\n",
    "train_dataset = train_dataset.batch(64)\n",
    "val_dataset = val_dataset.shuffle(10000)\n",
    "val_dataset = val_dataset.batch(64)"
   ],
   "outputs": [],
   "execution_count": null
  },
  {
   "cell_type": "code",
   "id": "93847ad2",
   "metadata": {},
   "source": [
    "from numba import cuda\n",
    "cuda.select_device(0)\n",
    "cuda.close()"
   ],
   "outputs": [],
   "execution_count": null
  },
  {
   "cell_type": "code",
   "id": "7da1e762",
   "metadata": {
    "scrolled": true
   },
   "source": [
    "model.fit(\n",
    "    train_dataset, epochs=3, batch_size=32,\n",
    "    validation_data = val_dataset,\n",
    "    callbacks = [callback_earlystop]\n",
    ")"
   ],
   "outputs": [],
   "execution_count": null
  },
  {
   "cell_type": "markdown",
   "id": "6552cc44",
   "metadata": {},
   "source": [
    "## Save Model"
   ]
  },
  {
   "cell_type": "code",
   "id": "b80fe496",
   "metadata": {},
   "source": [
    "MODEL_NAME = 'best_bert'\n",
    "MODEL_SAVE_PATH = os.path.join(\"/content/drive/MyDrive\", MODEL_NAME)\n",
    "\n",
    "if os.path.exists(MODEL_SAVE_PATH):\n",
    "  print(f\"{MODEL_SAVE_PATH} -- Folder already exists \\n\")\n",
    "else:\n",
    "  os.makedirs(MODEL_SAVE_PATH, exist_ok=True)\n",
    "  print(f\"{MODEL_SAVE_PATH} -- Folder create complete \\n\")\n",
    "\n",
    "model.save_pretrained(MODEL_SAVE_PATH)\n",
    "tokenizer.save_pretrained(MODEL_SAVE_PATH)"
   ],
   "outputs": [],
   "execution_count": null
  },
  {
   "cell_type": "code",
   "id": "e13f2c42",
   "metadata": {},
   "source": [],
   "outputs": [],
   "execution_count": null
  },
  {
   "cell_type": "code",
   "id": "cebb0d55",
   "metadata": {},
   "source": [],
   "outputs": [],
   "execution_count": null
  },
  {
   "cell_type": "code",
   "id": "9cb715b3",
   "metadata": {},
   "source": [],
   "outputs": [],
   "execution_count": null
  },
  {
   "cell_type": "code",
   "id": "dde5cf89",
   "metadata": {},
   "source": [],
   "outputs": [],
   "execution_count": null
  },
  {
   "cell_type": "markdown",
   "id": "e6143331",
   "metadata": {},
   "source": [
    "## Preprocessing"
   ]
  },
  {
   "cell_type": "markdown",
   "id": "00279d77",
   "metadata": {},
   "source": [
    "일반대화 예시\n",
    "\n",
    "```json\n",
    "{\n",
    "\t\"id\": {\n",
    "\t\t\"text\": \"이거 들어봐 와 이 노래 진짜 좋다 그치 요즘 이 것만 들어 진짜 너무 좋다 내가 요즘 듣는 것도 들어봐 음 난 좀 별론데 좋을 줄 알았는데 아쉽네 내 취향은 아닌 듯 배고프다 밥이나 먹으러 가자 그래\"\n",
    "\t}\n",
    "}\n",
    "```"
   ]
  },
  {
   "cell_type": "code",
   "id": "d3bed8f7",
   "metadata": {},
   "source": [
    "import json\n",
    "with open('./data/test.json') as f:\n",
    "    test_data = json.load(f)\n",
    "\n",
    "test_data = pd.DataFrame(test_data).T\n",
    "test_data.reset_index(drop=True)"
   ],
   "outputs": [],
   "execution_count": null
  },
  {
   "cell_type": "code",
   "id": "b45564b2",
   "metadata": {},
   "source": [
    "test_data = pd.DataFrame.from_dict(data=test_data).T.reset_index(drop=True)"
   ],
   "outputs": [],
   "execution_count": null
  },
  {
   "cell_type": "code",
   "id": "cb2a4075",
   "metadata": {
    "scrolled": false
   },
   "source": [
    "test_data"
   ],
   "outputs": [],
   "execution_count": null
  },
  {
   "cell_type": "code",
   "id": "176038ec",
   "metadata": {},
   "source": [
    "split_sentences(test_data.text.iloc[2])"
   ],
   "outputs": [],
   "execution_count": null
  },
  {
   "cell_type": "code",
   "id": "bb43e396",
   "metadata": {},
   "source": [],
   "outputs": [],
   "execution_count": null
  },
  {
   "cell_type": "markdown",
   "id": "b39817f7",
   "metadata": {},
   "source": [
    "## Modeling"
   ]
  },
  {
   "cell_type": "code",
   "id": "d0f881f4",
   "metadata": {},
   "source": [],
   "outputs": [],
   "execution_count": null
  },
  {
   "cell_type": "markdown",
   "id": "3c7e325c",
   "metadata": {},
   "source": [
    "## Tuning"
   ]
  },
  {
   "cell_type": "code",
   "id": "6918a9f4",
   "metadata": {},
   "source": [],
   "outputs": [],
   "execution_count": null
  },
  {
   "cell_type": "code",
   "id": "09e53528",
   "metadata": {},
   "source": [],
   "outputs": [],
   "execution_count": null
  },
  {
   "cell_type": "code",
   "id": "8232ee92",
   "metadata": {},
   "source": [],
   "outputs": [],
   "execution_count": null
  },
  {
   "cell_type": "code",
   "id": "bbd3c0e5",
   "metadata": {},
   "source": [],
   "outputs": [],
   "execution_count": null
  }
 ],
 "metadata": {
  "kernelspec": {
   "display_name": "Python 3 (ipykernel)",
   "language": "python",
   "name": "python3"
  },
  "language_info": {
   "codemirror_mode": {
    "name": "ipython",
    "version": 3
   },
   "file_extension": ".py",
   "mimetype": "text/x-python",
   "name": "python",
   "nbconvert_exporter": "python",
   "pygments_lexer": "ipython3",
   "version": "3.9.7"
  }
 },
 "nbformat": 4,
 "nbformat_minor": 5
}
